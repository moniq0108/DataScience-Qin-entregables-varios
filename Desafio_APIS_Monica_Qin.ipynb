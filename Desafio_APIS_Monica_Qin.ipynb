{
 "cells": [
  {
   "cell_type": "code",
   "execution_count": 208,
   "metadata": {},
   "outputs": [],
   "source": [
    "#Importo todas las librerias que vaya a utilizar\n",
    "import requests\n",
    "import json\n",
    "import pandas as pd\n",
    "import numpy as np\n",
    "import matplotlib.pylab as plt\n",
    "import seaborn as sns\n",
    "import plotly.express as px\n"
   ]
  },
  {
   "cell_type": "code",
   "execution_count": 209,
   "metadata": {},
   "outputs": [],
   "source": [
    "response = requests.get(\"https://api.covid19api.com/summary\")"
   ]
  },
  {
   "cell_type": "code",
   "execution_count": 210,
   "metadata": {},
   "outputs": [
    {
     "data": {
      "text/plain": [
       "<Response [200]>"
      ]
     },
     "execution_count": 210,
     "metadata": {},
     "output_type": "execute_result"
    }
   ],
   "source": [
    "response"
   ]
  },
  {
   "cell_type": "code",
   "execution_count": 211,
   "metadata": {},
   "outputs": [],
   "source": [
    "datos = json.loads(response.text)"
   ]
  },
  {
   "cell_type": "code",
   "execution_count": 212,
   "metadata": {},
   "outputs": [
    {
     "data": {
      "text/plain": [
       "dict_keys(['ID', 'Message', 'Global', 'Countries', 'Date'])"
      ]
     },
     "execution_count": 212,
     "metadata": {},
     "output_type": "execute_result"
    }
   ],
   "source": [
    "datos.keys()"
   ]
  },
  {
   "cell_type": "code",
   "execution_count": 213,
   "metadata": {},
   "outputs": [
    {
     "data": {
      "text/plain": [
       "'8ce44fe8-965f-4173-b71c-defba8b24a25'"
      ]
     },
     "execution_count": 213,
     "metadata": {},
     "output_type": "execute_result"
    }
   ],
   "source": [
    "datos['ID']"
   ]
  },
  {
   "cell_type": "code",
   "execution_count": 214,
   "metadata": {},
   "outputs": [
    {
     "data": {
      "text/plain": [
       "'2023-04-07T22:10:24.595Z'"
      ]
     },
     "execution_count": 214,
     "metadata": {},
     "output_type": "execute_result"
    }
   ],
   "source": [
    "datos['Date']"
   ]
  },
  {
   "cell_type": "code",
   "execution_count": 215,
   "metadata": {},
   "outputs": [
    {
     "data": {
      "text/plain": [
       "[{'ID': '783ee315-d62f-4c49-b125-bab5edac9b2e',\n",
       "  'Country': 'Afghanistan',\n",
       "  'CountryCode': 'AF',\n",
       "  'Slug': 'afghanistan',\n",
       "  'NewConfirmed': 0,\n",
       "  'TotalConfirmed': 209451,\n",
       "  'NewDeaths': 0,\n",
       "  'TotalDeaths': 7896,\n",
       "  'NewRecovered': 0,\n",
       "  'TotalRecovered': 0,\n",
       "  'Date': '2023-04-07T22:10:24.595Z',\n",
       "  'Premium': {}},\n",
       " {'ID': '5cdd203d-aa08-48a4-a01e-8080a6437a6b',\n",
       "  'Country': 'Albania',\n",
       "  'CountryCode': 'AL',\n",
       "  'Slug': 'albania',\n",
       "  'NewConfirmed': 14,\n",
       "  'TotalConfirmed': 334457,\n",
       "  'NewDeaths': 0,\n",
       "  'TotalDeaths': 3598,\n",
       "  'NewRecovered': 0,\n",
       "  'TotalRecovered': 0,\n",
       "  'Date': '2023-04-07T22:10:24.595Z',\n",
       "  'Premium': {}},\n",
       " {'ID': 'a4ed0ca6-c049-4fc2-b81b-ab508792d141',\n",
       "  'Country': 'Algeria',\n",
       "  'CountryCode': 'DZ',\n",
       "  'Slug': 'algeria',\n",
       "  'NewConfirmed': 2,\n",
       "  'TotalConfirmed': 271496,\n",
       "  'NewDeaths': 0,\n",
       "  'TotalDeaths': 6881,\n",
       "  'NewRecovered': 0,\n",
       "  'TotalRecovered': 0,\n",
       "  'Date': '2023-04-07T22:10:24.595Z',\n",
       "  'Premium': {}},\n",
       " {'ID': '4ec84dc7-33b1-418d-ae86-e0e84079ac7b',\n",
       "  'Country': 'Andorra',\n",
       "  'CountryCode': 'AD',\n",
       "  'Slug': 'andorra',\n",
       "  'NewConfirmed': 0,\n",
       "  'TotalConfirmed': 47890,\n",
       "  'NewDeaths': 0,\n",
       "  'TotalDeaths': 165,\n",
       "  'NewRecovered': 0,\n",
       "  'TotalRecovered': 0,\n",
       "  'Date': '2023-04-07T22:10:24.595Z',\n",
       "  'Premium': {}},\n",
       " {'ID': '46266f44-7897-4bcd-91fd-cc7d556977ab',\n",
       "  'Country': 'Angola',\n",
       "  'CountryCode': 'AO',\n",
       "  'Slug': 'angola',\n",
       "  'NewConfirmed': 0,\n",
       "  'TotalConfirmed': 105288,\n",
       "  'NewDeaths': 0,\n",
       "  'TotalDeaths': 1933,\n",
       "  'NewRecovered': 0,\n",
       "  'TotalRecovered': 0,\n",
       "  'Date': '2023-04-07T22:10:24.595Z',\n",
       "  'Premium': {}},\n",
       " {'ID': '1ed372aa-ff52-4c26-bdca-78517fbc3c96',\n",
       "  'Country': 'Antarctica',\n",
       "  'CountryCode': 'AQ',\n",
       "  'Slug': 'antarctica',\n",
       "  'NewConfirmed': 0,\n",
       "  'TotalConfirmed': 11,\n",
       "  'NewDeaths': 0,\n",
       "  'TotalDeaths': 0,\n",
       "  'NewRecovered': 0,\n",
       "  'TotalRecovered': 0,\n",
       "  'Date': '2023-04-07T22:10:24.595Z',\n",
       "  'Premium': {}},\n",
       " {'ID': '29c73a25-c95e-488a-a34d-5aaf1f9f069a',\n",
       "  'Country': 'Antigua and Barbuda',\n",
       "  'CountryCode': 'AG',\n",
       "  'Slug': 'antigua-and-barbuda',\n",
       "  'NewConfirmed': 0,\n",
       "  'TotalConfirmed': 9106,\n",
       "  'NewDeaths': 0,\n",
       "  'TotalDeaths': 146,\n",
       "  'NewRecovered': 0,\n",
       "  'TotalRecovered': 0,\n",
       "  'Date': '2023-04-07T22:10:24.595Z',\n",
       "  'Premium': {}},\n",
       " {'ID': 'aa87a1ad-b173-4f47-a5e4-013b7781cedf',\n",
       "  'Country': 'Argentina',\n",
       "  'CountryCode': 'AR',\n",
       "  'Slug': 'argentina',\n",
       "  'NewConfirmed': 0,\n",
       "  'TotalConfirmed': 10044957,\n",
       "  'NewDeaths': 0,\n",
       "  'TotalDeaths': 130472,\n",
       "  'NewRecovered': 0,\n",
       "  'TotalRecovered': 0,\n",
       "  'Date': '2023-04-07T22:10:24.595Z',\n",
       "  'Premium': {}},\n",
       " {'ID': '08030a5c-dffc-4434-854d-ad9783858df5',\n",
       "  'Country': 'Armenia',\n",
       "  'CountryCode': 'AM',\n",
       "  'Slug': 'armenia',\n",
       "  'NewConfirmed': 0,\n",
       "  'TotalConfirmed': 447308,\n",
       "  'NewDeaths': 0,\n",
       "  'TotalDeaths': 8727,\n",
       "  'NewRecovered': 0,\n",
       "  'TotalRecovered': 0,\n",
       "  'Date': '2023-04-07T22:10:24.595Z',\n",
       "  'Premium': {}},\n",
       " {'ID': 'ceb4fdaa-ab4d-4e6f-acbc-1675b49f869c',\n",
       "  'Country': 'Australia',\n",
       "  'CountryCode': 'AU',\n",
       "  'Slug': 'australia',\n",
       "  'NewConfirmed': 13926,\n",
       "  'TotalConfirmed': 11399460,\n",
       "  'NewDeaths': 115,\n",
       "  'TotalDeaths': 19574,\n",
       "  'NewRecovered': 0,\n",
       "  'TotalRecovered': 0,\n",
       "  'Date': '2023-04-07T22:10:24.595Z',\n",
       "  'Premium': {}},\n",
       " {'ID': '19ba3ba8-ef46-428d-8e9e-1fd261256c0b',\n",
       "  'Country': 'Austria',\n",
       "  'CountryCode': 'AT',\n",
       "  'Slug': 'austria',\n",
       "  'NewConfirmed': 5283,\n",
       "  'TotalConfirmed': 5961143,\n",
       "  'NewDeaths': 21,\n",
       "  'TotalDeaths': 21970,\n",
       "  'NewRecovered': 0,\n",
       "  'TotalRecovered': 0,\n",
       "  'Date': '2023-04-07T22:10:24.595Z',\n",
       "  'Premium': {}},\n",
       " {'ID': '4b24af1c-c52a-4d06-8fa7-e319bf3c8367',\n",
       "  'Country': 'Azerbaijan',\n",
       "  'CountryCode': 'AZ',\n",
       "  'Slug': 'azerbaijan',\n",
       "  'NewConfirmed': 6,\n",
       "  'TotalConfirmed': 828825,\n",
       "  'NewDeaths': 0,\n",
       "  'TotalDeaths': 10138,\n",
       "  'NewRecovered': 0,\n",
       "  'TotalRecovered': 0,\n",
       "  'Date': '2023-04-07T22:10:24.595Z',\n",
       "  'Premium': {}},\n",
       " {'ID': 'a4f2c4ed-d9e5-49b4-8867-91bae9464e88',\n",
       "  'Country': 'Bahamas',\n",
       "  'CountryCode': 'BS',\n",
       "  'Slug': 'bahamas',\n",
       "  'NewConfirmed': 0,\n",
       "  'TotalConfirmed': 37491,\n",
       "  'NewDeaths': 0,\n",
       "  'TotalDeaths': 833,\n",
       "  'NewRecovered': 0,\n",
       "  'TotalRecovered': 0,\n",
       "  'Date': '2023-04-07T22:10:24.595Z',\n",
       "  'Premium': {}},\n",
       " {'ID': 'e573cc3d-8e2b-42df-a87c-005ee66018f0',\n",
       "  'Country': 'Bahrain',\n",
       "  'CountryCode': 'BH',\n",
       "  'Slug': 'bahrain',\n",
       "  'NewConfirmed': 387,\n",
       "  'TotalConfirmed': 710693,\n",
       "  'NewDeaths': 0,\n",
       "  'TotalDeaths': 1553,\n",
       "  'NewRecovered': 0,\n",
       "  'TotalRecovered': 0,\n",
       "  'Date': '2023-04-07T22:10:24.595Z',\n",
       "  'Premium': {}},\n",
       " {'ID': '6c4dc01b-6732-4c9b-87bc-a28b3a334096',\n",
       "  'Country': 'Bangladesh',\n",
       "  'CountryCode': 'BD',\n",
       "  'Slug': 'bangladesh',\n",
       "  'NewConfirmed': 0,\n",
       "  'TotalConfirmed': 2037871,\n",
       "  'NewDeaths': 0,\n",
       "  'TotalDeaths': 29445,\n",
       "  'NewRecovered': 0,\n",
       "  'TotalRecovered': 0,\n",
       "  'Date': '2023-04-07T22:10:24.595Z',\n",
       "  'Premium': {}},\n",
       " {'ID': 'faef0de2-1b1f-4ad7-a4a3-76239e2cb70a',\n",
       "  'Country': 'Barbados',\n",
       "  'CountryCode': 'BB',\n",
       "  'Slug': 'barbados',\n",
       "  'NewConfirmed': 153,\n",
       "  'TotalConfirmed': 106798,\n",
       "  'NewDeaths': 4,\n",
       "  'TotalDeaths': 579,\n",
       "  'NewRecovered': 0,\n",
       "  'TotalRecovered': 0,\n",
       "  'Date': '2023-04-07T22:10:24.595Z',\n",
       "  'Premium': {}},\n",
       " {'ID': '989f7527-d9aa-4246-aeea-1a959535d653',\n",
       "  'Country': 'Belarus',\n",
       "  'CountryCode': 'BY',\n",
       "  'Slug': 'belarus',\n",
       "  'NewConfirmed': 0,\n",
       "  'TotalConfirmed': 994037,\n",
       "  'NewDeaths': 0,\n",
       "  'TotalDeaths': 7118,\n",
       "  'NewRecovered': 0,\n",
       "  'TotalRecovered': 0,\n",
       "  'Date': '2023-04-07T22:10:24.595Z',\n",
       "  'Premium': {}},\n",
       " {'ID': '90807599-e601-4a42-a9fd-cc2b982317ba',\n",
       "  'Country': 'Belgium',\n",
       "  'CountryCode': 'BE',\n",
       "  'Slug': 'belgium',\n",
       "  'NewConfirmed': 11570,\n",
       "  'TotalConfirmed': 4739365,\n",
       "  'NewDeaths': 39,\n",
       "  'TotalDeaths': 33814,\n",
       "  'NewRecovered': 0,\n",
       "  'TotalRecovered': 0,\n",
       "  'Date': '2023-04-07T22:10:24.595Z',\n",
       "  'Premium': {}},\n",
       " {'ID': '52fe78cc-a1b4-446b-a28e-13e95ac5a7ce',\n",
       "  'Country': 'Belize',\n",
       "  'CountryCode': 'BZ',\n",
       "  'Slug': 'belize',\n",
       "  'NewConfirmed': 0,\n",
       "  'TotalConfirmed': 70757,\n",
       "  'NewDeaths': 0,\n",
       "  'TotalDeaths': 688,\n",
       "  'NewRecovered': 0,\n",
       "  'TotalRecovered': 0,\n",
       "  'Date': '2023-04-07T22:10:24.595Z',\n",
       "  'Premium': {}},\n",
       " {'ID': 'edeb6f6e-7f5f-4c37-9cea-3b9ae5d53093',\n",
       "  'Country': 'Benin',\n",
       "  'CountryCode': 'BJ',\n",
       "  'Slug': 'benin',\n",
       "  'NewConfirmed': 0,\n",
       "  'TotalConfirmed': 27999,\n",
       "  'NewDeaths': 0,\n",
       "  'TotalDeaths': 163,\n",
       "  'NewRecovered': 0,\n",
       "  'TotalRecovered': 0,\n",
       "  'Date': '2023-04-07T22:10:24.595Z',\n",
       "  'Premium': {}},\n",
       " {'ID': '86987d4d-81b8-4462-98c3-023a9cb890ae',\n",
       "  'Country': 'Bhutan',\n",
       "  'CountryCode': 'BT',\n",
       "  'Slug': 'bhutan',\n",
       "  'NewConfirmed': 0,\n",
       "  'TotalConfirmed': 62627,\n",
       "  'NewDeaths': 0,\n",
       "  'TotalDeaths': 21,\n",
       "  'NewRecovered': 0,\n",
       "  'TotalRecovered': 0,\n",
       "  'Date': '2023-04-07T22:10:24.595Z',\n",
       "  'Premium': {}},\n",
       " {'ID': 'd4265749-07b6-43f6-a661-612d6469ded8',\n",
       "  'Country': 'Bolivia',\n",
       "  'CountryCode': 'BO',\n",
       "  'Slug': 'bolivia',\n",
       "  'NewConfirmed': 90,\n",
       "  'TotalConfirmed': 1194277,\n",
       "  'NewDeaths': 0,\n",
       "  'TotalDeaths': 22365,\n",
       "  'NewRecovered': 0,\n",
       "  'TotalRecovered': 0,\n",
       "  'Date': '2023-04-07T22:10:24.595Z',\n",
       "  'Premium': {}},\n",
       " {'ID': '37828a68-afd3-4be1-9a9f-f9e9c1b3e9cb',\n",
       "  'Country': 'Bosnia and Herzegovina',\n",
       "  'CountryCode': 'BA',\n",
       "  'Slug': 'bosnia-and-herzegovina',\n",
       "  'NewConfirmed': 0,\n",
       "  'TotalConfirmed': 401729,\n",
       "  'NewDeaths': 0,\n",
       "  'TotalDeaths': 16280,\n",
       "  'NewRecovered': 0,\n",
       "  'TotalRecovered': 0,\n",
       "  'Date': '2023-04-07T22:10:24.595Z',\n",
       "  'Premium': {}},\n",
       " {'ID': 'e4ca0a14-f910-4dff-aa40-77a3de3c533f',\n",
       "  'Country': 'Botswana',\n",
       "  'CountryCode': 'BW',\n",
       "  'Slug': 'botswana',\n",
       "  'NewConfirmed': 0,\n",
       "  'TotalConfirmed': 329758,\n",
       "  'NewDeaths': 0,\n",
       "  'TotalDeaths': 2801,\n",
       "  'NewRecovered': 0,\n",
       "  'TotalRecovered': 0,\n",
       "  'Date': '2023-04-07T22:10:24.595Z',\n",
       "  'Premium': {}},\n",
       " {'ID': '360fe74e-2a5d-47b3-afe1-48b2fbba6139',\n",
       "  'Country': 'Brazil',\n",
       "  'CountryCode': 'BR',\n",
       "  'Slug': 'brazil',\n",
       "  'NewConfirmed': 0,\n",
       "  'TotalConfirmed': 37076053,\n",
       "  'NewDeaths': 0,\n",
       "  'TotalDeaths': 699276,\n",
       "  'NewRecovered': 0,\n",
       "  'TotalRecovered': 0,\n",
       "  'Date': '2023-04-07T22:10:24.595Z',\n",
       "  'Premium': {}},\n",
       " {'ID': 'b31ff0a6-1c38-40d7-abda-80642abf47a8',\n",
       "  'Country': 'Brunei Darussalam',\n",
       "  'CountryCode': 'BN',\n",
       "  'Slug': 'brunei',\n",
       "  'NewConfirmed': 0,\n",
       "  'TotalConfirmed': 279661,\n",
       "  'NewDeaths': 0,\n",
       "  'TotalDeaths': 225,\n",
       "  'NewRecovered': 0,\n",
       "  'TotalRecovered': 0,\n",
       "  'Date': '2023-04-07T22:10:24.595Z',\n",
       "  'Premium': {}},\n",
       " {'ID': '10106753-4c57-412a-bbb1-55e5c7c5a37b',\n",
       "  'Country': 'Bulgaria',\n",
       "  'CountryCode': 'BG',\n",
       "  'Slug': 'bulgaria',\n",
       "  'NewConfirmed': 72,\n",
       "  'TotalConfirmed': 1297523,\n",
       "  'NewDeaths': 3,\n",
       "  'TotalDeaths': 38228,\n",
       "  'NewRecovered': 0,\n",
       "  'TotalRecovered': 0,\n",
       "  'Date': '2023-04-07T22:10:24.595Z',\n",
       "  'Premium': {}},\n",
       " {'ID': '2118e876-e9ff-417b-9a56-6ca0e94412de',\n",
       "  'Country': 'Burkina Faso',\n",
       "  'CountryCode': 'BF',\n",
       "  'Slug': 'burkina-faso',\n",
       "  'NewConfirmed': 0,\n",
       "  'TotalConfirmed': 22056,\n",
       "  'NewDeaths': 0,\n",
       "  'TotalDeaths': 396,\n",
       "  'NewRecovered': 0,\n",
       "  'TotalRecovered': 0,\n",
       "  'Date': '2023-04-07T22:10:24.595Z',\n",
       "  'Premium': {}},\n",
       " {'ID': '5cff24d8-52c7-4375-a496-c0db0aec4144',\n",
       "  'Country': 'Burundi',\n",
       "  'CountryCode': 'BI',\n",
       "  'Slug': 'burundi',\n",
       "  'NewConfirmed': 0,\n",
       "  'TotalConfirmed': 53631,\n",
       "  'NewDeaths': 0,\n",
       "  'TotalDeaths': 38,\n",
       "  'NewRecovered': 0,\n",
       "  'TotalRecovered': 0,\n",
       "  'Date': '2023-04-07T22:10:24.595Z',\n",
       "  'Premium': {}},\n",
       " {'ID': 'e851b06e-272f-4d58-9e49-881971cfe697',\n",
       "  'Country': 'Cambodia',\n",
       "  'CountryCode': 'KH',\n",
       "  'Slug': 'cambodia',\n",
       "  'NewConfirmed': 0,\n",
       "  'TotalConfirmed': 138719,\n",
       "  'NewDeaths': 0,\n",
       "  'TotalDeaths': 3056,\n",
       "  'NewRecovered': 0,\n",
       "  'TotalRecovered': 0,\n",
       "  'Date': '2023-04-07T22:10:24.595Z',\n",
       "  'Premium': {}},\n",
       " {'ID': '4333686b-b212-410c-a43a-0746f08929f8',\n",
       "  'Country': 'Cameroon',\n",
       "  'CountryCode': 'CM',\n",
       "  'Slug': 'cameroon',\n",
       "  'NewConfirmed': 0,\n",
       "  'TotalConfirmed': 124392,\n",
       "  'NewDeaths': 0,\n",
       "  'TotalDeaths': 1965,\n",
       "  'NewRecovered': 0,\n",
       "  'TotalRecovered': 0,\n",
       "  'Date': '2023-04-07T22:10:24.595Z',\n",
       "  'Premium': {}},\n",
       " {'ID': 'bced6c8b-5d15-4ff0-a1fa-b450292f8173',\n",
       "  'Country': 'Canada',\n",
       "  'CountryCode': 'CA',\n",
       "  'Slug': 'canada',\n",
       "  'NewConfirmed': 4041,\n",
       "  'TotalConfirmed': 3987800,\n",
       "  'NewDeaths': 86,\n",
       "  'TotalDeaths': 46097,\n",
       "  'NewRecovered': 0,\n",
       "  'TotalRecovered': 0,\n",
       "  'Date': '2023-04-07T22:10:24.595Z',\n",
       "  'Premium': {}},\n",
       " {'ID': 'a6301b4d-98c7-4538-a000-0e3716ba6a3b',\n",
       "  'Country': 'Cape Verde',\n",
       "  'CountryCode': 'CV',\n",
       "  'Slug': 'cape-verde',\n",
       "  'NewConfirmed': 0,\n",
       "  'TotalConfirmed': 63244,\n",
       "  'NewDeaths': 0,\n",
       "  'TotalDeaths': 413,\n",
       "  'NewRecovered': 0,\n",
       "  'TotalRecovered': 0,\n",
       "  'Date': '2023-04-07T22:10:24.595Z',\n",
       "  'Premium': {}},\n",
       " {'ID': 'c2111b7f-556a-434c-aa02-a3b401a0a6d9',\n",
       "  'Country': 'Central African Republic',\n",
       "  'CountryCode': 'CF',\n",
       "  'Slug': 'central-african-republic',\n",
       "  'NewConfirmed': 0,\n",
       "  'TotalConfirmed': 15368,\n",
       "  'NewDeaths': 0,\n",
       "  'TotalDeaths': 113,\n",
       "  'NewRecovered': 0,\n",
       "  'TotalRecovered': 0,\n",
       "  'Date': '2023-04-07T22:10:24.595Z',\n",
       "  'Premium': {}},\n",
       " {'ID': '315edce5-5344-4b0c-9dab-a96162478f65',\n",
       "  'Country': 'Chad',\n",
       "  'CountryCode': 'TD',\n",
       "  'Slug': 'chad',\n",
       "  'NewConfirmed': 0,\n",
       "  'TotalConfirmed': 7679,\n",
       "  'NewDeaths': 0,\n",
       "  'TotalDeaths': 194,\n",
       "  'NewRecovered': 0,\n",
       "  'TotalRecovered': 0,\n",
       "  'Date': '2023-04-07T22:10:24.595Z',\n",
       "  'Premium': {}},\n",
       " {'ID': '1c5a7630-7672-4d32-a8a1-5366fb08f7a5',\n",
       "  'Country': 'Chile',\n",
       "  'CountryCode': 'CL',\n",
       "  'Slug': 'chile',\n",
       "  'NewConfirmed': 3906,\n",
       "  'TotalConfirmed': 5192286,\n",
       "  'NewDeaths': 19,\n",
       "  'TotalDeaths': 64273,\n",
       "  'NewRecovered': 0,\n",
       "  'TotalRecovered': 0,\n",
       "  'Date': '2023-04-07T22:10:24.595Z',\n",
       "  'Premium': {}},\n",
       " {'ID': '19f46bf7-d411-4902-8118-273cafaf6f4c',\n",
       "  'Country': 'China',\n",
       "  'CountryCode': 'CN',\n",
       "  'Slug': 'china',\n",
       "  'NewConfirmed': 0,\n",
       "  'TotalConfirmed': 3378416,\n",
       "  'NewDeaths': 1,\n",
       "  'TotalDeaths': 18831,\n",
       "  'NewRecovered': 0,\n",
       "  'TotalRecovered': 0,\n",
       "  'Date': '2023-04-07T22:10:24.595Z',\n",
       "  'Premium': {}},\n",
       " {'ID': '1a6960d0-1291-4a53-a377-e6c4ef13262a',\n",
       "  'Country': 'Colombia',\n",
       "  'CountryCode': 'CO',\n",
       "  'Slug': 'colombia',\n",
       "  'NewConfirmed': 0,\n",
       "  'TotalConfirmed': 6359093,\n",
       "  'NewDeaths': 0,\n",
       "  'TotalDeaths': 142339,\n",
       "  'NewRecovered': 0,\n",
       "  'TotalRecovered': 0,\n",
       "  'Date': '2023-04-07T22:10:24.595Z',\n",
       "  'Premium': {}},\n",
       " {'ID': '6ba6a03c-fae8-4638-9ed2-33436376bd87',\n",
       "  'Country': 'Comoros',\n",
       "  'CountryCode': 'KM',\n",
       "  'Slug': 'comoros',\n",
       "  'NewConfirmed': 0,\n",
       "  'TotalConfirmed': 9008,\n",
       "  'NewDeaths': 0,\n",
       "  'TotalDeaths': 161,\n",
       "  'NewRecovered': 0,\n",
       "  'TotalRecovered': 0,\n",
       "  'Date': '2023-04-07T22:10:24.595Z',\n",
       "  'Premium': {}},\n",
       " {'ID': 'ef874ca8-6482-4867-ab0d-c96d8acb5a01',\n",
       "  'Country': 'Congo (Brazzaville)',\n",
       "  'CountryCode': 'CG',\n",
       "  'Slug': 'congo-brazzaville',\n",
       "  'NewConfirmed': 0,\n",
       "  'TotalConfirmed': 25087,\n",
       "  'NewDeaths': 0,\n",
       "  'TotalDeaths': 388,\n",
       "  'NewRecovered': 0,\n",
       "  'TotalRecovered': 0,\n",
       "  'Date': '2023-04-07T22:10:24.595Z',\n",
       "  'Premium': {}},\n",
       " {'ID': '8a760450-b457-4b4f-b626-abb1a19d6b2a',\n",
       "  'Country': 'Congo (Kinshasa)',\n",
       "  'CountryCode': 'CD',\n",
       "  'Slug': 'congo-kinshasa',\n",
       "  'NewConfirmed': 0,\n",
       "  'TotalConfirmed': 95749,\n",
       "  'NewDeaths': 0,\n",
       "  'TotalDeaths': 1464,\n",
       "  'NewRecovered': 0,\n",
       "  'TotalRecovered': 0,\n",
       "  'Date': '2023-04-07T22:10:24.595Z',\n",
       "  'Premium': {}},\n",
       " {'ID': '2d89eb93-9557-4a22-bcdd-c6fbc757285e',\n",
       "  'Country': 'Costa Rica',\n",
       "  'CountryCode': 'CR',\n",
       "  'Slug': 'costa-rica',\n",
       "  'NewConfirmed': 0,\n",
       "  'TotalConfirmed': 1209725,\n",
       "  'NewDeaths': 0,\n",
       "  'TotalDeaths': 9245,\n",
       "  'NewRecovered': 0,\n",
       "  'TotalRecovered': 0,\n",
       "  'Date': '2023-04-07T22:10:24.595Z',\n",
       "  'Premium': {}},\n",
       " {'ID': 'c31c1a96-bedf-4539-846e-3cda6eceddf5',\n",
       "  'Country': 'Croatia',\n",
       "  'CountryCode': 'HR',\n",
       "  'Slug': 'croatia',\n",
       "  'NewConfirmed': 0,\n",
       "  'TotalConfirmed': 1269326,\n",
       "  'NewDeaths': 0,\n",
       "  'TotalDeaths': 17987,\n",
       "  'NewRecovered': 0,\n",
       "  'TotalRecovered': 0,\n",
       "  'Date': '2023-04-07T22:10:24.595Z',\n",
       "  'Premium': {}},\n",
       " {'ID': 'e8f4d799-6ba9-479c-a734-e76f35cb5dba',\n",
       "  'Country': 'Cuba',\n",
       "  'CountryCode': 'CU',\n",
       "  'Slug': 'cuba',\n",
       "  'NewConfirmed': 6,\n",
       "  'TotalConfirmed': 1112643,\n",
       "  'NewDeaths': 0,\n",
       "  'TotalDeaths': 8530,\n",
       "  'NewRecovered': 0,\n",
       "  'TotalRecovered': 0,\n",
       "  'Date': '2023-04-07T22:10:24.595Z',\n",
       "  'Premium': {}},\n",
       " {'ID': '051724c5-833d-4a45-846c-f2da9e180614',\n",
       "  'Country': 'Cyprus',\n",
       "  'CountryCode': 'CY',\n",
       "  'Slug': 'cyprus',\n",
       "  'NewConfirmed': 0,\n",
       "  'TotalConfirmed': 650685,\n",
       "  'NewDeaths': 0,\n",
       "  'TotalDeaths': 1330,\n",
       "  'NewRecovered': 0,\n",
       "  'TotalRecovered': 0,\n",
       "  'Date': '2023-04-07T22:10:24.595Z',\n",
       "  'Premium': {}},\n",
       " {'ID': '861fd52e-ce7d-4702-b738-aab74ea30bf5',\n",
       "  'Country': 'Czech Republic',\n",
       "  'CountryCode': 'CZ',\n",
       "  'Slug': 'czech-republic',\n",
       "  'NewConfirmed': 1142,\n",
       "  'TotalConfirmed': 4618256,\n",
       "  'NewDeaths': 3,\n",
       "  'TotalDeaths': 42491,\n",
       "  'NewRecovered': 0,\n",
       "  'TotalRecovered': 0,\n",
       "  'Date': '2023-04-07T22:10:24.595Z',\n",
       "  'Premium': {}},\n",
       " {'ID': 'bfa263be-0b64-4182-8893-055d0ed55e4f',\n",
       "  'Country': \"Côte d'Ivoire\",\n",
       "  'CountryCode': 'CI',\n",
       "  'Slug': 'cote-divoire',\n",
       "  'NewConfirmed': 8,\n",
       "  'TotalConfirmed': 88263,\n",
       "  'NewDeaths': 0,\n",
       "  'TotalDeaths': 834,\n",
       "  'NewRecovered': 0,\n",
       "  'TotalRecovered': 0,\n",
       "  'Date': '2023-04-07T22:10:24.595Z',\n",
       "  'Premium': {}},\n",
       " {'ID': 'de9f6391-48d0-4d72-abbb-78c92dfa5285',\n",
       "  'Country': 'Denmark',\n",
       "  'CountryCode': 'DK',\n",
       "  'Slug': 'denmark',\n",
       "  'NewConfirmed': 139,\n",
       "  'TotalConfirmed': 3451036,\n",
       "  'NewDeaths': 4,\n",
       "  'TotalDeaths': 8345,\n",
       "  'NewRecovered': 0,\n",
       "  'TotalRecovered': 0,\n",
       "  'Date': '2023-04-07T22:10:24.595Z',\n",
       "  'Premium': {}},\n",
       " {'ID': 'ef243009-5a4e-4cb5-81f8-b1fa9f278fae',\n",
       "  'Country': 'Djibouti',\n",
       "  'CountryCode': 'DJ',\n",
       "  'Slug': 'djibouti',\n",
       "  'NewConfirmed': 0,\n",
       "  'TotalConfirmed': 15690,\n",
       "  'NewDeaths': 0,\n",
       "  'TotalDeaths': 189,\n",
       "  'NewRecovered': 0,\n",
       "  'TotalRecovered': 0,\n",
       "  'Date': '2023-04-07T22:10:24.595Z',\n",
       "  'Premium': {}},\n",
       " {'ID': 'ec58e76e-ad9a-4069-9679-3cea97eb7d53',\n",
       "  'Country': 'Dominica',\n",
       "  'CountryCode': 'DM',\n",
       "  'Slug': 'dominica',\n",
       "  'NewConfirmed': 0,\n",
       "  'TotalConfirmed': 15760,\n",
       "  'NewDeaths': 0,\n",
       "  'TotalDeaths': 74,\n",
       "  'NewRecovered': 0,\n",
       "  'TotalRecovered': 0,\n",
       "  'Date': '2023-04-07T22:10:24.595Z',\n",
       "  'Premium': {}},\n",
       " {'ID': 'ac904e09-ae89-4517-8833-02116c1c2800',\n",
       "  'Country': 'Dominican Republic',\n",
       "  'CountryCode': 'DO',\n",
       "  'Slug': 'dominican-republic',\n",
       "  'NewConfirmed': 0,\n",
       "  'TotalConfirmed': 660790,\n",
       "  'NewDeaths': 0,\n",
       "  'TotalDeaths': 4384,\n",
       "  'NewRecovered': 0,\n",
       "  'TotalRecovered': 0,\n",
       "  'Date': '2023-04-07T22:10:24.595Z',\n",
       "  'Premium': {}},\n",
       " {'ID': 'd4ec4db6-55e7-4d53-9764-d27d8d882ce2',\n",
       "  'Country': 'Ecuador',\n",
       "  'CountryCode': 'EC',\n",
       "  'Slug': 'ecuador',\n",
       "  'NewConfirmed': 0,\n",
       "  'TotalConfirmed': 1057121,\n",
       "  'NewDeaths': 0,\n",
       "  'TotalDeaths': 36014,\n",
       "  'NewRecovered': 0,\n",
       "  'TotalRecovered': 0,\n",
       "  'Date': '2023-04-07T22:10:24.595Z',\n",
       "  'Premium': {}},\n",
       " {'ID': 'e88050b9-c75a-4038-bf69-eb9e40ba9512',\n",
       "  'Country': 'Egypt',\n",
       "  'CountryCode': 'EG',\n",
       "  'Slug': 'egypt',\n",
       "  'NewConfirmed': 0,\n",
       "  'TotalConfirmed': 515759,\n",
       "  'NewDeaths': 0,\n",
       "  'TotalDeaths': 24812,\n",
       "  'NewRecovered': 0,\n",
       "  'TotalRecovered': 0,\n",
       "  'Date': '2023-04-07T22:10:24.595Z',\n",
       "  'Premium': {}},\n",
       " {'ID': 'b26349dc-1ea1-4689-95b4-a3d23432049f',\n",
       "  'Country': 'El Salvador',\n",
       "  'CountryCode': 'SV',\n",
       "  'Slug': 'el-salvador',\n",
       "  'NewConfirmed': 0,\n",
       "  'TotalConfirmed': 201785,\n",
       "  'NewDeaths': 0,\n",
       "  'TotalDeaths': 4230,\n",
       "  'NewRecovered': 0,\n",
       "  'TotalRecovered': 0,\n",
       "  'Date': '2023-04-07T22:10:24.595Z',\n",
       "  'Premium': {}},\n",
       " {'ID': '872114c1-6ae9-4986-829c-e33f40c108aa',\n",
       "  'Country': 'Equatorial Guinea',\n",
       "  'CountryCode': 'GQ',\n",
       "  'Slug': 'equatorial-guinea',\n",
       "  'NewConfirmed': 0,\n",
       "  'TotalConfirmed': 17229,\n",
       "  'NewDeaths': 0,\n",
       "  'TotalDeaths': 183,\n",
       "  'NewRecovered': 0,\n",
       "  'TotalRecovered': 0,\n",
       "  'Date': '2023-04-07T22:10:24.595Z',\n",
       "  'Premium': {}},\n",
       " {'ID': '12928d10-60cc-4f02-a353-4cdd823cb01b',\n",
       "  'Country': 'Eritrea',\n",
       "  'CountryCode': 'ER',\n",
       "  'Slug': 'eritrea',\n",
       "  'NewConfirmed': 0,\n",
       "  'TotalConfirmed': 10189,\n",
       "  'NewDeaths': 0,\n",
       "  'TotalDeaths': 103,\n",
       "  'NewRecovered': 0,\n",
       "  'TotalRecovered': 0,\n",
       "  'Date': '2023-04-07T22:10:24.595Z',\n",
       "  'Premium': {}},\n",
       " {'ID': 'a53fca03-c56c-45ad-8e54-a3d61580d258',\n",
       "  'Country': 'Estonia',\n",
       "  'CountryCode': 'EE',\n",
       "  'Slug': 'estonia',\n",
       "  'NewConfirmed': 0,\n",
       "  'TotalConfirmed': 615433,\n",
       "  'NewDeaths': 0,\n",
       "  'TotalDeaths': 2946,\n",
       "  'NewRecovered': 0,\n",
       "  'TotalRecovered': 0,\n",
       "  'Date': '2023-04-07T22:10:24.595Z',\n",
       "  'Premium': {}},\n",
       " {'ID': '319b2313-77a5-470b-ac55-7a38bee2090e',\n",
       "  'Country': 'Ethiopia',\n",
       "  'CountryCode': 'ET',\n",
       "  'Slug': 'ethiopia',\n",
       "  'NewConfirmed': 14,\n",
       "  'TotalConfirmed': 500116,\n",
       "  'NewDeaths': 0,\n",
       "  'TotalDeaths': 7572,\n",
       "  'NewRecovered': 0,\n",
       "  'TotalRecovered': 0,\n",
       "  'Date': '2023-04-07T22:10:24.595Z',\n",
       "  'Premium': {}},\n",
       " {'ID': 'de398c0b-4a1e-4f85-9c8b-53634f6d7526',\n",
       "  'Country': 'Fiji',\n",
       "  'CountryCode': 'FJ',\n",
       "  'Slug': 'fiji',\n",
       "  'NewConfirmed': 1,\n",
       "  'TotalConfirmed': 68898,\n",
       "  'NewDeaths': 0,\n",
       "  'TotalDeaths': 883,\n",
       "  'NewRecovered': 0,\n",
       "  'TotalRecovered': 0,\n",
       "  'Date': '2023-04-07T22:10:24.595Z',\n",
       "  'Premium': {}},\n",
       " {'ID': 'a11ccde1-8abc-483c-a233-db101062bea4',\n",
       "  'Country': 'Finland',\n",
       "  'CountryCode': 'FI',\n",
       "  'Slug': 'finland',\n",
       "  'NewConfirmed': 668,\n",
       "  'TotalConfirmed': 1463644,\n",
       "  'NewDeaths': 31,\n",
       "  'TotalDeaths': 8967,\n",
       "  'NewRecovered': 0,\n",
       "  'TotalRecovered': 0,\n",
       "  'Date': '2023-04-07T22:10:24.595Z',\n",
       "  'Premium': {}},\n",
       " {'ID': '5c33b660-f014-4042-a102-e9b291213598',\n",
       "  'Country': 'France',\n",
       "  'CountryCode': 'FR',\n",
       "  'Slug': 'france',\n",
       "  'NewConfirmed': 6308,\n",
       "  'TotalConfirmed': 39866718,\n",
       "  'NewDeaths': 11,\n",
       "  'TotalDeaths': 166176,\n",
       "  'NewRecovered': 0,\n",
       "  'TotalRecovered': 0,\n",
       "  'Date': '2023-04-07T22:10:24.595Z',\n",
       "  'Premium': {}},\n",
       " {'ID': '34cdfdd8-183a-4f56-a134-12804f554f1d',\n",
       "  'Country': 'Gabon',\n",
       "  'CountryCode': 'GA',\n",
       "  'Slug': 'gabon',\n",
       "  'NewConfirmed': 0,\n",
       "  'TotalConfirmed': 48981,\n",
       "  'NewDeaths': 0,\n",
       "  'TotalDeaths': 306,\n",
       "  'NewRecovered': 0,\n",
       "  'TotalRecovered': 0,\n",
       "  'Date': '2023-04-07T22:10:24.595Z',\n",
       "  'Premium': {}},\n",
       " {'ID': '132b6535-32bb-4241-b749-5c20fb481899',\n",
       "  'Country': 'Gambia',\n",
       "  'CountryCode': 'GM',\n",
       "  'Slug': 'gambia',\n",
       "  'NewConfirmed': 0,\n",
       "  'TotalConfirmed': 12598,\n",
       "  'NewDeaths': 0,\n",
       "  'TotalDeaths': 372,\n",
       "  'NewRecovered': 0,\n",
       "  'TotalRecovered': 0,\n",
       "  'Date': '2023-04-07T22:10:24.595Z',\n",
       "  'Premium': {}},\n",
       " {'ID': '9db6dc09-1dc1-4160-9f76-15758c873ba1',\n",
       "  'Country': 'Georgia',\n",
       "  'CountryCode': 'GE',\n",
       "  'Slug': 'georgia',\n",
       "  'NewConfirmed': 0,\n",
       "  'TotalConfirmed': 1827537,\n",
       "  'NewDeaths': 0,\n",
       "  'TotalDeaths': 16971,\n",
       "  'NewRecovered': 0,\n",
       "  'TotalRecovered': 0,\n",
       "  'Date': '2023-04-07T22:10:24.595Z',\n",
       "  'Premium': {}},\n",
       " {'ID': '2631c453-ddb1-4114-938f-5a96da4c3d1a',\n",
       "  'Country': 'Germany',\n",
       "  'CountryCode': 'DE',\n",
       "  'Slug': 'germany',\n",
       "  'NewConfirmed': 7829,\n",
       "  'TotalConfirmed': 38249060,\n",
       "  'NewDeaths': 127,\n",
       "  'TotalDeaths': 168935,\n",
       "  'NewRecovered': 0,\n",
       "  'TotalRecovered': 0,\n",
       "  'Date': '2023-04-07T22:10:24.595Z',\n",
       "  'Premium': {}},\n",
       " {'ID': '734073e7-26ba-4b09-820f-88e09070bf3e',\n",
       "  'Country': 'Ghana',\n",
       "  'CountryCode': 'GH',\n",
       "  'Slug': 'ghana',\n",
       "  'NewConfirmed': 0,\n",
       "  'TotalConfirmed': 171229,\n",
       "  'NewDeaths': 0,\n",
       "  'TotalDeaths': 1462,\n",
       "  'NewRecovered': 0,\n",
       "  'TotalRecovered': 0,\n",
       "  'Date': '2023-04-07T22:10:24.595Z',\n",
       "  'Premium': {}},\n",
       " {'ID': '24074ab1-3af0-4c81-bca1-cefb1206ab8c',\n",
       "  'Country': 'Greece',\n",
       "  'CountryCode': 'GR',\n",
       "  'Slug': 'greece',\n",
       "  'NewConfirmed': 0,\n",
       "  'TotalConfirmed': 5548487,\n",
       "  'NewDeaths': 0,\n",
       "  'TotalDeaths': 34779,\n",
       "  'NewRecovered': 0,\n",
       "  'TotalRecovered': 0,\n",
       "  'Date': '2023-04-07T22:10:24.595Z',\n",
       "  'Premium': {}},\n",
       " {'ID': '8aa25ee0-015c-4278-b569-f754d40dc6c2',\n",
       "  'Country': 'Grenada',\n",
       "  'CountryCode': 'GD',\n",
       "  'Slug': 'grenada',\n",
       "  'NewConfirmed': 0,\n",
       "  'TotalConfirmed': 19680,\n",
       "  'NewDeaths': 0,\n",
       "  'TotalDeaths': 238,\n",
       "  'NewRecovered': 0,\n",
       "  'TotalRecovered': 0,\n",
       "  'Date': '2023-04-07T22:10:24.595Z',\n",
       "  'Premium': {}},\n",
       " {'ID': '4a54a9a5-eaac-4ac0-af5a-bc4b64325c6e',\n",
       "  'Country': 'Guatemala',\n",
       "  'CountryCode': 'GT',\n",
       "  'Slug': 'guatemala',\n",
       "  'NewConfirmed': 198,\n",
       "  'TotalConfirmed': 1238247,\n",
       "  'NewDeaths': 0,\n",
       "  'TotalDeaths': 20182,\n",
       "  'NewRecovered': 0,\n",
       "  'TotalRecovered': 0,\n",
       "  'Date': '2023-04-07T22:10:24.595Z',\n",
       "  'Premium': {}},\n",
       " {'ID': '94bc9343-0aed-4b4e-a7c0-31c16956578b',\n",
       "  'Country': 'Guinea',\n",
       "  'CountryCode': 'GN',\n",
       "  'Slug': 'guinea',\n",
       "  'NewConfirmed': 0,\n",
       "  'TotalConfirmed': 38267,\n",
       "  'NewDeaths': 0,\n",
       "  'TotalDeaths': 467,\n",
       "  'NewRecovered': 0,\n",
       "  'TotalRecovered': 0,\n",
       "  'Date': '2023-04-07T22:10:24.595Z',\n",
       "  'Premium': {}},\n",
       " {'ID': '16c2f6e6-bd4d-4a49-a2af-36ffd6db396a',\n",
       "  'Country': 'Guinea-Bissau',\n",
       "  'CountryCode': 'GW',\n",
       "  'Slug': 'guinea-bissau',\n",
       "  'NewConfirmed': 0,\n",
       "  'TotalConfirmed': 8960,\n",
       "  'NewDeaths': 0,\n",
       "  'TotalDeaths': 176,\n",
       "  'NewRecovered': 0,\n",
       "  'TotalRecovered': 0,\n",
       "  'Date': '2023-04-07T22:10:24.595Z',\n",
       "  'Premium': {}},\n",
       " {'ID': 'c5e36c4c-4a59-4de1-9e87-0d4640edd1c5',\n",
       "  'Country': 'Guyana',\n",
       "  'CountryCode': 'GY',\n",
       "  'Slug': 'guyana',\n",
       "  'NewConfirmed': 0,\n",
       "  'TotalConfirmed': 73075,\n",
       "  'NewDeaths': 0,\n",
       "  'TotalDeaths': 1298,\n",
       "  'NewRecovered': 0,\n",
       "  'TotalRecovered': 0,\n",
       "  'Date': '2023-04-07T22:10:24.595Z',\n",
       "  'Premium': {}},\n",
       " {'ID': '9b089ec5-fe85-43ce-ba15-d89dd47a7ca5',\n",
       "  'Country': 'Haiti',\n",
       "  'CountryCode': 'HT',\n",
       "  'Slug': 'haiti',\n",
       "  'NewConfirmed': 0,\n",
       "  'TotalConfirmed': 34202,\n",
       "  'NewDeaths': 0,\n",
       "  'TotalDeaths': 860,\n",
       "  'NewRecovered': 0,\n",
       "  'TotalRecovered': 0,\n",
       "  'Date': '2023-04-07T22:10:24.595Z',\n",
       "  'Premium': {}},\n",
       " {'ID': '2c73b45f-6aed-4fb1-b9d5-3530bf5d1915',\n",
       "  'Country': 'Holy See (Vatican City State)',\n",
       "  'CountryCode': 'VA',\n",
       "  'Slug': 'holy-see-vatican-city-state',\n",
       "  'NewConfirmed': 0,\n",
       "  'TotalConfirmed': 29,\n",
       "  'NewDeaths': 0,\n",
       "  'TotalDeaths': 0,\n",
       "  'NewRecovered': 0,\n",
       "  'TotalRecovered': 0,\n",
       "  'Date': '2023-04-07T22:10:24.595Z',\n",
       "  'Premium': {}},\n",
       " {'ID': '1dc713c9-c48e-478a-83ca-9526fda03b76',\n",
       "  'Country': 'Honduras',\n",
       "  'CountryCode': 'HN',\n",
       "  'Slug': 'honduras',\n",
       "  'NewConfirmed': 0,\n",
       "  'TotalConfirmed': 472250,\n",
       "  'NewDeaths': 0,\n",
       "  'TotalDeaths': 11111,\n",
       "  'NewRecovered': 0,\n",
       "  'TotalRecovered': 0,\n",
       "  'Date': '2023-04-07T22:10:24.595Z',\n",
       "  'Premium': {}},\n",
       " {'ID': '3c1eb328-5f47-454f-95ec-20a3833e90ea',\n",
       "  'Country': 'Hungary',\n",
       "  'CountryCode': 'HU',\n",
       "  'Slug': 'hungary',\n",
       "  'NewConfirmed': 0,\n",
       "  'TotalConfirmed': 2196804,\n",
       "  'NewDeaths': 0,\n",
       "  'TotalDeaths': 48762,\n",
       "  'NewRecovered': 0,\n",
       "  'TotalRecovered': 0,\n",
       "  'Date': '2023-04-07T22:10:24.595Z',\n",
       "  'Premium': {}},\n",
       " {'ID': 'a06fe049-397c-4c82-a2fd-ff8f4e2eafb7',\n",
       "  'Country': 'Iceland',\n",
       "  'CountryCode': 'IS',\n",
       "  'Slug': 'iceland',\n",
       "  'NewConfirmed': 0,\n",
       "  'TotalConfirmed': 209137,\n",
       "  'NewDeaths': 0,\n",
       "  'TotalDeaths': 263,\n",
       "  'NewRecovered': 0,\n",
       "  'TotalRecovered': 0,\n",
       "  'Date': '2023-04-07T22:10:24.595Z',\n",
       "  'Premium': {}},\n",
       " {'ID': '847e1282-cadd-4022-86db-68371fe9f4b1',\n",
       "  'Country': 'India',\n",
       "  'CountryCode': 'IN',\n",
       "  'Slug': 'india',\n",
       "  'NewConfirmed': 440,\n",
       "  'TotalConfirmed': 44690738,\n",
       "  'NewDeaths': 3,\n",
       "  'TotalDeaths': 530779,\n",
       "  'NewRecovered': 0,\n",
       "  'TotalRecovered': 0,\n",
       "  'Date': '2023-04-07T22:10:24.595Z',\n",
       "  'Premium': {}},\n",
       " {'ID': '17792bf6-b4ac-4d38-8898-7fa8529e0cc2',\n",
       "  'Country': 'Indonesia',\n",
       "  'CountryCode': 'ID',\n",
       "  'Slug': 'indonesia',\n",
       "  'NewConfirmed': 307,\n",
       "  'TotalConfirmed': 6738225,\n",
       "  'NewDeaths': 4,\n",
       "  'TotalDeaths': 160941,\n",
       "  'NewRecovered': 0,\n",
       "  'TotalRecovered': 0,\n",
       "  'Date': '2023-04-07T22:10:24.595Z',\n",
       "  'Premium': {}},\n",
       " {'ID': '9d37559e-5b82-46b4-9e3f-3227a12c63b0',\n",
       "  'Country': 'Iran, Islamic Republic of',\n",
       "  'CountryCode': 'IR',\n",
       "  'Slug': 'iran',\n",
       "  'NewConfirmed': 315,\n",
       "  'TotalConfirmed': 7572311,\n",
       "  'NewDeaths': 11,\n",
       "  'TotalDeaths': 144933,\n",
       "  'NewRecovered': 0,\n",
       "  'TotalRecovered': 0,\n",
       "  'Date': '2023-04-07T22:10:24.595Z',\n",
       "  'Premium': {}},\n",
       " {'ID': '376a8812-b021-49ff-b417-e483a2d29736',\n",
       "  'Country': 'Iraq',\n",
       "  'CountryCode': 'IQ',\n",
       "  'Slug': 'iraq',\n",
       "  'NewConfirmed': 0,\n",
       "  'TotalConfirmed': 2465545,\n",
       "  'NewDeaths': 0,\n",
       "  'TotalDeaths': 25375,\n",
       "  'NewRecovered': 0,\n",
       "  'TotalRecovered': 0,\n",
       "  'Date': '2023-04-07T22:10:24.595Z',\n",
       "  'Premium': {}},\n",
       " {'ID': 'fe6c1ebc-ca66-4db2-84ca-6e8bd113c190',\n",
       "  'Country': 'Ireland',\n",
       "  'CountryCode': 'IE',\n",
       "  'Slug': 'ireland',\n",
       "  'NewConfirmed': 0,\n",
       "  'TotalConfirmed': 1704502,\n",
       "  'NewDeaths': 0,\n",
       "  'TotalDeaths': 8708,\n",
       "  'NewRecovered': 0,\n",
       "  'TotalRecovered': 0,\n",
       "  'Date': '2023-04-07T22:10:24.595Z',\n",
       "  'Premium': {}},\n",
       " {'ID': '5b24cead-dcbb-47e5-8ec4-e42efb590367',\n",
       "  'Country': 'Israel',\n",
       "  'CountryCode': 'IL',\n",
       "  'Slug': 'israel',\n",
       "  'NewConfirmed': 660,\n",
       "  'TotalConfirmed': 4803824,\n",
       "  'NewDeaths': 4,\n",
       "  'TotalDeaths': 12329,\n",
       "  'NewRecovered': 0,\n",
       "  'TotalRecovered': 0,\n",
       "  'Date': '2023-04-07T22:10:24.595Z',\n",
       "  'Premium': {}},\n",
       " {'ID': '728ee329-b8c9-482e-88c0-4a72f5283f69',\n",
       "  'Country': 'Italy',\n",
       "  'CountryCode': 'IT',\n",
       "  'Slug': 'italy',\n",
       "  'NewConfirmed': 0,\n",
       "  'TotalConfirmed': 25603510,\n",
       "  'NewDeaths': 0,\n",
       "  'TotalDeaths': 188322,\n",
       "  'NewRecovered': 0,\n",
       "  'TotalRecovered': 0,\n",
       "  'Date': '2023-04-07T22:10:24.595Z',\n",
       "  'Premium': {}},\n",
       " {'ID': 'd866a380-8290-461d-8119-f1525d86b317',\n",
       "  'Country': 'Jamaica',\n",
       "  'CountryCode': 'JM',\n",
       "  'Slug': 'jamaica',\n",
       "  'NewConfirmed': 129,\n",
       "  'TotalConfirmed': 154416,\n",
       "  'NewDeaths': 3,\n",
       "  'TotalDeaths': 3514,\n",
       "  'NewRecovered': 0,\n",
       "  'TotalRecovered': 0,\n",
       "  'Date': '2023-04-07T22:10:24.595Z',\n",
       "  'Premium': {}},\n",
       " {'ID': '019bdd8e-f37c-420a-a3e6-9a9d22b9bc9e',\n",
       "  'Country': 'Japan',\n",
       "  'CountryCode': 'JP',\n",
       "  'Slug': 'japan',\n",
       "  'NewConfirmed': 9834,\n",
       "  'TotalConfirmed': 33320438,\n",
       "  'NewDeaths': 80,\n",
       "  'TotalDeaths': 72997,\n",
       "  'NewRecovered': 0,\n",
       "  'TotalRecovered': 0,\n",
       "  'Date': '2023-04-07T22:10:24.595Z',\n",
       "  'Premium': {}},\n",
       " {'ID': '8513ec80-0131-44de-9add-1b198a5a272d',\n",
       "  'Country': 'Jordan',\n",
       "  'CountryCode': 'JO',\n",
       "  'Slug': 'jordan',\n",
       "  'NewConfirmed': 0,\n",
       "  'TotalConfirmed': 1746997,\n",
       "  'NewDeaths': 0,\n",
       "  'TotalDeaths': 14122,\n",
       "  'NewRecovered': 0,\n",
       "  'TotalRecovered': 0,\n",
       "  'Date': '2023-04-07T22:10:24.595Z',\n",
       "  'Premium': {}},\n",
       " {'ID': 'c57f4ee5-da1f-4f41-aa82-9fd3faf65ac2',\n",
       "  'Country': 'Kazakhstan',\n",
       "  'CountryCode': 'KZ',\n",
       "  'Slug': 'kazakhstan',\n",
       "  'NewConfirmed': 0,\n",
       "  'TotalConfirmed': 1498668,\n",
       "  'NewDeaths': 0,\n",
       "  'TotalDeaths': 19071,\n",
       "  'NewRecovered': 0,\n",
       "  'TotalRecovered': 0,\n",
       "  'Date': '2023-04-07T22:10:24.595Z',\n",
       "  'Premium': {}},\n",
       " {'ID': '6c3d9f22-1d5e-4659-905d-13d57d51bc8a',\n",
       "  'Country': 'Kenya',\n",
       "  'CountryCode': 'KE',\n",
       "  'Slug': 'kenya',\n",
       "  'NewConfirmed': 0,\n",
       "  'TotalConfirmed': 342937,\n",
       "  'NewDeaths': 0,\n",
       "  'TotalDeaths': 5688,\n",
       "  'NewRecovered': 0,\n",
       "  'TotalRecovered': 0,\n",
       "  'Date': '2023-04-07T22:10:24.595Z',\n",
       "  'Premium': {}},\n",
       " {'ID': 'b03dd8cd-6546-473e-91ce-2f0d8f0ffa2f',\n",
       "  'Country': 'Kiribati',\n",
       "  'CountryCode': 'KI',\n",
       "  'Slug': 'kiribati',\n",
       "  'NewConfirmed': 0,\n",
       "  'TotalConfirmed': 5014,\n",
       "  'NewDeaths': 0,\n",
       "  'TotalDeaths': 18,\n",
       "  'NewRecovered': 0,\n",
       "  'TotalRecovered': 0,\n",
       "  'Date': '2023-04-07T22:10:24.595Z',\n",
       "  'Premium': {}},\n",
       " {'ID': '30ef5617-e02d-4a70-a521-1b01756de75f',\n",
       "  'Country': 'Korea (North)',\n",
       "  'CountryCode': 'KP',\n",
       "  'Slug': 'korea-north',\n",
       "  'NewConfirmed': 0,\n",
       "  'TotalConfirmed': 1,\n",
       "  'NewDeaths': 0,\n",
       "  'TotalDeaths': 6,\n",
       "  'NewRecovered': 0,\n",
       "  'TotalRecovered': 0,\n",
       "  'Date': '2023-04-07T22:10:24.595Z',\n",
       "  'Premium': {}},\n",
       " {'ID': '623d3615-2954-4e49-a3e0-a1744fbb3e73',\n",
       "  'Country': 'Korea (South)',\n",
       "  'CountryCode': 'KR',\n",
       "  'Slug': 'korea-south',\n",
       "  'NewConfirmed': 10335,\n",
       "  'TotalConfirmed': 30615522,\n",
       "  'NewDeaths': 12,\n",
       "  'TotalDeaths': 34093,\n",
       "  'NewRecovered': 0,\n",
       "  'TotalRecovered': 0,\n",
       "  'Date': '2023-04-07T22:10:24.595Z',\n",
       "  'Premium': {}},\n",
       " {'ID': '9781fd1c-b677-4212-b797-fe7922e45733',\n",
       "  'Country': 'Kuwait',\n",
       "  'CountryCode': 'KW',\n",
       "  'Slug': 'kuwait',\n",
       "  'NewConfirmed': 0,\n",
       "  'TotalConfirmed': 663860,\n",
       "  'NewDeaths': 0,\n",
       "  'TotalDeaths': 2570,\n",
       "  'NewRecovered': 0,\n",
       "  'TotalRecovered': 0,\n",
       "  'Date': '2023-04-07T22:10:24.595Z',\n",
       "  'Premium': {}},\n",
       " {'ID': '2fb92cae-04e8-4587-abeb-efcb305cd4c1',\n",
       "  'Country': 'Kyrgyzstan',\n",
       "  'CountryCode': 'KG',\n",
       "  'Slug': 'kyrgyzstan',\n",
       "  'NewConfirmed': 0,\n",
       "  'TotalConfirmed': 206708,\n",
       "  'NewDeaths': 0,\n",
       "  'TotalDeaths': 2991,\n",
       "  'NewRecovered': 0,\n",
       "  'TotalRecovered': 0,\n",
       "  'Date': '2023-04-07T22:10:24.595Z',\n",
       "  'Premium': {}},\n",
       " {'ID': '6088e667-8288-4277-b75f-16d772c60fd8',\n",
       "  'Country': 'Lao PDR',\n",
       "  'CountryCode': 'LA',\n",
       "  'Slug': 'lao-pdr',\n",
       "  'NewConfirmed': 0,\n",
       "  'TotalConfirmed': 218023,\n",
       "  'NewDeaths': 0,\n",
       "  'TotalDeaths': 758,\n",
       "  'NewRecovered': 0,\n",
       "  'TotalRecovered': 0,\n",
       "  'Date': '2023-04-07T22:10:24.595Z',\n",
       "  'Premium': {}},\n",
       " {'ID': '0ff89b90-a7c8-4915-acc2-afd932eb1eed',\n",
       "  'Country': 'Latvia',\n",
       "  'CountryCode': 'LV',\n",
       "  'Slug': 'latvia',\n",
       "  'NewConfirmed': 27,\n",
       "  'TotalConfirmed': 976255,\n",
       "  'NewDeaths': 0,\n",
       "  'TotalDeaths': 6269,\n",
       "  'NewRecovered': 0,\n",
       "  'TotalRecovered': 0,\n",
       "  'Date': '2023-04-07T22:10:24.595Z',\n",
       "  'Premium': {}},\n",
       " {'ID': '5736388e-fc7b-46f2-96be-97a78266df57',\n",
       "  'Country': 'Lebanon',\n",
       "  'CountryCode': 'LB',\n",
       "  'Slug': 'lebanon',\n",
       "  'NewConfirmed': 179,\n",
       "  'TotalConfirmed': 1232828,\n",
       "  'NewDeaths': 1,\n",
       "  'TotalDeaths': 10841,\n",
       "  'NewRecovered': 0,\n",
       "  'TotalRecovered': 0,\n",
       "  'Date': '2023-04-07T22:10:24.595Z',\n",
       "  'Premium': {}},\n",
       " {'ID': '081c3204-e011-455b-9e75-48854cb81ba4',\n",
       "  'Country': 'Lesotho',\n",
       "  'CountryCode': 'LS',\n",
       "  'Slug': 'lesotho',\n",
       "  'NewConfirmed': 0,\n",
       "  'TotalConfirmed': 34790,\n",
       "  'NewDeaths': 0,\n",
       "  'TotalDeaths': 723,\n",
       "  'NewRecovered': 0,\n",
       "  'TotalRecovered': 0,\n",
       "  'Date': '2023-04-07T22:10:24.595Z',\n",
       "  'Premium': {}},\n",
       " {'ID': 'f4d728fb-0fed-4093-a903-47b889f0c778',\n",
       "  'Country': 'Liberia',\n",
       "  'CountryCode': 'LR',\n",
       "  'Slug': 'liberia',\n",
       "  'NewConfirmed': 0,\n",
       "  'TotalConfirmed': 8090,\n",
       "  'NewDeaths': 0,\n",
       "  'TotalDeaths': 295,\n",
       "  'NewRecovered': 0,\n",
       "  'TotalRecovered': 0,\n",
       "  'Date': '2023-04-07T22:10:24.595Z',\n",
       "  'Premium': {}},\n",
       " {'ID': 'ca72b7b0-ceaf-4910-98b6-8e0632026fef',\n",
       "  'Country': 'Libya',\n",
       "  'CountryCode': 'LY',\n",
       "  'Slug': 'libya',\n",
       "  'NewConfirmed': 0,\n",
       "  'TotalConfirmed': 507187,\n",
       "  'NewDeaths': 0,\n",
       "  'TotalDeaths': 6437,\n",
       "  'NewRecovered': 0,\n",
       "  'TotalRecovered': 0,\n",
       "  'Date': '2023-04-07T22:10:24.595Z',\n",
       "  'Premium': {}},\n",
       " {'ID': '3708e4f5-74cb-420b-8630-1749ad1d06b3',\n",
       "  'Country': 'Liechtenstein',\n",
       "  'CountryCode': 'LI',\n",
       "  'Slug': 'liechtenstein',\n",
       "  'NewConfirmed': 0,\n",
       "  'TotalConfirmed': 21432,\n",
       "  'NewDeaths': 0,\n",
       "  'TotalDeaths': 89,\n",
       "  'NewRecovered': 0,\n",
       "  'TotalRecovered': 0,\n",
       "  'Date': '2023-04-07T22:10:24.595Z',\n",
       "  'Premium': {}},\n",
       " {'ID': '172d2902-d543-492b-a9ce-d3732e8c2f6d',\n",
       "  'Country': 'Lithuania',\n",
       "  'CountryCode': 'LT',\n",
       "  'Slug': 'lithuania',\n",
       "  'NewConfirmed': 0,\n",
       "  'TotalConfirmed': 1307448,\n",
       "  'NewDeaths': 0,\n",
       "  'TotalDeaths': 9596,\n",
       "  'NewRecovered': 0,\n",
       "  'TotalRecovered': 0,\n",
       "  'Date': '2023-04-07T22:10:24.595Z',\n",
       "  'Premium': {}},\n",
       " {'ID': '35bb2f49-ff9b-4633-9ffa-658667e0be4d',\n",
       "  'Country': 'Luxembourg',\n",
       "  'CountryCode': 'LU',\n",
       "  'Slug': 'luxembourg',\n",
       "  'NewConfirmed': 0,\n",
       "  'TotalConfirmed': 317367,\n",
       "  'NewDeaths': 0,\n",
       "  'TotalDeaths': 1220,\n",
       "  'NewRecovered': 0,\n",
       "  'TotalRecovered': 0,\n",
       "  'Date': '2023-04-07T22:10:24.595Z',\n",
       "  'Premium': {}},\n",
       " {'ID': '7812a2f0-3681-457e-ab36-39691f43c2de',\n",
       "  'Country': 'Macedonia, Republic of',\n",
       "  'CountryCode': 'MK',\n",
       "  'Slug': 'macedonia',\n",
       "  'NewConfirmed': 0,\n",
       "  'TotalConfirmed': 346852,\n",
       "  'NewDeaths': 0,\n",
       "  'TotalDeaths': 9662,\n",
       "  'NewRecovered': 0,\n",
       "  'TotalRecovered': 0,\n",
       "  'Date': '2023-04-07T22:10:24.595Z',\n",
       "  'Premium': {}},\n",
       " {'ID': '6bcdde01-4153-4d64-8d46-1743ecf6b218',\n",
       "  'Country': 'Madagascar',\n",
       "  'CountryCode': 'MG',\n",
       "  'Slug': 'madagascar',\n",
       "  'NewConfirmed': 0,\n",
       "  'TotalConfirmed': 67889,\n",
       "  'NewDeaths': 0,\n",
       "  'TotalDeaths': 1423,\n",
       "  'NewRecovered': 0,\n",
       "  'TotalRecovered': 0,\n",
       "  'Date': '2023-04-07T22:10:24.595Z',\n",
       "  'Premium': {}},\n",
       " {'ID': '6b1d6f48-9493-499e-9204-d514e1636342',\n",
       "  'Country': 'Malawi',\n",
       "  'CountryCode': 'MW',\n",
       "  'Slug': 'malawi',\n",
       "  'NewConfirmed': 0,\n",
       "  'TotalConfirmed': 88707,\n",
       "  'NewDeaths': 0,\n",
       "  'TotalDeaths': 2686,\n",
       "  'NewRecovered': 0,\n",
       "  'TotalRecovered': 0,\n",
       "  'Date': '2023-04-07T22:10:24.595Z',\n",
       "  'Premium': {}},\n",
       " {'ID': '0e5d9e61-d68a-4c8d-a7f9-f055c94a4cb1',\n",
       "  'Country': 'Malaysia',\n",
       "  'CountryCode': 'MY',\n",
       "  'Slug': 'malaysia',\n",
       "  'NewConfirmed': 279,\n",
       "  'TotalConfirmed': 5044718,\n",
       "  'NewDeaths': 0,\n",
       "  'TotalDeaths': 36967,\n",
       "  'NewRecovered': 0,\n",
       "  'TotalRecovered': 0,\n",
       "  'Date': '2023-04-07T22:10:24.595Z',\n",
       "  'Premium': {}},\n",
       " {'ID': '8ee53905-3e0f-4019-8566-717f39adc0d0',\n",
       "  'Country': 'Maldives',\n",
       "  'CountryCode': 'MV',\n",
       "  'Slug': 'maldives',\n",
       "  'NewConfirmed': 0,\n",
       "  'TotalConfirmed': 185738,\n",
       "  'NewDeaths': 0,\n",
       "  'TotalDeaths': 311,\n",
       "  'NewRecovered': 0,\n",
       "  'TotalRecovered': 0,\n",
       "  'Date': '2023-04-07T22:10:24.595Z',\n",
       "  'Premium': {}},\n",
       " {'ID': '0d2393e1-fbb2-49da-805d-20ac3802a5c1',\n",
       "  'Country': 'Mali',\n",
       "  'CountryCode': 'ML',\n",
       "  'Slug': 'mali',\n",
       "  'NewConfirmed': 1,\n",
       "  'TotalConfirmed': 33062,\n",
       "  'NewDeaths': 0,\n",
       "  'TotalDeaths': 743,\n",
       "  'NewRecovered': 0,\n",
       "  'TotalRecovered': 0,\n",
       "  'Date': '2023-04-07T22:10:24.595Z',\n",
       "  'Premium': {}},\n",
       " {'ID': '3b606bab-1103-4590-9f88-a6da2c87ca44',\n",
       "  'Country': 'Malta',\n",
       "  'CountryCode': 'MT',\n",
       "  'Slug': 'malta',\n",
       "  'NewConfirmed': 0,\n",
       "  'TotalConfirmed': 117610,\n",
       "  'NewDeaths': 0,\n",
       "  'TotalDeaths': 828,\n",
       "  'NewRecovered': 0,\n",
       "  'TotalRecovered': 0,\n",
       "  'Date': '2023-04-07T22:10:24.595Z',\n",
       "  'Premium': {}},\n",
       " {'ID': 'f5a2a20d-7093-4316-9ea0-4d706674fbd3',\n",
       "  'Country': 'Marshall Islands',\n",
       "  'CountryCode': 'MH',\n",
       "  'Slug': 'marshall-islands',\n",
       "  'NewConfirmed': 0,\n",
       "  'TotalConfirmed': 15649,\n",
       "  'NewDeaths': 0,\n",
       "  'TotalDeaths': 17,\n",
       "  'NewRecovered': 0,\n",
       "  'TotalRecovered': 0,\n",
       "  'Date': '2023-04-07T22:10:24.595Z',\n",
       "  'Premium': {}},\n",
       " {'ID': '6ce00d3e-c9e9-42b4-a050-8df890c12906',\n",
       "  'Country': 'Mauritania',\n",
       "  'CountryCode': 'MR',\n",
       "  'Slug': 'mauritania',\n",
       "  'NewConfirmed': 0,\n",
       "  'TotalConfirmed': 63668,\n",
       "  'NewDeaths': 0,\n",
       "  'TotalDeaths': 997,\n",
       "  'NewRecovered': 0,\n",
       "  'TotalRecovered': 0,\n",
       "  'Date': '2023-04-07T22:10:24.595Z',\n",
       "  'Premium': {}},\n",
       " {'ID': 'abc5b1d8-d652-4a09-9fc6-2abc5c46904d',\n",
       "  'Country': 'Mauritius',\n",
       "  'CountryCode': 'MU',\n",
       "  'Slug': 'mauritius',\n",
       "  'NewConfirmed': 0,\n",
       "  'TotalConfirmed': 296042,\n",
       "  'NewDeaths': 0,\n",
       "  'TotalDeaths': 1044,\n",
       "  'NewRecovered': 0,\n",
       "  'TotalRecovered': 0,\n",
       "  'Date': '2023-04-07T22:10:24.595Z',\n",
       "  'Premium': {}},\n",
       " {'ID': 'f34dcba5-e225-4688-a0c5-fb45e8f2572a',\n",
       "  'Country': 'Mexico',\n",
       "  'CountryCode': 'MX',\n",
       "  'Slug': 'mexico',\n",
       "  'NewConfirmed': 3809,\n",
       "  'TotalConfirmed': 7483444,\n",
       "  'NewDeaths': 18,\n",
       "  'TotalDeaths': 333188,\n",
       "  'NewRecovered': 0,\n",
       "  'TotalRecovered': 0,\n",
       "  'Date': '2023-04-07T22:10:24.595Z',\n",
       "  'Premium': {}},\n",
       " {'ID': '9520a5f9-b726-47a6-8785-728856c39811',\n",
       "  'Country': 'Micronesia, Federated States of',\n",
       "  'CountryCode': 'FM',\n",
       "  'Slug': 'micronesia',\n",
       "  'NewConfirmed': 0,\n",
       "  'TotalConfirmed': 23948,\n",
       "  'NewDeaths': 0,\n",
       "  'TotalDeaths': 61,\n",
       "  'NewRecovered': 0,\n",
       "  'TotalRecovered': 0,\n",
       "  'Date': '2023-04-07T22:10:24.595Z',\n",
       "  'Premium': {}},\n",
       " {'ID': 'f093e473-6c5b-4bf3-8256-64bbcfcfe45e',\n",
       "  'Country': 'Moldova',\n",
       "  'CountryCode': 'MD',\n",
       "  'Slug': 'moldova',\n",
       "  'NewConfirmed': 0,\n",
       "  'TotalConfirmed': 611140,\n",
       "  'NewDeaths': 0,\n",
       "  'TotalDeaths': 12003,\n",
       "  'NewRecovered': 0,\n",
       "  'TotalRecovered': 0,\n",
       "  'Date': '2023-04-07T22:10:24.595Z',\n",
       "  'Premium': {}},\n",
       " {'ID': '4464bd42-0964-4d17-b148-d62afe58e4ff',\n",
       "  'Country': 'Monaco',\n",
       "  'CountryCode': 'MC',\n",
       "  'Slug': 'monaco',\n",
       "  'NewConfirmed': 0,\n",
       "  'TotalConfirmed': 16121,\n",
       "  'NewDeaths': 0,\n",
       "  'TotalDeaths': 67,\n",
       "  'NewRecovered': 0,\n",
       "  'TotalRecovered': 0,\n",
       "  'Date': '2023-04-07T22:10:24.595Z',\n",
       "  'Premium': {}},\n",
       " {'ID': '4f42043a-8131-40e3-923c-8814f583bad6',\n",
       "  'Country': 'Mongolia',\n",
       "  'CountryCode': 'MN',\n",
       "  'Slug': 'mongolia',\n",
       "  'NewConfirmed': 0,\n",
       "  'TotalConfirmed': 1007900,\n",
       "  'NewDeaths': 0,\n",
       "  'TotalDeaths': 2136,\n",
       "  'NewRecovered': 0,\n",
       "  'TotalRecovered': 0,\n",
       "  'Date': '2023-04-07T22:10:24.595Z',\n",
       "  'Premium': {}},\n",
       " {'ID': '82b5c86e-31f4-44a5-ab7f-515e8a7936e4',\n",
       "  'Country': 'Montenegro',\n",
       "  'CountryCode': 'ME',\n",
       "  'Slug': 'montenegro',\n",
       "  'NewConfirmed': 56,\n",
       "  'TotalConfirmed': 288808,\n",
       "  'NewDeaths': 0,\n",
       "  'TotalDeaths': 2808,\n",
       "  'NewRecovered': 0,\n",
       "  'TotalRecovered': 0,\n",
       "  'Date': '2023-04-07T22:10:24.595Z',\n",
       "  'Premium': {}},\n",
       " {'ID': '1ddae7da-6797-4e10-9ae0-fdc537864e24',\n",
       "  'Country': 'Morocco',\n",
       "  'CountryCode': 'MA',\n",
       "  'Slug': 'morocco',\n",
       "  'NewConfirmed': 0,\n",
       "  'TotalConfirmed': 1272490,\n",
       "  'NewDeaths': 0,\n",
       "  'TotalDeaths': 16296,\n",
       "  'NewRecovered': 0,\n",
       "  'TotalRecovered': 0,\n",
       "  'Date': '2023-04-07T22:10:24.595Z',\n",
       "  'Premium': {}},\n",
       " {'ID': 'b4238da0-af6d-4b24-9b08-2ec4c512979f',\n",
       "  'Country': 'Mozambique',\n",
       "  'CountryCode': 'MZ',\n",
       "  'Slug': 'mozambique',\n",
       "  'NewConfirmed': 0,\n",
       "  'TotalConfirmed': 233214,\n",
       "  'NewDeaths': 0,\n",
       "  'TotalDeaths': 2242,\n",
       "  'NewRecovered': 0,\n",
       "  'TotalRecovered': 0,\n",
       "  'Date': '2023-04-07T22:10:24.595Z',\n",
       "  'Premium': {}},\n",
       " {'ID': 'e5b1fa54-a7ff-4b69-ba64-edf5ad7d6641',\n",
       "  'Country': 'Myanmar',\n",
       "  'CountryCode': 'MM',\n",
       "  'Slug': 'myanmar',\n",
       "  'NewConfirmed': 1,\n",
       "  'TotalConfirmed': 633950,\n",
       "  'NewDeaths': 0,\n",
       "  'TotalDeaths': 19490,\n",
       "  'NewRecovered': 0,\n",
       "  'TotalRecovered': 0,\n",
       "  'Date': '2023-04-07T22:10:24.595Z',\n",
       "  'Premium': {}},\n",
       " {'ID': '4fc2845b-b0b3-480e-a0ac-ee4f25a278d0',\n",
       "  'Country': 'Namibia',\n",
       "  'CountryCode': 'NA',\n",
       "  'Slug': 'namibia',\n",
       "  'NewConfirmed': 0,\n",
       "  'TotalConfirmed': 171156,\n",
       "  'NewDeaths': 0,\n",
       "  'TotalDeaths': 4090,\n",
       "  'NewRecovered': 0,\n",
       "  'TotalRecovered': 0,\n",
       "  'Date': '2023-04-07T22:10:24.595Z',\n",
       "  'Premium': {}},\n",
       " {'ID': '38d20f6d-e5c4-4c1d-9c9f-defb8e8f40ec',\n",
       "  'Country': 'Nauru',\n",
       "  'CountryCode': 'NR',\n",
       "  'Slug': 'nauru',\n",
       "  'NewConfirmed': 0,\n",
       "  'TotalConfirmed': 5247,\n",
       "  'NewDeaths': 0,\n",
       "  'TotalDeaths': 1,\n",
       "  'NewRecovered': 0,\n",
       "  'TotalRecovered': 0,\n",
       "  'Date': '2023-04-07T22:10:24.595Z',\n",
       "  'Premium': {}},\n",
       " {'ID': '24d172ae-ea1d-46be-95a7-b19c49ca9b1e',\n",
       "  'Country': 'Nepal',\n",
       "  'CountryCode': 'NP',\n",
       "  'Slug': 'nepal',\n",
       "  'NewConfirmed': 4,\n",
       "  'TotalConfirmed': 1001154,\n",
       "  'NewDeaths': 0,\n",
       "  'TotalDeaths': 12020,\n",
       "  'NewRecovered': 0,\n",
       "  'TotalRecovered': 0,\n",
       "  'Date': '2023-04-07T22:10:24.595Z',\n",
       "  'Premium': {}},\n",
       " {'ID': '9c58a626-8dc9-4aae-aaf2-45dd1febdaf6',\n",
       "  'Country': 'Netherlands',\n",
       "  'CountryCode': 'NL',\n",
       "  'Slug': 'netherlands',\n",
       "  'NewConfirmed': 0,\n",
       "  'TotalConfirmed': 8599981,\n",
       "  'NewDeaths': 0,\n",
       "  'TotalDeaths': 22990,\n",
       "  'NewRecovered': 0,\n",
       "  'TotalRecovered': 0,\n",
       "  'Date': '2023-04-07T22:10:24.595Z',\n",
       "  'Premium': {}},\n",
       " {'ID': 'c1b30d4f-6e3b-486a-a53b-c1f4f82289b8',\n",
       "  'Country': 'New Zealand',\n",
       "  'CountryCode': 'NZ',\n",
       "  'Slug': 'new-zealand',\n",
       "  'NewConfirmed': 1,\n",
       "  'TotalConfirmed': 2236114,\n",
       "  'NewDeaths': 0,\n",
       "  'TotalDeaths': 2550,\n",
       "  'NewRecovered': 0,\n",
       "  'TotalRecovered': 0,\n",
       "  'Date': '2023-04-07T22:10:24.595Z',\n",
       "  'Premium': {}},\n",
       " {'ID': '2bd32cc7-fe02-4fab-b24a-7e8acb033153',\n",
       "  'Country': 'Nicaragua',\n",
       "  'CountryCode': 'NI',\n",
       "  'Slug': 'nicaragua',\n",
       "  'NewConfirmed': 0,\n",
       "  'TotalConfirmed': 15655,\n",
       "  'NewDeaths': 0,\n",
       "  'TotalDeaths': 245,\n",
       "  'NewRecovered': 0,\n",
       "  'TotalRecovered': 0,\n",
       "  'Date': '2023-04-07T22:10:24.595Z',\n",
       "  'Premium': {}},\n",
       " {'ID': '6763aba4-c55b-42da-95a8-0a92562be21e',\n",
       "  'Country': 'Niger',\n",
       "  'CountryCode': 'NE',\n",
       "  'Slug': 'niger',\n",
       "  'NewConfirmed': 0,\n",
       "  'TotalConfirmed': 9508,\n",
       "  'NewDeaths': 0,\n",
       "  'TotalDeaths': 315,\n",
       "  'NewRecovered': 0,\n",
       "  'TotalRecovered': 0,\n",
       "  'Date': '2023-04-07T22:10:24.595Z',\n",
       "  'Premium': {}},\n",
       " {'ID': '27c40206-48bf-4231-8789-3525925cc738',\n",
       "  'Country': 'Nigeria',\n",
       "  'CountryCode': 'NG',\n",
       "  'Slug': 'nigeria',\n",
       "  'NewConfirmed': 0,\n",
       "  'TotalConfirmed': 266598,\n",
       "  'NewDeaths': 0,\n",
       "  'TotalDeaths': 3155,\n",
       "  'NewRecovered': 0,\n",
       "  'TotalRecovered': 0,\n",
       "  'Date': '2023-04-07T22:10:24.595Z',\n",
       "  'Premium': {}},\n",
       " {'ID': 'fa090f5a-41d1-44a7-a057-81d13d6a4cd1',\n",
       "  'Country': 'Norway',\n",
       "  'CountryCode': 'NO',\n",
       "  'Slug': 'norway',\n",
       "  'NewConfirmed': 53,\n",
       "  'TotalConfirmed': 1479506,\n",
       "  'NewDeaths': 0,\n",
       "  'TotalDeaths': 5213,\n",
       "  'NewRecovered': 0,\n",
       "  'TotalRecovered': 0,\n",
       "  'Date': '2023-04-07T22:10:24.595Z',\n",
       "  'Premium': {}},\n",
       " {'ID': '29512440-e9a5-447f-876c-76bf87011602',\n",
       "  'Country': 'Oman',\n",
       "  'CountryCode': 'OM',\n",
       "  'Slug': 'oman',\n",
       "  'NewConfirmed': 0,\n",
       "  'TotalConfirmed': 399449,\n",
       "  'NewDeaths': 0,\n",
       "  'TotalDeaths': 4628,\n",
       "  'NewRecovered': 0,\n",
       "  'TotalRecovered': 0,\n",
       "  'Date': '2023-04-07T22:10:24.595Z',\n",
       "  'Premium': {}},\n",
       " {'ID': 'fad6e58e-2054-4723-90f4-214414ad2e8f',\n",
       "  'Country': 'Pakistan',\n",
       "  'CountryCode': 'PK',\n",
       "  'Slug': 'pakistan',\n",
       "  'NewConfirmed': 73,\n",
       "  'TotalConfirmed': 1577411,\n",
       "  'NewDeaths': 0,\n",
       "  'TotalDeaths': 30644,\n",
       "  'NewRecovered': 0,\n",
       "  'TotalRecovered': 0,\n",
       "  'Date': '2023-04-07T22:10:24.595Z',\n",
       "  'Premium': {}},\n",
       " {'ID': '033a0109-416a-4365-987a-9e65638c0580',\n",
       "  'Country': 'Palau',\n",
       "  'CountryCode': 'PW',\n",
       "  'Slug': 'palau',\n",
       "  'NewConfirmed': 0,\n",
       "  'TotalConfirmed': 5991,\n",
       "  'NewDeaths': 0,\n",
       "  'TotalDeaths': 9,\n",
       "  'NewRecovered': 0,\n",
       "  'TotalRecovered': 0,\n",
       "  'Date': '2023-04-07T22:10:24.595Z',\n",
       "  'Premium': {}},\n",
       " {'ID': 'b2171a93-a693-4dfc-82dd-8c282fa27cab',\n",
       "  'Country': 'Palestinian Territory',\n",
       "  'CountryCode': 'PS',\n",
       "  'Slug': 'palestine',\n",
       "  'NewConfirmed': 0,\n",
       "  'TotalConfirmed': 703228,\n",
       "  'NewDeaths': 0,\n",
       "  'TotalDeaths': 5708,\n",
       "  'NewRecovered': 0,\n",
       "  'TotalRecovered': 0,\n",
       "  'Date': '2023-04-07T22:10:24.595Z',\n",
       "  'Premium': {}},\n",
       " {'ID': 'fec86e38-6f5c-4db1-8340-95c1c8de6559',\n",
       "  'Country': 'Panama',\n",
       "  'CountryCode': 'PA',\n",
       "  'Slug': 'panama',\n",
       "  'NewConfirmed': 0,\n",
       "  'TotalConfirmed': 1031731,\n",
       "  'NewDeaths': 0,\n",
       "  'TotalDeaths': 8609,\n",
       "  'NewRecovered': 0,\n",
       "  'TotalRecovered': 0,\n",
       "  'Date': '2023-04-07T22:10:24.595Z',\n",
       "  'Premium': {}},\n",
       " {'ID': '2b9d922a-5dd1-427c-a6c8-427e58689cb1',\n",
       "  'Country': 'Papua New Guinea',\n",
       "  'CountryCode': 'PG',\n",
       "  'Slug': 'papua-new-guinea',\n",
       "  'NewConfirmed': 0,\n",
       "  'TotalConfirmed': 46825,\n",
       "  'NewDeaths': 0,\n",
       "  'TotalDeaths': 670,\n",
       "  'NewRecovered': 0,\n",
       "  'TotalRecovered': 0,\n",
       "  'Date': '2023-04-07T22:10:24.595Z',\n",
       "  'Premium': {}},\n",
       " {'ID': 'b6e08fc5-7350-419c-b2ea-2b18f4b0dd9b',\n",
       "  'Country': 'Paraguay',\n",
       "  'CountryCode': 'PY',\n",
       "  'Slug': 'paraguay',\n",
       "  'NewConfirmed': 0,\n",
       "  'TotalConfirmed': 808401,\n",
       "  'NewDeaths': 0,\n",
       "  'TotalDeaths': 19878,\n",
       "  'NewRecovered': 0,\n",
       "  'TotalRecovered': 0,\n",
       "  'Date': '2023-04-07T22:10:24.595Z',\n",
       "  'Premium': {}},\n",
       " {'ID': 'ebdb39a5-ebfc-4d06-ada5-39a3f61db426',\n",
       "  'Country': 'Peru',\n",
       "  'CountryCode': 'PE',\n",
       "  'Slug': 'peru',\n",
       "  'NewConfirmed': 0,\n",
       "  'TotalConfirmed': 4487553,\n",
       "  'NewDeaths': 0,\n",
       "  'TotalDeaths': 219539,\n",
       "  'NewRecovered': 0,\n",
       "  'TotalRecovered': 0,\n",
       "  'Date': '2023-04-07T22:10:24.595Z',\n",
       "  'Premium': {}},\n",
       " {'ID': '4678a083-83fa-4cab-9cde-b2264cac9853',\n",
       "  'Country': 'Philippines',\n",
       "  'CountryCode': 'PH',\n",
       "  'Slug': 'philippines',\n",
       "  'NewConfirmed': 150,\n",
       "  'TotalConfirmed': 4077452,\n",
       "  'NewDeaths': 12,\n",
       "  'TotalDeaths': 66188,\n",
       "  'NewRecovered': 0,\n",
       "  'TotalRecovered': 0,\n",
       "  'Date': '2023-04-07T22:10:24.595Z',\n",
       "  'Premium': {}},\n",
       " {'ID': '3e1e0b69-83b9-4720-a1d5-6fd4c740c8d6',\n",
       "  'Country': 'Poland',\n",
       "  'CountryCode': 'PL',\n",
       "  'Slug': 'poland',\n",
       "  'NewConfirmed': 3459,\n",
       "  'TotalConfirmed': 6444960,\n",
       "  'NewDeaths': 21,\n",
       "  'TotalDeaths': 119010,\n",
       "  'NewRecovered': 0,\n",
       "  'TotalRecovered': 0,\n",
       "  'Date': '2023-04-07T22:10:24.595Z',\n",
       "  'Premium': {}},\n",
       " {'ID': '85f15011-1701-49e7-8214-14ab61c78dd0',\n",
       "  'Country': 'Portugal',\n",
       "  'CountryCode': 'PT',\n",
       "  'Slug': 'portugal',\n",
       "  'NewConfirmed': 0,\n",
       "  'TotalConfirmed': 5570473,\n",
       "  'NewDeaths': 0,\n",
       "  'TotalDeaths': 26266,\n",
       "  'NewRecovered': 0,\n",
       "  'TotalRecovered': 0,\n",
       "  'Date': '2023-04-07T22:10:24.595Z',\n",
       "  'Premium': {}},\n",
       " {'ID': 'b1b71745-d568-411a-bce8-e37e245be46d',\n",
       "  'Country': 'Qatar',\n",
       "  'CountryCode': 'QA',\n",
       "  'Slug': 'qatar',\n",
       "  'NewConfirmed': 108,\n",
       "  'TotalConfirmed': 495090,\n",
       "  'NewDeaths': 0,\n",
       "  'TotalDeaths': 688,\n",
       "  'NewRecovered': 0,\n",
       "  'TotalRecovered': 0,\n",
       "  'Date': '2023-04-07T22:10:24.595Z',\n",
       "  'Premium': {}},\n",
       " {'ID': '0667960b-8a5f-4639-93b3-908c2c47d878',\n",
       "  'Country': 'Republic of Kosovo',\n",
       "  'CountryCode': 'XK',\n",
       "  'Slug': 'kosovo',\n",
       "  'NewConfirmed': 21,\n",
       "  'TotalConfirmed': 273312,\n",
       "  'NewDeaths': 0,\n",
       "  'TotalDeaths': 3211,\n",
       "  'NewRecovered': 0,\n",
       "  'TotalRecovered': 0,\n",
       "  'Date': '2023-04-07T22:10:24.595Z',\n",
       "  'Premium': {}},\n",
       " {'ID': '3b77c106-07cd-4341-bfa4-e4a32a064119',\n",
       "  'Country': 'Romania',\n",
       "  'CountryCode': 'RO',\n",
       "  'Slug': 'romania',\n",
       "  'NewConfirmed': 0,\n",
       "  'TotalConfirmed': 3346046,\n",
       "  'NewDeaths': 0,\n",
       "  'TotalDeaths': 67736,\n",
       "  'NewRecovered': 0,\n",
       "  'TotalRecovered': 0,\n",
       "  'Date': '2023-04-07T22:10:24.595Z',\n",
       "  'Premium': {}},\n",
       " {'ID': 'b0189046-54f3-401e-841d-a3ac7796ba35',\n",
       "  'Country': 'Russian Federation',\n",
       "  'CountryCode': 'RU',\n",
       "  'Slug': 'russia',\n",
       "  'NewConfirmed': 12385,\n",
       "  'TotalConfirmed': 22075858,\n",
       "  'NewDeaths': 38,\n",
       "  'TotalDeaths': 388478,\n",
       "  'NewRecovered': 0,\n",
       "  'TotalRecovered': 0,\n",
       "  'Date': '2023-04-07T22:10:24.595Z',\n",
       "  'Premium': {}},\n",
       " {'ID': 'd9cbc64b-46ab-411e-a658-bb0e293322d2',\n",
       "  'Country': 'Rwanda',\n",
       "  'CountryCode': 'RW',\n",
       "  'Slug': 'rwanda',\n",
       "  'NewConfirmed': 0,\n",
       "  'TotalConfirmed': 133194,\n",
       "  'NewDeaths': 0,\n",
       "  'TotalDeaths': 1468,\n",
       "  'NewRecovered': 0,\n",
       "  'TotalRecovered': 0,\n",
       "  'Date': '2023-04-07T22:10:24.595Z',\n",
       "  'Premium': {}},\n",
       " {'ID': '2b8a4968-5da1-48aa-b12e-913d2f1ff3ca',\n",
       "  'Country': 'Saint Kitts and Nevis',\n",
       "  'CountryCode': 'KN',\n",
       "  'Slug': 'saint-kitts-and-nevis',\n",
       "  'NewConfirmed': 0,\n",
       "  'TotalConfirmed': 6597,\n",
       "  'NewDeaths': 0,\n",
       "  'TotalDeaths': 47,\n",
       "  'NewRecovered': 0,\n",
       "  'TotalRecovered': 0,\n",
       "  'Date': '2023-04-07T22:10:24.595Z',\n",
       "  'Premium': {}},\n",
       " {'ID': '80e8c044-be0d-4c4f-a6a2-76fd8898f062',\n",
       "  'Country': 'Saint Lucia',\n",
       "  'CountryCode': 'LC',\n",
       "  'Slug': 'saint-lucia',\n",
       "  'NewConfirmed': 0,\n",
       "  'TotalConfirmed': 30004,\n",
       "  'NewDeaths': 0,\n",
       "  'TotalDeaths': 409,\n",
       "  'NewRecovered': 0,\n",
       "  'TotalRecovered': 0,\n",
       "  'Date': '2023-04-07T22:10:24.595Z',\n",
       "  'Premium': {}},\n",
       " {'ID': '337a8d44-9d4a-4849-9287-aeec865a76ac',\n",
       "  'Country': 'Saint Vincent and Grenadines',\n",
       "  'CountryCode': 'VC',\n",
       "  'Slug': 'saint-vincent-and-the-grenadines',\n",
       "  'NewConfirmed': 0,\n",
       "  'TotalConfirmed': 9589,\n",
       "  'NewDeaths': 0,\n",
       "  'TotalDeaths': 123,\n",
       "  'NewRecovered': 0,\n",
       "  'TotalRecovered': 0,\n",
       "  'Date': '2023-04-07T22:10:24.595Z',\n",
       "  'Premium': {}},\n",
       " {'ID': '5e8249ae-38cf-4236-afd1-861b89177f9d',\n",
       "  'Country': 'Samoa',\n",
       "  'CountryCode': 'WS',\n",
       "  'Slug': 'samoa',\n",
       "  'NewConfirmed': 0,\n",
       "  'TotalConfirmed': 16607,\n",
       "  'NewDeaths': 0,\n",
       "  'TotalDeaths': 29,\n",
       "  'NewRecovered': 0,\n",
       "  'TotalRecovered': 0,\n",
       "  'Date': '2023-04-07T22:10:24.595Z',\n",
       "  'Premium': {}},\n",
       " {'ID': '36c9f3fa-3040-48a5-ae61-60e53ba0e936',\n",
       "  'Country': 'San Marino',\n",
       "  'CountryCode': 'SM',\n",
       "  'Slug': 'san-marino',\n",
       "  'NewConfirmed': 0,\n",
       "  'TotalConfirmed': 23616,\n",
       "  'NewDeaths': 0,\n",
       "  'TotalDeaths': 122,\n",
       "  'NewRecovered': 0,\n",
       "  'TotalRecovered': 0,\n",
       "  'Date': '2023-04-07T22:10:24.595Z',\n",
       "  'Premium': {}},\n",
       " {'ID': 'adaa696b-3807-4d15-ab3e-a4510c7873de',\n",
       "  'Country': 'Sao Tome and Principe',\n",
       "  'CountryCode': 'ST',\n",
       "  'Slug': 'sao-tome-and-principe',\n",
       "  'NewConfirmed': 0,\n",
       "  'TotalConfirmed': 6281,\n",
       "  'NewDeaths': 0,\n",
       "  'TotalDeaths': 77,\n",
       "  'NewRecovered': 0,\n",
       "  'TotalRecovered': 0,\n",
       "  'Date': '2023-04-07T22:10:24.595Z',\n",
       "  'Premium': {}},\n",
       " {'ID': '19608a43-7774-43a1-87b6-8a60e8aa52c3',\n",
       "  'Country': 'Saudi Arabia',\n",
       "  'CountryCode': 'SA',\n",
       "  'Slug': 'saudi-arabia',\n",
       "  'NewConfirmed': 83,\n",
       "  'TotalConfirmed': 830127,\n",
       "  'NewDeaths': 0,\n",
       "  'TotalDeaths': 9618,\n",
       "  'NewRecovered': 0,\n",
       "  'TotalRecovered': 0,\n",
       "  'Date': '2023-04-07T22:10:24.595Z',\n",
       "  'Premium': {}},\n",
       " {'ID': '792bf886-0772-43e2-96d1-df33a4452aad',\n",
       "  'Country': 'Senegal',\n",
       "  'CountryCode': 'SN',\n",
       "  'Slug': 'senegal',\n",
       "  'NewConfirmed': 0,\n",
       "  'TotalConfirmed': 88926,\n",
       "  'NewDeaths': 0,\n",
       "  'TotalDeaths': 1971,\n",
       "  'NewRecovered': 0,\n",
       "  'TotalRecovered': 0,\n",
       "  'Date': '2023-04-07T22:10:24.595Z',\n",
       "  'Premium': {}},\n",
       " {'ID': '2277d387-88e7-43dd-93f6-4da6c34a8449',\n",
       "  'Country': 'Serbia',\n",
       "  'CountryCode': 'RS',\n",
       "  'Slug': 'serbia',\n",
       "  'NewConfirmed': 873,\n",
       "  'TotalConfirmed': 2500142,\n",
       "  'NewDeaths': 6,\n",
       "  'TotalDeaths': 17881,\n",
       "  'NewRecovered': 0,\n",
       "  'TotalRecovered': 0,\n",
       "  'Date': '2023-04-07T22:10:24.595Z',\n",
       "  'Premium': {}},\n",
       " {'ID': '03b2a4b8-f722-4f45-ab10-ce1fbe82ebd1',\n",
       "  'Country': 'Seychelles',\n",
       "  'CountryCode': 'SC',\n",
       "  'Slug': 'seychelles',\n",
       "  'NewConfirmed': 0,\n",
       "  'TotalConfirmed': 50665,\n",
       "  'NewDeaths': 0,\n",
       "  'TotalDeaths': 172,\n",
       "  'NewRecovered': 0,\n",
       "  'TotalRecovered': 0,\n",
       "  'Date': '2023-04-07T22:10:24.595Z',\n",
       "  'Premium': {}},\n",
       " {'ID': 'ee0b19c1-ca31-4cb2-8bde-b5e3138cfd9f',\n",
       "  'Country': 'Sierra Leone',\n",
       "  'CountryCode': 'SL',\n",
       "  'Slug': 'sierra-leone',\n",
       "  'NewConfirmed': 0,\n",
       "  'TotalConfirmed': 7760,\n",
       "  'NewDeaths': 0,\n",
       "  'TotalDeaths': 126,\n",
       "  'NewRecovered': 0,\n",
       "  'TotalRecovered': 0,\n",
       "  'Date': '2023-04-07T22:10:24.595Z',\n",
       "  'Premium': {}},\n",
       " {'ID': '398783ef-1bda-4730-bd75-10ce52b316e3',\n",
       "  'Country': 'Singapore',\n",
       "  'CountryCode': 'SG',\n",
       "  'Slug': 'singapore',\n",
       "  'NewConfirmed': 0,\n",
       "  'TotalConfirmed': 2235294,\n",
       "  'NewDeaths': 0,\n",
       "  'TotalDeaths': 1722,\n",
       "  'NewRecovered': 0,\n",
       "  'TotalRecovered': 0,\n",
       "  'Date': '2023-04-07T22:10:24.595Z',\n",
       "  'Premium': {}},\n",
       " {'ID': 'ca6d150b-553a-4807-850d-aba4c0d5d1fb',\n",
       "  'Country': 'Slovakia',\n",
       "  'CountryCode': 'SK',\n",
       "  'Slug': 'slovakia',\n",
       "  'NewConfirmed': 262,\n",
       "  'TotalConfirmed': 2667551,\n",
       "  'NewDeaths': 2,\n",
       "  'TotalDeaths': 21035,\n",
       "  'NewRecovered': 0,\n",
       "  'TotalRecovered': 0,\n",
       "  'Date': '2023-04-07T22:10:24.595Z',\n",
       "  'Premium': {}},\n",
       " {'ID': '353d3caf-0e30-48f1-b3d1-05787af539ec',\n",
       "  'Country': 'Slovenia',\n",
       "  'CountryCode': 'SI',\n",
       "  'Slug': 'slovenia',\n",
       "  'NewConfirmed': 511,\n",
       "  'TotalConfirmed': 1331707,\n",
       "  'NewDeaths': 1,\n",
       "  'TotalDeaths': 7078,\n",
       "  'NewRecovered': 0,\n",
       "  'TotalRecovered': 0,\n",
       "  'Date': '2023-04-07T22:10:24.595Z',\n",
       "  'Premium': {}},\n",
       " {'ID': 'd2b01117-c6be-4b36-b452-22bb7b056b8c',\n",
       "  'Country': 'Solomon Islands',\n",
       "  'CountryCode': 'SB',\n",
       "  'Slug': 'solomon-islands',\n",
       "  'NewConfirmed': 0,\n",
       "  'TotalConfirmed': 24575,\n",
       "  'NewDeaths': 0,\n",
       "  'TotalDeaths': 153,\n",
       "  'NewRecovered': 0,\n",
       "  'TotalRecovered': 0,\n",
       "  'Date': '2023-04-07T22:10:24.595Z',\n",
       "  'Premium': {}},\n",
       " {'ID': 'a498a3f0-d41e-472a-ad6d-237a829de538',\n",
       "  'Country': 'Somalia',\n",
       "  'CountryCode': 'SO',\n",
       "  'Slug': 'somalia',\n",
       "  'NewConfirmed': 0,\n",
       "  'TotalConfirmed': 27324,\n",
       "  'NewDeaths': 0,\n",
       "  'TotalDeaths': 1361,\n",
       "  'NewRecovered': 0,\n",
       "  'TotalRecovered': 0,\n",
       "  'Date': '2023-04-07T22:10:24.595Z',\n",
       "  'Premium': {}},\n",
       " {'ID': 'd91fd0e7-621c-4316-8c8e-27b581260f46',\n",
       "  'Country': 'South Africa',\n",
       "  'CountryCode': 'ZA',\n",
       "  'Slug': 'south-africa',\n",
       "  'NewConfirmed': 426,\n",
       "  'TotalConfirmed': 4067067,\n",
       "  'NewDeaths': 0,\n",
       "  'TotalDeaths': 102595,\n",
       "  'NewRecovered': 0,\n",
       "  'TotalRecovered': 0,\n",
       "  'Date': '2023-04-07T22:10:24.595Z',\n",
       "  'Premium': {}},\n",
       " {'ID': '064461d2-f2f8-4410-b7b1-ddd671af6f3f',\n",
       "  'Country': 'South Sudan',\n",
       "  'CountryCode': 'SS',\n",
       "  'Slug': 'south-sudan',\n",
       "  'NewConfirmed': 0,\n",
       "  'TotalConfirmed': 18368,\n",
       "  'NewDeaths': 0,\n",
       "  'TotalDeaths': 138,\n",
       "  'NewRecovered': 0,\n",
       "  'TotalRecovered': 0,\n",
       "  'Date': '2023-04-07T22:10:24.595Z',\n",
       "  'Premium': {}},\n",
       " {'ID': 'f768c127-bbf0-4973-91f5-6aa74a47cab2',\n",
       "  'Country': 'Spain',\n",
       "  'CountryCode': 'ES',\n",
       "  'Slug': 'spain',\n",
       "  'NewConfirmed': 0,\n",
       "  'TotalConfirmed': 13770429,\n",
       "  'NewDeaths': 0,\n",
       "  'TotalDeaths': 119479,\n",
       "  'NewRecovered': 0,\n",
       "  'TotalRecovered': 0,\n",
       "  'Date': '2023-04-07T22:10:24.595Z',\n",
       "  'Premium': {}},\n",
       " {'ID': '934d95e1-b4b7-478c-870b-cdb6a3840563',\n",
       "  'Country': 'Sri Lanka',\n",
       "  'CountryCode': 'LK',\n",
       "  'Slug': 'sri-lanka',\n",
       "  'NewConfirmed': 2,\n",
       "  'TotalConfirmed': 672039,\n",
       "  'NewDeaths': 0,\n",
       "  'TotalDeaths': 16830,\n",
       "  'NewRecovered': 0,\n",
       "  'TotalRecovered': 0,\n",
       "  'Date': '2023-04-07T22:10:24.595Z',\n",
       "  'Premium': {}},\n",
       " {'ID': 'a363118b-c727-46e1-86ce-cd3691d41baf',\n",
       "  'Country': 'Sudan',\n",
       "  'CountryCode': 'SD',\n",
       "  'Slug': 'sudan',\n",
       "  'NewConfirmed': 0,\n",
       "  'TotalConfirmed': 63829,\n",
       "  'NewDeaths': 0,\n",
       "  'TotalDeaths': 5017,\n",
       "  'NewRecovered': 0,\n",
       "  'TotalRecovered': 0,\n",
       "  'Date': '2023-04-07T22:10:24.595Z',\n",
       "  'Premium': {}},\n",
       " {'ID': '31eaa140-bfc8-4e86-a48a-e895fa1fa095',\n",
       "  'Country': 'Suriname',\n",
       "  'CountryCode': 'SR',\n",
       "  'Slug': 'suriname',\n",
       "  'NewConfirmed': 0,\n",
       "  'TotalConfirmed': 82467,\n",
       "  'NewDeaths': 0,\n",
       "  'TotalDeaths': 1404,\n",
       "  'NewRecovered': 0,\n",
       "  'TotalRecovered': 0,\n",
       "  'Date': '2023-04-07T22:10:24.595Z',\n",
       "  'Premium': {}},\n",
       " {'ID': '36f764d1-f6f7-4203-b870-bb66c48b6004',\n",
       "  'Country': 'Swaziland',\n",
       "  'CountryCode': 'SZ',\n",
       "  'Slug': 'swaziland',\n",
       "  'NewConfirmed': 0,\n",
       "  'TotalConfirmed': 74267,\n",
       "  'NewDeaths': 0,\n",
       "  'TotalDeaths': 1425,\n",
       "  'NewRecovered': 0,\n",
       "  'TotalRecovered': 0,\n",
       "  'Date': '2023-04-07T22:10:24.595Z',\n",
       "  'Premium': {}},\n",
       " {'ID': '3800fb77-62ce-49d8-b57f-17f2553c78d9',\n",
       "  'Country': 'Sweden',\n",
       "  'CountryCode': 'SE',\n",
       "  'Slug': 'sweden',\n",
       "  'NewConfirmed': 804,\n",
       "  'TotalConfirmed': 2699339,\n",
       "  'NewDeaths': 46,\n",
       "  'TotalDeaths': 23777,\n",
       "  'NewRecovered': 0,\n",
       "  'TotalRecovered': 0,\n",
       "  'Date': '2023-04-07T22:10:24.595Z',\n",
       "  'Premium': {}},\n",
       " {'ID': 'd8fc966e-0d56-408d-bd7b-ed1706cbcb5e',\n",
       "  'Country': 'Switzerland',\n",
       "  'CountryCode': 'CH',\n",
       "  'Slug': 'switzerland',\n",
       "  'NewConfirmed': 0,\n",
       "  'TotalConfirmed': 4413911,\n",
       "  'NewDeaths': 1,\n",
       "  'TotalDeaths': 14210,\n",
       "  'NewRecovered': 0,\n",
       "  'TotalRecovered': 0,\n",
       "  'Date': '2023-04-07T22:10:24.595Z',\n",
       "  'Premium': {}},\n",
       " {'ID': '335df111-335c-4edf-9f04-c121b7aa416e',\n",
       "  'Country': 'Syrian Arab Republic (Syria)',\n",
       "  'CountryCode': 'SY',\n",
       "  'Slug': 'syria',\n",
       "  'NewConfirmed': 0,\n",
       "  'TotalConfirmed': 57467,\n",
       "  'NewDeaths': 0,\n",
       "  'TotalDeaths': 3164,\n",
       "  'NewRecovered': 0,\n",
       "  'TotalRecovered': 0,\n",
       "  'Date': '2023-04-07T22:10:24.595Z',\n",
       "  'Premium': {}},\n",
       " {'ID': 'cfe1a2f2-2aa2-4749-a167-5fb8e59e5d0f',\n",
       "  'Country': 'Taiwan, Republic of China',\n",
       "  'CountryCode': 'TW',\n",
       "  'Slug': 'taiwan',\n",
       "  'NewConfirmed': 0,\n",
       "  'TotalConfirmed': 9970937,\n",
       "  'NewDeaths': 0,\n",
       "  'TotalDeaths': 17672,\n",
       "  'NewRecovered': 0,\n",
       "  'TotalRecovered': 0,\n",
       "  'Date': '2023-04-07T22:10:24.595Z',\n",
       "  'Premium': {}},\n",
       " {'ID': '46615329-b28e-4b8d-854d-609595a58a4d',\n",
       "  'Country': 'Tajikistan',\n",
       "  'CountryCode': 'TJ',\n",
       "  'Slug': 'tajikistan',\n",
       "  'NewConfirmed': 0,\n",
       "  'TotalConfirmed': 17786,\n",
       "  'NewDeaths': 0,\n",
       "  'TotalDeaths': 125,\n",
       "  'NewRecovered': 0,\n",
       "  'TotalRecovered': 0,\n",
       "  'Date': '2023-04-07T22:10:24.595Z',\n",
       "  'Premium': {}},\n",
       " {'ID': '35fa9c96-f018-4861-b12b-498940d7469c',\n",
       "  'Country': 'Tanzania, United Republic of',\n",
       "  'CountryCode': 'TZ',\n",
       "  'Slug': 'tanzania',\n",
       "  'NewConfirmed': 0,\n",
       "  'TotalConfirmed': 42906,\n",
       "  'NewDeaths': 0,\n",
       "  'TotalDeaths': 846,\n",
       "  'NewRecovered': 0,\n",
       "  'TotalRecovered': 0,\n",
       "  'Date': '2023-04-07T22:10:24.595Z',\n",
       "  'Premium': {}},\n",
       " {'ID': '215473be-d1a0-4a60-ae99-a0f1bbf6dc34',\n",
       "  'Country': 'Thailand',\n",
       "  'CountryCode': 'TH',\n",
       "  'Slug': 'thailand',\n",
       "  'NewConfirmed': 0,\n",
       "  'TotalConfirmed': 4728182,\n",
       "  'NewDeaths': 0,\n",
       "  'TotalDeaths': 33918,\n",
       "  'NewRecovered': 0,\n",
       "  'TotalRecovered': 0,\n",
       "  'Date': '2023-04-07T22:10:24.595Z',\n",
       "  'Premium': {}},\n",
       " {'ID': '6261a121-cb44-4c4e-9030-6f8e0af170e1',\n",
       "  'Country': 'Timor-Leste',\n",
       "  'CountryCode': 'TL',\n",
       "  'Slug': 'timor-leste',\n",
       "  'NewConfirmed': 0,\n",
       "  'TotalConfirmed': 23419,\n",
       "  'NewDeaths': 0,\n",
       "  'TotalDeaths': 138,\n",
       "  'NewRecovered': 0,\n",
       "  'TotalRecovered': 0,\n",
       "  'Date': '2023-04-07T22:10:24.595Z',\n",
       "  'Premium': {}},\n",
       " {'ID': 'bef04d7c-2901-4b10-b767-cbabe190987f',\n",
       "  'Country': 'Togo',\n",
       "  'CountryCode': 'TG',\n",
       "  'Slug': 'togo',\n",
       "  'NewConfirmed': 0,\n",
       "  'TotalConfirmed': 39396,\n",
       "  'NewDeaths': 0,\n",
       "  'TotalDeaths': 290,\n",
       "  'NewRecovered': 0,\n",
       "  'TotalRecovered': 0,\n",
       "  'Date': '2023-04-07T22:10:24.595Z',\n",
       "  'Premium': {}},\n",
       " {'ID': '1885d187-1335-4122-af4f-105518444541',\n",
       "  'Country': 'Tonga',\n",
       "  'CountryCode': 'TO',\n",
       "  'Slug': 'tonga',\n",
       "  'NewConfirmed': 0,\n",
       "  'TotalConfirmed': 16810,\n",
       "  'NewDeaths': 0,\n",
       "  'TotalDeaths': 13,\n",
       "  'NewRecovered': 0,\n",
       "  'TotalRecovered': 0,\n",
       "  'Date': '2023-04-07T22:10:24.595Z',\n",
       "  'Premium': {}},\n",
       " {'ID': 'b46cf3c5-622c-4cd2-ac20-8034c8cc60c9',\n",
       "  'Country': 'Trinidad and Tobago',\n",
       "  'CountryCode': 'TT',\n",
       "  'Slug': 'trinidad-and-tobago',\n",
       "  'NewConfirmed': 0,\n",
       "  'TotalConfirmed': 189918,\n",
       "  'NewDeaths': 0,\n",
       "  'TotalDeaths': 4355,\n",
       "  'NewRecovered': 0,\n",
       "  'TotalRecovered': 0,\n",
       "  'Date': '2023-04-07T22:10:24.595Z',\n",
       "  'Premium': {}},\n",
       " {'ID': 'da850d10-bf01-457c-8ead-2a720fd6929a',\n",
       "  'Country': 'Tunisia',\n",
       "  'CountryCode': 'TN',\n",
       "  'Slug': 'tunisia',\n",
       "  'NewConfirmed': 0,\n",
       "  'TotalConfirmed': 1151126,\n",
       "  'NewDeaths': 0,\n",
       "  'TotalDeaths': 29341,\n",
       "  'NewRecovered': 0,\n",
       "  'TotalRecovered': 0,\n",
       "  'Date': '2023-04-07T22:10:24.595Z',\n",
       "  'Premium': {}},\n",
       " {'ID': '7ffeb4ab-b1fd-49a5-914c-82150a0229dd',\n",
       "  'Country': 'Turkey',\n",
       "  'CountryCode': 'TR',\n",
       "  'Slug': 'turkey',\n",
       "  'NewConfirmed': 0,\n",
       "  'TotalConfirmed': 17042722,\n",
       "  'NewDeaths': 0,\n",
       "  'TotalDeaths': 101492,\n",
       "  'NewRecovered': 0,\n",
       "  'TotalRecovered': 0,\n",
       "  'Date': '2023-04-07T22:10:24.595Z',\n",
       "  'Premium': {}},\n",
       " {'ID': 'e6000acf-285b-461b-a83f-6a2531fef9f1',\n",
       "  'Country': 'Tuvalu',\n",
       "  'CountryCode': 'TV',\n",
       "  'Slug': 'tuvalu',\n",
       "  'NewConfirmed': 0,\n",
       "  'TotalConfirmed': 2805,\n",
       "  'NewDeaths': 0,\n",
       "  'TotalDeaths': 0,\n",
       "  'NewRecovered': 0,\n",
       "  'TotalRecovered': 0,\n",
       "  'Date': '2023-04-07T22:10:24.595Z',\n",
       "  'Premium': {}},\n",
       " {'ID': '2b88c270-adef-41b5-9218-161703032f74',\n",
       "  'Country': 'Uganda',\n",
       "  'CountryCode': 'UG',\n",
       "  'Slug': 'uganda',\n",
       "  'NewConfirmed': 0,\n",
       "  'TotalConfirmed': 170544,\n",
       "  'NewDeaths': 0,\n",
       "  'TotalDeaths': 3630,\n",
       "  'NewRecovered': 0,\n",
       "  'TotalRecovered': 0,\n",
       "  'Date': '2023-04-07T22:10:24.595Z',\n",
       "  'Premium': {}},\n",
       " {'ID': '86182b55-cf95-4657-a198-c78f207782c7',\n",
       "  'Country': 'Ukraine',\n",
       "  'CountryCode': 'UA',\n",
       "  'Slug': 'ukraine',\n",
       "  'NewConfirmed': 111,\n",
       "  'TotalConfirmed': 5711929,\n",
       "  'NewDeaths': 2,\n",
       "  'TotalDeaths': 119283,\n",
       "  'NewRecovered': 0,\n",
       "  'TotalRecovered': 0,\n",
       "  'Date': '2023-04-07T22:10:24.595Z',\n",
       "  'Premium': {}},\n",
       " {'ID': '7c87ec8f-db38-4acf-a6a5-4a1e13610b70',\n",
       "  'Country': 'United Arab Emirates',\n",
       "  'CountryCode': 'AE',\n",
       "  'Slug': 'united-arab-emirates',\n",
       "  'NewConfirmed': 145,\n",
       "  'TotalConfirmed': 1053213,\n",
       "  'NewDeaths': 0,\n",
       "  'TotalDeaths': 2349,\n",
       "  'NewRecovered': 0,\n",
       "  'TotalRecovered': 0,\n",
       "  'Date': '2023-04-07T22:10:24.595Z',\n",
       "  'Premium': {}},\n",
       " {'ID': '8e813bc3-30e1-4550-8faf-b70430ed656a',\n",
       "  'Country': 'United Kingdom',\n",
       "  'CountryCode': 'GB',\n",
       "  'Slug': 'united-kingdom',\n",
       "  'NewConfirmed': 28783,\n",
       "  'TotalConfirmed': 24658705,\n",
       "  'NewDeaths': 0,\n",
       "  'TotalDeaths': 220721,\n",
       "  'NewRecovered': 0,\n",
       "  'TotalRecovered': 0,\n",
       "  'Date': '2023-04-07T22:10:24.595Z',\n",
       "  'Premium': {}},\n",
       " {'ID': 'a258e5b7-41f4-427f-b988-8a974ce6c805',\n",
       "  'Country': 'United States of America',\n",
       "  'CountryCode': 'US',\n",
       "  'Slug': 'united-states',\n",
       "  'NewConfirmed': 46931,\n",
       "  'TotalConfirmed': 103802702,\n",
       "  'NewDeaths': 590,\n",
       "  'TotalDeaths': 1123836,\n",
       "  'NewRecovered': 0,\n",
       "  'TotalRecovered': 0,\n",
       "  'Date': '2023-04-07T22:10:24.595Z',\n",
       "  'Premium': {}},\n",
       " {'ID': 'ab2df05c-0e81-428a-aae0-c2faf4c920b7',\n",
       "  'Country': 'Uruguay',\n",
       "  'CountryCode': 'UY',\n",
       "  'Slug': 'uruguay',\n",
       "  'NewConfirmed': 0,\n",
       "  'TotalConfirmed': 1034303,\n",
       "  'NewDeaths': 0,\n",
       "  'TotalDeaths': 7617,\n",
       "  'NewRecovered': 0,\n",
       "  'TotalRecovered': 0,\n",
       "  'Date': '2023-04-07T22:10:24.595Z',\n",
       "  'Premium': {}},\n",
       " {'ID': '13bf65b2-b279-424e-bf3c-5c2075ae9e90',\n",
       "  'Country': 'Uzbekistan',\n",
       "  'CountryCode': 'UZ',\n",
       "  'Slug': 'uzbekistan',\n",
       "  'NewConfirmed': 0,\n",
       "  'TotalConfirmed': 251247,\n",
       "  'NewDeaths': 0,\n",
       "  'TotalDeaths': 1637,\n",
       "  'NewRecovered': 0,\n",
       "  'TotalRecovered': 0,\n",
       "  'Date': '2023-04-07T22:10:24.595Z',\n",
       "  'Premium': {}},\n",
       " {'ID': '835bd29d-56ee-427f-bd79-8acb05ead443',\n",
       "  'Country': 'Vanuatu',\n",
       "  'CountryCode': 'VU',\n",
       "  'Slug': 'vanuatu',\n",
       "  'NewConfirmed': 0,\n",
       "  'TotalConfirmed': 12014,\n",
       "  'NewDeaths': 0,\n",
       "  'TotalDeaths': 14,\n",
       "  'NewRecovered': 0,\n",
       "  'TotalRecovered': 0,\n",
       "  'Date': '2023-04-07T22:10:24.595Z',\n",
       "  'Premium': {}},\n",
       " {'ID': '37282f48-f2af-4713-8977-d74144e27691',\n",
       "  'Country': 'Venezuela (Bolivarian Republic)',\n",
       "  'CountryCode': 'VE',\n",
       "  'Slug': 'venezuela',\n",
       "  'NewConfirmed': 5,\n",
       "  'TotalConfirmed': 552162,\n",
       "  'NewDeaths': 0,\n",
       "  'TotalDeaths': 5854,\n",
       "  'NewRecovered': 0,\n",
       "  'TotalRecovered': 0,\n",
       "  'Date': '2023-04-07T22:10:24.595Z',\n",
       "  'Premium': {}},\n",
       " {'ID': 'b7d699bb-7c49-42f1-b174-40045e0cf8a8',\n",
       "  'Country': 'Viet Nam',\n",
       "  'CountryCode': 'VN',\n",
       "  'Slug': 'vietnam',\n",
       "  'NewConfirmed': 0,\n",
       "  'TotalConfirmed': 11526994,\n",
       "  'NewDeaths': 0,\n",
       "  'TotalDeaths': 43186,\n",
       "  'NewRecovered': 0,\n",
       "  'TotalRecovered': 0,\n",
       "  'Date': '2023-04-07T22:10:24.595Z',\n",
       "  'Premium': {}},\n",
       " {'ID': 'f956cb5c-81ac-4f84-9a12-3b74a6a75aeb',\n",
       "  'Country': 'Yemen',\n",
       "  'CountryCode': 'YE',\n",
       "  'Slug': 'yemen',\n",
       "  'NewConfirmed': 0,\n",
       "  'TotalConfirmed': 11945,\n",
       "  'NewDeaths': 0,\n",
       "  'TotalDeaths': 2159,\n",
       "  'NewRecovered': 0,\n",
       "  'TotalRecovered': 0,\n",
       "  'Date': '2023-04-07T22:10:24.595Z',\n",
       "  'Premium': {}},\n",
       " {'ID': 'a9df3d02-2c9f-4173-8925-65ebfd7ac636',\n",
       "  'Country': 'Zambia',\n",
       "  'CountryCode': 'ZM',\n",
       "  'Slug': 'zambia',\n",
       "  'NewConfirmed': 0,\n",
       "  'TotalConfirmed': 343135,\n",
       "  'NewDeaths': 0,\n",
       "  'TotalDeaths': 4057,\n",
       "  'NewRecovered': 0,\n",
       "  'TotalRecovered': 0,\n",
       "  'Date': '2023-04-07T22:10:24.595Z',\n",
       "  'Premium': {}},\n",
       " {'ID': 'b65482a8-cbad-490d-b443-28a218baf77d',\n",
       "  'Country': 'Zimbabwe',\n",
       "  'CountryCode': 'ZW',\n",
       "  'Slug': 'zimbabwe',\n",
       "  'NewConfirmed': 0,\n",
       "  'TotalConfirmed': 264276,\n",
       "  'NewDeaths': 0,\n",
       "  'TotalDeaths': 5671,\n",
       "  'NewRecovered': 0,\n",
       "  'TotalRecovered': 0,\n",
       "  'Date': '2023-04-07T22:10:24.595Z',\n",
       "  'Premium': {}}]"
      ]
     },
     "execution_count": 215,
     "metadata": {},
     "output_type": "execute_result"
    }
   ],
   "source": [
    "datos['Countries']"
   ]
  },
  {
   "cell_type": "code",
   "execution_count": 216,
   "metadata": {},
   "outputs": [],
   "source": [
    "df = pd.DataFrame(datos['Countries'])"
   ]
  },
  {
   "cell_type": "code",
   "execution_count": 217,
   "metadata": {},
   "outputs": [
    {
     "data": {
      "text/html": [
       "<div>\n",
       "<style scoped>\n",
       "    .dataframe tbody tr th:only-of-type {\n",
       "        vertical-align: middle;\n",
       "    }\n",
       "\n",
       "    .dataframe tbody tr th {\n",
       "        vertical-align: top;\n",
       "    }\n",
       "\n",
       "    .dataframe thead th {\n",
       "        text-align: right;\n",
       "    }\n",
       "</style>\n",
       "<table border=\"1\" class=\"dataframe\">\n",
       "  <thead>\n",
       "    <tr style=\"text-align: right;\">\n",
       "      <th></th>\n",
       "      <th>ID</th>\n",
       "      <th>Country</th>\n",
       "      <th>CountryCode</th>\n",
       "      <th>Slug</th>\n",
       "      <th>NewConfirmed</th>\n",
       "      <th>TotalConfirmed</th>\n",
       "      <th>NewDeaths</th>\n",
       "      <th>TotalDeaths</th>\n",
       "      <th>NewRecovered</th>\n",
       "      <th>TotalRecovered</th>\n",
       "      <th>Date</th>\n",
       "      <th>Premium</th>\n",
       "    </tr>\n",
       "  </thead>\n",
       "  <tbody>\n",
       "    <tr>\n",
       "      <th>0</th>\n",
       "      <td>783ee315-d62f-4c49-b125-bab5edac9b2e</td>\n",
       "      <td>Afghanistan</td>\n",
       "      <td>AF</td>\n",
       "      <td>afghanistan</td>\n",
       "      <td>0</td>\n",
       "      <td>209451</td>\n",
       "      <td>0</td>\n",
       "      <td>7896</td>\n",
       "      <td>0</td>\n",
       "      <td>0</td>\n",
       "      <td>2023-04-07T22:10:24.595Z</td>\n",
       "      <td>{}</td>\n",
       "    </tr>\n",
       "    <tr>\n",
       "      <th>1</th>\n",
       "      <td>5cdd203d-aa08-48a4-a01e-8080a6437a6b</td>\n",
       "      <td>Albania</td>\n",
       "      <td>AL</td>\n",
       "      <td>albania</td>\n",
       "      <td>14</td>\n",
       "      <td>334457</td>\n",
       "      <td>0</td>\n",
       "      <td>3598</td>\n",
       "      <td>0</td>\n",
       "      <td>0</td>\n",
       "      <td>2023-04-07T22:10:24.595Z</td>\n",
       "      <td>{}</td>\n",
       "    </tr>\n",
       "    <tr>\n",
       "      <th>2</th>\n",
       "      <td>a4ed0ca6-c049-4fc2-b81b-ab508792d141</td>\n",
       "      <td>Algeria</td>\n",
       "      <td>DZ</td>\n",
       "      <td>algeria</td>\n",
       "      <td>2</td>\n",
       "      <td>271496</td>\n",
       "      <td>0</td>\n",
       "      <td>6881</td>\n",
       "      <td>0</td>\n",
       "      <td>0</td>\n",
       "      <td>2023-04-07T22:10:24.595Z</td>\n",
       "      <td>{}</td>\n",
       "    </tr>\n",
       "    <tr>\n",
       "      <th>3</th>\n",
       "      <td>4ec84dc7-33b1-418d-ae86-e0e84079ac7b</td>\n",
       "      <td>Andorra</td>\n",
       "      <td>AD</td>\n",
       "      <td>andorra</td>\n",
       "      <td>0</td>\n",
       "      <td>47890</td>\n",
       "      <td>0</td>\n",
       "      <td>165</td>\n",
       "      <td>0</td>\n",
       "      <td>0</td>\n",
       "      <td>2023-04-07T22:10:24.595Z</td>\n",
       "      <td>{}</td>\n",
       "    </tr>\n",
       "    <tr>\n",
       "      <th>4</th>\n",
       "      <td>46266f44-7897-4bcd-91fd-cc7d556977ab</td>\n",
       "      <td>Angola</td>\n",
       "      <td>AO</td>\n",
       "      <td>angola</td>\n",
       "      <td>0</td>\n",
       "      <td>105288</td>\n",
       "      <td>0</td>\n",
       "      <td>1933</td>\n",
       "      <td>0</td>\n",
       "      <td>0</td>\n",
       "      <td>2023-04-07T22:10:24.595Z</td>\n",
       "      <td>{}</td>\n",
       "    </tr>\n",
       "  </tbody>\n",
       "</table>\n",
       "</div>"
      ],
      "text/plain": [
       "                                     ID      Country CountryCode         Slug  \\\n",
       "0  783ee315-d62f-4c49-b125-bab5edac9b2e  Afghanistan          AF  afghanistan   \n",
       "1  5cdd203d-aa08-48a4-a01e-8080a6437a6b      Albania          AL      albania   \n",
       "2  a4ed0ca6-c049-4fc2-b81b-ab508792d141      Algeria          DZ      algeria   \n",
       "3  4ec84dc7-33b1-418d-ae86-e0e84079ac7b      Andorra          AD      andorra   \n",
       "4  46266f44-7897-4bcd-91fd-cc7d556977ab       Angola          AO       angola   \n",
       "\n",
       "   NewConfirmed  TotalConfirmed  NewDeaths  TotalDeaths  NewRecovered  \\\n",
       "0             0          209451          0         7896             0   \n",
       "1            14          334457          0         3598             0   \n",
       "2             2          271496          0         6881             0   \n",
       "3             0           47890          0          165             0   \n",
       "4             0          105288          0         1933             0   \n",
       "\n",
       "   TotalRecovered                      Date Premium  \n",
       "0               0  2023-04-07T22:10:24.595Z      {}  \n",
       "1               0  2023-04-07T22:10:24.595Z      {}  \n",
       "2               0  2023-04-07T22:10:24.595Z      {}  \n",
       "3               0  2023-04-07T22:10:24.595Z      {}  \n",
       "4               0  2023-04-07T22:10:24.595Z      {}  "
      ]
     },
     "execution_count": 217,
     "metadata": {},
     "output_type": "execute_result"
    }
   ],
   "source": [
    "df.head()"
   ]
  },
  {
   "cell_type": "code",
   "execution_count": 218,
   "metadata": {},
   "outputs": [
    {
     "data": {
      "text/html": [
       "<div>\n",
       "<style scoped>\n",
       "    .dataframe tbody tr th:only-of-type {\n",
       "        vertical-align: middle;\n",
       "    }\n",
       "\n",
       "    .dataframe tbody tr th {\n",
       "        vertical-align: top;\n",
       "    }\n",
       "\n",
       "    .dataframe thead th {\n",
       "        text-align: right;\n",
       "    }\n",
       "</style>\n",
       "<table border=\"1\" class=\"dataframe\">\n",
       "  <thead>\n",
       "    <tr style=\"text-align: right;\">\n",
       "      <th></th>\n",
       "      <th>count</th>\n",
       "      <th>mean</th>\n",
       "      <th>std</th>\n",
       "      <th>min</th>\n",
       "      <th>25%</th>\n",
       "      <th>50%</th>\n",
       "      <th>75%</th>\n",
       "      <th>max</th>\n",
       "    </tr>\n",
       "  </thead>\n",
       "  <tbody>\n",
       "    <tr>\n",
       "      <th>NewConfirmed</th>\n",
       "      <td>197.0</td>\n",
       "      <td>9.001269e+02</td>\n",
       "      <td>4.372967e+03</td>\n",
       "      <td>0.0</td>\n",
       "      <td>0.0</td>\n",
       "      <td>0.0</td>\n",
       "      <td>5.0</td>\n",
       "      <td>46931.0</td>\n",
       "    </tr>\n",
       "    <tr>\n",
       "      <th>TotalConfirmed</th>\n",
       "      <td>197.0</td>\n",
       "      <td>3.422847e+06</td>\n",
       "      <td>1.021245e+07</td>\n",
       "      <td>1.0</td>\n",
       "      <td>42906.0</td>\n",
       "      <td>334457.0</td>\n",
       "      <td>1746997.0</td>\n",
       "      <td>103802702.0</td>\n",
       "    </tr>\n",
       "    <tr>\n",
       "      <th>NewDeaths</th>\n",
       "      <td>197.0</td>\n",
       "      <td>6.695431e+00</td>\n",
       "      <td>4.464747e+01</td>\n",
       "      <td>0.0</td>\n",
       "      <td>0.0</td>\n",
       "      <td>0.0</td>\n",
       "      <td>0.0</td>\n",
       "      <td>590.0</td>\n",
       "    </tr>\n",
       "    <tr>\n",
       "      <th>TotalDeaths</th>\n",
       "      <td>197.0</td>\n",
       "      <td>3.448337e+04</td>\n",
       "      <td>1.117437e+05</td>\n",
       "      <td>0.0</td>\n",
       "      <td>409.0</td>\n",
       "      <td>3514.0</td>\n",
       "      <td>19071.0</td>\n",
       "      <td>1123836.0</td>\n",
       "    </tr>\n",
       "    <tr>\n",
       "      <th>NewRecovered</th>\n",
       "      <td>197.0</td>\n",
       "      <td>0.000000e+00</td>\n",
       "      <td>0.000000e+00</td>\n",
       "      <td>0.0</td>\n",
       "      <td>0.0</td>\n",
       "      <td>0.0</td>\n",
       "      <td>0.0</td>\n",
       "      <td>0.0</td>\n",
       "    </tr>\n",
       "    <tr>\n",
       "      <th>TotalRecovered</th>\n",
       "      <td>197.0</td>\n",
       "      <td>0.000000e+00</td>\n",
       "      <td>0.000000e+00</td>\n",
       "      <td>0.0</td>\n",
       "      <td>0.0</td>\n",
       "      <td>0.0</td>\n",
       "      <td>0.0</td>\n",
       "      <td>0.0</td>\n",
       "    </tr>\n",
       "  </tbody>\n",
       "</table>\n",
       "</div>"
      ],
      "text/plain": [
       "                count          mean           std  min      25%       50%  \\\n",
       "NewConfirmed    197.0  9.001269e+02  4.372967e+03  0.0      0.0       0.0   \n",
       "TotalConfirmed  197.0  3.422847e+06  1.021245e+07  1.0  42906.0  334457.0   \n",
       "NewDeaths       197.0  6.695431e+00  4.464747e+01  0.0      0.0       0.0   \n",
       "TotalDeaths     197.0  3.448337e+04  1.117437e+05  0.0    409.0    3514.0   \n",
       "NewRecovered    197.0  0.000000e+00  0.000000e+00  0.0      0.0       0.0   \n",
       "TotalRecovered  197.0  0.000000e+00  0.000000e+00  0.0      0.0       0.0   \n",
       "\n",
       "                      75%          max  \n",
       "NewConfirmed          5.0      46931.0  \n",
       "TotalConfirmed  1746997.0  103802702.0  \n",
       "NewDeaths             0.0        590.0  \n",
       "TotalDeaths       19071.0    1123836.0  \n",
       "NewRecovered          0.0          0.0  \n",
       "TotalRecovered        0.0          0.0  "
      ]
     },
     "execution_count": 218,
     "metadata": {},
     "output_type": "execute_result"
    }
   ],
   "source": [
    "df.describe().T"
   ]
  },
  {
   "cell_type": "code",
   "execution_count": 219,
   "metadata": {},
   "outputs": [
    {
     "name": "stdout",
     "output_type": "stream",
     "text": [
      "<class 'pandas.core.frame.DataFrame'>\n",
      "RangeIndex: 197 entries, 0 to 196\n",
      "Data columns (total 12 columns):\n",
      " #   Column          Non-Null Count  Dtype \n",
      "---  ------          --------------  ----- \n",
      " 0   ID              197 non-null    object\n",
      " 1   Country         197 non-null    object\n",
      " 2   CountryCode     197 non-null    object\n",
      " 3   Slug            197 non-null    object\n",
      " 4   NewConfirmed    197 non-null    int64 \n",
      " 5   TotalConfirmed  197 non-null    int64 \n",
      " 6   NewDeaths       197 non-null    int64 \n",
      " 7   TotalDeaths     197 non-null    int64 \n",
      " 8   NewRecovered    197 non-null    int64 \n",
      " 9   TotalRecovered  197 non-null    int64 \n",
      " 10  Date            197 non-null    object\n",
      " 11  Premium         197 non-null    object\n",
      "dtypes: int64(6), object(6)\n",
      "memory usage: 18.6+ KB\n"
     ]
    }
   ],
   "source": [
    "df.info()"
   ]
  },
  {
   "cell_type": "code",
   "execution_count": 220,
   "metadata": {},
   "outputs": [],
   "source": [
    "df['Date']=pd.to_datetime(df['Date'])\n",
    "df = df.sort_values(by=['Date'])"
   ]
  },
  {
   "cell_type": "code",
   "execution_count": 221,
   "metadata": {},
   "outputs": [
    {
     "data": {
      "text/html": [
       "<div>\n",
       "<style scoped>\n",
       "    .dataframe tbody tr th:only-of-type {\n",
       "        vertical-align: middle;\n",
       "    }\n",
       "\n",
       "    .dataframe tbody tr th {\n",
       "        vertical-align: top;\n",
       "    }\n",
       "\n",
       "    .dataframe thead th {\n",
       "        text-align: right;\n",
       "    }\n",
       "</style>\n",
       "<table border=\"1\" class=\"dataframe\">\n",
       "  <thead>\n",
       "    <tr style=\"text-align: right;\">\n",
       "      <th></th>\n",
       "      <th>ID</th>\n",
       "      <th>Country</th>\n",
       "      <th>CountryCode</th>\n",
       "      <th>Slug</th>\n",
       "      <th>NewConfirmed</th>\n",
       "      <th>TotalConfirmed</th>\n",
       "      <th>NewDeaths</th>\n",
       "      <th>TotalDeaths</th>\n",
       "      <th>NewRecovered</th>\n",
       "      <th>TotalRecovered</th>\n",
       "      <th>Date</th>\n",
       "      <th>Premium</th>\n",
       "    </tr>\n",
       "  </thead>\n",
       "  <tbody>\n",
       "    <tr>\n",
       "      <th>0</th>\n",
       "      <td>783ee315-d62f-4c49-b125-bab5edac9b2e</td>\n",
       "      <td>Afghanistan</td>\n",
       "      <td>AF</td>\n",
       "      <td>afghanistan</td>\n",
       "      <td>0</td>\n",
       "      <td>209451</td>\n",
       "      <td>0</td>\n",
       "      <td>7896</td>\n",
       "      <td>0</td>\n",
       "      <td>0</td>\n",
       "      <td>2023-04-07 22:10:24.595000+00:00</td>\n",
       "      <td>{}</td>\n",
       "    </tr>\n",
       "    <tr>\n",
       "      <th>125</th>\n",
       "      <td>9c58a626-8dc9-4aae-aaf2-45dd1febdaf6</td>\n",
       "      <td>Netherlands</td>\n",
       "      <td>NL</td>\n",
       "      <td>netherlands</td>\n",
       "      <td>0</td>\n",
       "      <td>8599981</td>\n",
       "      <td>0</td>\n",
       "      <td>22990</td>\n",
       "      <td>0</td>\n",
       "      <td>0</td>\n",
       "      <td>2023-04-07 22:10:24.595000+00:00</td>\n",
       "      <td>{}</td>\n",
       "    </tr>\n",
       "    <tr>\n",
       "      <th>126</th>\n",
       "      <td>c1b30d4f-6e3b-486a-a53b-c1f4f82289b8</td>\n",
       "      <td>New Zealand</td>\n",
       "      <td>NZ</td>\n",
       "      <td>new-zealand</td>\n",
       "      <td>1</td>\n",
       "      <td>2236114</td>\n",
       "      <td>0</td>\n",
       "      <td>2550</td>\n",
       "      <td>0</td>\n",
       "      <td>0</td>\n",
       "      <td>2023-04-07 22:10:24.595000+00:00</td>\n",
       "      <td>{}</td>\n",
       "    </tr>\n",
       "    <tr>\n",
       "      <th>127</th>\n",
       "      <td>2bd32cc7-fe02-4fab-b24a-7e8acb033153</td>\n",
       "      <td>Nicaragua</td>\n",
       "      <td>NI</td>\n",
       "      <td>nicaragua</td>\n",
       "      <td>0</td>\n",
       "      <td>15655</td>\n",
       "      <td>0</td>\n",
       "      <td>245</td>\n",
       "      <td>0</td>\n",
       "      <td>0</td>\n",
       "      <td>2023-04-07 22:10:24.595000+00:00</td>\n",
       "      <td>{}</td>\n",
       "    </tr>\n",
       "    <tr>\n",
       "      <th>128</th>\n",
       "      <td>6763aba4-c55b-42da-95a8-0a92562be21e</td>\n",
       "      <td>Niger</td>\n",
       "      <td>NE</td>\n",
       "      <td>niger</td>\n",
       "      <td>0</td>\n",
       "      <td>9508</td>\n",
       "      <td>0</td>\n",
       "      <td>315</td>\n",
       "      <td>0</td>\n",
       "      <td>0</td>\n",
       "      <td>2023-04-07 22:10:24.595000+00:00</td>\n",
       "      <td>{}</td>\n",
       "    </tr>\n",
       "  </tbody>\n",
       "</table>\n",
       "</div>"
      ],
      "text/plain": [
       "                                       ID      Country CountryCode  \\\n",
       "0    783ee315-d62f-4c49-b125-bab5edac9b2e  Afghanistan          AF   \n",
       "125  9c58a626-8dc9-4aae-aaf2-45dd1febdaf6  Netherlands          NL   \n",
       "126  c1b30d4f-6e3b-486a-a53b-c1f4f82289b8  New Zealand          NZ   \n",
       "127  2bd32cc7-fe02-4fab-b24a-7e8acb033153    Nicaragua          NI   \n",
       "128  6763aba4-c55b-42da-95a8-0a92562be21e        Niger          NE   \n",
       "\n",
       "            Slug  NewConfirmed  TotalConfirmed  NewDeaths  TotalDeaths  \\\n",
       "0    afghanistan             0          209451          0         7896   \n",
       "125  netherlands             0         8599981          0        22990   \n",
       "126  new-zealand             1         2236114          0         2550   \n",
       "127    nicaragua             0           15655          0          245   \n",
       "128        niger             0            9508          0          315   \n",
       "\n",
       "     NewRecovered  TotalRecovered                             Date Premium  \n",
       "0               0               0 2023-04-07 22:10:24.595000+00:00      {}  \n",
       "125             0               0 2023-04-07 22:10:24.595000+00:00      {}  \n",
       "126             0               0 2023-04-07 22:10:24.595000+00:00      {}  \n",
       "127             0               0 2023-04-07 22:10:24.595000+00:00      {}  \n",
       "128             0               0 2023-04-07 22:10:24.595000+00:00      {}  "
      ]
     },
     "execution_count": 221,
     "metadata": {},
     "output_type": "execute_result"
    }
   ],
   "source": [
    "df.head()"
   ]
  },
  {
   "cell_type": "code",
   "execution_count": 222,
   "metadata": {},
   "outputs": [
    {
     "data": {
      "text/plain": [
       "array([0], dtype=int64)"
      ]
     },
     "execution_count": 222,
     "metadata": {},
     "output_type": "execute_result"
    }
   ],
   "source": [
    "df.NewRecovered.unique()"
   ]
  },
  {
   "cell_type": "code",
   "execution_count": 223,
   "metadata": {},
   "outputs": [
    {
     "data": {
      "text/plain": [
       "array([0], dtype=int64)"
      ]
     },
     "execution_count": 223,
     "metadata": {},
     "output_type": "execute_result"
    }
   ],
   "source": [
    "df.TotalRecovered.unique()"
   ]
  },
  {
   "attachments": {},
   "cell_type": "markdown",
   "metadata": {},
   "source": [
    "Las dos variables NewRecovered y TotalRecovered pueden ser considerados como dos casos de datos malos ya que todos sus valores equivalen a 0. Como no proporcionan ninguna información útil, los removemos del dataset. "
   ]
  },
  {
   "cell_type": "code",
   "execution_count": 224,
   "metadata": {},
   "outputs": [],
   "source": [
    "df_clean= df.copy().drop(['NewRecovered','TotalRecovered'], axis=1)"
   ]
  },
  {
   "cell_type": "code",
   "execution_count": 225,
   "metadata": {},
   "outputs": [
    {
     "data": {
      "text/plain": [
       "(197, 10)"
      ]
     },
     "execution_count": 225,
     "metadata": {},
     "output_type": "execute_result"
    }
   ],
   "source": [
    "df_clean.shape"
   ]
  },
  {
   "attachments": {},
   "cell_type": "markdown",
   "metadata": {},
   "source": [
    "Otros dos caso de bad data son i) TotalDeaths > TotalConfirmed ii) NewDeaths > NewConfirmed"
   ]
  },
  {
   "cell_type": "code",
   "execution_count": 226,
   "metadata": {},
   "outputs": [],
   "source": [
    "BadData_i = df_clean[(df_clean['TotalDeaths'] > df_clean['TotalConfirmed'])].index\n",
    "df_clean.drop(BadData_i , inplace=True)\n"
   ]
  },
  {
   "cell_type": "code",
   "execution_count": 227,
   "metadata": {},
   "outputs": [],
   "source": [
    "BadData_ii = df_clean[(df_clean['NewDeaths'] > df_clean['NewConfirmed'])].index\n",
    "df_clean.drop(BadData_ii , inplace=True)"
   ]
  },
  {
   "attachments": {},
   "cell_type": "markdown",
   "metadata": {},
   "source": [
    "Creo dos nuevas variables que calcule i) ratio de mortalidad contra casos totales confirmados ii) ratio de mortalidad de fallecimientos nuevos contra casos confirmados nuevos"
   ]
  },
  {
   "cell_type": "code",
   "execution_count": 228,
   "metadata": {},
   "outputs": [],
   "source": [
    "ratio_mortalidad_casostotales= df_clean['TotalDeaths']/df_clean['TotalConfirmed']"
   ]
  },
  {
   "cell_type": "code",
   "execution_count": 229,
   "metadata": {},
   "outputs": [],
   "source": [
    "df_clean['ratio_mortalidad_casostotales'] =ratio_mortalidad_casostotales"
   ]
  },
  {
   "cell_type": "code",
   "execution_count": 230,
   "metadata": {},
   "outputs": [],
   "source": [
    "ratio_nuevo_mortalidad_casostotales= df_clean['NewDeaths']/df_clean['NewConfirmed']"
   ]
  },
  {
   "cell_type": "code",
   "execution_count": 231,
   "metadata": {},
   "outputs": [],
   "source": [
    "df_clean['ratio_nuevo_mortalidad_casostotales'] =ratio_nuevo_mortalidad_casostotales"
   ]
  },
  {
   "cell_type": "code",
   "execution_count": 232,
   "metadata": {},
   "outputs": [
    {
     "name": "stderr",
     "output_type": "stream",
     "text": [
      "C:\\Users\\moniq\\AppData\\Local\\Temp/ipykernel_24008/1556408182.py:1: FutureWarning:\n",
      "\n",
      "The default value of numeric_only in DataFrame.corr is deprecated. In a future version, it will default to False. Select only valid columns or specify the value of numeric_only to silence this warning.\n",
      "\n"
     ]
    },
    {
     "data": {
      "text/plain": [
       "<AxesSubplot:>"
      ]
     },
     "execution_count": 232,
     "metadata": {},
     "output_type": "execute_result"
    },
    {
     "data": {
      "image/png": "[encoded data removed]",
      "text/plain": [
       "<Figure size 864x864 with 2 Axes>"
      ]
     },
     "metadata": {
      "needs_background": "light"
     },
     "output_type": "display_data"
    }
   ],
   "source": [
    "data_corr= df_clean.corr()       \n",
    "plt.figure(figsize=(12,12))\n",
    "sns.heatmap(data_corr, cmap='coolwarm', linewidths=0.1, annot=True, linecolor='white')"
   ]
  },
  {
   "cell_type": "code",
   "execution_count": 233,
   "metadata": {},
   "outputs": [
    {
     "data": {
      "application/vnd.plotly.v1+json": {
       "config": {
        "plotlyServerURL": "https://plot.ly"
       },
       "data": [
        {
         "branchvalues": "total",
         "domain": {
          "x": [
           0,
           1
          ],
          "y": [
           0,
           1
          ]
         },
         "hovertemplate": "labels=%{label}<br>TotalConfirmed=%{value}<br>parent=%{parent}<br>id=%{id}<extra></extra>",
         "ids": [
          "Afghanistan",
          "Albania",
          "Algeria",
          "Andorra",
          "Angola",
          "Antarctica",
          "Antigua and Barbuda",
          "Argentina",
          "Armenia",
          "Australia",
          "Austria",
          "Azerbaijan",
          "Bahamas",
          "Bahrain",
          "Bangladesh",
          "Barbados",
          "Belarus",
          "Belgium",
          "Belize",
          "Benin",
          "Bhutan",
          "Bolivia",
          "Bosnia and Herzegovina",
          "Botswana",
          "Brazil",
          "Brunei Darussalam",
          "Bulgaria",
          "Burkina Faso",
          "Burundi",
          "Cambodia",
          "Cameroon",
          "Canada",
          "Cape Verde",
          "Central African Republic",
          "Chad",
          "Chile",
          "Colombia",
          "Comoros",
          "Congo (Brazzaville)",
          "Congo (Kinshasa)",
          "Costa Rica",
          "Croatia",
          "Cuba",
          "Cyprus",
          "Czech Republic",
          "Côte d'Ivoire",
          "Denmark",
          "Djibouti",
          "Dominica",
          "Dominican Republic",
          "Ecuador",
          "Egypt",
          "El Salvador",
          "Equatorial Guinea",
          "Eritrea",
          "Estonia",
          "Ethiopia",
          "Fiji",
          "Finland",
          "France",
          "Gabon",
          "Gambia",
          "Georgia",
          "Germany",
          "Ghana",
          "Greece",
          "Grenada",
          "Guatemala",
          "Guinea",
          "Guinea-Bissau",
          "Guyana",
          "Haiti",
          "Holy See (Vatican City State)",
          "Honduras",
          "Hungary",
          "Iceland",
          "India",
          "Indonesia",
          "Iran, Islamic Republic of",
          "Iraq",
          "Ireland",
          "Israel",
          "Italy",
          "Jamaica",
          "Japan",
          "Jordan",
          "Kazakhstan",
          "Kenya",
          "Kiribati",
          "Korea (South)",
          "Kuwait",
          "Kyrgyzstan",
          "Lao PDR",
          "Latvia",
          "Lebanon",
          "Lesotho",
          "Liberia",
          "Libya",
          "Liechtenstein",
          "Lithuania",
          "Luxembourg",
          "Macedonia, Republic of",
          "Madagascar",
          "Malawi",
          "Malaysia",
          "Maldives",
          "Mali",
          "Malta",
          "Marshall Islands",
          "Mauritania",
          "Mauritius",
          "Mexico",
          "Micronesia, Federated States of",
          "Moldova",
          "Monaco",
          "Mongolia",
          "Montenegro",
          "Morocco",
          "Mozambique",
          "Myanmar",
          "Namibia",
          "Nauru",
          "Nepal",
          "Netherlands",
          "New Zealand",
          "Nicaragua",
          "Niger",
          "Nigeria",
          "Norway",
          "Oman",
          "Pakistan",
          "Palau",
          "Palestinian Territory",
          "Panama",
          "Papua New Guinea",
          "Paraguay",
          "Peru",
          "Philippines",
          "Poland",
          "Portugal",
          "Qatar",
          "Republic of Kosovo",
          "Romania",
          "Russian Federation",
          "Rwanda",
          "Saint Kitts and Nevis",
          "Saint Lucia",
          "Saint Vincent and Grenadines",
          "Samoa",
          "San Marino",
          "Sao Tome and Principe",
          "Saudi Arabia",
          "Senegal",
          "Serbia",
          "Seychelles",
          "Sierra Leone",
          "Singapore",
          "Slovakia",
          "Slovenia",
          "Solomon Islands",
          "Somalia",
          "South Africa",
          "South Sudan",
          "Spain",
          "Sri Lanka",
          "Sudan",
          "Suriname",
          "Swaziland",
          "Sweden",
          "Syrian Arab Republic (Syria)",
          "Taiwan, Republic of China",
          "Tajikistan",
          "Tanzania, United Republic of",
          "Thailand",
          "Timor-Leste",
          "Togo",
          "Tonga",
          "Trinidad and Tobago",
          "Tunisia",
          "Turkey",
          "Tuvalu",
          "Uganda",
          "Ukraine",
          "United Arab Emirates",
          "United Kingdom",
          "United States of America",
          "Uruguay",
          "Uzbekistan",
          "Vanuatu",
          "Venezuela (Bolivarian Republic)",
          "Viet Nam",
          "Yemen",
          "Zambia",
          "Zimbabwe"
         ],
         "labels": [
          "Afghanistan",
          "Albania",
          "Algeria",
          "Andorra",
          "Angola",
          "Antarctica",
          "Antigua and Barbuda",
          "Argentina",
          "Armenia",
          "Australia",
          "Austria",
          "Azerbaijan",
          "Bahamas",
          "Bahrain",
          "Bangladesh",
          "Barbados",
          "Belarus",
          "Belgium",
          "Belize",
          "Benin",
          "Bhutan",
          "Bolivia",
          "Bosnia and Herzegovina",
          "Botswana",
          "Brazil",
          "Brunei Darussalam",
          "Bulgaria",
          "Burkina Faso",
          "Burundi",
          "Cambodia",
          "Cameroon",
          "Canada",
          "Cape Verde",
          "Central African Republic",
          "Chad",
          "Chile",
          "Colombia",
          "Comoros",
          "Congo (Brazzaville)",
          "Congo (Kinshasa)",
          "Costa Rica",
          "Croatia",
          "Cuba",
          "Cyprus",
          "Czech Republic",
          "Côte d'Ivoire",
          "Denmark",
          "Djibouti",
          "Dominica",
          "Dominican Republic",
          "Ecuador",
          "Egypt",
          "El Salvador",
          "Equatorial Guinea",
          "Eritrea",
          "Estonia",
          "Ethiopia",
          "Fiji",
          "Finland",
          "France",
          "Gabon",
          "Gambia",
          "Georgia",
          "Germany",
          "Ghana",
          "Greece",
          "Grenada",
          "Guatemala",
          "Guinea",
          "Guinea-Bissau",
          "Guyana",
          "Haiti",
          "Holy See (Vatican City State)",
          "Honduras",
          "Hungary",
          "Iceland",
          "India",
          "Indonesia",
          "Iran, Islamic Republic of",
          "Iraq",
          "Ireland",
          "Israel",
          "Italy",
          "Jamaica",
          "Japan",
          "Jordan",
          "Kazakhstan",
          "Kenya",
          "Kiribati",
          "Korea (South)",
          "Kuwait",
          "Kyrgyzstan",
          "Lao PDR",
          "Latvia",
          "Lebanon",
          "Lesotho",
          "Liberia",
          "Libya",
          "Liechtenstein",
          "Lithuania",
          "Luxembourg",
          "Macedonia, Republic of",
          "Madagascar",
          "Malawi",
          "Malaysia",
          "Maldives",
          "Mali",
          "Malta",
          "Marshall Islands",
          "Mauritania",
          "Mauritius",
          "Mexico",
          "Micronesia, Federated States of",
          "Moldova",
          "Monaco",
          "Mongolia",
          "Montenegro",
          "Morocco",
          "Mozambique",
          "Myanmar",
          "Namibia",
          "Nauru",
          "Nepal",
          "Netherlands",
          "New Zealand",
          "Nicaragua",
          "Niger",
          "Nigeria",
          "Norway",
          "Oman",
          "Pakistan",
          "Palau",
          "Palestinian Territory",
          "Panama",
          "Papua New Guinea",
          "Paraguay",
          "Peru",
          "Philippines",
          "Poland",
          "Portugal",
          "Qatar",
          "Republic of Kosovo",
          "Romania",
          "Russian Federation",
          "Rwanda",
          "Saint Kitts and Nevis",
          "Saint Lucia",
          "Saint Vincent and Grenadines",
          "Samoa",
          "San Marino",
          "Sao Tome and Principe",
          "Saudi Arabia",
          "Senegal",
          "Serbia",
          "Seychelles",
          "Sierra Leone",
          "Singapore",
          "Slovakia",
          "Slovenia",
          "Solomon Islands",
          "Somalia",
          "South Africa",
          "South Sudan",
          "Spain",
          "Sri Lanka",
          "Sudan",
          "Suriname",
          "Swaziland",
          "Sweden",
          "Syrian Arab Republic (Syria)",
          "Taiwan, Republic of China",
          "Tajikistan",
          "Tanzania, United Republic of",
          "Thailand",
          "Timor-Leste",
          "Togo",
          "Tonga",
          "Trinidad and Tobago",
          "Tunisia",
          "Turkey",
          "Tuvalu",
          "Uganda",
          "Ukraine",
          "United Arab Emirates",
          "United Kingdom",
          "United States of America",
          "Uruguay",
          "Uzbekistan",
          "Vanuatu",
          "Venezuela (Bolivarian Republic)",
          "Viet Nam",
          "Yemen",
          "Zambia",
          "Zimbabwe"
         ],
         "name": "",
         "parents": [
          "",
          "",
          "",
          "",
          "",
          "",
          "",
          "",
          "",
          "",
          "",
          "",
          "",
          "",
          "",
          "",
          "",
          "",
          "",
          "",
          "",
          "",
          "",
          "",
          "",
          "",
          "",
          "",
          "",
          "",
          "",
          "",
          "",
          "",
          "",
          "",
          "",
          "",
          "",
          "",
          "",
          "",
          "",
          "",
          "",
          "",
          "",
          "",
          "",
          "",
          "",
          "",
          "",
          "",
          "",
          "",
          "",
          "",
          "",
          "",
          "",
          "",
          "",
          "",
          "",
          "",
          "",
          "",
          "",
          "",
          "",
          "",
          "",
          "",
          "",
          "",
          "",
          "",
          "",
          "",
          "",
          "",
          "",
          "",
          "",
          "",
          "",
          "",
          "",
          "",
          "",
          "",
          "",
          "",
          "",
          "",
          "",
          "",
          "",
          "",
          "",
          "",
          "",
          "",
          "",
          "",
          "",
          "",
          "",
          "",
          "",
          "",
          "",
          "",
          "",
          "",
          "",
          "",
          "",
          "",
          "",
          "",
          "",
          "",
          "",
          "",
          "",
          "",
          "",
          "",
          "",
          "",
          "",
          "",
          "",
          "",
          "",
          "",
          "",
          "",
          "",
          "",
          "",
          "",
          "",
          "",
          "",
          "",
          "",
          "",
          "",
          "",
          "",
          "",
          "",
          "",
          "",
          "",
          "",
          "",
          "",
          "",
          "",
          "",
          "",
          "",
          "",
          "",
          "",
          "",
          "",
          "",
          "",
          "",
          "",
          "",
          "",
          "",
          "",
          "",
          "",
          "",
          "",
          "",
          "",
          "",
          "",
          "",
          "",
          "",
          "",
          "",
          "",
          ""
         ],
         "textinfo": "label+text+value",
         "type": "treemap",
         "values": [
          209451,
          334457,
          271496,
          47890,
          105288,
          11,
          9106,
          10044957,
          447308,
          11399460,
          5961143,
          828825,
          37491,
          710693,
          2037871,
          106798,
          994037,
          4739365,
          70757,
          27999,
          62627,
          1194277,
          401729,
          329758,
          37076053,
          279661,
          1297523,
          22056,
          53631,
          138719,
          124392,
          3987800,
          63244,
          15368,
          7679,
          5192286,
          6359093,
          9008,
          25087,
          95749,
          1209725,
          1269326,
          1112643,
          650685,
          4618256,
          88263,
          3451036,
          15690,
          15760,
          660790,
          1057121,
          515759,
          201785,
          17229,
          10189,
          615433,
          500116,
          68898,
          1463644,
          39866718,
          48981,
          12598,
          1827537,
          38249060,
          171229,
          5548487,
          19680,
          1238247,
          38267,
          8960,
          73075,
          34202,
          29,
          472250,
          2196804,
          209137,
          44690738,
          6738225,
          7572311,
          2465545,
          1704502,
          4803824,
          25603510,
          154416,
          33320438,
          1746997,
          1498668,
          342937,
          5014,
          30615522,
          663860,
          206708,
          218023,
          976255,
          1232828,
          34790,
          8090,
          507187,
          21432,
          1307448,
          317367,
          346852,
          67889,
          88707,
          5044718,
          185738,
          33062,
          117610,
          15649,
          63668,
          296042,
          7483444,
          23948,
          611140,
          16121,
          1007900,
          288808,
          1272490,
          233214,
          633950,
          171156,
          5247,
          1001154,
          8599981,
          2236114,
          15655,
          9508,
          266598,
          1479506,
          399449,
          1577411,
          5991,
          703228,
          1031731,
          46825,
          808401,
          4487553,
          4077452,
          6444960,
          5570473,
          495090,
          273312,
          3346046,
          22075858,
          133194,
          6597,
          30004,
          9589,
          16607,
          23616,
          6281,
          830127,
          88926,
          2500142,
          50665,
          7760,
          2235294,
          2667551,
          1331707,
          24575,
          27324,
          4067067,
          18368,
          13770429,
          672039,
          63829,
          82467,
          74267,
          2699339,
          57467,
          9970937,
          17786,
          42906,
          4728182,
          23419,
          39396,
          16810,
          189918,
          1151126,
          17042722,
          2805,
          170544,
          5711929,
          1053213,
          24658705,
          103802702,
          1034303,
          251247,
          12014,
          552162,
          11526994,
          11945,
          343135,
          264276
         ]
        }
       ],
       "layout": {
        "height": 1700,
        "legend": {
         "tracegroupgap": 0
        },
        "template": {
         "data": {
          "bar": [
           {
            "error_x": {
             "color": "#2a3f5f"
            },
            "error_y": {
             "color": "#2a3f5f"
            },
            "marker": {
             "line": {
              "color": "#E5ECF6",
              "width": 0.5
             },
             "pattern": {
              "fillmode": "overlay",
              "size": 10,
              "solidity": 0.2
             }
            },
            "type": "bar"
           }
          ],
          "barpolar": [
           {
            "marker": {
             "line": {
              "color": "#E5ECF6",
              "width": 0.5
             },
             "pattern": {
              "fillmode": "overlay",
              "size": 10,
              "solidity": 0.2
             }
            },
            "type": "barpolar"
           }
          ],
          "carpet": [
           {
            "aaxis": {
             "endlinecolor": "#2a3f5f",
             "gridcolor": "white",
             "linecolor": "white",
             "minorgridcolor": "white",
             "startlinecolor": "#2a3f5f"
            },
            "baxis": {
             "endlinecolor": "#2a3f5f",
             "gridcolor": "white",
             "linecolor": "white",
             "minorgridcolor": "white",
             "startlinecolor": "#2a3f5f"
            },
            "type": "carpet"
           }
          ],
          "choropleth": [
           {
            "colorbar": {
             "outlinewidth": 0,
             "ticks": ""
            },
            "type": "choropleth"
           }
          ],
          "contour": [
           {
            "colorbar": {
             "outlinewidth": 0,
             "ticks": ""
            },
            "colorscale": [
             [
              0,
              "#0d0887"
             ],
             [
              0.1111111111111111,
              "#46039f"
             ],
             [
              0.2222222222222222,
              "#7201a8"
             ],
             [
              0.3333333333333333,
              "#9c179e"
             ],
             [
              0.4444444444444444,
              "#bd3786"
             ],
             [
              0.5555555555555556,
              "#d8576b"
             ],
             [
              0.6666666666666666,
              "#ed7953"
             ],
             [
              0.7777777777777778,
              "#fb9f3a"
             ],
             [
              0.8888888888888888,
              "#fdca26"
             ],
             [
              1,
              "#f0f921"
             ]
            ],
            "type": "contour"
           }
          ],
          "contourcarpet": [
           {
            "colorbar": {
             "outlinewidth": 0,
             "ticks": ""
            },
            "type": "contourcarpet"
           }
          ],
          "heatmap": [
           {
            "colorbar": {
             "outlinewidth": 0,
             "ticks": ""
            },
            "colorscale": [
             [
              0,
              "#0d0887"
             ],
             [
              0.1111111111111111,
              "#46039f"
             ],
             [
              0.2222222222222222,
              "#7201a8"
             ],
             [
              0.3333333333333333,
              "#9c179e"
             ],
             [
              0.4444444444444444,
              "#bd3786"
             ],
             [
              0.5555555555555556,
              "#d8576b"
             ],
             [
              0.6666666666666666,
              "#ed7953"
             ],
             [
              0.7777777777777778,
              "#fb9f3a"
             ],
             [
              0.8888888888888888,
              "#fdca26"
             ],
             [
              1,
              "#f0f921"
             ]
            ],
            "type": "heatmap"
           }
          ],
          "heatmapgl": [
           {
            "colorbar": {
             "outlinewidth": 0,
             "ticks": ""
            },
            "colorscale": [
             [
              0,
              "#0d0887"
             ],
             [
              0.1111111111111111,
              "#46039f"
             ],
             [
              0.2222222222222222,
              "#7201a8"
             ],
             [
              0.3333333333333333,
              "#9c179e"
             ],
             [
              0.4444444444444444,
              "#bd3786"
             ],
             [
              0.5555555555555556,
              "#d8576b"
             ],
             [
              0.6666666666666666,
              "#ed7953"
             ],
             [
              0.7777777777777778,
              "#fb9f3a"
             ],
             [
              0.8888888888888888,
              "#fdca26"
             ],
             [
              1,
              "#f0f921"
             ]
            ],
            "type": "heatmapgl"
           }
          ],
          "histogram": [
           {
            "marker": {
             "pattern": {
              "fillmode": "overlay",
              "size": 10,
              "solidity": 0.2
             }
            },
            "type": "histogram"
           }
          ],
          "histogram2d": [
           {
            "colorbar": {
             "outlinewidth": 0,
             "ticks": ""
            },
            "colorscale": [
             [
              0,
              "#0d0887"
             ],
             [
              0.1111111111111111,
              "#46039f"
             ],
             [
              0.2222222222222222,
              "#7201a8"
             ],
             [
              0.3333333333333333,
              "#9c179e"
             ],
             [
              0.4444444444444444,
              "#bd3786"
             ],
             [
              0.5555555555555556,
              "#d8576b"
             ],
             [
              0.6666666666666666,
              "#ed7953"
             ],
             [
              0.7777777777777778,
              "#fb9f3a"
             ],
             [
              0.8888888888888888,
              "#fdca26"
             ],
             [
              1,
              "#f0f921"
             ]
            ],
            "type": "histogram2d"
           }
          ],
          "histogram2dcontour": [
           {
            "colorbar": {
             "outlinewidth": 0,
             "ticks": ""
            },
            "colorscale": [
             [
              0,
              "#0d0887"
             ],
             [
              0.1111111111111111,
              "#46039f"
             ],
             [
              0.2222222222222222,
              "#7201a8"
             ],
             [
              0.3333333333333333,
              "#9c179e"
             ],
             [
              0.4444444444444444,
              "#bd3786"
             ],
             [
              0.5555555555555556,
              "#d8576b"
             ],
             [
              0.6666666666666666,
              "#ed7953"
             ],
             [
              0.7777777777777778,
              "#fb9f3a"
             ],
             [
              0.8888888888888888,
              "#fdca26"
             ],
             [
              1,
              "#f0f921"
             ]
            ],
            "type": "histogram2dcontour"
           }
          ],
          "mesh3d": [
           {
            "colorbar": {
             "outlinewidth": 0,
             "ticks": ""
            },
            "type": "mesh3d"
           }
          ],
          "parcoords": [
           {
            "line": {
             "colorbar": {
              "outlinewidth": 0,
              "ticks": ""
             }
            },
            "type": "parcoords"
           }
          ],
          "pie": [
           {
            "automargin": true,
            "type": "pie"
           }
          ],
          "scatter": [
           {
            "fillpattern": {
             "fillmode": "overlay",
             "size": 10,
             "solidity": 0.2
            },
            "type": "scatter"
           }
          ],
          "scatter3d": [
           {
            "line": {
             "colorbar": {
              "outlinewidth": 0,
              "ticks": ""
             }
            },
            "marker": {
             "colorbar": {
              "outlinewidth": 0,
              "ticks": ""
             }
            },
            "type": "scatter3d"
           }
          ],
          "scattercarpet": [
           {
            "marker": {
             "colorbar": {
              "outlinewidth": 0,
              "ticks": ""
             }
            },
            "type": "scattercarpet"
           }
          ],
          "scattergeo": [
           {
            "marker": {
             "colorbar": {
              "outlinewidth": 0,
              "ticks": ""
             }
            },
            "type": "scattergeo"
           }
          ],
          "scattergl": [
           {
            "marker": {
             "colorbar": {
              "outlinewidth": 0,
              "ticks": ""
             }
            },
            "type": "scattergl"
           }
          ],
          "scattermapbox": [
           {
            "marker": {
             "colorbar": {
              "outlinewidth": 0,
              "ticks": ""
             }
            },
            "type": "scattermapbox"
           }
          ],
          "scatterpolar": [
           {
            "marker": {
             "colorbar": {
              "outlinewidth": 0,
              "ticks": ""
             }
            },
            "type": "scatterpolar"
           }
          ],
          "scatterpolargl": [
           {
            "marker": {
             "colorbar": {
              "outlinewidth": 0,
              "ticks": ""
             }
            },
            "type": "scatterpolargl"
           }
          ],
          "scatterternary": [
           {
            "marker": {
             "colorbar": {
              "outlinewidth": 0,
              "ticks": ""
             }
            },
            "type": "scatterternary"
           }
          ],
          "surface": [
           {
            "colorbar": {
             "outlinewidth": 0,
             "ticks": ""
            },
            "colorscale": [
             [
              0,
              "#0d0887"
             ],
             [
              0.1111111111111111,
              "#46039f"
             ],
             [
              0.2222222222222222,
              "#7201a8"
             ],
             [
              0.3333333333333333,
              "#9c179e"
             ],
             [
              0.4444444444444444,
              "#bd3786"
             ],
             [
              0.5555555555555556,
              "#d8576b"
             ],
             [
              0.6666666666666666,
              "#ed7953"
             ],
             [
              0.7777777777777778,
              "#fb9f3a"
             ],
             [
              0.8888888888888888,
              "#fdca26"
             ],
             [
              1,
              "#f0f921"
             ]
            ],
            "type": "surface"
           }
          ],
          "table": [
           {
            "cells": {
             "fill": {
              "color": "#EBF0F8"
             },
             "line": {
              "color": "white"
             }
            },
            "header": {
             "fill": {
              "color": "#C8D4E3"
             },
             "line": {
              "color": "white"
             }
            },
            "type": "table"
           }
          ]
         },
         "layout": {
          "annotationdefaults": {
           "arrowcolor": "#2a3f5f",
           "arrowhead": 0,
           "arrowwidth": 1
          },
          "autotypenumbers": "strict",
          "coloraxis": {
           "colorbar": {
            "outlinewidth": 0,
            "ticks": ""
           }
          },
          "colorscale": {
           "diverging": [
            [
             0,
             "#8e0152"
            ],
            [
             0.1,
             "#c51b7d"
            ],
            [
             0.2,
             "#de77ae"
            ],
            [
             0.3,
             "#f1b6da"
            ],
            [
             0.4,
             "#fde0ef"
            ],
            [
             0.5,
             "#f7f7f7"
            ],
            [
             0.6,
             "#e6f5d0"
            ],
            [
             0.7,
             "#b8e186"
            ],
            [
             0.8,
             "#7fbc41"
            ],
            [
             0.9,
             "#4d9221"
            ],
            [
             1,
             "#276419"
            ]
           ],
           "sequential": [
            [
             0,
             "#0d0887"
            ],
            [
             0.1111111111111111,
             "#46039f"
            ],
            [
             0.2222222222222222,
             "#7201a8"
            ],
            [
             0.3333333333333333,
             "#9c179e"
            ],
            [
             0.4444444444444444,
             "#bd3786"
            ],
            [
             0.5555555555555556,
             "#d8576b"
            ],
            [
             0.6666666666666666,
             "#ed7953"
            ],
            [
             0.7777777777777778,
             "#fb9f3a"
            ],
            [
             0.8888888888888888,
             "#fdca26"
            ],
            [
             1,
             "#f0f921"
            ]
           ],
           "sequentialminus": [
            [
             0,
             "#0d0887"
            ],
            [
             0.1111111111111111,
             "#46039f"
            ],
            [
             0.2222222222222222,
             "#7201a8"
            ],
            [
             0.3333333333333333,
             "#9c179e"
            ],
            [
             0.4444444444444444,
             "#bd3786"
            ],
            [
             0.5555555555555556,
             "#d8576b"
            ],
            [
             0.6666666666666666,
             "#ed7953"
            ],
            [
             0.7777777777777778,
             "#fb9f3a"
            ],
            [
             0.8888888888888888,
             "#fdca26"
            ],
            [
             1,
             "#f0f921"
            ]
           ]
          },
          "colorway": [
           "#636efa",
           "#EF553B",
           "#00cc96",
           "#ab63fa",
           "#FFA15A",
           "#19d3f3",
           "#FF6692",
           "#B6E880",
           "#FF97FF",
           "#FECB52"
          ],
          "font": {
           "color": "#2a3f5f"
          },
          "geo": {
           "bgcolor": "white",
           "lakecolor": "white",
           "landcolor": "#E5ECF6",
           "showlakes": true,
           "showland": true,
           "subunitcolor": "white"
          },
          "hoverlabel": {
           "align": "left"
          },
          "hovermode": "closest",
          "mapbox": {
           "style": "light"
          },
          "paper_bgcolor": "white",
          "plot_bgcolor": "#E5ECF6",
          "polar": {
           "angularaxis": {
            "gridcolor": "white",
            "linecolor": "white",
            "ticks": ""
           },
           "bgcolor": "#E5ECF6",
           "radialaxis": {
            "gridcolor": "white",
            "linecolor": "white",
            "ticks": ""
           }
          },
          "scene": {
           "xaxis": {
            "backgroundcolor": "#E5ECF6",
            "gridcolor": "white",
            "gridwidth": 2,
            "linecolor": "white",
            "showbackground": true,
            "ticks": "",
            "zerolinecolor": "white"
           },
           "yaxis": {
            "backgroundcolor": "#E5ECF6",
            "gridcolor": "white",
            "gridwidth": 2,
            "linecolor": "white",
            "showbackground": true,
            "ticks": "",
            "zerolinecolor": "white"
           },
           "zaxis": {
            "backgroundcolor": "#E5ECF6",
            "gridcolor": "white",
            "gridwidth": 2,
            "linecolor": "white",
            "showbackground": true,
            "ticks": "",
            "zerolinecolor": "white"
           }
          },
          "shapedefaults": {
           "line": {
            "color": "#2a3f5f"
           }
          },
          "ternary": {
           "aaxis": {
            "gridcolor": "white",
            "linecolor": "white",
            "ticks": ""
           },
           "baxis": {
            "gridcolor": "white",
            "linecolor": "white",
            "ticks": ""
           },
           "bgcolor": "#E5ECF6",
           "caxis": {
            "gridcolor": "white",
            "linecolor": "white",
            "ticks": ""
           }
          },
          "title": {
           "x": 0.05
          },
          "xaxis": {
           "automargin": true,
           "gridcolor": "white",
           "linecolor": "white",
           "ticks": "",
           "title": {
            "standoff": 15
           },
           "zerolinecolor": "white",
           "zerolinewidth": 2
          },
          "yaxis": {
           "automargin": true,
           "gridcolor": "white",
           "linecolor": "white",
           "ticks": "",
           "title": {
            "standoff": 15
           },
           "zerolinecolor": "white",
           "zerolinewidth": 2
          }
         }
        },
        "title": {
         "text": "Total de casos confirmados"
        }
       }
      }
     },
     "metadata": {},
     "output_type": "display_data"
    }
   ],
   "source": [
    "full_latest = df_clean[df_clean['Date'] == max(df_clean['Date'])]\n",
    "                         \n",
    "fig = px.treemap(full_latest.sort_values(by='TotalConfirmed', ascending=False).reset_index(drop=True), \n",
    "                 path=[\"Country\"], values=\"TotalConfirmed\", height=1700, title='Total de casos confirmados')\n",
    "fig.data[0].textinfo = 'label+text+value'\n",
    "fig.show()"
   ]
  },
  {
   "cell_type": "code",
   "execution_count": 234,
   "metadata": {},
   "outputs": [
    {
     "data": {
      "application/vnd.plotly.v1+json": {
       "config": {
        "plotlyServerURL": "https://plot.ly"
       },
       "data": [
        {
         "hovertemplate": "Country=%{text}<br>TotalConfirmed=%{marker.size}<br>TotalDeaths=%{y}<extra></extra>",
         "legendgroup": "United States of America",
         "marker": {
          "color": "#636efa",
          "size": [
           103802702
          ],
          "sizemode": "area",
          "sizeref": 259506.755,
          "symbol": "circle"
         },
         "mode": "markers+text",
         "name": "United States of America",
         "orientation": "v",
         "showlegend": true,
         "text": [
          "United States of America"
         ],
         "textposition": "top center",
         "type": "scatter",
         "x": [
          103802702
         ],
         "xaxis": "x",
         "y": [
          1123836
         ],
         "yaxis": "y"
        },
        {
         "hovertemplate": "Country=%{text}<br>TotalConfirmed=%{marker.size}<br>TotalDeaths=%{y}<extra></extra>",
         "legendgroup": "Brazil",
         "marker": {
          "color": "#EF553B",
          "size": [
           37076053
          ],
          "sizemode": "area",
          "sizeref": 259506.755,
          "symbol": "circle"
         },
         "mode": "markers+text",
         "name": "Brazil",
         "orientation": "v",
         "showlegend": true,
         "text": [
          "Brazil"
         ],
         "textposition": "top center",
         "type": "scatter",
         "x": [
          37076053
         ],
         "xaxis": "x",
         "y": [
          699276
         ],
         "yaxis": "y"
        },
        {
         "hovertemplate": "Country=%{text}<br>TotalConfirmed=%{marker.size}<br>TotalDeaths=%{y}<extra></extra>",
         "legendgroup": "India",
         "marker": {
          "color": "#00cc96",
          "size": [
           44690738
          ],
          "sizemode": "area",
          "sizeref": 259506.755,
          "symbol": "circle"
         },
         "mode": "markers+text",
         "name": "India",
         "orientation": "v",
         "showlegend": true,
         "text": [
          "India"
         ],
         "textposition": "top center",
         "type": "scatter",
         "x": [
          44690738
         ],
         "xaxis": "x",
         "y": [
          530779
         ],
         "yaxis": "y"
        },
        {
         "hovertemplate": "Country=%{text}<br>TotalConfirmed=%{marker.size}<br>TotalDeaths=%{y}<extra></extra>",
         "legendgroup": "Russian Federation",
         "marker": {
          "color": "#ab63fa",
          "size": [
           22075858
          ],
          "sizemode": "area",
          "sizeref": 259506.755,
          "symbol": "circle"
         },
         "mode": "markers+text",
         "name": "Russian Federation",
         "orientation": "v",
         "showlegend": true,
         "text": [
          "Russian Federation"
         ],
         "textposition": "top center",
         "type": "scatter",
         "x": [
          22075858
         ],
         "xaxis": "x",
         "y": [
          388478
         ],
         "yaxis": "y"
        },
        {
         "hovertemplate": "Country=%{text}<br>TotalConfirmed=%{marker.size}<br>TotalDeaths=%{y}<extra></extra>",
         "legendgroup": "Mexico",
         "marker": {
          "color": "#FFA15A",
          "size": [
           7483444
          ],
          "sizemode": "area",
          "sizeref": 259506.755,
          "symbol": "circle"
         },
         "mode": "markers+text",
         "name": "Mexico",
         "orientation": "v",
         "showlegend": true,
         "text": [
          "Mexico"
         ],
         "textposition": "top center",
         "type": "scatter",
         "x": [
          7483444
         ],
         "xaxis": "x",
         "y": [
          333188
         ],
         "yaxis": "y"
        },
        {
         "hovertemplate": "Country=%{text}<br>TotalConfirmed=%{marker.size}<br>TotalDeaths=%{y}<extra></extra>",
         "legendgroup": "United Kingdom",
         "marker": {
          "color": "#19d3f3",
          "size": [
           24658705
          ],
          "sizemode": "area",
          "sizeref": 259506.755,
          "symbol": "circle"
         },
         "mode": "markers+text",
         "name": "United Kingdom",
         "orientation": "v",
         "showlegend": true,
         "text": [
          "United Kingdom"
         ],
         "textposition": "top center",
         "type": "scatter",
         "x": [
          24658705
         ],
         "xaxis": "x",
         "y": [
          220721
         ],
         "yaxis": "y"
        },
        {
         "hovertemplate": "Country=%{text}<br>TotalConfirmed=%{marker.size}<br>TotalDeaths=%{y}<extra></extra>",
         "legendgroup": "Peru",
         "marker": {
          "color": "#FF6692",
          "size": [
           4487553
          ],
          "sizemode": "area",
          "sizeref": 259506.755,
          "symbol": "circle"
         },
         "mode": "markers+text",
         "name": "Peru",
         "orientation": "v",
         "showlegend": true,
         "text": [
          "Peru"
         ],
         "textposition": "top center",
         "type": "scatter",
         "x": [
          4487553
         ],
         "xaxis": "x",
         "y": [
          219539
         ],
         "yaxis": "y"
        },
        {
         "hovertemplate": "Country=%{text}<br>TotalConfirmed=%{marker.size}<br>TotalDeaths=%{y}<extra></extra>",
         "legendgroup": "Italy",
         "marker": {
          "color": "#B6E880",
          "size": [
           25603510
          ],
          "sizemode": "area",
          "sizeref": 259506.755,
          "symbol": "circle"
         },
         "mode": "markers+text",
         "name": "Italy",
         "orientation": "v",
         "showlegend": true,
         "text": [
          "Italy"
         ],
         "textposition": "top center",
         "type": "scatter",
         "x": [
          25603510
         ],
         "xaxis": "x",
         "y": [
          188322
         ],
         "yaxis": "y"
        },
        {
         "hovertemplate": "Country=%{text}<br>TotalConfirmed=%{marker.size}<br>TotalDeaths=%{y}<extra></extra>",
         "legendgroup": "Germany",
         "marker": {
          "color": "#FF97FF",
          "size": [
           38249060
          ],
          "sizemode": "area",
          "sizeref": 259506.755,
          "symbol": "circle"
         },
         "mode": "markers+text",
         "name": "Germany",
         "orientation": "v",
         "showlegend": true,
         "text": [
          "Germany"
         ],
         "textposition": "top center",
         "type": "scatter",
         "x": [
          38249060
         ],
         "xaxis": "x",
         "y": [
          168935
         ],
         "yaxis": "y"
        },
        {
         "hovertemplate": "Country=%{text}<br>TotalConfirmed=%{marker.size}<br>TotalDeaths=%{y}<extra></extra>",
         "legendgroup": "France",
         "marker": {
          "color": "#FECB52",
          "size": [
           39866718
          ],
          "sizemode": "area",
          "sizeref": 259506.755,
          "symbol": "circle"
         },
         "mode": "markers+text",
         "name": "France",
         "orientation": "v",
         "showlegend": true,
         "text": [
          "France"
         ],
         "textposition": "top center",
         "type": "scatter",
         "x": [
          39866718
         ],
         "xaxis": "x",
         "y": [
          166176
         ],
         "yaxis": "y"
        },
        {
         "hovertemplate": "Country=%{text}<br>TotalConfirmed=%{marker.size}<br>TotalDeaths=%{y}<extra></extra>",
         "legendgroup": "Indonesia",
         "marker": {
          "color": "#636efa",
          "size": [
           6738225
          ],
          "sizemode": "area",
          "sizeref": 259506.755,
          "symbol": "circle"
         },
         "mode": "markers+text",
         "name": "Indonesia",
         "orientation": "v",
         "showlegend": true,
         "text": [
          "Indonesia"
         ],
         "textposition": "top center",
         "type": "scatter",
         "x": [
          6738225
         ],
         "xaxis": "x",
         "y": [
          160941
         ],
         "yaxis": "y"
        },
        {
         "hovertemplate": "Country=%{text}<br>TotalConfirmed=%{marker.size}<br>TotalDeaths=%{y}<extra></extra>",
         "legendgroup": "Iran, Islamic Republic of",
         "marker": {
          "color": "#EF553B",
          "size": [
           7572311
          ],
          "sizemode": "area",
          "sizeref": 259506.755,
          "symbol": "circle"
         },
         "mode": "markers+text",
         "name": "Iran, Islamic Republic of",
         "orientation": "v",
         "showlegend": true,
         "text": [
          "Iran, Islamic Republic of"
         ],
         "textposition": "top center",
         "type": "scatter",
         "x": [
          7572311
         ],
         "xaxis": "x",
         "y": [
          144933
         ],
         "yaxis": "y"
        },
        {
         "hovertemplate": "Country=%{text}<br>TotalConfirmed=%{marker.size}<br>TotalDeaths=%{y}<extra></extra>",
         "legendgroup": "Colombia",
         "marker": {
          "color": "#00cc96",
          "size": [
           6359093
          ],
          "sizemode": "area",
          "sizeref": 259506.755,
          "symbol": "circle"
         },
         "mode": "markers+text",
         "name": "Colombia",
         "orientation": "v",
         "showlegend": true,
         "text": [
          "Colombia"
         ],
         "textposition": "top center",
         "type": "scatter",
         "x": [
          6359093
         ],
         "xaxis": "x",
         "y": [
          142339
         ],
         "yaxis": "y"
        },
        {
         "hovertemplate": "Country=%{text}<br>TotalConfirmed=%{marker.size}<br>TotalDeaths=%{y}<extra></extra>",
         "legendgroup": "Argentina",
         "marker": {
          "color": "#ab63fa",
          "size": [
           10044957
          ],
          "sizemode": "area",
          "sizeref": 259506.755,
          "symbol": "circle"
         },
         "mode": "markers+text",
         "name": "Argentina",
         "orientation": "v",
         "showlegend": true,
         "text": [
          "Argentina"
         ],
         "textposition": "top center",
         "type": "scatter",
         "x": [
          10044957
         ],
         "xaxis": "x",
         "y": [
          130472
         ],
         "yaxis": "y"
        },
        {
         "hovertemplate": "Country=%{text}<br>TotalConfirmed=%{marker.size}<br>TotalDeaths=%{y}<extra></extra>",
         "legendgroup": "Spain",
         "marker": {
          "color": "#FFA15A",
          "size": [
           13770429
          ],
          "sizemode": "area",
          "sizeref": 259506.755,
          "symbol": "circle"
         },
         "mode": "markers+text",
         "name": "Spain",
         "orientation": "v",
         "showlegend": true,
         "text": [
          "Spain"
         ],
         "textposition": "top center",
         "type": "scatter",
         "x": [
          13770429
         ],
         "xaxis": "x",
         "y": [
          119479
         ],
         "yaxis": "y"
        },
        {
         "hovertemplate": "Country=%{text}<br>TotalConfirmed=%{marker.size}<br>TotalDeaths=%{y}<extra></extra>",
         "legendgroup": "Ukraine",
         "marker": {
          "color": "#19d3f3",
          "size": [
           5711929
          ],
          "sizemode": "area",
          "sizeref": 259506.755,
          "symbol": "circle"
         },
         "mode": "markers+text",
         "name": "Ukraine",
         "orientation": "v",
         "showlegend": true,
         "text": [
          "Ukraine"
         ],
         "textposition": "top center",
         "type": "scatter",
         "x": [
          5711929
         ],
         "xaxis": "x",
         "y": [
          119283
         ],
         "yaxis": "y"
        },
        {
         "hovertemplate": "Country=%{text}<br>TotalConfirmed=%{marker.size}<br>TotalDeaths=%{y}<extra></extra>",
         "legendgroup": "Poland",
         "marker": {
          "color": "#FF6692",
          "size": [
           6444960
          ],
          "sizemode": "area",
          "sizeref": 259506.755,
          "symbol": "circle"
         },
         "mode": "markers+text",
         "name": "Poland",
         "orientation": "v",
         "showlegend": true,
         "text": [
          "Poland"
         ],
         "textposition": "top center",
         "type": "scatter",
         "x": [
          6444960
         ],
         "xaxis": "x",
         "y": [
          119010
         ],
         "yaxis": "y"
        },
        {
         "hovertemplate": "Country=%{text}<br>TotalConfirmed=%{marker.size}<br>TotalDeaths=%{y}<extra></extra>",
         "legendgroup": "South Africa",
         "marker": {
          "color": "#B6E880",
          "size": [
           4067067
          ],
          "sizemode": "area",
          "sizeref": 259506.755,
          "symbol": "circle"
         },
         "mode": "markers+text",
         "name": "South Africa",
         "orientation": "v",
         "showlegend": true,
         "text": [
          "South Africa"
         ],
         "textposition": "top center",
         "type": "scatter",
         "x": [
          4067067
         ],
         "xaxis": "x",
         "y": [
          102595
         ],
         "yaxis": "y"
        },
        {
         "hovertemplate": "Country=%{text}<br>TotalConfirmed=%{marker.size}<br>TotalDeaths=%{y}<extra></extra>",
         "legendgroup": "Turkey",
         "marker": {
          "color": "#FF97FF",
          "size": [
           17042722
          ],
          "sizemode": "area",
          "sizeref": 259506.755,
          "symbol": "circle"
         },
         "mode": "markers+text",
         "name": "Turkey",
         "orientation": "v",
         "showlegend": true,
         "text": [
          "Turkey"
         ],
         "textposition": "top center",
         "type": "scatter",
         "x": [
          17042722
         ],
         "xaxis": "x",
         "y": [
          101492
         ],
         "yaxis": "y"
        },
        {
         "hovertemplate": "Country=%{text}<br>TotalConfirmed=%{marker.size}<br>TotalDeaths=%{y}<extra></extra>",
         "legendgroup": "Japan",
         "marker": {
          "color": "#FECB52",
          "size": [
           33320438
          ],
          "sizemode": "area",
          "sizeref": 259506.755,
          "symbol": "circle"
         },
         "mode": "markers+text",
         "name": "Japan",
         "orientation": "v",
         "showlegend": true,
         "text": [
          "Japan"
         ],
         "textposition": "top center",
         "type": "scatter",
         "x": [
          33320438
         ],
         "xaxis": "x",
         "y": [
          72997
         ],
         "yaxis": "y"
        }
       ],
       "layout": {
        "height": 700,
        "legend": {
         "itemsizing": "constant",
         "title": {
          "text": "Country"
         },
         "tracegroupgap": 0
        },
        "showlegend": false,
        "template": {
         "data": {
          "bar": [
           {
            "error_x": {
             "color": "#2a3f5f"
            },
            "error_y": {
             "color": "#2a3f5f"
            },
            "marker": {
             "line": {
              "color": "#E5ECF6",
              "width": 0.5
             },
             "pattern": {
              "fillmode": "overlay",
              "size": 10,
              "solidity": 0.2
             }
            },
            "type": "bar"
           }
          ],
          "barpolar": [
           {
            "marker": {
             "line": {
              "color": "#E5ECF6",
              "width": 0.5
             },
             "pattern": {
              "fillmode": "overlay",
              "size": 10,
              "solidity": 0.2
             }
            },
            "type": "barpolar"
           }
          ],
          "carpet": [
           {
            "aaxis": {
             "endlinecolor": "#2a3f5f",
             "gridcolor": "white",
             "linecolor": "white",
             "minorgridcolor": "white",
             "startlinecolor": "#2a3f5f"
            },
            "baxis": {
             "endlinecolor": "#2a3f5f",
             "gridcolor": "white",
             "linecolor": "white",
             "minorgridcolor": "white",
             "startlinecolor": "#2a3f5f"
            },
            "type": "carpet"
           }
          ],
          "choropleth": [
           {
            "colorbar": {
             "outlinewidth": 0,
             "ticks": ""
            },
            "type": "choropleth"
           }
          ],
          "contour": [
           {
            "colorbar": {
             "outlinewidth": 0,
             "ticks": ""
            },
            "colorscale": [
             [
              0,
              "#0d0887"
             ],
             [
              0.1111111111111111,
              "#46039f"
             ],
             [
              0.2222222222222222,
              "#7201a8"
             ],
             [
              0.3333333333333333,
              "#9c179e"
             ],
             [
              0.4444444444444444,
              "#bd3786"
             ],
             [
              0.5555555555555556,
              "#d8576b"
             ],
             [
              0.6666666666666666,
              "#ed7953"
             ],
             [
              0.7777777777777778,
              "#fb9f3a"
             ],
             [
              0.8888888888888888,
              "#fdca26"
             ],
             [
              1,
              "#f0f921"
             ]
            ],
            "type": "contour"
           }
          ],
          "contourcarpet": [
           {
            "colorbar": {
             "outlinewidth": 0,
             "ticks": ""
            },
            "type": "contourcarpet"
           }
          ],
          "heatmap": [
           {
            "colorbar": {
             "outlinewidth": 0,
             "ticks": ""
            },
            "colorscale": [
             [
              0,
              "#0d0887"
             ],
             [
              0.1111111111111111,
              "#46039f"
             ],
             [
              0.2222222222222222,
              "#7201a8"
             ],
             [
              0.3333333333333333,
              "#9c179e"
             ],
             [
              0.4444444444444444,
              "#bd3786"
             ],
             [
              0.5555555555555556,
              "#d8576b"
             ],
             [
              0.6666666666666666,
              "#ed7953"
             ],
             [
              0.7777777777777778,
              "#fb9f3a"
             ],
             [
              0.8888888888888888,
              "#fdca26"
             ],
             [
              1,
              "#f0f921"
             ]
            ],
            "type": "heatmap"
           }
          ],
          "heatmapgl": [
           {
            "colorbar": {
             "outlinewidth": 0,
             "ticks": ""
            },
            "colorscale": [
             [
              0,
              "#0d0887"
             ],
             [
              0.1111111111111111,
              "#46039f"
             ],
             [
              0.2222222222222222,
              "#7201a8"
             ],
             [
              0.3333333333333333,
              "#9c179e"
             ],
             [
              0.4444444444444444,
              "#bd3786"
             ],
             [
              0.5555555555555556,
              "#d8576b"
             ],
             [
              0.6666666666666666,
              "#ed7953"
             ],
             [
              0.7777777777777778,
              "#fb9f3a"
             ],
             [
              0.8888888888888888,
              "#fdca26"
             ],
             [
              1,
              "#f0f921"
             ]
            ],
            "type": "heatmapgl"
           }
          ],
          "histogram": [
           {
            "marker": {
             "pattern": {
              "fillmode": "overlay",
              "size": 10,
              "solidity": 0.2
             }
            },
            "type": "histogram"
           }
          ],
          "histogram2d": [
           {
            "colorbar": {
             "outlinewidth": 0,
             "ticks": ""
            },
            "colorscale": [
             [
              0,
              "#0d0887"
             ],
             [
              0.1111111111111111,
              "#46039f"
             ],
             [
              0.2222222222222222,
              "#7201a8"
             ],
             [
              0.3333333333333333,
              "#9c179e"
             ],
             [
              0.4444444444444444,
              "#bd3786"
             ],
             [
              0.5555555555555556,
              "#d8576b"
             ],
             [
              0.6666666666666666,
              "#ed7953"
             ],
             [
              0.7777777777777778,
              "#fb9f3a"
             ],
             [
              0.8888888888888888,
              "#fdca26"
             ],
             [
              1,
              "#f0f921"
             ]
            ],
            "type": "histogram2d"
           }
          ],
          "histogram2dcontour": [
           {
            "colorbar": {
             "outlinewidth": 0,
             "ticks": ""
            },
            "colorscale": [
             [
              0,
              "#0d0887"
             ],
             [
              0.1111111111111111,
              "#46039f"
             ],
             [
              0.2222222222222222,
              "#7201a8"
             ],
             [
              0.3333333333333333,
              "#9c179e"
             ],
             [
              0.4444444444444444,
              "#bd3786"
             ],
             [
              0.5555555555555556,
              "#d8576b"
             ],
             [
              0.6666666666666666,
              "#ed7953"
             ],
             [
              0.7777777777777778,
              "#fb9f3a"
             ],
             [
              0.8888888888888888,
              "#fdca26"
             ],
             [
              1,
              "#f0f921"
             ]
            ],
            "type": "histogram2dcontour"
           }
          ],
          "mesh3d": [
           {
            "colorbar": {
             "outlinewidth": 0,
             "ticks": ""
            },
            "type": "mesh3d"
           }
          ],
          "parcoords": [
           {
            "line": {
             "colorbar": {
              "outlinewidth": 0,
              "ticks": ""
             }
            },
            "type": "parcoords"
           }
          ],
          "pie": [
           {
            "automargin": true,
            "type": "pie"
           }
          ],
          "scatter": [
           {
            "fillpattern": {
             "fillmode": "overlay",
             "size": 10,
             "solidity": 0.2
            },
            "type": "scatter"
           }
          ],
          "scatter3d": [
           {
            "line": {
             "colorbar": {
              "outlinewidth": 0,
              "ticks": ""
             }
            },
            "marker": {
             "colorbar": {
              "outlinewidth": 0,
              "ticks": ""
             }
            },
            "type": "scatter3d"
           }
          ],
          "scattercarpet": [
           {
            "marker": {
             "colorbar": {
              "outlinewidth": 0,
              "ticks": ""
             }
            },
            "type": "scattercarpet"
           }
          ],
          "scattergeo": [
           {
            "marker": {
             "colorbar": {
              "outlinewidth": 0,
              "ticks": ""
             }
            },
            "type": "scattergeo"
           }
          ],
          "scattergl": [
           {
            "marker": {
             "colorbar": {
              "outlinewidth": 0,
              "ticks": ""
             }
            },
            "type": "scattergl"
           }
          ],
          "scattermapbox": [
           {
            "marker": {
             "colorbar": {
              "outlinewidth": 0,
              "ticks": ""
             }
            },
            "type": "scattermapbox"
           }
          ],
          "scatterpolar": [
           {
            "marker": {
             "colorbar": {
              "outlinewidth": 0,
              "ticks": ""
             }
            },
            "type": "scatterpolar"
           }
          ],
          "scatterpolargl": [
           {
            "marker": {
             "colorbar": {
              "outlinewidth": 0,
              "ticks": ""
             }
            },
            "type": "scatterpolargl"
           }
          ],
          "scatterternary": [
           {
            "marker": {
             "colorbar": {
              "outlinewidth": 0,
              "ticks": ""
             }
            },
            "type": "scatterternary"
           }
          ],
          "surface": [
           {
            "colorbar": {
             "outlinewidth": 0,
             "ticks": ""
            },
            "colorscale": [
             [
              0,
              "#0d0887"
             ],
             [
              0.1111111111111111,
              "#46039f"
             ],
             [
              0.2222222222222222,
              "#7201a8"
             ],
             [
              0.3333333333333333,
              "#9c179e"
             ],
             [
              0.4444444444444444,
              "#bd3786"
             ],
             [
              0.5555555555555556,
              "#d8576b"
             ],
             [
              0.6666666666666666,
              "#ed7953"
             ],
             [
              0.7777777777777778,
              "#fb9f3a"
             ],
             [
              0.8888888888888888,
              "#fdca26"
             ],
             [
              1,
              "#f0f921"
             ]
            ],
            "type": "surface"
           }
          ],
          "table": [
           {
            "cells": {
             "fill": {
              "color": "#EBF0F8"
             },
             "line": {
              "color": "white"
             }
            },
            "header": {
             "fill": {
              "color": "#C8D4E3"
             },
             "line": {
              "color": "white"
             }
            },
            "type": "table"
           }
          ]
         },
         "layout": {
          "annotationdefaults": {
           "arrowcolor": "#2a3f5f",
           "arrowhead": 0,
           "arrowwidth": 1
          },
          "autotypenumbers": "strict",
          "coloraxis": {
           "colorbar": {
            "outlinewidth": 0,
            "ticks": ""
           }
          },
          "colorscale": {
           "diverging": [
            [
             0,
             "#8e0152"
            ],
            [
             0.1,
             "#c51b7d"
            ],
            [
             0.2,
             "#de77ae"
            ],
            [
             0.3,
             "#f1b6da"
            ],
            [
             0.4,
             "#fde0ef"
            ],
            [
             0.5,
             "#f7f7f7"
            ],
            [
             0.6,
             "#e6f5d0"
            ],
            [
             0.7,
             "#b8e186"
            ],
            [
             0.8,
             "#7fbc41"
            ],
            [
             0.9,
             "#4d9221"
            ],
            [
             1,
             "#276419"
            ]
           ],
           "sequential": [
            [
             0,
             "#0d0887"
            ],
            [
             0.1111111111111111,
             "#46039f"
            ],
            [
             0.2222222222222222,
             "#7201a8"
            ],
            [
             0.3333333333333333,
             "#9c179e"
            ],
            [
             0.4444444444444444,
             "#bd3786"
            ],
            [
             0.5555555555555556,
             "#d8576b"
            ],
            [
             0.6666666666666666,
             "#ed7953"
            ],
            [
             0.7777777777777778,
             "#fb9f3a"
            ],
            [
             0.8888888888888888,
             "#fdca26"
            ],
            [
             1,
             "#f0f921"
            ]
           ],
           "sequentialminus": [
            [
             0,
             "#0d0887"
            ],
            [
             0.1111111111111111,
             "#46039f"
            ],
            [
             0.2222222222222222,
             "#7201a8"
            ],
            [
             0.3333333333333333,
             "#9c179e"
            ],
            [
             0.4444444444444444,
             "#bd3786"
            ],
            [
             0.5555555555555556,
             "#d8576b"
            ],
            [
             0.6666666666666666,
             "#ed7953"
            ],
            [
             0.7777777777777778,
             "#fb9f3a"
            ],
            [
             0.8888888888888888,
             "#fdca26"
            ],
            [
             1,
             "#f0f921"
            ]
           ]
          },
          "colorway": [
           "#636efa",
           "#EF553B",
           "#00cc96",
           "#ab63fa",
           "#FFA15A",
           "#19d3f3",
           "#FF6692",
           "#B6E880",
           "#FF97FF",
           "#FECB52"
          ],
          "font": {
           "color": "#2a3f5f"
          },
          "geo": {
           "bgcolor": "white",
           "lakecolor": "white",
           "landcolor": "#E5ECF6",
           "showlakes": true,
           "showland": true,
           "subunitcolor": "white"
          },
          "hoverlabel": {
           "align": "left"
          },
          "hovermode": "closest",
          "mapbox": {
           "style": "light"
          },
          "paper_bgcolor": "white",
          "plot_bgcolor": "#E5ECF6",
          "polar": {
           "angularaxis": {
            "gridcolor": "white",
            "linecolor": "white",
            "ticks": ""
           },
           "bgcolor": "#E5ECF6",
           "radialaxis": {
            "gridcolor": "white",
            "linecolor": "white",
            "ticks": ""
           }
          },
          "scene": {
           "xaxis": {
            "backgroundcolor": "#E5ECF6",
            "gridcolor": "white",
            "gridwidth": 2,
            "linecolor": "white",
            "showbackground": true,
            "ticks": "",
            "zerolinecolor": "white"
           },
           "yaxis": {
            "backgroundcolor": "#E5ECF6",
            "gridcolor": "white",
            "gridwidth": 2,
            "linecolor": "white",
            "showbackground": true,
            "ticks": "",
            "zerolinecolor": "white"
           },
           "zaxis": {
            "backgroundcolor": "#E5ECF6",
            "gridcolor": "white",
            "gridwidth": 2,
            "linecolor": "white",
            "showbackground": true,
            "ticks": "",
            "zerolinecolor": "white"
           }
          },
          "shapedefaults": {
           "line": {
            "color": "#2a3f5f"
           }
          },
          "ternary": {
           "aaxis": {
            "gridcolor": "white",
            "linecolor": "white",
            "ticks": ""
           },
           "baxis": {
            "gridcolor": "white",
            "linecolor": "white",
            "ticks": ""
           },
           "bgcolor": "#E5ECF6",
           "caxis": {
            "gridcolor": "white",
            "linecolor": "white",
            "ticks": ""
           }
          },
          "title": {
           "x": 0.05
          },
          "xaxis": {
           "automargin": true,
           "gridcolor": "white",
           "linecolor": "white",
           "ticks": "",
           "title": {
            "standoff": 15
           },
           "zerolinecolor": "white",
           "zerolinewidth": 2
          },
          "yaxis": {
           "automargin": true,
           "gridcolor": "white",
           "linecolor": "white",
           "ticks": "",
           "title": {
            "standoff": 15
           },
           "zerolinecolor": "white",
           "zerolinewidth": 2
          }
         }
        },
        "title": {
         "text": "Relación entre casos totales confirmados y muertes totales confirmadas (escala en log10)"
        },
        "xaxis": {
         "anchor": "y",
         "domain": [
          0,
          1
         ],
         "rangeslider": {
          "visible": true
         },
         "title": {
          "text": "TotalConfirmed"
         },
         "type": "log"
        },
        "yaxis": {
         "anchor": "x",
         "domain": [
          0,
          1
         ],
         "title": {
          "text": "TotalDeaths"
         },
         "type": "log"
        }
       }
      }
     },
     "metadata": {},
     "output_type": "display_data"
    }
   ],
   "source": [
    "fig = px.scatter(df_clean.sort_values('TotalDeaths', ascending=False).iloc[:20, :], \n",
    "                 x='TotalConfirmed', y='TotalDeaths', color='Country', size='TotalConfirmed', height=700,\n",
    "                 text='Country', log_x=True, log_y=True, title='Relación entre casos totales confirmados y muertes totales confirmadas (escala en log10)')\n",
    "fig.update_traces(textposition='top center')\n",
    "fig.update_layout(showlegend=False)\n",
    "fig.update_layout(xaxis_rangeslider_visible=True)\n",
    "fig.show()"
   ]
  },
  {
   "cell_type": "code",
   "execution_count": 235,
   "metadata": {},
   "outputs": [
    {
     "data": {
      "text/plain": [
       "Text(0, 0.5, 'Muertes totales')"
      ]
     },
     "execution_count": 235,
     "metadata": {},
     "output_type": "execute_result"
    },
    {
     "data": {
      "image/png": "[encoded data removed]",
      "text/plain": [
       "<Figure size 432x288 with 1 Axes>"
      ]
     },
     "metadata": {
      "needs_background": "light"
     },
     "output_type": "display_data"
    }
   ],
   "source": [
    "ratio_mortalidad_casostotales_top10 = df_clean.groupby('Country').max().sort_values('ratio_mortalidad_casostotales', ascending=False)[:10]\n",
    "\n",
    "ax = sns.histplot(data=ratio_mortalidad_casostotales_top10 , x=\"ratio_mortalidad_casostotales\", hue=\"Country\", multiple=\"stack\")\n",
    "ax.set_title('Tasa de mortalidad (muertes totales/casos totales')\n",
    "ax.set_xlabel('Casos confirmados totales')\n",
    "ax.set_ylabel('Muertes totales')\n"
   ]
  },
  {
   "cell_type": "code",
   "execution_count": 236,
   "metadata": {},
   "outputs": [
    {
     "data": {
      "text/plain": [
       "Text(17.200000000000003, 0.5, 'Nuevas muertes')"
      ]
     },
     "execution_count": 236,
     "metadata": {},
     "output_type": "execute_result"
    },
    {
     "data": {
      "image/png": "[encoded data removed]",
      "text/plain": [
       "<Figure size 432x288 with 1 Axes>"
      ]
     },
     "metadata": {
      "needs_background": "light"
     },
     "output_type": "display_data"
    }
   ],
   "source": [
    "nuevo_ratio_mortalidad_casostotales_top10 = df_clean.groupby('Country').max().sort_values('ratio_nuevo_mortalidad_casostotales', ascending=False)[:10]\n",
    "\n",
    "sns.histplot(data=nuevo_ratio_mortalidad_casostotales_top10 , x=\"ratio_nuevo_mortalidad_casostotales\", hue=\"Country\", multiple=\"stack\")\n",
    "ax.set_title('Tasa de mortalidad (nuevas muertes totales/nuevos casos totales')\n",
    "ax.set_xlabel('Nuevos casos confirmados')\n",
    "ax.set_ylabel('Nuevas muertes')"
   ]
  },
  {
   "cell_type": "code",
   "execution_count": 237,
   "metadata": {},
   "outputs": [
    {
     "data": {
      "application/vnd.plotly.v1+json": {
       "config": {
        "plotlyServerURL": "https://plot.ly"
       },
       "data": [
        {
         "alignmentgroup": "True",
         "hovertemplate": "Casos confirmados=%{x}<br>País=%{y}<extra></extra>",
         "legendgroup": "",
         "marker": {
          "color": "green",
          "pattern": {
           "shape": ""
          }
         },
         "name": "",
         "offsetgroup": "",
         "orientation": "h",
         "showlegend": false,
         "textposition": "auto",
         "type": "bar",
         "x": [
          103802702,
          44690738,
          39866718,
          38249060,
          37076053,
          33320438,
          30615522,
          25603510,
          24658705,
          22075858
         ],
         "xaxis": "x",
         "y": [
          "United States of America",
          "India",
          "France",
          "Germany",
          "Brazil",
          "Japan",
          "Korea (South)",
          "Italy",
          "United Kingdom",
          "Russian Federation"
         ],
         "yaxis": "y"
        }
       ],
       "layout": {
        "barmode": "relative",
        "legend": {
         "tracegroupgap": 0
        },
        "template": {
         "data": {
          "bar": [
           {
            "error_x": {
             "color": "#2a3f5f"
            },
            "error_y": {
             "color": "#2a3f5f"
            },
            "marker": {
             "line": {
              "color": "#E5ECF6",
              "width": 0.5
             },
             "pattern": {
              "fillmode": "overlay",
              "size": 10,
              "solidity": 0.2
             }
            },
            "type": "bar"
           }
          ],
          "barpolar": [
           {
            "marker": {
             "line": {
              "color": "#E5ECF6",
              "width": 0.5
             },
             "pattern": {
              "fillmode": "overlay",
              "size": 10,
              "solidity": 0.2
             }
            },
            "type": "barpolar"
           }
          ],
          "carpet": [
           {
            "aaxis": {
             "endlinecolor": "#2a3f5f",
             "gridcolor": "white",
             "linecolor": "white",
             "minorgridcolor": "white",
             "startlinecolor": "#2a3f5f"
            },
            "baxis": {
             "endlinecolor": "#2a3f5f",
             "gridcolor": "white",
             "linecolor": "white",
             "minorgridcolor": "white",
             "startlinecolor": "#2a3f5f"
            },
            "type": "carpet"
           }
          ],
          "choropleth": [
           {
            "colorbar": {
             "outlinewidth": 0,
             "ticks": ""
            },
            "type": "choropleth"
           }
          ],
          "contour": [
           {
            "colorbar": {
             "outlinewidth": 0,
             "ticks": ""
            },
            "colorscale": [
             [
              0,
              "#0d0887"
             ],
             [
              0.1111111111111111,
              "#46039f"
             ],
             [
              0.2222222222222222,
              "#7201a8"
             ],
             [
              0.3333333333333333,
              "#9c179e"
             ],
             [
              0.4444444444444444,
              "#bd3786"
             ],
             [
              0.5555555555555556,
              "#d8576b"
             ],
             [
              0.6666666666666666,
              "#ed7953"
             ],
             [
              0.7777777777777778,
              "#fb9f3a"
             ],
             [
              0.8888888888888888,
              "#fdca26"
             ],
             [
              1,
              "#f0f921"
             ]
            ],
            "type": "contour"
           }
          ],
          "contourcarpet": [
           {
            "colorbar": {
             "outlinewidth": 0,
             "ticks": ""
            },
            "type": "contourcarpet"
           }
          ],
          "heatmap": [
           {
            "colorbar": {
             "outlinewidth": 0,
             "ticks": ""
            },
            "colorscale": [
             [
              0,
              "#0d0887"
             ],
             [
              0.1111111111111111,
              "#46039f"
             ],
             [
              0.2222222222222222,
              "#7201a8"
             ],
             [
              0.3333333333333333,
              "#9c179e"
             ],
             [
              0.4444444444444444,
              "#bd3786"
             ],
             [
              0.5555555555555556,
              "#d8576b"
             ],
             [
              0.6666666666666666,
              "#ed7953"
             ],
             [
              0.7777777777777778,
              "#fb9f3a"
             ],
             [
              0.8888888888888888,
              "#fdca26"
             ],
             [
              1,
              "#f0f921"
             ]
            ],
            "type": "heatmap"
           }
          ],
          "heatmapgl": [
           {
            "colorbar": {
             "outlinewidth": 0,
             "ticks": ""
            },
            "colorscale": [
             [
              0,
              "#0d0887"
             ],
             [
              0.1111111111111111,
              "#46039f"
             ],
             [
              0.2222222222222222,
              "#7201a8"
             ],
             [
              0.3333333333333333,
              "#9c179e"
             ],
             [
              0.4444444444444444,
              "#bd3786"
             ],
             [
              0.5555555555555556,
              "#d8576b"
             ],
             [
              0.6666666666666666,
              "#ed7953"
             ],
             [
              0.7777777777777778,
              "#fb9f3a"
             ],
             [
              0.8888888888888888,
              "#fdca26"
             ],
             [
              1,
              "#f0f921"
             ]
            ],
            "type": "heatmapgl"
           }
          ],
          "histogram": [
           {
            "marker": {
             "pattern": {
              "fillmode": "overlay",
              "size": 10,
              "solidity": 0.2
             }
            },
            "type": "histogram"
           }
          ],
          "histogram2d": [
           {
            "colorbar": {
             "outlinewidth": 0,
             "ticks": ""
            },
            "colorscale": [
             [
              0,
              "#0d0887"
             ],
             [
              0.1111111111111111,
              "#46039f"
             ],
             [
              0.2222222222222222,
              "#7201a8"
             ],
             [
              0.3333333333333333,
              "#9c179e"
             ],
             [
              0.4444444444444444,
              "#bd3786"
             ],
             [
              0.5555555555555556,
              "#d8576b"
             ],
             [
              0.6666666666666666,
              "#ed7953"
             ],
             [
              0.7777777777777778,
              "#fb9f3a"
             ],
             [
              0.8888888888888888,
              "#fdca26"
             ],
             [
              1,
              "#f0f921"
             ]
            ],
            "type": "histogram2d"
           }
          ],
          "histogram2dcontour": [
           {
            "colorbar": {
             "outlinewidth": 0,
             "ticks": ""
            },
            "colorscale": [
             [
              0,
              "#0d0887"
             ],
             [
              0.1111111111111111,
              "#46039f"
             ],
             [
              0.2222222222222222,
              "#7201a8"
             ],
             [
              0.3333333333333333,
              "#9c179e"
             ],
             [
              0.4444444444444444,
              "#bd3786"
             ],
             [
              0.5555555555555556,
              "#d8576b"
             ],
             [
              0.6666666666666666,
              "#ed7953"
             ],
             [
              0.7777777777777778,
              "#fb9f3a"
             ],
             [
              0.8888888888888888,
              "#fdca26"
             ],
             [
              1,
              "#f0f921"
             ]
            ],
            "type": "histogram2dcontour"
           }
          ],
          "mesh3d": [
           {
            "colorbar": {
             "outlinewidth": 0,
             "ticks": ""
            },
            "type": "mesh3d"
           }
          ],
          "parcoords": [
           {
            "line": {
             "colorbar": {
              "outlinewidth": 0,
              "ticks": ""
             }
            },
            "type": "parcoords"
           }
          ],
          "pie": [
           {
            "automargin": true,
            "type": "pie"
           }
          ],
          "scatter": [
           {
            "fillpattern": {
             "fillmode": "overlay",
             "size": 10,
             "solidity": 0.2
            },
            "type": "scatter"
           }
          ],
          "scatter3d": [
           {
            "line": {
             "colorbar": {
              "outlinewidth": 0,
              "ticks": ""
             }
            },
            "marker": {
             "colorbar": {
              "outlinewidth": 0,
              "ticks": ""
             }
            },
            "type": "scatter3d"
           }
          ],
          "scattercarpet": [
           {
            "marker": {
             "colorbar": {
              "outlinewidth": 0,
              "ticks": ""
             }
            },
            "type": "scattercarpet"
           }
          ],
          "scattergeo": [
           {
            "marker": {
             "colorbar": {
              "outlinewidth": 0,
              "ticks": ""
             }
            },
            "type": "scattergeo"
           }
          ],
          "scattergl": [
           {
            "marker": {
             "colorbar": {
              "outlinewidth": 0,
              "ticks": ""
             }
            },
            "type": "scattergl"
           }
          ],
          "scattermapbox": [
           {
            "marker": {
             "colorbar": {
              "outlinewidth": 0,
              "ticks": ""
             }
            },
            "type": "scattermapbox"
           }
          ],
          "scatterpolar": [
           {
            "marker": {
             "colorbar": {
              "outlinewidth": 0,
              "ticks": ""
             }
            },
            "type": "scatterpolar"
           }
          ],
          "scatterpolargl": [
           {
            "marker": {
             "colorbar": {
              "outlinewidth": 0,
              "ticks": ""
             }
            },
            "type": "scatterpolargl"
           }
          ],
          "scatterternary": [
           {
            "marker": {
             "colorbar": {
              "outlinewidth": 0,
              "ticks": ""
             }
            },
            "type": "scatterternary"
           }
          ],
          "surface": [
           {
            "colorbar": {
             "outlinewidth": 0,
             "ticks": ""
            },
            "colorscale": [
             [
              0,
              "#0d0887"
             ],
             [
              0.1111111111111111,
              "#46039f"
             ],
             [
              0.2222222222222222,
              "#7201a8"
             ],
             [
              0.3333333333333333,
              "#9c179e"
             ],
             [
              0.4444444444444444,
              "#bd3786"
             ],
             [
              0.5555555555555556,
              "#d8576b"
             ],
             [
              0.6666666666666666,
              "#ed7953"
             ],
             [
              0.7777777777777778,
              "#fb9f3a"
             ],
             [
              0.8888888888888888,
              "#fdca26"
             ],
             [
              1,
              "#f0f921"
             ]
            ],
            "type": "surface"
           }
          ],
          "table": [
           {
            "cells": {
             "fill": {
              "color": "#EBF0F8"
             },
             "line": {
              "color": "white"
             }
            },
            "header": {
             "fill": {
              "color": "#C8D4E3"
             },
             "line": {
              "color": "white"
             }
            },
            "type": "table"
           }
          ]
         },
         "layout": {
          "annotationdefaults": {
           "arrowcolor": "#2a3f5f",
           "arrowhead": 0,
           "arrowwidth": 1
          },
          "autotypenumbers": "strict",
          "coloraxis": {
           "colorbar": {
            "outlinewidth": 0,
            "ticks": ""
           }
          },
          "colorscale": {
           "diverging": [
            [
             0,
             "#8e0152"
            ],
            [
             0.1,
             "#c51b7d"
            ],
            [
             0.2,
             "#de77ae"
            ],
            [
             0.3,
             "#f1b6da"
            ],
            [
             0.4,
             "#fde0ef"
            ],
            [
             0.5,
             "#f7f7f7"
            ],
            [
             0.6,
             "#e6f5d0"
            ],
            [
             0.7,
             "#b8e186"
            ],
            [
             0.8,
             "#7fbc41"
            ],
            [
             0.9,
             "#4d9221"
            ],
            [
             1,
             "#276419"
            ]
           ],
           "sequential": [
            [
             0,
             "#0d0887"
            ],
            [
             0.1111111111111111,
             "#46039f"
            ],
            [
             0.2222222222222222,
             "#7201a8"
            ],
            [
             0.3333333333333333,
             "#9c179e"
            ],
            [
             0.4444444444444444,
             "#bd3786"
            ],
            [
             0.5555555555555556,
             "#d8576b"
            ],
            [
             0.6666666666666666,
             "#ed7953"
            ],
            [
             0.7777777777777778,
             "#fb9f3a"
            ],
            [
             0.8888888888888888,
             "#fdca26"
            ],
            [
             1,
             "#f0f921"
            ]
           ],
           "sequentialminus": [
            [
             0,
             "#0d0887"
            ],
            [
             0.1111111111111111,
             "#46039f"
            ],
            [
             0.2222222222222222,
             "#7201a8"
            ],
            [
             0.3333333333333333,
             "#9c179e"
            ],
            [
             0.4444444444444444,
             "#bd3786"
            ],
            [
             0.5555555555555556,
             "#d8576b"
            ],
            [
             0.6666666666666666,
             "#ed7953"
            ],
            [
             0.7777777777777778,
             "#fb9f3a"
            ],
            [
             0.8888888888888888,
             "#fdca26"
            ],
            [
             1,
             "#f0f921"
            ]
           ]
          },
          "colorway": [
           "#636efa",
           "#EF553B",
           "#00cc96",
           "#ab63fa",
           "#FFA15A",
           "#19d3f3",
           "#FF6692",
           "#B6E880",
           "#FF97FF",
           "#FECB52"
          ],
          "font": {
           "color": "#2a3f5f"
          },
          "geo": {
           "bgcolor": "white",
           "lakecolor": "white",
           "landcolor": "#E5ECF6",
           "showlakes": true,
           "showland": true,
           "subunitcolor": "white"
          },
          "hoverlabel": {
           "align": "left"
          },
          "hovermode": "closest",
          "mapbox": {
           "style": "light"
          },
          "paper_bgcolor": "white",
          "plot_bgcolor": "#E5ECF6",
          "polar": {
           "angularaxis": {
            "gridcolor": "white",
            "linecolor": "white",
            "ticks": ""
           },
           "bgcolor": "#E5ECF6",
           "radialaxis": {
            "gridcolor": "white",
            "linecolor": "white",
            "ticks": ""
           }
          },
          "scene": {
           "xaxis": {
            "backgroundcolor": "#E5ECF6",
            "gridcolor": "white",
            "gridwidth": 2,
            "linecolor": "white",
            "showbackground": true,
            "ticks": "",
            "zerolinecolor": "white"
           },
           "yaxis": {
            "backgroundcolor": "#E5ECF6",
            "gridcolor": "white",
            "gridwidth": 2,
            "linecolor": "white",
            "showbackground": true,
            "ticks": "",
            "zerolinecolor": "white"
           },
           "zaxis": {
            "backgroundcolor": "#E5ECF6",
            "gridcolor": "white",
            "gridwidth": 2,
            "linecolor": "white",
            "showbackground": true,
            "ticks": "",
            "zerolinecolor": "white"
           }
          },
          "shapedefaults": {
           "line": {
            "color": "#2a3f5f"
           }
          },
          "ternary": {
           "aaxis": {
            "gridcolor": "white",
            "linecolor": "white",
            "ticks": ""
           },
           "baxis": {
            "gridcolor": "white",
            "linecolor": "white",
            "ticks": ""
           },
           "bgcolor": "#E5ECF6",
           "caxis": {
            "gridcolor": "white",
            "linecolor": "white",
            "ticks": ""
           }
          },
          "title": {
           "x": 0.05
          },
          "xaxis": {
           "automargin": true,
           "gridcolor": "white",
           "linecolor": "white",
           "ticks": "",
           "title": {
            "standoff": 15
           },
           "zerolinecolor": "white",
           "zerolinewidth": 2
          },
          "yaxis": {
           "automargin": true,
           "gridcolor": "white",
           "linecolor": "white",
           "ticks": "",
           "title": {
            "standoff": 15
           },
           "zerolinecolor": "white",
           "zerolinewidth": 2
          }
         }
        },
        "title": {
         "text": "Top 10 paises con casos confirmados"
        },
        "xaxis": {
         "anchor": "y",
         "domain": [
          0,
          1
         ],
         "title": {
          "text": "Casos confirmados"
         }
        },
        "yaxis": {
         "anchor": "x",
         "categoryorder": "total ascending",
         "domain": [
          0,
          1
         ],
         "title": {
          "text": "País"
         }
        }
       }
      }
     },
     "metadata": {},
     "output_type": "display_data"
    }
   ],
   "source": [
    "def horizontal_bar_chart(df, x, y, title, x_label, y_label, color):\n",
    "    fig = px.bar(df, x=x, y=y, orientation='h', title=title, \n",
    "                 labels={x.name: x_label,\n",
    "                         y.name: y_label}, color_discrete_sequence=[color])\n",
    "    fig.update_layout(yaxis={'categoryorder': 'total ascending'})\n",
    "    fig.show()\n",
    "    \n",
    "TotalConfirmed_top10 = df_clean.groupby('Country').max().sort_values('TotalConfirmed', ascending=False)[:10]\n",
    "horizontal_bar_chart(TotalConfirmed_top10,TotalConfirmed_top10.TotalConfirmed, TotalConfirmed_top10.index,\n",
    "                     'Top 10 paises con casos confirmados', 'Casos confirmados','País','green')"
   ]
  },
  {
   "cell_type": "code",
   "execution_count": 238,
   "metadata": {},
   "outputs": [
    {
     "data": {
      "application/vnd.plotly.v1+json": {
       "config": {
        "plotlyServerURL": "https://plot.ly"
       },
       "data": [
        {
         "alignmentgroup": "True",
         "hovertemplate": "Muertes confirmadas=%{x}<br>País=%{y}<extra></extra>",
         "legendgroup": "",
         "marker": {
          "color": "black",
          "pattern": {
           "shape": ""
          }
         },
         "name": "",
         "offsetgroup": "",
         "orientation": "h",
         "showlegend": false,
         "textposition": "auto",
         "type": "bar",
         "x": [
          1123836,
          699276,
          530779,
          388478,
          333188,
          220721,
          219539,
          188322,
          168935,
          166176
         ],
         "xaxis": "x",
         "y": [
          "United States of America",
          "Brazil",
          "India",
          "Russian Federation",
          "Mexico",
          "United Kingdom",
          "Peru",
          "Italy",
          "Germany",
          "France"
         ],
         "yaxis": "y"
        }
       ],
       "layout": {
        "barmode": "relative",
        "legend": {
         "tracegroupgap": 0
        },
        "template": {
         "data": {
          "bar": [
           {
            "error_x": {
             "color": "#2a3f5f"
            },
            "error_y": {
             "color": "#2a3f5f"
            },
            "marker": {
             "line": {
              "color": "#E5ECF6",
              "width": 0.5
             },
             "pattern": {
              "fillmode": "overlay",
              "size": 10,
              "solidity": 0.2
             }
            },
            "type": "bar"
           }
          ],
          "barpolar": [
           {
            "marker": {
             "line": {
              "color": "#E5ECF6",
              "width": 0.5
             },
             "pattern": {
              "fillmode": "overlay",
              "size": 10,
              "solidity": 0.2
             }
            },
            "type": "barpolar"
           }
          ],
          "carpet": [
           {
            "aaxis": {
             "endlinecolor": "#2a3f5f",
             "gridcolor": "white",
             "linecolor": "white",
             "minorgridcolor": "white",
             "startlinecolor": "#2a3f5f"
            },
            "baxis": {
             "endlinecolor": "#2a3f5f",
             "gridcolor": "white",
             "linecolor": "white",
             "minorgridcolor": "white",
             "startlinecolor": "#2a3f5f"
            },
            "type": "carpet"
           }
          ],
          "choropleth": [
           {
            "colorbar": {
             "outlinewidth": 0,
             "ticks": ""
            },
            "type": "choropleth"
           }
          ],
          "contour": [
           {
            "colorbar": {
             "outlinewidth": 0,
             "ticks": ""
            },
            "colorscale": [
             [
              0,
              "#0d0887"
             ],
             [
              0.1111111111111111,
              "#46039f"
             ],
             [
              0.2222222222222222,
              "#7201a8"
             ],
             [
              0.3333333333333333,
              "#9c179e"
             ],
             [
              0.4444444444444444,
              "#bd3786"
             ],
             [
              0.5555555555555556,
              "#d8576b"
             ],
             [
              0.6666666666666666,
              "#ed7953"
             ],
             [
              0.7777777777777778,
              "#fb9f3a"
             ],
             [
              0.8888888888888888,
              "#fdca26"
             ],
             [
              1,
              "#f0f921"
             ]
            ],
            "type": "contour"
           }
          ],
          "contourcarpet": [
           {
            "colorbar": {
             "outlinewidth": 0,
             "ticks": ""
            },
            "type": "contourcarpet"
           }
          ],
          "heatmap": [
           {
            "colorbar": {
             "outlinewidth": 0,
             "ticks": ""
            },
            "colorscale": [
             [
              0,
              "#0d0887"
             ],
             [
              0.1111111111111111,
              "#46039f"
             ],
             [
              0.2222222222222222,
              "#7201a8"
             ],
             [
              0.3333333333333333,
              "#9c179e"
             ],
             [
              0.4444444444444444,
              "#bd3786"
             ],
             [
              0.5555555555555556,
              "#d8576b"
             ],
             [
              0.6666666666666666,
              "#ed7953"
             ],
             [
              0.7777777777777778,
              "#fb9f3a"
             ],
             [
              0.8888888888888888,
              "#fdca26"
             ],
             [
              1,
              "#f0f921"
             ]
            ],
            "type": "heatmap"
           }
          ],
          "heatmapgl": [
           {
            "colorbar": {
             "outlinewidth": 0,
             "ticks": ""
            },
            "colorscale": [
             [
              0,
              "#0d0887"
             ],
             [
              0.1111111111111111,
              "#46039f"
             ],
             [
              0.2222222222222222,
              "#7201a8"
             ],
             [
              0.3333333333333333,
              "#9c179e"
             ],
             [
              0.4444444444444444,
              "#bd3786"
             ],
             [
              0.5555555555555556,
              "#d8576b"
             ],
             [
              0.6666666666666666,
              "#ed7953"
             ],
             [
              0.7777777777777778,
              "#fb9f3a"
             ],
             [
              0.8888888888888888,
              "#fdca26"
             ],
             [
              1,
              "#f0f921"
             ]
            ],
            "type": "heatmapgl"
           }
          ],
          "histogram": [
           {
            "marker": {
             "pattern": {
              "fillmode": "overlay",
              "size": 10,
              "solidity": 0.2
             }
            },
            "type": "histogram"
           }
          ],
          "histogram2d": [
           {
            "colorbar": {
             "outlinewidth": 0,
             "ticks": ""
            },
            "colorscale": [
             [
              0,
              "#0d0887"
             ],
             [
              0.1111111111111111,
              "#46039f"
             ],
             [
              0.2222222222222222,
              "#7201a8"
             ],
             [
              0.3333333333333333,
              "#9c179e"
             ],
             [
              0.4444444444444444,
              "#bd3786"
             ],
             [
              0.5555555555555556,
              "#d8576b"
             ],
             [
              0.6666666666666666,
              "#ed7953"
             ],
             [
              0.7777777777777778,
              "#fb9f3a"
             ],
             [
              0.8888888888888888,
              "#fdca26"
             ],
             [
              1,
              "#f0f921"
             ]
            ],
            "type": "histogram2d"
           }
          ],
          "histogram2dcontour": [
           {
            "colorbar": {
             "outlinewidth": 0,
             "ticks": ""
            },
            "colorscale": [
             [
              0,
              "#0d0887"
             ],
             [
              0.1111111111111111,
              "#46039f"
             ],
             [
              0.2222222222222222,
              "#7201a8"
             ],
             [
              0.3333333333333333,
              "#9c179e"
             ],
             [
              0.4444444444444444,
              "#bd3786"
             ],
             [
              0.5555555555555556,
              "#d8576b"
             ],
             [
              0.6666666666666666,
              "#ed7953"
             ],
             [
              0.7777777777777778,
              "#fb9f3a"
             ],
             [
              0.8888888888888888,
              "#fdca26"
             ],
             [
              1,
              "#f0f921"
             ]
            ],
            "type": "histogram2dcontour"
           }
          ],
          "mesh3d": [
           {
            "colorbar": {
             "outlinewidth": 0,
             "ticks": ""
            },
            "type": "mesh3d"
           }
          ],
          "parcoords": [
           {
            "line": {
             "colorbar": {
              "outlinewidth": 0,
              "ticks": ""
             }
            },
            "type": "parcoords"
           }
          ],
          "pie": [
           {
            "automargin": true,
            "type": "pie"
           }
          ],
          "scatter": [
           {
            "fillpattern": {
             "fillmode": "overlay",
             "size": 10,
             "solidity": 0.2
            },
            "type": "scatter"
           }
          ],
          "scatter3d": [
           {
            "line": {
             "colorbar": {
              "outlinewidth": 0,
              "ticks": ""
             }
            },
            "marker": {
             "colorbar": {
              "outlinewidth": 0,
              "ticks": ""
             }
            },
            "type": "scatter3d"
           }
          ],
          "scattercarpet": [
           {
            "marker": {
             "colorbar": {
              "outlinewidth": 0,
              "ticks": ""
             }
            },
            "type": "scattercarpet"
           }
          ],
          "scattergeo": [
           {
            "marker": {
             "colorbar": {
              "outlinewidth": 0,
              "ticks": ""
             }
            },
            "type": "scattergeo"
           }
          ],
          "scattergl": [
           {
            "marker": {
             "colorbar": {
              "outlinewidth": 0,
              "ticks": ""
             }
            },
            "type": "scattergl"
           }
          ],
          "scattermapbox": [
           {
            "marker": {
             "colorbar": {
              "outlinewidth": 0,
              "ticks": ""
             }
            },
            "type": "scattermapbox"
           }
          ],
          "scatterpolar": [
           {
            "marker": {
             "colorbar": {
              "outlinewidth": 0,
              "ticks": ""
             }
            },
            "type": "scatterpolar"
           }
          ],
          "scatterpolargl": [
           {
            "marker": {
             "colorbar": {
              "outlinewidth": 0,
              "ticks": ""
             }
            },
            "type": "scatterpolargl"
           }
          ],
          "scatterternary": [
           {
            "marker": {
             "colorbar": {
              "outlinewidth": 0,
              "ticks": ""
             }
            },
            "type": "scatterternary"
           }
          ],
          "surface": [
           {
            "colorbar": {
             "outlinewidth": 0,
             "ticks": ""
            },
            "colorscale": [
             [
              0,
              "#0d0887"
             ],
             [
              0.1111111111111111,
              "#46039f"
             ],
             [
              0.2222222222222222,
              "#7201a8"
             ],
             [
              0.3333333333333333,
              "#9c179e"
             ],
             [
              0.4444444444444444,
              "#bd3786"
             ],
             [
              0.5555555555555556,
              "#d8576b"
             ],
             [
              0.6666666666666666,
              "#ed7953"
             ],
             [
              0.7777777777777778,
              "#fb9f3a"
             ],
             [
              0.8888888888888888,
              "#fdca26"
             ],
             [
              1,
              "#f0f921"
             ]
            ],
            "type": "surface"
           }
          ],
          "table": [
           {
            "cells": {
             "fill": {
              "color": "#EBF0F8"
             },
             "line": {
              "color": "white"
             }
            },
            "header": {
             "fill": {
              "color": "#C8D4E3"
             },
             "line": {
              "color": "white"
             }
            },
            "type": "table"
           }
          ]
         },
         "layout": {
          "annotationdefaults": {
           "arrowcolor": "#2a3f5f",
           "arrowhead": 0,
           "arrowwidth": 1
          },
          "autotypenumbers": "strict",
          "coloraxis": {
           "colorbar": {
            "outlinewidth": 0,
            "ticks": ""
           }
          },
          "colorscale": {
           "diverging": [
            [
             0,
             "#8e0152"
            ],
            [
             0.1,
             "#c51b7d"
            ],
            [
             0.2,
             "#de77ae"
            ],
            [
             0.3,
             "#f1b6da"
            ],
            [
             0.4,
             "#fde0ef"
            ],
            [
             0.5,
             "#f7f7f7"
            ],
            [
             0.6,
             "#e6f5d0"
            ],
            [
             0.7,
             "#b8e186"
            ],
            [
             0.8,
             "#7fbc41"
            ],
            [
             0.9,
             "#4d9221"
            ],
            [
             1,
             "#276419"
            ]
           ],
           "sequential": [
            [
             0,
             "#0d0887"
            ],
            [
             0.1111111111111111,
             "#46039f"
            ],
            [
             0.2222222222222222,
             "#7201a8"
            ],
            [
             0.3333333333333333,
             "#9c179e"
            ],
            [
             0.4444444444444444,
             "#bd3786"
            ],
            [
             0.5555555555555556,
             "#d8576b"
            ],
            [
             0.6666666666666666,
             "#ed7953"
            ],
            [
             0.7777777777777778,
             "#fb9f3a"
            ],
            [
             0.8888888888888888,
             "#fdca26"
            ],
            [
             1,
             "#f0f921"
            ]
           ],
           "sequentialminus": [
            [
             0,
             "#0d0887"
            ],
            [
             0.1111111111111111,
             "#46039f"
            ],
            [
             0.2222222222222222,
             "#7201a8"
            ],
            [
             0.3333333333333333,
             "#9c179e"
            ],
            [
             0.4444444444444444,
             "#bd3786"
            ],
            [
             0.5555555555555556,
             "#d8576b"
            ],
            [
             0.6666666666666666,
             "#ed7953"
            ],
            [
             0.7777777777777778,
             "#fb9f3a"
            ],
            [
             0.8888888888888888,
             "#fdca26"
            ],
            [
             1,
             "#f0f921"
            ]
           ]
          },
          "colorway": [
           "#636efa",
           "#EF553B",
           "#00cc96",
           "#ab63fa",
           "#FFA15A",
           "#19d3f3",
           "#FF6692",
           "#B6E880",
           "#FF97FF",
           "#FECB52"
          ],
          "font": {
           "color": "#2a3f5f"
          },
          "geo": {
           "bgcolor": "white",
           "lakecolor": "white",
           "landcolor": "#E5ECF6",
           "showlakes": true,
           "showland": true,
           "subunitcolor": "white"
          },
          "hoverlabel": {
           "align": "left"
          },
          "hovermode": "closest",
          "mapbox": {
           "style": "light"
          },
          "paper_bgcolor": "white",
          "plot_bgcolor": "#E5ECF6",
          "polar": {
           "angularaxis": {
            "gridcolor": "white",
            "linecolor": "white",
            "ticks": ""
           },
           "bgcolor": "#E5ECF6",
           "radialaxis": {
            "gridcolor": "white",
            "linecolor": "white",
            "ticks": ""
           }
          },
          "scene": {
           "xaxis": {
            "backgroundcolor": "#E5ECF6",
            "gridcolor": "white",
            "gridwidth": 2,
            "linecolor": "white",
            "showbackground": true,
            "ticks": "",
            "zerolinecolor": "white"
           },
           "yaxis": {
            "backgroundcolor": "#E5ECF6",
            "gridcolor": "white",
            "gridwidth": 2,
            "linecolor": "white",
            "showbackground": true,
            "ticks": "",
            "zerolinecolor": "white"
           },
           "zaxis": {
            "backgroundcolor": "#E5ECF6",
            "gridcolor": "white",
            "gridwidth": 2,
            "linecolor": "white",
            "showbackground": true,
            "ticks": "",
            "zerolinecolor": "white"
           }
          },
          "shapedefaults": {
           "line": {
            "color": "#2a3f5f"
           }
          },
          "ternary": {
           "aaxis": {
            "gridcolor": "white",
            "linecolor": "white",
            "ticks": ""
           },
           "baxis": {
            "gridcolor": "white",
            "linecolor": "white",
            "ticks": ""
           },
           "bgcolor": "#E5ECF6",
           "caxis": {
            "gridcolor": "white",
            "linecolor": "white",
            "ticks": ""
           }
          },
          "title": {
           "x": 0.05
          },
          "xaxis": {
           "automargin": true,
           "gridcolor": "white",
           "linecolor": "white",
           "ticks": "",
           "title": {
            "standoff": 15
           },
           "zerolinecolor": "white",
           "zerolinewidth": 2
          },
          "yaxis": {
           "automargin": true,
           "gridcolor": "white",
           "linecolor": "white",
           "ticks": "",
           "title": {
            "standoff": 15
           },
           "zerolinecolor": "white",
           "zerolinewidth": 2
          }
         }
        },
        "title": {
         "text": "Top 10 paises con casos de muertes confirmados"
        },
        "xaxis": {
         "anchor": "y",
         "domain": [
          0,
          1
         ],
         "title": {
          "text": "Muertes confirmadas"
         }
        },
        "yaxis": {
         "anchor": "x",
         "categoryorder": "total ascending",
         "domain": [
          0,
          1
         ],
         "title": {
          "text": "País"
         }
        }
       }
      }
     },
     "metadata": {},
     "output_type": "display_data"
    }
   ],
   "source": [
    "TotalDeaths_top10 = df_clean.groupby('Country').max().sort_values('TotalDeaths', ascending=False)[:10]\n",
    "horizontal_bar_chart(TotalDeaths_top10,TotalDeaths_top10.TotalDeaths, TotalDeaths_top10.index,\n",
    "                     'Top 10 paises con casos de muertes confirmados', 'Muertes confirmadas','País','black')"
   ]
  },
  {
   "cell_type": "code",
   "execution_count": 239,
   "metadata": {},
   "outputs": [
    {
     "data": {
      "application/vnd.plotly.v1+json": {
       "config": {
        "plotlyServerURL": "https://plot.ly"
       },
       "data": [
        {
         "alignmentgroup": "True",
         "hovertemplate": "Nuevos fallecimientos=%{x}<br>País=%{y}<extra></extra>",
         "legendgroup": "",
         "marker": {
          "color": "red",
          "pattern": {
           "shape": ""
          }
         },
         "name": "",
         "offsetgroup": "",
         "orientation": "h",
         "showlegend": false,
         "textposition": "auto",
         "type": "bar",
         "x": [
          590,
          127,
          115,
          86,
          80,
          46,
          39,
          38,
          31,
          21
         ],
         "xaxis": "x",
         "y": [
          "United States of America",
          "Germany",
          "Australia",
          "Canada",
          "Japan",
          "Sweden",
          "Belgium",
          "Russian Federation",
          "Finland",
          "Poland"
         ],
         "yaxis": "y"
        }
       ],
       "layout": {
        "barmode": "relative",
        "legend": {
         "tracegroupgap": 0
        },
        "template": {
         "data": {
          "bar": [
           {
            "error_x": {
             "color": "#2a3f5f"
            },
            "error_y": {
             "color": "#2a3f5f"
            },
            "marker": {
             "line": {
              "color": "#E5ECF6",
              "width": 0.5
             },
             "pattern": {
              "fillmode": "overlay",
              "size": 10,
              "solidity": 0.2
             }
            },
            "type": "bar"
           }
          ],
          "barpolar": [
           {
            "marker": {
             "line": {
              "color": "#E5ECF6",
              "width": 0.5
             },
             "pattern": {
              "fillmode": "overlay",
              "size": 10,
              "solidity": 0.2
             }
            },
            "type": "barpolar"
           }
          ],
          "carpet": [
           {
            "aaxis": {
             "endlinecolor": "#2a3f5f",
             "gridcolor": "white",
             "linecolor": "white",
             "minorgridcolor": "white",
             "startlinecolor": "#2a3f5f"
            },
            "baxis": {
             "endlinecolor": "#2a3f5f",
             "gridcolor": "white",
             "linecolor": "white",
             "minorgridcolor": "white",
             "startlinecolor": "#2a3f5f"
            },
            "type": "carpet"
           }
          ],
          "choropleth": [
           {
            "colorbar": {
             "outlinewidth": 0,
             "ticks": ""
            },
            "type": "choropleth"
           }
          ],
          "contour": [
           {
            "colorbar": {
             "outlinewidth": 0,
             "ticks": ""
            },
            "colorscale": [
             [
              0,
              "#0d0887"
             ],
             [
              0.1111111111111111,
              "#46039f"
             ],
             [
              0.2222222222222222,
              "#7201a8"
             ],
             [
              0.3333333333333333,
              "#9c179e"
             ],
             [
              0.4444444444444444,
              "#bd3786"
             ],
             [
              0.5555555555555556,
              "#d8576b"
             ],
             [
              0.6666666666666666,
              "#ed7953"
             ],
             [
              0.7777777777777778,
              "#fb9f3a"
             ],
             [
              0.8888888888888888,
              "#fdca26"
             ],
             [
              1,
              "#f0f921"
             ]
            ],
            "type": "contour"
           }
          ],
          "contourcarpet": [
           {
            "colorbar": {
             "outlinewidth": 0,
             "ticks": ""
            },
            "type": "contourcarpet"
           }
          ],
          "heatmap": [
           {
            "colorbar": {
             "outlinewidth": 0,
             "ticks": ""
            },
            "colorscale": [
             [
              0,
              "#0d0887"
             ],
             [
              0.1111111111111111,
              "#46039f"
             ],
             [
              0.2222222222222222,
              "#7201a8"
             ],
             [
              0.3333333333333333,
              "#9c179e"
             ],
             [
              0.4444444444444444,
              "#bd3786"
             ],
             [
              0.5555555555555556,
              "#d8576b"
             ],
             [
              0.6666666666666666,
              "#ed7953"
             ],
             [
              0.7777777777777778,
              "#fb9f3a"
             ],
             [
              0.8888888888888888,
              "#fdca26"
             ],
             [
              1,
              "#f0f921"
             ]
            ],
            "type": "heatmap"
           }
          ],
          "heatmapgl": [
           {
            "colorbar": {
             "outlinewidth": 0,
             "ticks": ""
            },
            "colorscale": [
             [
              0,
              "#0d0887"
             ],
             [
              0.1111111111111111,
              "#46039f"
             ],
             [
              0.2222222222222222,
              "#7201a8"
             ],
             [
              0.3333333333333333,
              "#9c179e"
             ],
             [
              0.4444444444444444,
              "#bd3786"
             ],
             [
              0.5555555555555556,
              "#d8576b"
             ],
             [
              0.6666666666666666,
              "#ed7953"
             ],
             [
              0.7777777777777778,
              "#fb9f3a"
             ],
             [
              0.8888888888888888,
              "#fdca26"
             ],
             [
              1,
              "#f0f921"
             ]
            ],
            "type": "heatmapgl"
           }
          ],
          "histogram": [
           {
            "marker": {
             "pattern": {
              "fillmode": "overlay",
              "size": 10,
              "solidity": 0.2
             }
            },
            "type": "histogram"
           }
          ],
          "histogram2d": [
           {
            "colorbar": {
             "outlinewidth": 0,
             "ticks": ""
            },
            "colorscale": [
             [
              0,
              "#0d0887"
             ],
             [
              0.1111111111111111,
              "#46039f"
             ],
             [
              0.2222222222222222,
              "#7201a8"
             ],
             [
              0.3333333333333333,
              "#9c179e"
             ],
             [
              0.4444444444444444,
              "#bd3786"
             ],
             [
              0.5555555555555556,
              "#d8576b"
             ],
             [
              0.6666666666666666,
              "#ed7953"
             ],
             [
              0.7777777777777778,
              "#fb9f3a"
             ],
             [
              0.8888888888888888,
              "#fdca26"
             ],
             [
              1,
              "#f0f921"
             ]
            ],
            "type": "histogram2d"
           }
          ],
          "histogram2dcontour": [
           {
            "colorbar": {
             "outlinewidth": 0,
             "ticks": ""
            },
            "colorscale": [
             [
              0,
              "#0d0887"
             ],
             [
              0.1111111111111111,
              "#46039f"
             ],
             [
              0.2222222222222222,
              "#7201a8"
             ],
             [
              0.3333333333333333,
              "#9c179e"
             ],
             [
              0.4444444444444444,
              "#bd3786"
             ],
             [
              0.5555555555555556,
              "#d8576b"
             ],
             [
              0.6666666666666666,
              "#ed7953"
             ],
             [
              0.7777777777777778,
              "#fb9f3a"
             ],
             [
              0.8888888888888888,
              "#fdca26"
             ],
             [
              1,
              "#f0f921"
             ]
            ],
            "type": "histogram2dcontour"
           }
          ],
          "mesh3d": [
           {
            "colorbar": {
             "outlinewidth": 0,
             "ticks": ""
            },
            "type": "mesh3d"
           }
          ],
          "parcoords": [
           {
            "line": {
             "colorbar": {
              "outlinewidth": 0,
              "ticks": ""
             }
            },
            "type": "parcoords"
           }
          ],
          "pie": [
           {
            "automargin": true,
            "type": "pie"
           }
          ],
          "scatter": [
           {
            "fillpattern": {
             "fillmode": "overlay",
             "size": 10,
             "solidity": 0.2
            },
            "type": "scatter"
           }
          ],
          "scatter3d": [
           {
            "line": {
             "colorbar": {
              "outlinewidth": 0,
              "ticks": ""
             }
            },
            "marker": {
             "colorbar": {
              "outlinewidth": 0,
              "ticks": ""
             }
            },
            "type": "scatter3d"
           }
          ],
          "scattercarpet": [
           {
            "marker": {
             "colorbar": {
              "outlinewidth": 0,
              "ticks": ""
             }
            },
            "type": "scattercarpet"
           }
          ],
          "scattergeo": [
           {
            "marker": {
             "colorbar": {
              "outlinewidth": 0,
              "ticks": ""
             }
            },
            "type": "scattergeo"
           }
          ],
          "scattergl": [
           {
            "marker": {
             "colorbar": {
              "outlinewidth": 0,
              "ticks": ""
             }
            },
            "type": "scattergl"
           }
          ],
          "scattermapbox": [
           {
            "marker": {
             "colorbar": {
              "outlinewidth": 0,
              "ticks": ""
             }
            },
            "type": "scattermapbox"
           }
          ],
          "scatterpolar": [
           {
            "marker": {
             "colorbar": {
              "outlinewidth": 0,
              "ticks": ""
             }
            },
            "type": "scatterpolar"
           }
          ],
          "scatterpolargl": [
           {
            "marker": {
             "colorbar": {
              "outlinewidth": 0,
              "ticks": ""
             }
            },
            "type": "scatterpolargl"
           }
          ],
          "scatterternary": [
           {
            "marker": {
             "colorbar": {
              "outlinewidth": 0,
              "ticks": ""
             }
            },
            "type": "scatterternary"
           }
          ],
          "surface": [
           {
            "colorbar": {
             "outlinewidth": 0,
             "ticks": ""
            },
            "colorscale": [
             [
              0,
              "#0d0887"
             ],
             [
              0.1111111111111111,
              "#46039f"
             ],
             [
              0.2222222222222222,
              "#7201a8"
             ],
             [
              0.3333333333333333,
              "#9c179e"
             ],
             [
              0.4444444444444444,
              "#bd3786"
             ],
             [
              0.5555555555555556,
              "#d8576b"
             ],
             [
              0.6666666666666666,
              "#ed7953"
             ],
             [
              0.7777777777777778,
              "#fb9f3a"
             ],
             [
              0.8888888888888888,
              "#fdca26"
             ],
             [
              1,
              "#f0f921"
             ]
            ],
            "type": "surface"
           }
          ],
          "table": [
           {
            "cells": {
             "fill": {
              "color": "#EBF0F8"
             },
             "line": {
              "color": "white"
             }
            },
            "header": {
             "fill": {
              "color": "#C8D4E3"
             },
             "line": {
              "color": "white"
             }
            },
            "type": "table"
           }
          ]
         },
         "layout": {
          "annotationdefaults": {
           "arrowcolor": "#2a3f5f",
           "arrowhead": 0,
           "arrowwidth": 1
          },
          "autotypenumbers": "strict",
          "coloraxis": {
           "colorbar": {
            "outlinewidth": 0,
            "ticks": ""
           }
          },
          "colorscale": {
           "diverging": [
            [
             0,
             "#8e0152"
            ],
            [
             0.1,
             "#c51b7d"
            ],
            [
             0.2,
             "#de77ae"
            ],
            [
             0.3,
             "#f1b6da"
            ],
            [
             0.4,
             "#fde0ef"
            ],
            [
             0.5,
             "#f7f7f7"
            ],
            [
             0.6,
             "#e6f5d0"
            ],
            [
             0.7,
             "#b8e186"
            ],
            [
             0.8,
             "#7fbc41"
            ],
            [
             0.9,
             "#4d9221"
            ],
            [
             1,
             "#276419"
            ]
           ],
           "sequential": [
            [
             0,
             "#0d0887"
            ],
            [
             0.1111111111111111,
             "#46039f"
            ],
            [
             0.2222222222222222,
             "#7201a8"
            ],
            [
             0.3333333333333333,
             "#9c179e"
            ],
            [
             0.4444444444444444,
             "#bd3786"
            ],
            [
             0.5555555555555556,
             "#d8576b"
            ],
            [
             0.6666666666666666,
             "#ed7953"
            ],
            [
             0.7777777777777778,
             "#fb9f3a"
            ],
            [
             0.8888888888888888,
             "#fdca26"
            ],
            [
             1,
             "#f0f921"
            ]
           ],
           "sequentialminus": [
            [
             0,
             "#0d0887"
            ],
            [
             0.1111111111111111,
             "#46039f"
            ],
            [
             0.2222222222222222,
             "#7201a8"
            ],
            [
             0.3333333333333333,
             "#9c179e"
            ],
            [
             0.4444444444444444,
             "#bd3786"
            ],
            [
             0.5555555555555556,
             "#d8576b"
            ],
            [
             0.6666666666666666,
             "#ed7953"
            ],
            [
             0.7777777777777778,
             "#fb9f3a"
            ],
            [
             0.8888888888888888,
             "#fdca26"
            ],
            [
             1,
             "#f0f921"
            ]
           ]
          },
          "colorway": [
           "#636efa",
           "#EF553B",
           "#00cc96",
           "#ab63fa",
           "#FFA15A",
           "#19d3f3",
           "#FF6692",
           "#B6E880",
           "#FF97FF",
           "#FECB52"
          ],
          "font": {
           "color": "#2a3f5f"
          },
          "geo": {
           "bgcolor": "white",
           "lakecolor": "white",
           "landcolor": "#E5ECF6",
           "showlakes": true,
           "showland": true,
           "subunitcolor": "white"
          },
          "hoverlabel": {
           "align": "left"
          },
          "hovermode": "closest",
          "mapbox": {
           "style": "light"
          },
          "paper_bgcolor": "white",
          "plot_bgcolor": "#E5ECF6",
          "polar": {
           "angularaxis": {
            "gridcolor": "white",
            "linecolor": "white",
            "ticks": ""
           },
           "bgcolor": "#E5ECF6",
           "radialaxis": {
            "gridcolor": "white",
            "linecolor": "white",
            "ticks": ""
           }
          },
          "scene": {
           "xaxis": {
            "backgroundcolor": "#E5ECF6",
            "gridcolor": "white",
            "gridwidth": 2,
            "linecolor": "white",
            "showbackground": true,
            "ticks": "",
            "zerolinecolor": "white"
           },
           "yaxis": {
            "backgroundcolor": "#E5ECF6",
            "gridcolor": "white",
            "gridwidth": 2,
            "linecolor": "white",
            "showbackground": true,
            "ticks": "",
            "zerolinecolor": "white"
           },
           "zaxis": {
            "backgroundcolor": "#E5ECF6",
            "gridcolor": "white",
            "gridwidth": 2,
            "linecolor": "white",
            "showbackground": true,
            "ticks": "",
            "zerolinecolor": "white"
           }
          },
          "shapedefaults": {
           "line": {
            "color": "#2a3f5f"
           }
          },
          "ternary": {
           "aaxis": {
            "gridcolor": "white",
            "linecolor": "white",
            "ticks": ""
           },
           "baxis": {
            "gridcolor": "white",
            "linecolor": "white",
            "ticks": ""
           },
           "bgcolor": "#E5ECF6",
           "caxis": {
            "gridcolor": "white",
            "linecolor": "white",
            "ticks": ""
           }
          },
          "title": {
           "x": 0.05
          },
          "xaxis": {
           "automargin": true,
           "gridcolor": "white",
           "linecolor": "white",
           "ticks": "",
           "title": {
            "standoff": 15
           },
           "zerolinecolor": "white",
           "zerolinewidth": 2
          },
          "yaxis": {
           "automargin": true,
           "gridcolor": "white",
           "linecolor": "white",
           "ticks": "",
           "title": {
            "standoff": 15
           },
           "zerolinecolor": "white",
           "zerolinewidth": 2
          }
         }
        },
        "title": {
         "text": "Top 10 paises con nuevos casos de fallecimientos"
        },
        "xaxis": {
         "anchor": "y",
         "domain": [
          0,
          1
         ],
         "title": {
          "text": "Nuevos fallecimientos"
         }
        },
        "yaxis": {
         "anchor": "x",
         "categoryorder": "total ascending",
         "domain": [
          0,
          1
         ],
         "title": {
          "text": "País"
         }
        }
       }
      }
     },
     "metadata": {},
     "output_type": "display_data"
    }
   ],
   "source": [
    "NewDeaths_top10 = df_clean.groupby('Country').max().sort_values('NewDeaths', ascending=False)[:10]\n",
    "horizontal_bar_chart(NewDeaths_top10,NewDeaths_top10.NewDeaths, NewDeaths_top10.index,\n",
    "                     'Top 10 paises con nuevos casos de fallecimientos', 'Nuevos fallecimientos','País','red')"
   ]
  },
  {
   "cell_type": "code",
   "execution_count": 240,
   "metadata": {},
   "outputs": [
    {
     "data": {
      "application/vnd.plotly.v1+json": {
       "config": {
        "plotlyServerURL": "https://plot.ly"
       },
       "data": [
        {
         "alignmentgroup": "True",
         "hovertemplate": "Nuevos casos confirmados=%{x}<br>País=%{y}<extra></extra>",
         "legendgroup": "",
         "marker": {
          "color": "Blue",
          "pattern": {
           "shape": ""
          }
         },
         "name": "",
         "offsetgroup": "",
         "orientation": "h",
         "showlegend": false,
         "textposition": "auto",
         "type": "bar",
         "x": [
          46931,
          28783,
          13926,
          12385,
          11570,
          10335,
          9834,
          7829,
          6308,
          5283
         ],
         "xaxis": "x",
         "y": [
          "United States of America",
          "United Kingdom",
          "Australia",
          "Russian Federation",
          "Belgium",
          "Korea (South)",
          "Japan",
          "Germany",
          "France",
          "Austria"
         ],
         "yaxis": "y"
        }
       ],
       "layout": {
        "barmode": "relative",
        "legend": {
         "tracegroupgap": 0
        },
        "template": {
         "data": {
          "bar": [
           {
            "error_x": {
             "color": "#2a3f5f"
            },
            "error_y": {
             "color": "#2a3f5f"
            },
            "marker": {
             "line": {
              "color": "#E5ECF6",
              "width": 0.5
             },
             "pattern": {
              "fillmode": "overlay",
              "size": 10,
              "solidity": 0.2
             }
            },
            "type": "bar"
           }
          ],
          "barpolar": [
           {
            "marker": {
             "line": {
              "color": "#E5ECF6",
              "width": 0.5
             },
             "pattern": {
              "fillmode": "overlay",
              "size": 10,
              "solidity": 0.2
             }
            },
            "type": "barpolar"
           }
          ],
          "carpet": [
           {
            "aaxis": {
             "endlinecolor": "#2a3f5f",
             "gridcolor": "white",
             "linecolor": "white",
             "minorgridcolor": "white",
             "startlinecolor": "#2a3f5f"
            },
            "baxis": {
             "endlinecolor": "#2a3f5f",
             "gridcolor": "white",
             "linecolor": "white",
             "minorgridcolor": "white",
             "startlinecolor": "#2a3f5f"
            },
            "type": "carpet"
           }
          ],
          "choropleth": [
           {
            "colorbar": {
             "outlinewidth": 0,
             "ticks": ""
            },
            "type": "choropleth"
           }
          ],
          "contour": [
           {
            "colorbar": {
             "outlinewidth": 0,
             "ticks": ""
            },
            "colorscale": [
             [
              0,
              "#0d0887"
             ],
             [
              0.1111111111111111,
              "#46039f"
             ],
             [
              0.2222222222222222,
              "#7201a8"
             ],
             [
              0.3333333333333333,
              "#9c179e"
             ],
             [
              0.4444444444444444,
              "#bd3786"
             ],
             [
              0.5555555555555556,
              "#d8576b"
             ],
             [
              0.6666666666666666,
              "#ed7953"
             ],
             [
              0.7777777777777778,
              "#fb9f3a"
             ],
             [
              0.8888888888888888,
              "#fdca26"
             ],
             [
              1,
              "#f0f921"
             ]
            ],
            "type": "contour"
           }
          ],
          "contourcarpet": [
           {
            "colorbar": {
             "outlinewidth": 0,
             "ticks": ""
            },
            "type": "contourcarpet"
           }
          ],
          "heatmap": [
           {
            "colorbar": {
             "outlinewidth": 0,
             "ticks": ""
            },
            "colorscale": [
             [
              0,
              "#0d0887"
             ],
             [
              0.1111111111111111,
              "#46039f"
             ],
             [
              0.2222222222222222,
              "#7201a8"
             ],
             [
              0.3333333333333333,
              "#9c179e"
             ],
             [
              0.4444444444444444,
              "#bd3786"
             ],
             [
              0.5555555555555556,
              "#d8576b"
             ],
             [
              0.6666666666666666,
              "#ed7953"
             ],
             [
              0.7777777777777778,
              "#fb9f3a"
             ],
             [
              0.8888888888888888,
              "#fdca26"
             ],
             [
              1,
              "#f0f921"
             ]
            ],
            "type": "heatmap"
           }
          ],
          "heatmapgl": [
           {
            "colorbar": {
             "outlinewidth": 0,
             "ticks": ""
            },
            "colorscale": [
             [
              0,
              "#0d0887"
             ],
             [
              0.1111111111111111,
              "#46039f"
             ],
             [
              0.2222222222222222,
              "#7201a8"
             ],
             [
              0.3333333333333333,
              "#9c179e"
             ],
             [
              0.4444444444444444,
              "#bd3786"
             ],
             [
              0.5555555555555556,
              "#d8576b"
             ],
             [
              0.6666666666666666,
              "#ed7953"
             ],
             [
              0.7777777777777778,
              "#fb9f3a"
             ],
             [
              0.8888888888888888,
              "#fdca26"
             ],
             [
              1,
              "#f0f921"
             ]
            ],
            "type": "heatmapgl"
           }
          ],
          "histogram": [
           {
            "marker": {
             "pattern": {
              "fillmode": "overlay",
              "size": 10,
              "solidity": 0.2
             }
            },
            "type": "histogram"
           }
          ],
          "histogram2d": [
           {
            "colorbar": {
             "outlinewidth": 0,
             "ticks": ""
            },
            "colorscale": [
             [
              0,
              "#0d0887"
             ],
             [
              0.1111111111111111,
              "#46039f"
             ],
             [
              0.2222222222222222,
              "#7201a8"
             ],
             [
              0.3333333333333333,
              "#9c179e"
             ],
             [
              0.4444444444444444,
              "#bd3786"
             ],
             [
              0.5555555555555556,
              "#d8576b"
             ],
             [
              0.6666666666666666,
              "#ed7953"
             ],
             [
              0.7777777777777778,
              "#fb9f3a"
             ],
             [
              0.8888888888888888,
              "#fdca26"
             ],
             [
              1,
              "#f0f921"
             ]
            ],
            "type": "histogram2d"
           }
          ],
          "histogram2dcontour": [
           {
            "colorbar": {
             "outlinewidth": 0,
             "ticks": ""
            },
            "colorscale": [
             [
              0,
              "#0d0887"
             ],
             [
              0.1111111111111111,
              "#46039f"
             ],
             [
              0.2222222222222222,
              "#7201a8"
             ],
             [
              0.3333333333333333,
              "#9c179e"
             ],
             [
              0.4444444444444444,
              "#bd3786"
             ],
             [
              0.5555555555555556,
              "#d8576b"
             ],
             [
              0.6666666666666666,
              "#ed7953"
             ],
             [
              0.7777777777777778,
              "#fb9f3a"
             ],
             [
              0.8888888888888888,
              "#fdca26"
             ],
             [
              1,
              "#f0f921"
             ]
            ],
            "type": "histogram2dcontour"
           }
          ],
          "mesh3d": [
           {
            "colorbar": {
             "outlinewidth": 0,
             "ticks": ""
            },
            "type": "mesh3d"
           }
          ],
          "parcoords": [
           {
            "line": {
             "colorbar": {
              "outlinewidth": 0,
              "ticks": ""
             }
            },
            "type": "parcoords"
           }
          ],
          "pie": [
           {
            "automargin": true,
            "type": "pie"
           }
          ],
          "scatter": [
           {
            "fillpattern": {
             "fillmode": "overlay",
             "size": 10,
             "solidity": 0.2
            },
            "type": "scatter"
           }
          ],
          "scatter3d": [
           {
            "line": {
             "colorbar": {
              "outlinewidth": 0,
              "ticks": ""
             }
            },
            "marker": {
             "colorbar": {
              "outlinewidth": 0,
              "ticks": ""
             }
            },
            "type": "scatter3d"
           }
          ],
          "scattercarpet": [
           {
            "marker": {
             "colorbar": {
              "outlinewidth": 0,
              "ticks": ""
             }
            },
            "type": "scattercarpet"
           }
          ],
          "scattergeo": [
           {
            "marker": {
             "colorbar": {
              "outlinewidth": 0,
              "ticks": ""
             }
            },
            "type": "scattergeo"
           }
          ],
          "scattergl": [
           {
            "marker": {
             "colorbar": {
              "outlinewidth": 0,
              "ticks": ""
             }
            },
            "type": "scattergl"
           }
          ],
          "scattermapbox": [
           {
            "marker": {
             "colorbar": {
              "outlinewidth": 0,
              "ticks": ""
             }
            },
            "type": "scattermapbox"
           }
          ],
          "scatterpolar": [
           {
            "marker": {
             "colorbar": {
              "outlinewidth": 0,
              "ticks": ""
             }
            },
            "type": "scatterpolar"
           }
          ],
          "scatterpolargl": [
           {
            "marker": {
             "colorbar": {
              "outlinewidth": 0,
              "ticks": ""
             }
            },
            "type": "scatterpolargl"
           }
          ],
          "scatterternary": [
           {
            "marker": {
             "colorbar": {
              "outlinewidth": 0,
              "ticks": ""
             }
            },
            "type": "scatterternary"
           }
          ],
          "surface": [
           {
            "colorbar": {
             "outlinewidth": 0,
             "ticks": ""
            },
            "colorscale": [
             [
              0,
              "#0d0887"
             ],
             [
              0.1111111111111111,
              "#46039f"
             ],
             [
              0.2222222222222222,
              "#7201a8"
             ],
             [
              0.3333333333333333,
              "#9c179e"
             ],
             [
              0.4444444444444444,
              "#bd3786"
             ],
             [
              0.5555555555555556,
              "#d8576b"
             ],
             [
              0.6666666666666666,
              "#ed7953"
             ],
             [
              0.7777777777777778,
              "#fb9f3a"
             ],
             [
              0.8888888888888888,
              "#fdca26"
             ],
             [
              1,
              "#f0f921"
             ]
            ],
            "type": "surface"
           }
          ],
          "table": [
           {
            "cells": {
             "fill": {
              "color": "#EBF0F8"
             },
             "line": {
              "color": "white"
             }
            },
            "header": {
             "fill": {
              "color": "#C8D4E3"
             },
             "line": {
              "color": "white"
             }
            },
            "type": "table"
           }
          ]
         },
         "layout": {
          "annotationdefaults": {
           "arrowcolor": "#2a3f5f",
           "arrowhead": 0,
           "arrowwidth": 1
          },
          "autotypenumbers": "strict",
          "coloraxis": {
           "colorbar": {
            "outlinewidth": 0,
            "ticks": ""
           }
          },
          "colorscale": {
           "diverging": [
            [
             0,
             "#8e0152"
            ],
            [
             0.1,
             "#c51b7d"
            ],
            [
             0.2,
             "#de77ae"
            ],
            [
             0.3,
             "#f1b6da"
            ],
            [
             0.4,
             "#fde0ef"
            ],
            [
             0.5,
             "#f7f7f7"
            ],
            [
             0.6,
             "#e6f5d0"
            ],
            [
             0.7,
             "#b8e186"
            ],
            [
             0.8,
             "#7fbc41"
            ],
            [
             0.9,
             "#4d9221"
            ],
            [
             1,
             "#276419"
            ]
           ],
           "sequential": [
            [
             0,
             "#0d0887"
            ],
            [
             0.1111111111111111,
             "#46039f"
            ],
            [
             0.2222222222222222,
             "#7201a8"
            ],
            [
             0.3333333333333333,
             "#9c179e"
            ],
            [
             0.4444444444444444,
             "#bd3786"
            ],
            [
             0.5555555555555556,
             "#d8576b"
            ],
            [
             0.6666666666666666,
             "#ed7953"
            ],
            [
             0.7777777777777778,
             "#fb9f3a"
            ],
            [
             0.8888888888888888,
             "#fdca26"
            ],
            [
             1,
             "#f0f921"
            ]
           ],
           "sequentialminus": [
            [
             0,
             "#0d0887"
            ],
            [
             0.1111111111111111,
             "#46039f"
            ],
            [
             0.2222222222222222,
             "#7201a8"
            ],
            [
             0.3333333333333333,
             "#9c179e"
            ],
            [
             0.4444444444444444,
             "#bd3786"
            ],
            [
             0.5555555555555556,
             "#d8576b"
            ],
            [
             0.6666666666666666,
             "#ed7953"
            ],
            [
             0.7777777777777778,
             "#fb9f3a"
            ],
            [
             0.8888888888888888,
             "#fdca26"
            ],
            [
             1,
             "#f0f921"
            ]
           ]
          },
          "colorway": [
           "#636efa",
           "#EF553B",
           "#00cc96",
           "#ab63fa",
           "#FFA15A",
           "#19d3f3",
           "#FF6692",
           "#B6E880",
           "#FF97FF",
           "#FECB52"
          ],
          "font": {
           "color": "#2a3f5f"
          },
          "geo": {
           "bgcolor": "white",
           "lakecolor": "white",
           "landcolor": "#E5ECF6",
           "showlakes": true,
           "showland": true,
           "subunitcolor": "white"
          },
          "hoverlabel": {
           "align": "left"
          },
          "hovermode": "closest",
          "mapbox": {
           "style": "light"
          },
          "paper_bgcolor": "white",
          "plot_bgcolor": "#E5ECF6",
          "polar": {
           "angularaxis": {
            "gridcolor": "white",
            "linecolor": "white",
            "ticks": ""
           },
           "bgcolor": "#E5ECF6",
           "radialaxis": {
            "gridcolor": "white",
            "linecolor": "white",
            "ticks": ""
           }
          },
          "scene": {
           "xaxis": {
            "backgroundcolor": "#E5ECF6",
            "gridcolor": "white",
            "gridwidth": 2,
            "linecolor": "white",
            "showbackground": true,
            "ticks": "",
            "zerolinecolor": "white"
           },
           "yaxis": {
            "backgroundcolor": "#E5ECF6",
            "gridcolor": "white",
            "gridwidth": 2,
            "linecolor": "white",
            "showbackground": true,
            "ticks": "",
            "zerolinecolor": "white"
           },
           "zaxis": {
            "backgroundcolor": "#E5ECF6",
            "gridcolor": "white",
            "gridwidth": 2,
            "linecolor": "white",
            "showbackground": true,
            "ticks": "",
            "zerolinecolor": "white"
           }
          },
          "shapedefaults": {
           "line": {
            "color": "#2a3f5f"
           }
          },
          "ternary": {
           "aaxis": {
            "gridcolor": "white",
            "linecolor": "white",
            "ticks": ""
           },
           "baxis": {
            "gridcolor": "white",
            "linecolor": "white",
            "ticks": ""
           },
           "bgcolor": "#E5ECF6",
           "caxis": {
            "gridcolor": "white",
            "linecolor": "white",
            "ticks": ""
           }
          },
          "title": {
           "x": 0.05
          },
          "xaxis": {
           "automargin": true,
           "gridcolor": "white",
           "linecolor": "white",
           "ticks": "",
           "title": {
            "standoff": 15
           },
           "zerolinecolor": "white",
           "zerolinewidth": 2
          },
          "yaxis": {
           "automargin": true,
           "gridcolor": "white",
           "linecolor": "white",
           "ticks": "",
           "title": {
            "standoff": 15
           },
           "zerolinecolor": "white",
           "zerolinewidth": 2
          }
         }
        },
        "title": {
         "text": "Top 10 paises con nuevos casos confirmados"
        },
        "xaxis": {
         "anchor": "y",
         "domain": [
          0,
          1
         ],
         "title": {
          "text": "Nuevos casos confirmados"
         }
        },
        "yaxis": {
         "anchor": "x",
         "categoryorder": "total ascending",
         "domain": [
          0,
          1
         ],
         "title": {
          "text": "País"
         }
        }
       }
      }
     },
     "metadata": {},
     "output_type": "display_data"
    }
   ],
   "source": [
    "NewConfirmed_top10 = df_clean.groupby('Country').max().sort_values('NewConfirmed', ascending=False)[:10]\n",
    "horizontal_bar_chart(NewConfirmed_top10,NewConfirmed_top10.NewConfirmed, NewConfirmed_top10.index,\n",
    "                     'Top 10 paises con nuevos casos confirmados', 'Nuevos casos confirmados','País','Blue')"
   ]
  },
  {
   "cell_type": "code",
   "execution_count": 241,
   "metadata": {},
   "outputs": [
    {
     "name": "stderr",
     "output_type": "stream",
     "text": [
      "C:\\Users\\moniq\\AppData\\Local\\Temp/ipykernel_24008/1987015396.py:1: FutureWarning:\n",
      "\n",
      "Indexing with multiple keys (implicitly converted to a tuple of keys) will be deprecated, use a list instead.\n",
      "\n"
     ]
    },
    {
     "data": {
      "image/png": "[encoded data removed]",
      "text/plain": [
       "<Figure size 1800x1080 with 1 Axes>"
      ]
     },
     "metadata": {
      "needs_background": "light"
     },
     "output_type": "display_data"
    }
   ],
   "source": [
    "grafico_conjunto = df_clean.groupby([\"Country\"])[\"TotalDeaths\", \"TotalConfirmed\", \"NewConfirmed\", \"NewDeaths\"].sum().reset_index()\n",
    "grafico_conjunto = grafico_conjunto.sort_values(by='TotalDeaths', ascending=False)[:10]\n",
    "plt.figure(figsize=(25, 15))\n",
    "plt.plot(grafico_conjunto['Country'], grafico_conjunto['TotalDeaths'],color='black')\n",
    "plt.plot(grafico_conjunto['Country'], grafico_conjunto['TotalConfirmed'],color='green')\n",
    "plt.plot(grafico_conjunto['Country'], grafico_conjunto['NewConfirmed'], color='blue')\n",
    "plt.plot(grafico_conjunto['Country'], grafico_conjunto['NewDeaths'], color='red')\n",
    "\n",
    "plt.title('Top 10 paises por total de fallecimientos, total de casos confirmados, nuevos casos confirmados y nuevos fallecimientos')\n",
    "plt.show()"
   ]
  },
  {
   "cell_type": "code",
   "execution_count": 242,
   "metadata": {},
   "outputs": [
    {
     "name": "stderr",
     "output_type": "stream",
     "text": [
      "C:\\Users\\moniq\\AppData\\Local\\Temp/ipykernel_24008/37545946.py:1: FutureWarning:\n",
      "\n",
      "Indexing with multiple keys (implicitly converted to a tuple of keys) will be deprecated, use a list instead.\n",
      "\n",
      "No handles with labels found to put in legend.\n"
     ]
    },
    {
     "data": {
      "text/plain": [
       "<matplotlib.legend.Legend at 0x2b417d84220>"
      ]
     },
     "execution_count": 242,
     "metadata": {},
     "output_type": "execute_result"
    },
    {
     "data": {
      "image/png": "[encoded data removed]",
      "text/plain": [
       "<Figure size 432x288 with 1 Axes>"
      ]
     },
     "metadata": {
      "needs_background": "light"
     },
     "output_type": "display_data"
    }
   ],
   "source": [
    "newconfirmed_newdeath = df_clean.groupby([\"Country\"])[\"NewConfirmed\", \"NewDeaths\"].sum().reset_index()\n",
    "newconfirmed_newdeath = newconfirmed_newdeath.sort_values(by='NewDeaths', ascending=False)[:10]\n",
    "\n",
    "\n",
    "sns.scatterplot(data=newconfirmed_newdeath, x=\"NewConfirmed\", y=\"NewDeaths\",hue=\"Country\")\n",
    "ax.set_title('Correlación entre casos nuevos confirmados y nuevos fallecimientos')\n",
    "ax.set_xlabel('Nuevos casos confirmados')\n",
    "ax.set_ylabel('Nuevos fallecimientos')\n",
    "ax.legend(title=\"Leyenda\", loc=\"upper right\", bbox_to_anchor=(1.2, 1))\n",
    "\n"
   ]
  },
  {
   "attachments": {},
   "cell_type": "markdown",
   "metadata": {},
   "source": [
    "Este análisis exploratorio de datos muestra:\n",
    "i) top 5 paises con casos confirmados totales: Estados Unidos, India, Francia, Alemania, Brasil\n",
    "ii) top 5 paises con muertes confirmadas: Estados Unidos, Brasil , India, Rusia, Mexico\n",
    "iii)top 5 paises con nuevos casos de fallecimientos: Estados Unidos, Alemania, Australia, Canada, Japón\n",
    "iv) top 5 paises con nuevos casos confirmados:Estados Unidos, UK, Australia, Rusia, Belgica\n",
    "\n",
    "Mientras Estados Unidos esta en el ranking #1 para los 4 índices, se puede notar un incremento de casos en paises antes no mencionados como Australia y Canadá. \n",
    "\n",
    "Sin embargo, la tasa de mortalidad (Ratio de mortalidad entre casos de muerte confirmados/casos confirmados totales) muestra que los top 5 son 5 paises no mencionados en los top 5 de # de casos confirmados y # de fallecimientos confirmados: Yemen, Sudan, Siria, Somalia,Peru\n",
    "\n",
    "Y es el mismo caso para la tasa de mortalidad (Ratio nuevos fallecimientos/nuevos casos):Filipinas, Suecia, Finlandia, Bulgaria, Iran"
   ]
  }
 ],
 "metadata": {
  "kernelspec": {
   "display_name": "Python 3",
   "language": "python",
   "name": "python3"
  },
  "language_info": {
   "codemirror_mode": {
    "name": "ipython",
    "version": 3
   },
   "file_extension": ".py",
   "mimetype": "text/x-python",
   "name": "python",
   "nbconvert_exporter": "python",
   "pygments_lexer": "ipython3",
   "version": "3.9.6"
  },
  "orig_nbformat": 4,
  "vscode": {
   "interpreter": {
    "hash": "7d3a818424ef27bbfdd1181823b56067b57b40e7b25999b964ed81b4ca8a07ad"
   }
  }
 },
 "nbformat": 4,
 "nbformat_minor": 2
}
