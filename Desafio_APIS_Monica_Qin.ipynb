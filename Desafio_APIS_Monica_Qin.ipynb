{
 "cells": [
  {
   "cell_type": "code",
   "execution_count": 169,
   "metadata": {},
   "outputs": [],
   "source": [
    "#Importo todas las librerias que vaya a utilizar\n",
    "import requests\n",
    "import json\n",
    "import pandas as pd\n",
    "import numpy as np\n",
    "import matplotlib.pylab as plt\n",
    "import seaborn as sns\n",
    "import plotly.express as px\n"
   ]
  },
  {
   "cell_type": "code",
   "execution_count": 170,
   "metadata": {},
   "outputs": [],
   "source": [
    "response = requests.get(\"https://api.covid19api.com/summary\")"
   ]
  },
  {
   "cell_type": "code",
   "execution_count": 171,
   "metadata": {},
   "outputs": [
    {
     "data": {
      "text/plain": [
       "<Response [200]>"
      ]
     },
     "execution_count": 171,
     "metadata": {},
     "output_type": "execute_result"
    }
   ],
   "source": [
    "response"
   ]
  },
  {
   "cell_type": "code",
   "execution_count": 172,
   "metadata": {},
   "outputs": [],
   "source": [
    "datos = json.loads(response.text)"
   ]
  },
  {
   "cell_type": "code",
   "execution_count": 173,
   "metadata": {},
   "outputs": [
    {
     "data": {
      "text/plain": [
       "dict_keys(['ID', 'Message', 'Global', 'Countries', 'Date'])"
      ]
     },
     "execution_count": 173,
     "metadata": {},
     "output_type": "execute_result"
    }
   ],
   "source": [
    "datos.keys()"
   ]
  },
  {
   "cell_type": "code",
   "execution_count": 174,
   "metadata": {},
   "outputs": [
    {
     "data": {
      "text/plain": [
       "'eb7dadad-b87f-479e-8140-b25cde2fd40e'"
      ]
     },
     "execution_count": 174,
     "metadata": {},
     "output_type": "execute_result"
    }
   ],
   "source": [
    "datos['ID']"
   ]
  },
  {
   "cell_type": "code",
   "execution_count": 175,
   "metadata": {},
   "outputs": [
    {
     "data": {
      "text/plain": [
       "'2023-04-07T21:34:09.948Z'"
      ]
     },
     "execution_count": 175,
     "metadata": {},
     "output_type": "execute_result"
    }
   ],
   "source": [
    "datos['Date']"
   ]
  },
  {
   "cell_type": "code",
   "execution_count": 176,
   "metadata": {},
   "outputs": [
    {
     "data": {
      "text/plain": [
       "[{'ID': '5692d427-3758-48c8-a0d6-b013ee0e7f18',\n",
       "  'Country': 'Afghanistan',\n",
       "  'CountryCode': 'AF',\n",
       "  'Slug': 'afghanistan',\n",
       "  'NewConfirmed': 0,\n",
       "  'TotalConfirmed': 209451,\n",
       "  'NewDeaths': 0,\n",
       "  'TotalDeaths': 7896,\n",
       "  'NewRecovered': 0,\n",
       "  'TotalRecovered': 0,\n",
       "  'Date': '2023-04-07T21:34:09.948Z',\n",
       "  'Premium': {}},\n",
       " {'ID': '9d57a33a-3bd0-444a-8d69-20b588c735d7',\n",
       "  'Country': 'Albania',\n",
       "  'CountryCode': 'AL',\n",
       "  'Slug': 'albania',\n",
       "  'NewConfirmed': 14,\n",
       "  'TotalConfirmed': 334457,\n",
       "  'NewDeaths': 0,\n",
       "  'TotalDeaths': 3598,\n",
       "  'NewRecovered': 0,\n",
       "  'TotalRecovered': 0,\n",
       "  'Date': '2023-04-07T21:34:09.948Z',\n",
       "  'Premium': {}},\n",
       " {'ID': '451f2eb3-ee11-41bf-ada2-ea6d42546a10',\n",
       "  'Country': 'Algeria',\n",
       "  'CountryCode': 'DZ',\n",
       "  'Slug': 'algeria',\n",
       "  'NewConfirmed': 2,\n",
       "  'TotalConfirmed': 271496,\n",
       "  'NewDeaths': 0,\n",
       "  'TotalDeaths': 6881,\n",
       "  'NewRecovered': 0,\n",
       "  'TotalRecovered': 0,\n",
       "  'Date': '2023-04-07T21:34:09.948Z',\n",
       "  'Premium': {}},\n",
       " {'ID': '5e4757b6-da2c-4622-8479-ca647663a1dd',\n",
       "  'Country': 'Andorra',\n",
       "  'CountryCode': 'AD',\n",
       "  'Slug': 'andorra',\n",
       "  'NewConfirmed': 0,\n",
       "  'TotalConfirmed': 47890,\n",
       "  'NewDeaths': 0,\n",
       "  'TotalDeaths': 165,\n",
       "  'NewRecovered': 0,\n",
       "  'TotalRecovered': 0,\n",
       "  'Date': '2023-04-07T21:34:09.948Z',\n",
       "  'Premium': {}},\n",
       " {'ID': '563b6f84-da00-45bd-a6ac-36f6f6531f02',\n",
       "  'Country': 'Angola',\n",
       "  'CountryCode': 'AO',\n",
       "  'Slug': 'angola',\n",
       "  'NewConfirmed': 0,\n",
       "  'TotalConfirmed': 105288,\n",
       "  'NewDeaths': 0,\n",
       "  'TotalDeaths': 1933,\n",
       "  'NewRecovered': 0,\n",
       "  'TotalRecovered': 0,\n",
       "  'Date': '2023-04-07T21:34:09.948Z',\n",
       "  'Premium': {}},\n",
       " {'ID': '4713439c-cc78-4ee4-bc27-91208ef4e028',\n",
       "  'Country': 'Antarctica',\n",
       "  'CountryCode': 'AQ',\n",
       "  'Slug': 'antarctica',\n",
       "  'NewConfirmed': 0,\n",
       "  'TotalConfirmed': 11,\n",
       "  'NewDeaths': 0,\n",
       "  'TotalDeaths': 0,\n",
       "  'NewRecovered': 0,\n",
       "  'TotalRecovered': 0,\n",
       "  'Date': '2023-04-07T21:34:09.948Z',\n",
       "  'Premium': {}},\n",
       " {'ID': 'a30bdf1d-a19c-4fb9-8987-2a19acf21f1b',\n",
       "  'Country': 'Antigua and Barbuda',\n",
       "  'CountryCode': 'AG',\n",
       "  'Slug': 'antigua-and-barbuda',\n",
       "  'NewConfirmed': 0,\n",
       "  'TotalConfirmed': 9106,\n",
       "  'NewDeaths': 0,\n",
       "  'TotalDeaths': 146,\n",
       "  'NewRecovered': 0,\n",
       "  'TotalRecovered': 0,\n",
       "  'Date': '2023-04-07T21:34:09.948Z',\n",
       "  'Premium': {}},\n",
       " {'ID': 'b81ddc3f-f695-4902-9f13-a0679a26e87b',\n",
       "  'Country': 'Argentina',\n",
       "  'CountryCode': 'AR',\n",
       "  'Slug': 'argentina',\n",
       "  'NewConfirmed': 0,\n",
       "  'TotalConfirmed': 10044957,\n",
       "  'NewDeaths': 0,\n",
       "  'TotalDeaths': 130472,\n",
       "  'NewRecovered': 0,\n",
       "  'TotalRecovered': 0,\n",
       "  'Date': '2023-04-07T21:34:09.948Z',\n",
       "  'Premium': {}},\n",
       " {'ID': '2f667a02-b473-4712-9e3f-a394662b5f50',\n",
       "  'Country': 'Armenia',\n",
       "  'CountryCode': 'AM',\n",
       "  'Slug': 'armenia',\n",
       "  'NewConfirmed': 0,\n",
       "  'TotalConfirmed': 447308,\n",
       "  'NewDeaths': 0,\n",
       "  'TotalDeaths': 8727,\n",
       "  'NewRecovered': 0,\n",
       "  'TotalRecovered': 0,\n",
       "  'Date': '2023-04-07T21:34:09.948Z',\n",
       "  'Premium': {}},\n",
       " {'ID': '7db0a6c4-a227-48c8-aa74-b9ff0c43006d',\n",
       "  'Country': 'Australia',\n",
       "  'CountryCode': 'AU',\n",
       "  'Slug': 'australia',\n",
       "  'NewConfirmed': 13926,\n",
       "  'TotalConfirmed': 11399460,\n",
       "  'NewDeaths': 115,\n",
       "  'TotalDeaths': 19574,\n",
       "  'NewRecovered': 0,\n",
       "  'TotalRecovered': 0,\n",
       "  'Date': '2023-04-07T21:34:09.948Z',\n",
       "  'Premium': {}},\n",
       " {'ID': 'bd809963-ff79-4632-88da-b244d5e8bd89',\n",
       "  'Country': 'Austria',\n",
       "  'CountryCode': 'AT',\n",
       "  'Slug': 'austria',\n",
       "  'NewConfirmed': 5283,\n",
       "  'TotalConfirmed': 5961143,\n",
       "  'NewDeaths': 21,\n",
       "  'TotalDeaths': 21970,\n",
       "  'NewRecovered': 0,\n",
       "  'TotalRecovered': 0,\n",
       "  'Date': '2023-04-07T21:34:09.948Z',\n",
       "  'Premium': {}},\n",
       " {'ID': '94db34a7-bd58-4c10-95a3-85d9d5a478af',\n",
       "  'Country': 'Azerbaijan',\n",
       "  'CountryCode': 'AZ',\n",
       "  'Slug': 'azerbaijan',\n",
       "  'NewConfirmed': 6,\n",
       "  'TotalConfirmed': 828825,\n",
       "  'NewDeaths': 0,\n",
       "  'TotalDeaths': 10138,\n",
       "  'NewRecovered': 0,\n",
       "  'TotalRecovered': 0,\n",
       "  'Date': '2023-04-07T21:34:09.948Z',\n",
       "  'Premium': {}},\n",
       " {'ID': '8d1cdccf-cfa5-45b2-aff3-29506d13767f',\n",
       "  'Country': 'Bahamas',\n",
       "  'CountryCode': 'BS',\n",
       "  'Slug': 'bahamas',\n",
       "  'NewConfirmed': 0,\n",
       "  'TotalConfirmed': 37491,\n",
       "  'NewDeaths': 0,\n",
       "  'TotalDeaths': 833,\n",
       "  'NewRecovered': 0,\n",
       "  'TotalRecovered': 0,\n",
       "  'Date': '2023-04-07T21:34:09.948Z',\n",
       "  'Premium': {}},\n",
       " {'ID': 'a84ed60e-5e81-4302-b49a-d9a8df327794',\n",
       "  'Country': 'Bahrain',\n",
       "  'CountryCode': 'BH',\n",
       "  'Slug': 'bahrain',\n",
       "  'NewConfirmed': 387,\n",
       "  'TotalConfirmed': 710693,\n",
       "  'NewDeaths': 0,\n",
       "  'TotalDeaths': 1553,\n",
       "  'NewRecovered': 0,\n",
       "  'TotalRecovered': 0,\n",
       "  'Date': '2023-04-07T21:34:09.948Z',\n",
       "  'Premium': {}},\n",
       " {'ID': 'fdb556fa-5471-445a-bd63-5ab156782953',\n",
       "  'Country': 'Bangladesh',\n",
       "  'CountryCode': 'BD',\n",
       "  'Slug': 'bangladesh',\n",
       "  'NewConfirmed': 0,\n",
       "  'TotalConfirmed': 2037871,\n",
       "  'NewDeaths': 0,\n",
       "  'TotalDeaths': 29445,\n",
       "  'NewRecovered': 0,\n",
       "  'TotalRecovered': 0,\n",
       "  'Date': '2023-04-07T21:34:09.948Z',\n",
       "  'Premium': {}},\n",
       " {'ID': '18e1d58b-e1fa-4f79-93dd-d1a07ca2450e',\n",
       "  'Country': 'Barbados',\n",
       "  'CountryCode': 'BB',\n",
       "  'Slug': 'barbados',\n",
       "  'NewConfirmed': 153,\n",
       "  'TotalConfirmed': 106798,\n",
       "  'NewDeaths': 4,\n",
       "  'TotalDeaths': 579,\n",
       "  'NewRecovered': 0,\n",
       "  'TotalRecovered': 0,\n",
       "  'Date': '2023-04-07T21:34:09.948Z',\n",
       "  'Premium': {}},\n",
       " {'ID': 'd4f66d1c-b240-4290-a2c0-3b538ff42694',\n",
       "  'Country': 'Belarus',\n",
       "  'CountryCode': 'BY',\n",
       "  'Slug': 'belarus',\n",
       "  'NewConfirmed': 0,\n",
       "  'TotalConfirmed': 994037,\n",
       "  'NewDeaths': 0,\n",
       "  'TotalDeaths': 7118,\n",
       "  'NewRecovered': 0,\n",
       "  'TotalRecovered': 0,\n",
       "  'Date': '2023-04-07T21:34:09.948Z',\n",
       "  'Premium': {}},\n",
       " {'ID': 'ab83a5f1-89c9-4285-b20b-c4cad3301eba',\n",
       "  'Country': 'Belgium',\n",
       "  'CountryCode': 'BE',\n",
       "  'Slug': 'belgium',\n",
       "  'NewConfirmed': 11570,\n",
       "  'TotalConfirmed': 4739365,\n",
       "  'NewDeaths': 39,\n",
       "  'TotalDeaths': 33814,\n",
       "  'NewRecovered': 0,\n",
       "  'TotalRecovered': 0,\n",
       "  'Date': '2023-04-07T21:34:09.948Z',\n",
       "  'Premium': {}},\n",
       " {'ID': '1e4374f2-a454-4dfa-bfea-7f7efbc2e265',\n",
       "  'Country': 'Belize',\n",
       "  'CountryCode': 'BZ',\n",
       "  'Slug': 'belize',\n",
       "  'NewConfirmed': 0,\n",
       "  'TotalConfirmed': 70757,\n",
       "  'NewDeaths': 0,\n",
       "  'TotalDeaths': 688,\n",
       "  'NewRecovered': 0,\n",
       "  'TotalRecovered': 0,\n",
       "  'Date': '2023-04-07T21:34:09.948Z',\n",
       "  'Premium': {}},\n",
       " {'ID': 'f86fbfa8-305e-4545-af1f-d3bdf63a84e2',\n",
       "  'Country': 'Benin',\n",
       "  'CountryCode': 'BJ',\n",
       "  'Slug': 'benin',\n",
       "  'NewConfirmed': 0,\n",
       "  'TotalConfirmed': 27999,\n",
       "  'NewDeaths': 0,\n",
       "  'TotalDeaths': 163,\n",
       "  'NewRecovered': 0,\n",
       "  'TotalRecovered': 0,\n",
       "  'Date': '2023-04-07T21:34:09.948Z',\n",
       "  'Premium': {}},\n",
       " {'ID': '127695d6-8e33-4bca-91b2-326aac614e2b',\n",
       "  'Country': 'Bhutan',\n",
       "  'CountryCode': 'BT',\n",
       "  'Slug': 'bhutan',\n",
       "  'NewConfirmed': 0,\n",
       "  'TotalConfirmed': 62627,\n",
       "  'NewDeaths': 0,\n",
       "  'TotalDeaths': 21,\n",
       "  'NewRecovered': 0,\n",
       "  'TotalRecovered': 0,\n",
       "  'Date': '2023-04-07T21:34:09.948Z',\n",
       "  'Premium': {}},\n",
       " {'ID': 'c7b664da-bd75-41d3-ae86-c5620cfdb63d',\n",
       "  'Country': 'Bolivia',\n",
       "  'CountryCode': 'BO',\n",
       "  'Slug': 'bolivia',\n",
       "  'NewConfirmed': 90,\n",
       "  'TotalConfirmed': 1194277,\n",
       "  'NewDeaths': 0,\n",
       "  'TotalDeaths': 22365,\n",
       "  'NewRecovered': 0,\n",
       "  'TotalRecovered': 0,\n",
       "  'Date': '2023-04-07T21:34:09.948Z',\n",
       "  'Premium': {}},\n",
       " {'ID': '3e95a6cc-2cc9-439e-9186-ff0752b51303',\n",
       "  'Country': 'Bosnia and Herzegovina',\n",
       "  'CountryCode': 'BA',\n",
       "  'Slug': 'bosnia-and-herzegovina',\n",
       "  'NewConfirmed': 0,\n",
       "  'TotalConfirmed': 401729,\n",
       "  'NewDeaths': 0,\n",
       "  'TotalDeaths': 16280,\n",
       "  'NewRecovered': 0,\n",
       "  'TotalRecovered': 0,\n",
       "  'Date': '2023-04-07T21:34:09.948Z',\n",
       "  'Premium': {}},\n",
       " {'ID': '786e7b99-8c99-42c7-a8b9-bcb83c8bffc2',\n",
       "  'Country': 'Botswana',\n",
       "  'CountryCode': 'BW',\n",
       "  'Slug': 'botswana',\n",
       "  'NewConfirmed': 0,\n",
       "  'TotalConfirmed': 329758,\n",
       "  'NewDeaths': 0,\n",
       "  'TotalDeaths': 2801,\n",
       "  'NewRecovered': 0,\n",
       "  'TotalRecovered': 0,\n",
       "  'Date': '2023-04-07T21:34:09.948Z',\n",
       "  'Premium': {}},\n",
       " {'ID': '8c458d51-e771-4fd2-bdd2-72d7f95fcd0d',\n",
       "  'Country': 'Brazil',\n",
       "  'CountryCode': 'BR',\n",
       "  'Slug': 'brazil',\n",
       "  'NewConfirmed': 0,\n",
       "  'TotalConfirmed': 37076053,\n",
       "  'NewDeaths': 0,\n",
       "  'TotalDeaths': 699276,\n",
       "  'NewRecovered': 0,\n",
       "  'TotalRecovered': 0,\n",
       "  'Date': '2023-04-07T21:34:09.948Z',\n",
       "  'Premium': {}},\n",
       " {'ID': 'e04ff73d-931f-47ae-a853-a4be25d4e16a',\n",
       "  'Country': 'Brunei Darussalam',\n",
       "  'CountryCode': 'BN',\n",
       "  'Slug': 'brunei',\n",
       "  'NewConfirmed': 0,\n",
       "  'TotalConfirmed': 279661,\n",
       "  'NewDeaths': 0,\n",
       "  'TotalDeaths': 225,\n",
       "  'NewRecovered': 0,\n",
       "  'TotalRecovered': 0,\n",
       "  'Date': '2023-04-07T21:34:09.948Z',\n",
       "  'Premium': {}},\n",
       " {'ID': 'd5f14190-cd2d-4b9e-9028-1fd5f6abf1d8',\n",
       "  'Country': 'Bulgaria',\n",
       "  'CountryCode': 'BG',\n",
       "  'Slug': 'bulgaria',\n",
       "  'NewConfirmed': 72,\n",
       "  'TotalConfirmed': 1297523,\n",
       "  'NewDeaths': 3,\n",
       "  'TotalDeaths': 38228,\n",
       "  'NewRecovered': 0,\n",
       "  'TotalRecovered': 0,\n",
       "  'Date': '2023-04-07T21:34:09.948Z',\n",
       "  'Premium': {}},\n",
       " {'ID': '19749b50-a782-4960-bbb8-d4ed7b80ce2d',\n",
       "  'Country': 'Burkina Faso',\n",
       "  'CountryCode': 'BF',\n",
       "  'Slug': 'burkina-faso',\n",
       "  'NewConfirmed': 0,\n",
       "  'TotalConfirmed': 22056,\n",
       "  'NewDeaths': 0,\n",
       "  'TotalDeaths': 396,\n",
       "  'NewRecovered': 0,\n",
       "  'TotalRecovered': 0,\n",
       "  'Date': '2023-04-07T21:34:09.948Z',\n",
       "  'Premium': {}},\n",
       " {'ID': 'c9fdadc3-4d71-4519-a1ba-20511026b21c',\n",
       "  'Country': 'Burundi',\n",
       "  'CountryCode': 'BI',\n",
       "  'Slug': 'burundi',\n",
       "  'NewConfirmed': 0,\n",
       "  'TotalConfirmed': 53631,\n",
       "  'NewDeaths': 0,\n",
       "  'TotalDeaths': 38,\n",
       "  'NewRecovered': 0,\n",
       "  'TotalRecovered': 0,\n",
       "  'Date': '2023-04-07T21:34:09.948Z',\n",
       "  'Premium': {}},\n",
       " {'ID': '26facfd5-c2a4-4bd1-a051-51b1c2b2efaa',\n",
       "  'Country': 'Cambodia',\n",
       "  'CountryCode': 'KH',\n",
       "  'Slug': 'cambodia',\n",
       "  'NewConfirmed': 0,\n",
       "  'TotalConfirmed': 138719,\n",
       "  'NewDeaths': 0,\n",
       "  'TotalDeaths': 3056,\n",
       "  'NewRecovered': 0,\n",
       "  'TotalRecovered': 0,\n",
       "  'Date': '2023-04-07T21:34:09.948Z',\n",
       "  'Premium': {}},\n",
       " {'ID': 'd05c0d03-e7ea-4581-b0ce-34a2217f811e',\n",
       "  'Country': 'Cameroon',\n",
       "  'CountryCode': 'CM',\n",
       "  'Slug': 'cameroon',\n",
       "  'NewConfirmed': 0,\n",
       "  'TotalConfirmed': 124392,\n",
       "  'NewDeaths': 0,\n",
       "  'TotalDeaths': 1965,\n",
       "  'NewRecovered': 0,\n",
       "  'TotalRecovered': 0,\n",
       "  'Date': '2023-04-07T21:34:09.948Z',\n",
       "  'Premium': {}},\n",
       " {'ID': 'f1a0275e-3e73-4370-98e1-0c9b615cb147',\n",
       "  'Country': 'Canada',\n",
       "  'CountryCode': 'CA',\n",
       "  'Slug': 'canada',\n",
       "  'NewConfirmed': 4041,\n",
       "  'TotalConfirmed': 3987800,\n",
       "  'NewDeaths': 86,\n",
       "  'TotalDeaths': 46097,\n",
       "  'NewRecovered': 0,\n",
       "  'TotalRecovered': 0,\n",
       "  'Date': '2023-04-07T21:34:09.948Z',\n",
       "  'Premium': {}},\n",
       " {'ID': '7f814c11-ded4-4f2a-bc52-e0529277b36b',\n",
       "  'Country': 'Cape Verde',\n",
       "  'CountryCode': 'CV',\n",
       "  'Slug': 'cape-verde',\n",
       "  'NewConfirmed': 0,\n",
       "  'TotalConfirmed': 63244,\n",
       "  'NewDeaths': 0,\n",
       "  'TotalDeaths': 413,\n",
       "  'NewRecovered': 0,\n",
       "  'TotalRecovered': 0,\n",
       "  'Date': '2023-04-07T21:34:09.948Z',\n",
       "  'Premium': {}},\n",
       " {'ID': '03f4fbe6-4ec3-4e52-8b76-675454d45cbd',\n",
       "  'Country': 'Central African Republic',\n",
       "  'CountryCode': 'CF',\n",
       "  'Slug': 'central-african-republic',\n",
       "  'NewConfirmed': 0,\n",
       "  'TotalConfirmed': 15368,\n",
       "  'NewDeaths': 0,\n",
       "  'TotalDeaths': 113,\n",
       "  'NewRecovered': 0,\n",
       "  'TotalRecovered': 0,\n",
       "  'Date': '2023-04-07T21:34:09.948Z',\n",
       "  'Premium': {}},\n",
       " {'ID': 'bb125fbe-793b-4d57-9aa5-525e84aa4780',\n",
       "  'Country': 'Chad',\n",
       "  'CountryCode': 'TD',\n",
       "  'Slug': 'chad',\n",
       "  'NewConfirmed': 0,\n",
       "  'TotalConfirmed': 7679,\n",
       "  'NewDeaths': 0,\n",
       "  'TotalDeaths': 194,\n",
       "  'NewRecovered': 0,\n",
       "  'TotalRecovered': 0,\n",
       "  'Date': '2023-04-07T21:34:09.948Z',\n",
       "  'Premium': {}},\n",
       " {'ID': 'd5c4bc00-1a0a-4226-a5f7-89a2c6f1edf0',\n",
       "  'Country': 'Chile',\n",
       "  'CountryCode': 'CL',\n",
       "  'Slug': 'chile',\n",
       "  'NewConfirmed': 3906,\n",
       "  'TotalConfirmed': 5192286,\n",
       "  'NewDeaths': 19,\n",
       "  'TotalDeaths': 64273,\n",
       "  'NewRecovered': 0,\n",
       "  'TotalRecovered': 0,\n",
       "  'Date': '2023-04-07T21:34:09.948Z',\n",
       "  'Premium': {}},\n",
       " {'ID': 'b8ff57d2-d0b5-4736-baae-c45ef4fed2ec',\n",
       "  'Country': 'China',\n",
       "  'CountryCode': 'CN',\n",
       "  'Slug': 'china',\n",
       "  'NewConfirmed': 0,\n",
       "  'TotalConfirmed': 3378416,\n",
       "  'NewDeaths': 1,\n",
       "  'TotalDeaths': 18831,\n",
       "  'NewRecovered': 0,\n",
       "  'TotalRecovered': 0,\n",
       "  'Date': '2023-04-07T21:34:09.948Z',\n",
       "  'Premium': {}},\n",
       " {'ID': '9b753273-8bb7-44da-a456-3ef165458b3f',\n",
       "  'Country': 'Colombia',\n",
       "  'CountryCode': 'CO',\n",
       "  'Slug': 'colombia',\n",
       "  'NewConfirmed': 0,\n",
       "  'TotalConfirmed': 6359093,\n",
       "  'NewDeaths': 0,\n",
       "  'TotalDeaths': 142339,\n",
       "  'NewRecovered': 0,\n",
       "  'TotalRecovered': 0,\n",
       "  'Date': '2023-04-07T21:34:09.948Z',\n",
       "  'Premium': {}},\n",
       " {'ID': 'e83480e9-3a45-46be-ad6d-74703b3e8652',\n",
       "  'Country': 'Comoros',\n",
       "  'CountryCode': 'KM',\n",
       "  'Slug': 'comoros',\n",
       "  'NewConfirmed': 0,\n",
       "  'TotalConfirmed': 9008,\n",
       "  'NewDeaths': 0,\n",
       "  'TotalDeaths': 161,\n",
       "  'NewRecovered': 0,\n",
       "  'TotalRecovered': 0,\n",
       "  'Date': '2023-04-07T21:34:09.948Z',\n",
       "  'Premium': {}},\n",
       " {'ID': 'd704ddcc-3a05-4d3d-8a47-a58002c5e7ff',\n",
       "  'Country': 'Congo (Brazzaville)',\n",
       "  'CountryCode': 'CG',\n",
       "  'Slug': 'congo-brazzaville',\n",
       "  'NewConfirmed': 0,\n",
       "  'TotalConfirmed': 25087,\n",
       "  'NewDeaths': 0,\n",
       "  'TotalDeaths': 388,\n",
       "  'NewRecovered': 0,\n",
       "  'TotalRecovered': 0,\n",
       "  'Date': '2023-04-07T21:34:09.948Z',\n",
       "  'Premium': {}},\n",
       " {'ID': '302b7a47-6ca7-41da-8517-fccf72039444',\n",
       "  'Country': 'Congo (Kinshasa)',\n",
       "  'CountryCode': 'CD',\n",
       "  'Slug': 'congo-kinshasa',\n",
       "  'NewConfirmed': 0,\n",
       "  'TotalConfirmed': 95749,\n",
       "  'NewDeaths': 0,\n",
       "  'TotalDeaths': 1464,\n",
       "  'NewRecovered': 0,\n",
       "  'TotalRecovered': 0,\n",
       "  'Date': '2023-04-07T21:34:09.948Z',\n",
       "  'Premium': {}},\n",
       " {'ID': 'bf401a19-2493-49f8-96c3-37692f6609aa',\n",
       "  'Country': 'Costa Rica',\n",
       "  'CountryCode': 'CR',\n",
       "  'Slug': 'costa-rica',\n",
       "  'NewConfirmed': 0,\n",
       "  'TotalConfirmed': 1209725,\n",
       "  'NewDeaths': 0,\n",
       "  'TotalDeaths': 9245,\n",
       "  'NewRecovered': 0,\n",
       "  'TotalRecovered': 0,\n",
       "  'Date': '2023-04-07T21:34:09.948Z',\n",
       "  'Premium': {}},\n",
       " {'ID': 'a81ed8c2-bdd3-4073-a1ca-98dcb3344dc8',\n",
       "  'Country': 'Croatia',\n",
       "  'CountryCode': 'HR',\n",
       "  'Slug': 'croatia',\n",
       "  'NewConfirmed': 0,\n",
       "  'TotalConfirmed': 1269326,\n",
       "  'NewDeaths': 0,\n",
       "  'TotalDeaths': 17987,\n",
       "  'NewRecovered': 0,\n",
       "  'TotalRecovered': 0,\n",
       "  'Date': '2023-04-07T21:34:09.948Z',\n",
       "  'Premium': {}},\n",
       " {'ID': '2ee7cd19-c108-430b-afb9-4658ffcfea37',\n",
       "  'Country': 'Cuba',\n",
       "  'CountryCode': 'CU',\n",
       "  'Slug': 'cuba',\n",
       "  'NewConfirmed': 6,\n",
       "  'TotalConfirmed': 1112643,\n",
       "  'NewDeaths': 0,\n",
       "  'TotalDeaths': 8530,\n",
       "  'NewRecovered': 0,\n",
       "  'TotalRecovered': 0,\n",
       "  'Date': '2023-04-07T21:34:09.948Z',\n",
       "  'Premium': {}},\n",
       " {'ID': 'b49fae18-b8d4-464a-bbac-058ef5dd5628',\n",
       "  'Country': 'Cyprus',\n",
       "  'CountryCode': 'CY',\n",
       "  'Slug': 'cyprus',\n",
       "  'NewConfirmed': 0,\n",
       "  'TotalConfirmed': 650685,\n",
       "  'NewDeaths': 0,\n",
       "  'TotalDeaths': 1330,\n",
       "  'NewRecovered': 0,\n",
       "  'TotalRecovered': 0,\n",
       "  'Date': '2023-04-07T21:34:09.948Z',\n",
       "  'Premium': {}},\n",
       " {'ID': '6908d327-2a94-4737-b162-a4a85d177e89',\n",
       "  'Country': 'Czech Republic',\n",
       "  'CountryCode': 'CZ',\n",
       "  'Slug': 'czech-republic',\n",
       "  'NewConfirmed': 1142,\n",
       "  'TotalConfirmed': 4618256,\n",
       "  'NewDeaths': 3,\n",
       "  'TotalDeaths': 42491,\n",
       "  'NewRecovered': 0,\n",
       "  'TotalRecovered': 0,\n",
       "  'Date': '2023-04-07T21:34:09.948Z',\n",
       "  'Premium': {}},\n",
       " {'ID': '7439317c-c170-496e-9468-8952e53b49e4',\n",
       "  'Country': \"Côte d'Ivoire\",\n",
       "  'CountryCode': 'CI',\n",
       "  'Slug': 'cote-divoire',\n",
       "  'NewConfirmed': 8,\n",
       "  'TotalConfirmed': 88263,\n",
       "  'NewDeaths': 0,\n",
       "  'TotalDeaths': 834,\n",
       "  'NewRecovered': 0,\n",
       "  'TotalRecovered': 0,\n",
       "  'Date': '2023-04-07T21:34:09.948Z',\n",
       "  'Premium': {}},\n",
       " {'ID': '79c75c21-2183-4c0f-988a-e3ed269715cf',\n",
       "  'Country': 'Denmark',\n",
       "  'CountryCode': 'DK',\n",
       "  'Slug': 'denmark',\n",
       "  'NewConfirmed': 139,\n",
       "  'TotalConfirmed': 3451036,\n",
       "  'NewDeaths': 4,\n",
       "  'TotalDeaths': 8345,\n",
       "  'NewRecovered': 0,\n",
       "  'TotalRecovered': 0,\n",
       "  'Date': '2023-04-07T21:34:09.948Z',\n",
       "  'Premium': {}},\n",
       " {'ID': '0d899f26-32de-4b4d-b422-cf6ee55b07a5',\n",
       "  'Country': 'Djibouti',\n",
       "  'CountryCode': 'DJ',\n",
       "  'Slug': 'djibouti',\n",
       "  'NewConfirmed': 0,\n",
       "  'TotalConfirmed': 15690,\n",
       "  'NewDeaths': 0,\n",
       "  'TotalDeaths': 189,\n",
       "  'NewRecovered': 0,\n",
       "  'TotalRecovered': 0,\n",
       "  'Date': '2023-04-07T21:34:09.948Z',\n",
       "  'Premium': {}},\n",
       " {'ID': '5b9a375f-d730-40df-8ef3-1f82f4f44cbb',\n",
       "  'Country': 'Dominica',\n",
       "  'CountryCode': 'DM',\n",
       "  'Slug': 'dominica',\n",
       "  'NewConfirmed': 0,\n",
       "  'TotalConfirmed': 15760,\n",
       "  'NewDeaths': 0,\n",
       "  'TotalDeaths': 74,\n",
       "  'NewRecovered': 0,\n",
       "  'TotalRecovered': 0,\n",
       "  'Date': '2023-04-07T21:34:09.948Z',\n",
       "  'Premium': {}},\n",
       " {'ID': '411c70e5-c4bf-4d97-a406-2dbe8b4bbf42',\n",
       "  'Country': 'Dominican Republic',\n",
       "  'CountryCode': 'DO',\n",
       "  'Slug': 'dominican-republic',\n",
       "  'NewConfirmed': 0,\n",
       "  'TotalConfirmed': 660790,\n",
       "  'NewDeaths': 0,\n",
       "  'TotalDeaths': 4384,\n",
       "  'NewRecovered': 0,\n",
       "  'TotalRecovered': 0,\n",
       "  'Date': '2023-04-07T21:34:09.948Z',\n",
       "  'Premium': {}},\n",
       " {'ID': '071bea8f-8f7c-4fd4-8073-17c85b1ffeb1',\n",
       "  'Country': 'Ecuador',\n",
       "  'CountryCode': 'EC',\n",
       "  'Slug': 'ecuador',\n",
       "  'NewConfirmed': 0,\n",
       "  'TotalConfirmed': 1057121,\n",
       "  'NewDeaths': 0,\n",
       "  'TotalDeaths': 36014,\n",
       "  'NewRecovered': 0,\n",
       "  'TotalRecovered': 0,\n",
       "  'Date': '2023-04-07T21:34:09.948Z',\n",
       "  'Premium': {}},\n",
       " {'ID': '983e01a2-b59e-4d61-a38f-e79307546931',\n",
       "  'Country': 'Egypt',\n",
       "  'CountryCode': 'EG',\n",
       "  'Slug': 'egypt',\n",
       "  'NewConfirmed': 0,\n",
       "  'TotalConfirmed': 515759,\n",
       "  'NewDeaths': 0,\n",
       "  'TotalDeaths': 24812,\n",
       "  'NewRecovered': 0,\n",
       "  'TotalRecovered': 0,\n",
       "  'Date': '2023-04-07T21:34:09.948Z',\n",
       "  'Premium': {}},\n",
       " {'ID': '0996baef-c155-4c2c-bbc4-a50173ef90c7',\n",
       "  'Country': 'El Salvador',\n",
       "  'CountryCode': 'SV',\n",
       "  'Slug': 'el-salvador',\n",
       "  'NewConfirmed': 0,\n",
       "  'TotalConfirmed': 201785,\n",
       "  'NewDeaths': 0,\n",
       "  'TotalDeaths': 4230,\n",
       "  'NewRecovered': 0,\n",
       "  'TotalRecovered': 0,\n",
       "  'Date': '2023-04-07T21:34:09.948Z',\n",
       "  'Premium': {}},\n",
       " {'ID': 'f1686241-fd32-4d98-a488-52859288fea5',\n",
       "  'Country': 'Equatorial Guinea',\n",
       "  'CountryCode': 'GQ',\n",
       "  'Slug': 'equatorial-guinea',\n",
       "  'NewConfirmed': 0,\n",
       "  'TotalConfirmed': 17229,\n",
       "  'NewDeaths': 0,\n",
       "  'TotalDeaths': 183,\n",
       "  'NewRecovered': 0,\n",
       "  'TotalRecovered': 0,\n",
       "  'Date': '2023-04-07T21:34:09.948Z',\n",
       "  'Premium': {}},\n",
       " {'ID': 'e3d2b4c4-522e-445a-9fe3-0ca6a2a600a7',\n",
       "  'Country': 'Eritrea',\n",
       "  'CountryCode': 'ER',\n",
       "  'Slug': 'eritrea',\n",
       "  'NewConfirmed': 0,\n",
       "  'TotalConfirmed': 10189,\n",
       "  'NewDeaths': 0,\n",
       "  'TotalDeaths': 103,\n",
       "  'NewRecovered': 0,\n",
       "  'TotalRecovered': 0,\n",
       "  'Date': '2023-04-07T21:34:09.948Z',\n",
       "  'Premium': {}},\n",
       " {'ID': 'de8a1e9c-7445-4b67-8bc2-04fb73301485',\n",
       "  'Country': 'Estonia',\n",
       "  'CountryCode': 'EE',\n",
       "  'Slug': 'estonia',\n",
       "  'NewConfirmed': 0,\n",
       "  'TotalConfirmed': 615433,\n",
       "  'NewDeaths': 0,\n",
       "  'TotalDeaths': 2946,\n",
       "  'NewRecovered': 0,\n",
       "  'TotalRecovered': 0,\n",
       "  'Date': '2023-04-07T21:34:09.948Z',\n",
       "  'Premium': {}},\n",
       " {'ID': 'b23b9d6c-7897-43aa-9505-ae68c8524ab4',\n",
       "  'Country': 'Ethiopia',\n",
       "  'CountryCode': 'ET',\n",
       "  'Slug': 'ethiopia',\n",
       "  'NewConfirmed': 14,\n",
       "  'TotalConfirmed': 500116,\n",
       "  'NewDeaths': 0,\n",
       "  'TotalDeaths': 7572,\n",
       "  'NewRecovered': 0,\n",
       "  'TotalRecovered': 0,\n",
       "  'Date': '2023-04-07T21:34:09.948Z',\n",
       "  'Premium': {}},\n",
       " {'ID': '8c69d27a-9f5a-4e1b-8dd0-81dcfe682a65',\n",
       "  'Country': 'Fiji',\n",
       "  'CountryCode': 'FJ',\n",
       "  'Slug': 'fiji',\n",
       "  'NewConfirmed': 1,\n",
       "  'TotalConfirmed': 68898,\n",
       "  'NewDeaths': 0,\n",
       "  'TotalDeaths': 883,\n",
       "  'NewRecovered': 0,\n",
       "  'TotalRecovered': 0,\n",
       "  'Date': '2023-04-07T21:34:09.948Z',\n",
       "  'Premium': {}},\n",
       " {'ID': '86a93629-a040-4924-88a1-5466db2f026c',\n",
       "  'Country': 'Finland',\n",
       "  'CountryCode': 'FI',\n",
       "  'Slug': 'finland',\n",
       "  'NewConfirmed': 668,\n",
       "  'TotalConfirmed': 1463644,\n",
       "  'NewDeaths': 31,\n",
       "  'TotalDeaths': 8967,\n",
       "  'NewRecovered': 0,\n",
       "  'TotalRecovered': 0,\n",
       "  'Date': '2023-04-07T21:34:09.948Z',\n",
       "  'Premium': {}},\n",
       " {'ID': '761fb9cc-cf01-4684-ba1d-1eb8084c7419',\n",
       "  'Country': 'France',\n",
       "  'CountryCode': 'FR',\n",
       "  'Slug': 'france',\n",
       "  'NewConfirmed': 6308,\n",
       "  'TotalConfirmed': 39866718,\n",
       "  'NewDeaths': 11,\n",
       "  'TotalDeaths': 166176,\n",
       "  'NewRecovered': 0,\n",
       "  'TotalRecovered': 0,\n",
       "  'Date': '2023-04-07T21:34:09.948Z',\n",
       "  'Premium': {}},\n",
       " {'ID': 'fb2c3632-a7e8-450b-8a14-bc1e2bb0bb6c',\n",
       "  'Country': 'Gabon',\n",
       "  'CountryCode': 'GA',\n",
       "  'Slug': 'gabon',\n",
       "  'NewConfirmed': 0,\n",
       "  'TotalConfirmed': 48981,\n",
       "  'NewDeaths': 0,\n",
       "  'TotalDeaths': 306,\n",
       "  'NewRecovered': 0,\n",
       "  'TotalRecovered': 0,\n",
       "  'Date': '2023-04-07T21:34:09.948Z',\n",
       "  'Premium': {}},\n",
       " {'ID': '55df3d75-eef6-4465-8b39-4e99152e8a20',\n",
       "  'Country': 'Gambia',\n",
       "  'CountryCode': 'GM',\n",
       "  'Slug': 'gambia',\n",
       "  'NewConfirmed': 0,\n",
       "  'TotalConfirmed': 12598,\n",
       "  'NewDeaths': 0,\n",
       "  'TotalDeaths': 372,\n",
       "  'NewRecovered': 0,\n",
       "  'TotalRecovered': 0,\n",
       "  'Date': '2023-04-07T21:34:09.948Z',\n",
       "  'Premium': {}},\n",
       " {'ID': 'ba0af11b-6f0c-48ce-97cc-7612201c0e35',\n",
       "  'Country': 'Georgia',\n",
       "  'CountryCode': 'GE',\n",
       "  'Slug': 'georgia',\n",
       "  'NewConfirmed': 0,\n",
       "  'TotalConfirmed': 1827537,\n",
       "  'NewDeaths': 0,\n",
       "  'TotalDeaths': 16971,\n",
       "  'NewRecovered': 0,\n",
       "  'TotalRecovered': 0,\n",
       "  'Date': '2023-04-07T21:34:09.948Z',\n",
       "  'Premium': {}},\n",
       " {'ID': '58644d20-40f2-4fd4-bc58-52bd90c17fbb',\n",
       "  'Country': 'Germany',\n",
       "  'CountryCode': 'DE',\n",
       "  'Slug': 'germany',\n",
       "  'NewConfirmed': 7829,\n",
       "  'TotalConfirmed': 38249060,\n",
       "  'NewDeaths': 127,\n",
       "  'TotalDeaths': 168935,\n",
       "  'NewRecovered': 0,\n",
       "  'TotalRecovered': 0,\n",
       "  'Date': '2023-04-07T21:34:09.948Z',\n",
       "  'Premium': {}},\n",
       " {'ID': '96b53388-0fb1-46cf-a5ef-e74792b005d9',\n",
       "  'Country': 'Ghana',\n",
       "  'CountryCode': 'GH',\n",
       "  'Slug': 'ghana',\n",
       "  'NewConfirmed': 0,\n",
       "  'TotalConfirmed': 171229,\n",
       "  'NewDeaths': 0,\n",
       "  'TotalDeaths': 1462,\n",
       "  'NewRecovered': 0,\n",
       "  'TotalRecovered': 0,\n",
       "  'Date': '2023-04-07T21:34:09.948Z',\n",
       "  'Premium': {}},\n",
       " {'ID': '39e5481f-7d55-4ee3-be72-7c615689acec',\n",
       "  'Country': 'Greece',\n",
       "  'CountryCode': 'GR',\n",
       "  'Slug': 'greece',\n",
       "  'NewConfirmed': 0,\n",
       "  'TotalConfirmed': 5548487,\n",
       "  'NewDeaths': 0,\n",
       "  'TotalDeaths': 34779,\n",
       "  'NewRecovered': 0,\n",
       "  'TotalRecovered': 0,\n",
       "  'Date': '2023-04-07T21:34:09.948Z',\n",
       "  'Premium': {}},\n",
       " {'ID': '89d7d45b-5409-4b13-bdca-4e0e87bacbad',\n",
       "  'Country': 'Grenada',\n",
       "  'CountryCode': 'GD',\n",
       "  'Slug': 'grenada',\n",
       "  'NewConfirmed': 0,\n",
       "  'TotalConfirmed': 19680,\n",
       "  'NewDeaths': 0,\n",
       "  'TotalDeaths': 238,\n",
       "  'NewRecovered': 0,\n",
       "  'TotalRecovered': 0,\n",
       "  'Date': '2023-04-07T21:34:09.948Z',\n",
       "  'Premium': {}},\n",
       " {'ID': 'a7efa83c-38ae-40eb-a517-61f730eaaac0',\n",
       "  'Country': 'Guatemala',\n",
       "  'CountryCode': 'GT',\n",
       "  'Slug': 'guatemala',\n",
       "  'NewConfirmed': 198,\n",
       "  'TotalConfirmed': 1238247,\n",
       "  'NewDeaths': 0,\n",
       "  'TotalDeaths': 20182,\n",
       "  'NewRecovered': 0,\n",
       "  'TotalRecovered': 0,\n",
       "  'Date': '2023-04-07T21:34:09.948Z',\n",
       "  'Premium': {}},\n",
       " {'ID': '5c3fc42d-1e96-4597-92bd-5c74be471d44',\n",
       "  'Country': 'Guinea',\n",
       "  'CountryCode': 'GN',\n",
       "  'Slug': 'guinea',\n",
       "  'NewConfirmed': 0,\n",
       "  'TotalConfirmed': 38267,\n",
       "  'NewDeaths': 0,\n",
       "  'TotalDeaths': 467,\n",
       "  'NewRecovered': 0,\n",
       "  'TotalRecovered': 0,\n",
       "  'Date': '2023-04-07T21:34:09.948Z',\n",
       "  'Premium': {}},\n",
       " {'ID': 'f8465771-fa04-44d1-bab0-7310b23452a3',\n",
       "  'Country': 'Guinea-Bissau',\n",
       "  'CountryCode': 'GW',\n",
       "  'Slug': 'guinea-bissau',\n",
       "  'NewConfirmed': 0,\n",
       "  'TotalConfirmed': 8960,\n",
       "  'NewDeaths': 0,\n",
       "  'TotalDeaths': 176,\n",
       "  'NewRecovered': 0,\n",
       "  'TotalRecovered': 0,\n",
       "  'Date': '2023-04-07T21:34:09.948Z',\n",
       "  'Premium': {}},\n",
       " {'ID': '4a7b1bb6-3bb1-431c-8b61-6706524c76f8',\n",
       "  'Country': 'Guyana',\n",
       "  'CountryCode': 'GY',\n",
       "  'Slug': 'guyana',\n",
       "  'NewConfirmed': 0,\n",
       "  'TotalConfirmed': 73075,\n",
       "  'NewDeaths': 0,\n",
       "  'TotalDeaths': 1298,\n",
       "  'NewRecovered': 0,\n",
       "  'TotalRecovered': 0,\n",
       "  'Date': '2023-04-07T21:34:09.948Z',\n",
       "  'Premium': {}},\n",
       " {'ID': 'cf4cece4-63ae-4fe9-bef4-b968d3856f75',\n",
       "  'Country': 'Haiti',\n",
       "  'CountryCode': 'HT',\n",
       "  'Slug': 'haiti',\n",
       "  'NewConfirmed': 0,\n",
       "  'TotalConfirmed': 34202,\n",
       "  'NewDeaths': 0,\n",
       "  'TotalDeaths': 860,\n",
       "  'NewRecovered': 0,\n",
       "  'TotalRecovered': 0,\n",
       "  'Date': '2023-04-07T21:34:09.948Z',\n",
       "  'Premium': {}},\n",
       " {'ID': '7d93df5f-bd8e-46e3-89ad-7e177a8341c6',\n",
       "  'Country': 'Holy See (Vatican City State)',\n",
       "  'CountryCode': 'VA',\n",
       "  'Slug': 'holy-see-vatican-city-state',\n",
       "  'NewConfirmed': 0,\n",
       "  'TotalConfirmed': 29,\n",
       "  'NewDeaths': 0,\n",
       "  'TotalDeaths': 0,\n",
       "  'NewRecovered': 0,\n",
       "  'TotalRecovered': 0,\n",
       "  'Date': '2023-04-07T21:34:09.948Z',\n",
       "  'Premium': {}},\n",
       " {'ID': '912c3c1a-43bc-4c56-8d08-1d7e131a2b05',\n",
       "  'Country': 'Honduras',\n",
       "  'CountryCode': 'HN',\n",
       "  'Slug': 'honduras',\n",
       "  'NewConfirmed': 0,\n",
       "  'TotalConfirmed': 472250,\n",
       "  'NewDeaths': 0,\n",
       "  'TotalDeaths': 11111,\n",
       "  'NewRecovered': 0,\n",
       "  'TotalRecovered': 0,\n",
       "  'Date': '2023-04-07T21:34:09.948Z',\n",
       "  'Premium': {}},\n",
       " {'ID': 'ad376631-32a1-48f3-8e0a-dc54d2c132cb',\n",
       "  'Country': 'Hungary',\n",
       "  'CountryCode': 'HU',\n",
       "  'Slug': 'hungary',\n",
       "  'NewConfirmed': 0,\n",
       "  'TotalConfirmed': 2196804,\n",
       "  'NewDeaths': 0,\n",
       "  'TotalDeaths': 48762,\n",
       "  'NewRecovered': 0,\n",
       "  'TotalRecovered': 0,\n",
       "  'Date': '2023-04-07T21:34:09.948Z',\n",
       "  'Premium': {}},\n",
       " {'ID': '72a491e3-358e-4935-8815-2293fb4a19be',\n",
       "  'Country': 'Iceland',\n",
       "  'CountryCode': 'IS',\n",
       "  'Slug': 'iceland',\n",
       "  'NewConfirmed': 0,\n",
       "  'TotalConfirmed': 209137,\n",
       "  'NewDeaths': 0,\n",
       "  'TotalDeaths': 263,\n",
       "  'NewRecovered': 0,\n",
       "  'TotalRecovered': 0,\n",
       "  'Date': '2023-04-07T21:34:09.948Z',\n",
       "  'Premium': {}},\n",
       " {'ID': 'a90d1206-d833-4c75-ae10-5cd447d60a89',\n",
       "  'Country': 'India',\n",
       "  'CountryCode': 'IN',\n",
       "  'Slug': 'india',\n",
       "  'NewConfirmed': 440,\n",
       "  'TotalConfirmed': 44690738,\n",
       "  'NewDeaths': 3,\n",
       "  'TotalDeaths': 530779,\n",
       "  'NewRecovered': 0,\n",
       "  'TotalRecovered': 0,\n",
       "  'Date': '2023-04-07T21:34:09.948Z',\n",
       "  'Premium': {}},\n",
       " {'ID': '20bf768f-0b92-47bd-9d06-b31baac5ff51',\n",
       "  'Country': 'Indonesia',\n",
       "  'CountryCode': 'ID',\n",
       "  'Slug': 'indonesia',\n",
       "  'NewConfirmed': 307,\n",
       "  'TotalConfirmed': 6738225,\n",
       "  'NewDeaths': 4,\n",
       "  'TotalDeaths': 160941,\n",
       "  'NewRecovered': 0,\n",
       "  'TotalRecovered': 0,\n",
       "  'Date': '2023-04-07T21:34:09.948Z',\n",
       "  'Premium': {}},\n",
       " {'ID': '5e2b9ecd-e20e-47a1-9535-2b4d3002f3cd',\n",
       "  'Country': 'Iran, Islamic Republic of',\n",
       "  'CountryCode': 'IR',\n",
       "  'Slug': 'iran',\n",
       "  'NewConfirmed': 315,\n",
       "  'TotalConfirmed': 7572311,\n",
       "  'NewDeaths': 11,\n",
       "  'TotalDeaths': 144933,\n",
       "  'NewRecovered': 0,\n",
       "  'TotalRecovered': 0,\n",
       "  'Date': '2023-04-07T21:34:09.948Z',\n",
       "  'Premium': {}},\n",
       " {'ID': '42c119e5-b603-4cb2-b161-54f6ae161dcc',\n",
       "  'Country': 'Iraq',\n",
       "  'CountryCode': 'IQ',\n",
       "  'Slug': 'iraq',\n",
       "  'NewConfirmed': 0,\n",
       "  'TotalConfirmed': 2465545,\n",
       "  'NewDeaths': 0,\n",
       "  'TotalDeaths': 25375,\n",
       "  'NewRecovered': 0,\n",
       "  'TotalRecovered': 0,\n",
       "  'Date': '2023-04-07T21:34:09.948Z',\n",
       "  'Premium': {}},\n",
       " {'ID': '7bd59683-a28c-4e45-a312-db23e2e1ca9f',\n",
       "  'Country': 'Ireland',\n",
       "  'CountryCode': 'IE',\n",
       "  'Slug': 'ireland',\n",
       "  'NewConfirmed': 0,\n",
       "  'TotalConfirmed': 1704502,\n",
       "  'NewDeaths': 0,\n",
       "  'TotalDeaths': 8708,\n",
       "  'NewRecovered': 0,\n",
       "  'TotalRecovered': 0,\n",
       "  'Date': '2023-04-07T21:34:09.948Z',\n",
       "  'Premium': {}},\n",
       " {'ID': '18ba037b-be18-48ad-b716-a46d6f3523aa',\n",
       "  'Country': 'Israel',\n",
       "  'CountryCode': 'IL',\n",
       "  'Slug': 'israel',\n",
       "  'NewConfirmed': 660,\n",
       "  'TotalConfirmed': 4803824,\n",
       "  'NewDeaths': 4,\n",
       "  'TotalDeaths': 12329,\n",
       "  'NewRecovered': 0,\n",
       "  'TotalRecovered': 0,\n",
       "  'Date': '2023-04-07T21:34:09.948Z',\n",
       "  'Premium': {}},\n",
       " {'ID': '8b9d3911-b623-4247-b996-085d99e5e115',\n",
       "  'Country': 'Italy',\n",
       "  'CountryCode': 'IT',\n",
       "  'Slug': 'italy',\n",
       "  'NewConfirmed': 0,\n",
       "  'TotalConfirmed': 25603510,\n",
       "  'NewDeaths': 0,\n",
       "  'TotalDeaths': 188322,\n",
       "  'NewRecovered': 0,\n",
       "  'TotalRecovered': 0,\n",
       "  'Date': '2023-04-07T21:34:09.948Z',\n",
       "  'Premium': {}},\n",
       " {'ID': 'b2f8e303-6076-48e9-90fc-9a730ececdff',\n",
       "  'Country': 'Jamaica',\n",
       "  'CountryCode': 'JM',\n",
       "  'Slug': 'jamaica',\n",
       "  'NewConfirmed': 129,\n",
       "  'TotalConfirmed': 154416,\n",
       "  'NewDeaths': 3,\n",
       "  'TotalDeaths': 3514,\n",
       "  'NewRecovered': 0,\n",
       "  'TotalRecovered': 0,\n",
       "  'Date': '2023-04-07T21:34:09.948Z',\n",
       "  'Premium': {}},\n",
       " {'ID': '53aed390-a3db-4457-b487-f0b82e95539c',\n",
       "  'Country': 'Japan',\n",
       "  'CountryCode': 'JP',\n",
       "  'Slug': 'japan',\n",
       "  'NewConfirmed': 9834,\n",
       "  'TotalConfirmed': 33320438,\n",
       "  'NewDeaths': 80,\n",
       "  'TotalDeaths': 72997,\n",
       "  'NewRecovered': 0,\n",
       "  'TotalRecovered': 0,\n",
       "  'Date': '2023-04-07T21:34:09.948Z',\n",
       "  'Premium': {}},\n",
       " {'ID': '26f6f47f-c80e-4dad-91f6-666920a61990',\n",
       "  'Country': 'Jordan',\n",
       "  'CountryCode': 'JO',\n",
       "  'Slug': 'jordan',\n",
       "  'NewConfirmed': 0,\n",
       "  'TotalConfirmed': 1746997,\n",
       "  'NewDeaths': 0,\n",
       "  'TotalDeaths': 14122,\n",
       "  'NewRecovered': 0,\n",
       "  'TotalRecovered': 0,\n",
       "  'Date': '2023-04-07T21:34:09.948Z',\n",
       "  'Premium': {}},\n",
       " {'ID': '2dbc71fc-6c91-4254-9939-455a873f24dc',\n",
       "  'Country': 'Kazakhstan',\n",
       "  'CountryCode': 'KZ',\n",
       "  'Slug': 'kazakhstan',\n",
       "  'NewConfirmed': 0,\n",
       "  'TotalConfirmed': 1498668,\n",
       "  'NewDeaths': 0,\n",
       "  'TotalDeaths': 19071,\n",
       "  'NewRecovered': 0,\n",
       "  'TotalRecovered': 0,\n",
       "  'Date': '2023-04-07T21:34:09.948Z',\n",
       "  'Premium': {}},\n",
       " {'ID': 'a7603a5e-966f-42e2-9bf3-8edb5dbefefc',\n",
       "  'Country': 'Kenya',\n",
       "  'CountryCode': 'KE',\n",
       "  'Slug': 'kenya',\n",
       "  'NewConfirmed': 0,\n",
       "  'TotalConfirmed': 342937,\n",
       "  'NewDeaths': 0,\n",
       "  'TotalDeaths': 5688,\n",
       "  'NewRecovered': 0,\n",
       "  'TotalRecovered': 0,\n",
       "  'Date': '2023-04-07T21:34:09.948Z',\n",
       "  'Premium': {}},\n",
       " {'ID': '0c6d7165-ffa5-4ba8-b0af-1bcb700b630c',\n",
       "  'Country': 'Kiribati',\n",
       "  'CountryCode': 'KI',\n",
       "  'Slug': 'kiribati',\n",
       "  'NewConfirmed': 0,\n",
       "  'TotalConfirmed': 5014,\n",
       "  'NewDeaths': 0,\n",
       "  'TotalDeaths': 18,\n",
       "  'NewRecovered': 0,\n",
       "  'TotalRecovered': 0,\n",
       "  'Date': '2023-04-07T21:34:09.948Z',\n",
       "  'Premium': {}},\n",
       " {'ID': 'cb128895-d57a-46c2-ac30-3cabf5f462bc',\n",
       "  'Country': 'Korea (North)',\n",
       "  'CountryCode': 'KP',\n",
       "  'Slug': 'korea-north',\n",
       "  'NewConfirmed': 0,\n",
       "  'TotalConfirmed': 1,\n",
       "  'NewDeaths': 0,\n",
       "  'TotalDeaths': 6,\n",
       "  'NewRecovered': 0,\n",
       "  'TotalRecovered': 0,\n",
       "  'Date': '2023-04-07T21:34:09.948Z',\n",
       "  'Premium': {}},\n",
       " {'ID': '9fc7980b-cfd8-45d3-925a-35cd16f65bd9',\n",
       "  'Country': 'Korea (South)',\n",
       "  'CountryCode': 'KR',\n",
       "  'Slug': 'korea-south',\n",
       "  'NewConfirmed': 10335,\n",
       "  'TotalConfirmed': 30615522,\n",
       "  'NewDeaths': 12,\n",
       "  'TotalDeaths': 34093,\n",
       "  'NewRecovered': 0,\n",
       "  'TotalRecovered': 0,\n",
       "  'Date': '2023-04-07T21:34:09.948Z',\n",
       "  'Premium': {}},\n",
       " {'ID': '38708eea-5629-4445-a7a4-37c5662f01e5',\n",
       "  'Country': 'Kuwait',\n",
       "  'CountryCode': 'KW',\n",
       "  'Slug': 'kuwait',\n",
       "  'NewConfirmed': 0,\n",
       "  'TotalConfirmed': 663860,\n",
       "  'NewDeaths': 0,\n",
       "  'TotalDeaths': 2570,\n",
       "  'NewRecovered': 0,\n",
       "  'TotalRecovered': 0,\n",
       "  'Date': '2023-04-07T21:34:09.948Z',\n",
       "  'Premium': {}},\n",
       " {'ID': 'debbee82-5ad9-4296-9a6b-61e43f2349ea',\n",
       "  'Country': 'Kyrgyzstan',\n",
       "  'CountryCode': 'KG',\n",
       "  'Slug': 'kyrgyzstan',\n",
       "  'NewConfirmed': 0,\n",
       "  'TotalConfirmed': 206708,\n",
       "  'NewDeaths': 0,\n",
       "  'TotalDeaths': 2991,\n",
       "  'NewRecovered': 0,\n",
       "  'TotalRecovered': 0,\n",
       "  'Date': '2023-04-07T21:34:09.948Z',\n",
       "  'Premium': {}},\n",
       " {'ID': '64eb0fef-51b7-4cf2-be66-e14a010f2f78',\n",
       "  'Country': 'Lao PDR',\n",
       "  'CountryCode': 'LA',\n",
       "  'Slug': 'lao-pdr',\n",
       "  'NewConfirmed': 0,\n",
       "  'TotalConfirmed': 218023,\n",
       "  'NewDeaths': 0,\n",
       "  'TotalDeaths': 758,\n",
       "  'NewRecovered': 0,\n",
       "  'TotalRecovered': 0,\n",
       "  'Date': '2023-04-07T21:34:09.948Z',\n",
       "  'Premium': {}},\n",
       " {'ID': 'cfe2e98a-f65a-4629-a4ea-49790c7463fd',\n",
       "  'Country': 'Latvia',\n",
       "  'CountryCode': 'LV',\n",
       "  'Slug': 'latvia',\n",
       "  'NewConfirmed': 27,\n",
       "  'TotalConfirmed': 976255,\n",
       "  'NewDeaths': 0,\n",
       "  'TotalDeaths': 6269,\n",
       "  'NewRecovered': 0,\n",
       "  'TotalRecovered': 0,\n",
       "  'Date': '2023-04-07T21:34:09.948Z',\n",
       "  'Premium': {}},\n",
       " {'ID': '997c2182-3fc3-4f66-8739-e6c5792904b4',\n",
       "  'Country': 'Lebanon',\n",
       "  'CountryCode': 'LB',\n",
       "  'Slug': 'lebanon',\n",
       "  'NewConfirmed': 179,\n",
       "  'TotalConfirmed': 1232828,\n",
       "  'NewDeaths': 1,\n",
       "  'TotalDeaths': 10841,\n",
       "  'NewRecovered': 0,\n",
       "  'TotalRecovered': 0,\n",
       "  'Date': '2023-04-07T21:34:09.948Z',\n",
       "  'Premium': {}},\n",
       " {'ID': '6487fe0f-8642-4f75-818f-9961f38a7847',\n",
       "  'Country': 'Lesotho',\n",
       "  'CountryCode': 'LS',\n",
       "  'Slug': 'lesotho',\n",
       "  'NewConfirmed': 0,\n",
       "  'TotalConfirmed': 34790,\n",
       "  'NewDeaths': 0,\n",
       "  'TotalDeaths': 723,\n",
       "  'NewRecovered': 0,\n",
       "  'TotalRecovered': 0,\n",
       "  'Date': '2023-04-07T21:34:09.948Z',\n",
       "  'Premium': {}},\n",
       " {'ID': 'a7ff297e-05b5-4916-8b02-b5430f80d097',\n",
       "  'Country': 'Liberia',\n",
       "  'CountryCode': 'LR',\n",
       "  'Slug': 'liberia',\n",
       "  'NewConfirmed': 0,\n",
       "  'TotalConfirmed': 8090,\n",
       "  'NewDeaths': 0,\n",
       "  'TotalDeaths': 295,\n",
       "  'NewRecovered': 0,\n",
       "  'TotalRecovered': 0,\n",
       "  'Date': '2023-04-07T21:34:09.948Z',\n",
       "  'Premium': {}},\n",
       " {'ID': 'c9d793d2-292e-4353-89ef-6347ba8690d3',\n",
       "  'Country': 'Libya',\n",
       "  'CountryCode': 'LY',\n",
       "  'Slug': 'libya',\n",
       "  'NewConfirmed': 0,\n",
       "  'TotalConfirmed': 507187,\n",
       "  'NewDeaths': 0,\n",
       "  'TotalDeaths': 6437,\n",
       "  'NewRecovered': 0,\n",
       "  'TotalRecovered': 0,\n",
       "  'Date': '2023-04-07T21:34:09.948Z',\n",
       "  'Premium': {}},\n",
       " {'ID': '5ef8be8d-bf50-47f8-b6a1-4f8a08a678f9',\n",
       "  'Country': 'Liechtenstein',\n",
       "  'CountryCode': 'LI',\n",
       "  'Slug': 'liechtenstein',\n",
       "  'NewConfirmed': 0,\n",
       "  'TotalConfirmed': 21432,\n",
       "  'NewDeaths': 0,\n",
       "  'TotalDeaths': 89,\n",
       "  'NewRecovered': 0,\n",
       "  'TotalRecovered': 0,\n",
       "  'Date': '2023-04-07T21:34:09.948Z',\n",
       "  'Premium': {}},\n",
       " {'ID': '5eb9c937-1eb0-4a0d-b633-acacc7c7b949',\n",
       "  'Country': 'Lithuania',\n",
       "  'CountryCode': 'LT',\n",
       "  'Slug': 'lithuania',\n",
       "  'NewConfirmed': 0,\n",
       "  'TotalConfirmed': 1307448,\n",
       "  'NewDeaths': 0,\n",
       "  'TotalDeaths': 9596,\n",
       "  'NewRecovered': 0,\n",
       "  'TotalRecovered': 0,\n",
       "  'Date': '2023-04-07T21:34:09.948Z',\n",
       "  'Premium': {}},\n",
       " {'ID': '7268d9c4-e08d-4461-926b-c2998c05bc88',\n",
       "  'Country': 'Luxembourg',\n",
       "  'CountryCode': 'LU',\n",
       "  'Slug': 'luxembourg',\n",
       "  'NewConfirmed': 0,\n",
       "  'TotalConfirmed': 317367,\n",
       "  'NewDeaths': 0,\n",
       "  'TotalDeaths': 1220,\n",
       "  'NewRecovered': 0,\n",
       "  'TotalRecovered': 0,\n",
       "  'Date': '2023-04-07T21:34:09.948Z',\n",
       "  'Premium': {}},\n",
       " {'ID': '4c75889a-33f9-4c12-9592-f83513efec93',\n",
       "  'Country': 'Macedonia, Republic of',\n",
       "  'CountryCode': 'MK',\n",
       "  'Slug': 'macedonia',\n",
       "  'NewConfirmed': 0,\n",
       "  'TotalConfirmed': 346852,\n",
       "  'NewDeaths': 0,\n",
       "  'TotalDeaths': 9662,\n",
       "  'NewRecovered': 0,\n",
       "  'TotalRecovered': 0,\n",
       "  'Date': '2023-04-07T21:34:09.948Z',\n",
       "  'Premium': {}},\n",
       " {'ID': '15dff5be-d2de-42aa-9106-a23da44729ff',\n",
       "  'Country': 'Madagascar',\n",
       "  'CountryCode': 'MG',\n",
       "  'Slug': 'madagascar',\n",
       "  'NewConfirmed': 0,\n",
       "  'TotalConfirmed': 67889,\n",
       "  'NewDeaths': 0,\n",
       "  'TotalDeaths': 1423,\n",
       "  'NewRecovered': 0,\n",
       "  'TotalRecovered': 0,\n",
       "  'Date': '2023-04-07T21:34:09.948Z',\n",
       "  'Premium': {}},\n",
       " {'ID': '90bfc5b0-dee5-424f-9f25-224704bab028',\n",
       "  'Country': 'Malawi',\n",
       "  'CountryCode': 'MW',\n",
       "  'Slug': 'malawi',\n",
       "  'NewConfirmed': 0,\n",
       "  'TotalConfirmed': 88707,\n",
       "  'NewDeaths': 0,\n",
       "  'TotalDeaths': 2686,\n",
       "  'NewRecovered': 0,\n",
       "  'TotalRecovered': 0,\n",
       "  'Date': '2023-04-07T21:34:09.948Z',\n",
       "  'Premium': {}},\n",
       " {'ID': 'a680efe1-bc81-401c-89a2-35254a8d3675',\n",
       "  'Country': 'Malaysia',\n",
       "  'CountryCode': 'MY',\n",
       "  'Slug': 'malaysia',\n",
       "  'NewConfirmed': 279,\n",
       "  'TotalConfirmed': 5044718,\n",
       "  'NewDeaths': 0,\n",
       "  'TotalDeaths': 36967,\n",
       "  'NewRecovered': 0,\n",
       "  'TotalRecovered': 0,\n",
       "  'Date': '2023-04-07T21:34:09.948Z',\n",
       "  'Premium': {}},\n",
       " {'ID': 'c8a918fc-fc12-42b5-bab5-c70667d4d92c',\n",
       "  'Country': 'Maldives',\n",
       "  'CountryCode': 'MV',\n",
       "  'Slug': 'maldives',\n",
       "  'NewConfirmed': 0,\n",
       "  'TotalConfirmed': 185738,\n",
       "  'NewDeaths': 0,\n",
       "  'TotalDeaths': 311,\n",
       "  'NewRecovered': 0,\n",
       "  'TotalRecovered': 0,\n",
       "  'Date': '2023-04-07T21:34:09.948Z',\n",
       "  'Premium': {}},\n",
       " {'ID': 'd8cecdfd-044a-446a-a2da-bdc261bc36f9',\n",
       "  'Country': 'Mali',\n",
       "  'CountryCode': 'ML',\n",
       "  'Slug': 'mali',\n",
       "  'NewConfirmed': 1,\n",
       "  'TotalConfirmed': 33062,\n",
       "  'NewDeaths': 0,\n",
       "  'TotalDeaths': 743,\n",
       "  'NewRecovered': 0,\n",
       "  'TotalRecovered': 0,\n",
       "  'Date': '2023-04-07T21:34:09.948Z',\n",
       "  'Premium': {}},\n",
       " {'ID': '7ef0be85-09a9-4aac-8238-c2e93aeb27c6',\n",
       "  'Country': 'Malta',\n",
       "  'CountryCode': 'MT',\n",
       "  'Slug': 'malta',\n",
       "  'NewConfirmed': 0,\n",
       "  'TotalConfirmed': 117610,\n",
       "  'NewDeaths': 0,\n",
       "  'TotalDeaths': 828,\n",
       "  'NewRecovered': 0,\n",
       "  'TotalRecovered': 0,\n",
       "  'Date': '2023-04-07T21:34:09.948Z',\n",
       "  'Premium': {}},\n",
       " {'ID': '4591f5bb-9065-41dd-9b62-faa4ae9f9eb1',\n",
       "  'Country': 'Marshall Islands',\n",
       "  'CountryCode': 'MH',\n",
       "  'Slug': 'marshall-islands',\n",
       "  'NewConfirmed': 0,\n",
       "  'TotalConfirmed': 15649,\n",
       "  'NewDeaths': 0,\n",
       "  'TotalDeaths': 17,\n",
       "  'NewRecovered': 0,\n",
       "  'TotalRecovered': 0,\n",
       "  'Date': '2023-04-07T21:34:09.948Z',\n",
       "  'Premium': {}},\n",
       " {'ID': 'afe885a4-6f46-43d3-93a1-b21b519320b1',\n",
       "  'Country': 'Mauritania',\n",
       "  'CountryCode': 'MR',\n",
       "  'Slug': 'mauritania',\n",
       "  'NewConfirmed': 0,\n",
       "  'TotalConfirmed': 63668,\n",
       "  'NewDeaths': 0,\n",
       "  'TotalDeaths': 997,\n",
       "  'NewRecovered': 0,\n",
       "  'TotalRecovered': 0,\n",
       "  'Date': '2023-04-07T21:34:09.948Z',\n",
       "  'Premium': {}},\n",
       " {'ID': '052c3d4f-41c5-42a1-86c5-f243b7f516cf',\n",
       "  'Country': 'Mauritius',\n",
       "  'CountryCode': 'MU',\n",
       "  'Slug': 'mauritius',\n",
       "  'NewConfirmed': 0,\n",
       "  'TotalConfirmed': 296042,\n",
       "  'NewDeaths': 0,\n",
       "  'TotalDeaths': 1044,\n",
       "  'NewRecovered': 0,\n",
       "  'TotalRecovered': 0,\n",
       "  'Date': '2023-04-07T21:34:09.948Z',\n",
       "  'Premium': {}},\n",
       " {'ID': 'bec74f46-bd4a-44c4-be7a-0436f1ec9d0a',\n",
       "  'Country': 'Mexico',\n",
       "  'CountryCode': 'MX',\n",
       "  'Slug': 'mexico',\n",
       "  'NewConfirmed': 3809,\n",
       "  'TotalConfirmed': 7483444,\n",
       "  'NewDeaths': 18,\n",
       "  'TotalDeaths': 333188,\n",
       "  'NewRecovered': 0,\n",
       "  'TotalRecovered': 0,\n",
       "  'Date': '2023-04-07T21:34:09.948Z',\n",
       "  'Premium': {}},\n",
       " {'ID': 'e56ed91d-16ad-4067-a9a5-0171937eb885',\n",
       "  'Country': 'Micronesia, Federated States of',\n",
       "  'CountryCode': 'FM',\n",
       "  'Slug': 'micronesia',\n",
       "  'NewConfirmed': 0,\n",
       "  'TotalConfirmed': 23948,\n",
       "  'NewDeaths': 0,\n",
       "  'TotalDeaths': 61,\n",
       "  'NewRecovered': 0,\n",
       "  'TotalRecovered': 0,\n",
       "  'Date': '2023-04-07T21:34:09.948Z',\n",
       "  'Premium': {}},\n",
       " {'ID': '5b03c748-134a-4209-a462-56f1b938a4e5',\n",
       "  'Country': 'Moldova',\n",
       "  'CountryCode': 'MD',\n",
       "  'Slug': 'moldova',\n",
       "  'NewConfirmed': 0,\n",
       "  'TotalConfirmed': 611140,\n",
       "  'NewDeaths': 0,\n",
       "  'TotalDeaths': 12003,\n",
       "  'NewRecovered': 0,\n",
       "  'TotalRecovered': 0,\n",
       "  'Date': '2023-04-07T21:34:09.948Z',\n",
       "  'Premium': {}},\n",
       " {'ID': '27bce68a-e66d-484b-af9c-6729731b0b0d',\n",
       "  'Country': 'Monaco',\n",
       "  'CountryCode': 'MC',\n",
       "  'Slug': 'monaco',\n",
       "  'NewConfirmed': 0,\n",
       "  'TotalConfirmed': 16121,\n",
       "  'NewDeaths': 0,\n",
       "  'TotalDeaths': 67,\n",
       "  'NewRecovered': 0,\n",
       "  'TotalRecovered': 0,\n",
       "  'Date': '2023-04-07T21:34:09.948Z',\n",
       "  'Premium': {}},\n",
       " {'ID': 'f26b652c-d769-426c-8dab-404d7ebda111',\n",
       "  'Country': 'Mongolia',\n",
       "  'CountryCode': 'MN',\n",
       "  'Slug': 'mongolia',\n",
       "  'NewConfirmed': 0,\n",
       "  'TotalConfirmed': 1007900,\n",
       "  'NewDeaths': 0,\n",
       "  'TotalDeaths': 2136,\n",
       "  'NewRecovered': 0,\n",
       "  'TotalRecovered': 0,\n",
       "  'Date': '2023-04-07T21:34:09.948Z',\n",
       "  'Premium': {}},\n",
       " {'ID': '1970d106-0a05-477e-9fdb-5618690544d3',\n",
       "  'Country': 'Montenegro',\n",
       "  'CountryCode': 'ME',\n",
       "  'Slug': 'montenegro',\n",
       "  'NewConfirmed': 56,\n",
       "  'TotalConfirmed': 288808,\n",
       "  'NewDeaths': 0,\n",
       "  'TotalDeaths': 2808,\n",
       "  'NewRecovered': 0,\n",
       "  'TotalRecovered': 0,\n",
       "  'Date': '2023-04-07T21:34:09.948Z',\n",
       "  'Premium': {}},\n",
       " {'ID': '25bde3dd-2211-459f-a1d7-5d00e4273537',\n",
       "  'Country': 'Morocco',\n",
       "  'CountryCode': 'MA',\n",
       "  'Slug': 'morocco',\n",
       "  'NewConfirmed': 0,\n",
       "  'TotalConfirmed': 1272490,\n",
       "  'NewDeaths': 0,\n",
       "  'TotalDeaths': 16296,\n",
       "  'NewRecovered': 0,\n",
       "  'TotalRecovered': 0,\n",
       "  'Date': '2023-04-07T21:34:09.948Z',\n",
       "  'Premium': {}},\n",
       " {'ID': '0f034dec-a9a0-47f7-96cb-a3af883a2e74',\n",
       "  'Country': 'Mozambique',\n",
       "  'CountryCode': 'MZ',\n",
       "  'Slug': 'mozambique',\n",
       "  'NewConfirmed': 0,\n",
       "  'TotalConfirmed': 233214,\n",
       "  'NewDeaths': 0,\n",
       "  'TotalDeaths': 2242,\n",
       "  'NewRecovered': 0,\n",
       "  'TotalRecovered': 0,\n",
       "  'Date': '2023-04-07T21:34:09.948Z',\n",
       "  'Premium': {}},\n",
       " {'ID': '2a97edd5-af28-4f9a-a3fe-6c56134a05d4',\n",
       "  'Country': 'Myanmar',\n",
       "  'CountryCode': 'MM',\n",
       "  'Slug': 'myanmar',\n",
       "  'NewConfirmed': 1,\n",
       "  'TotalConfirmed': 633950,\n",
       "  'NewDeaths': 0,\n",
       "  'TotalDeaths': 19490,\n",
       "  'NewRecovered': 0,\n",
       "  'TotalRecovered': 0,\n",
       "  'Date': '2023-04-07T21:34:09.948Z',\n",
       "  'Premium': {}},\n",
       " {'ID': '19303b7a-a362-43c3-96d2-6c50f18cd589',\n",
       "  'Country': 'Namibia',\n",
       "  'CountryCode': 'NA',\n",
       "  'Slug': 'namibia',\n",
       "  'NewConfirmed': 0,\n",
       "  'TotalConfirmed': 171156,\n",
       "  'NewDeaths': 0,\n",
       "  'TotalDeaths': 4090,\n",
       "  'NewRecovered': 0,\n",
       "  'TotalRecovered': 0,\n",
       "  'Date': '2023-04-07T21:34:09.948Z',\n",
       "  'Premium': {}},\n",
       " {'ID': 'a17e87cd-1809-4161-a751-eaf2d3f39503',\n",
       "  'Country': 'Nauru',\n",
       "  'CountryCode': 'NR',\n",
       "  'Slug': 'nauru',\n",
       "  'NewConfirmed': 0,\n",
       "  'TotalConfirmed': 5247,\n",
       "  'NewDeaths': 0,\n",
       "  'TotalDeaths': 1,\n",
       "  'NewRecovered': 0,\n",
       "  'TotalRecovered': 0,\n",
       "  'Date': '2023-04-07T21:34:09.948Z',\n",
       "  'Premium': {}},\n",
       " {'ID': 'ae3514f9-6401-4c10-a8b9-8a47ef8e1a78',\n",
       "  'Country': 'Nepal',\n",
       "  'CountryCode': 'NP',\n",
       "  'Slug': 'nepal',\n",
       "  'NewConfirmed': 4,\n",
       "  'TotalConfirmed': 1001154,\n",
       "  'NewDeaths': 0,\n",
       "  'TotalDeaths': 12020,\n",
       "  'NewRecovered': 0,\n",
       "  'TotalRecovered': 0,\n",
       "  'Date': '2023-04-07T21:34:09.948Z',\n",
       "  'Premium': {}},\n",
       " {'ID': '23bef6a7-1055-4bca-837e-c72a95c6168f',\n",
       "  'Country': 'Netherlands',\n",
       "  'CountryCode': 'NL',\n",
       "  'Slug': 'netherlands',\n",
       "  'NewConfirmed': 0,\n",
       "  'TotalConfirmed': 8599981,\n",
       "  'NewDeaths': 0,\n",
       "  'TotalDeaths': 22990,\n",
       "  'NewRecovered': 0,\n",
       "  'TotalRecovered': 0,\n",
       "  'Date': '2023-04-07T21:34:09.948Z',\n",
       "  'Premium': {}},\n",
       " {'ID': 'dcbd8c8a-375c-4387-8091-75d386f8adae',\n",
       "  'Country': 'New Zealand',\n",
       "  'CountryCode': 'NZ',\n",
       "  'Slug': 'new-zealand',\n",
       "  'NewConfirmed': 1,\n",
       "  'TotalConfirmed': 2236114,\n",
       "  'NewDeaths': 0,\n",
       "  'TotalDeaths': 2550,\n",
       "  'NewRecovered': 0,\n",
       "  'TotalRecovered': 0,\n",
       "  'Date': '2023-04-07T21:34:09.948Z',\n",
       "  'Premium': {}},\n",
       " {'ID': '9e5c7a61-7d51-43ad-b4e1-a33dd151f7c7',\n",
       "  'Country': 'Nicaragua',\n",
       "  'CountryCode': 'NI',\n",
       "  'Slug': 'nicaragua',\n",
       "  'NewConfirmed': 0,\n",
       "  'TotalConfirmed': 15655,\n",
       "  'NewDeaths': 0,\n",
       "  'TotalDeaths': 245,\n",
       "  'NewRecovered': 0,\n",
       "  'TotalRecovered': 0,\n",
       "  'Date': '2023-04-07T21:34:09.948Z',\n",
       "  'Premium': {}},\n",
       " {'ID': 'e4dd95b7-8732-486e-9bc4-d844e821f1fe',\n",
       "  'Country': 'Niger',\n",
       "  'CountryCode': 'NE',\n",
       "  'Slug': 'niger',\n",
       "  'NewConfirmed': 0,\n",
       "  'TotalConfirmed': 9508,\n",
       "  'NewDeaths': 0,\n",
       "  'TotalDeaths': 315,\n",
       "  'NewRecovered': 0,\n",
       "  'TotalRecovered': 0,\n",
       "  'Date': '2023-04-07T21:34:09.948Z',\n",
       "  'Premium': {}},\n",
       " {'ID': 'f178b111-ad7b-43b0-9f0c-6b6699650475',\n",
       "  'Country': 'Nigeria',\n",
       "  'CountryCode': 'NG',\n",
       "  'Slug': 'nigeria',\n",
       "  'NewConfirmed': 0,\n",
       "  'TotalConfirmed': 266598,\n",
       "  'NewDeaths': 0,\n",
       "  'TotalDeaths': 3155,\n",
       "  'NewRecovered': 0,\n",
       "  'TotalRecovered': 0,\n",
       "  'Date': '2023-04-07T21:34:09.948Z',\n",
       "  'Premium': {}},\n",
       " {'ID': 'bd75d3cf-616b-4d88-bbab-2e525f4c463b',\n",
       "  'Country': 'Norway',\n",
       "  'CountryCode': 'NO',\n",
       "  'Slug': 'norway',\n",
       "  'NewConfirmed': 53,\n",
       "  'TotalConfirmed': 1479506,\n",
       "  'NewDeaths': 0,\n",
       "  'TotalDeaths': 5213,\n",
       "  'NewRecovered': 0,\n",
       "  'TotalRecovered': 0,\n",
       "  'Date': '2023-04-07T21:34:09.948Z',\n",
       "  'Premium': {}},\n",
       " {'ID': 'e3c4ba55-6303-4f36-b6ca-0561a7371758',\n",
       "  'Country': 'Oman',\n",
       "  'CountryCode': 'OM',\n",
       "  'Slug': 'oman',\n",
       "  'NewConfirmed': 0,\n",
       "  'TotalConfirmed': 399449,\n",
       "  'NewDeaths': 0,\n",
       "  'TotalDeaths': 4628,\n",
       "  'NewRecovered': 0,\n",
       "  'TotalRecovered': 0,\n",
       "  'Date': '2023-04-07T21:34:09.948Z',\n",
       "  'Premium': {}},\n",
       " {'ID': 'ee5909fd-70c7-40cd-b5b0-933200208e00',\n",
       "  'Country': 'Pakistan',\n",
       "  'CountryCode': 'PK',\n",
       "  'Slug': 'pakistan',\n",
       "  'NewConfirmed': 73,\n",
       "  'TotalConfirmed': 1577411,\n",
       "  'NewDeaths': 0,\n",
       "  'TotalDeaths': 30644,\n",
       "  'NewRecovered': 0,\n",
       "  'TotalRecovered': 0,\n",
       "  'Date': '2023-04-07T21:34:09.948Z',\n",
       "  'Premium': {}},\n",
       " {'ID': '60031e2a-a80a-4533-99f4-d097e9b77b63',\n",
       "  'Country': 'Palau',\n",
       "  'CountryCode': 'PW',\n",
       "  'Slug': 'palau',\n",
       "  'NewConfirmed': 0,\n",
       "  'TotalConfirmed': 5991,\n",
       "  'NewDeaths': 0,\n",
       "  'TotalDeaths': 9,\n",
       "  'NewRecovered': 0,\n",
       "  'TotalRecovered': 0,\n",
       "  'Date': '2023-04-07T21:34:09.948Z',\n",
       "  'Premium': {}},\n",
       " {'ID': '4e08ea2c-a694-4e8c-aedd-bb7eea0d2dec',\n",
       "  'Country': 'Palestinian Territory',\n",
       "  'CountryCode': 'PS',\n",
       "  'Slug': 'palestine',\n",
       "  'NewConfirmed': 0,\n",
       "  'TotalConfirmed': 703228,\n",
       "  'NewDeaths': 0,\n",
       "  'TotalDeaths': 5708,\n",
       "  'NewRecovered': 0,\n",
       "  'TotalRecovered': 0,\n",
       "  'Date': '2023-04-07T21:34:09.948Z',\n",
       "  'Premium': {}},\n",
       " {'ID': '9449c0f8-0bfe-42aa-bc15-bbabef976c4d',\n",
       "  'Country': 'Panama',\n",
       "  'CountryCode': 'PA',\n",
       "  'Slug': 'panama',\n",
       "  'NewConfirmed': 0,\n",
       "  'TotalConfirmed': 1031731,\n",
       "  'NewDeaths': 0,\n",
       "  'TotalDeaths': 8609,\n",
       "  'NewRecovered': 0,\n",
       "  'TotalRecovered': 0,\n",
       "  'Date': '2023-04-07T21:34:09.948Z',\n",
       "  'Premium': {}},\n",
       " {'ID': 'db8b2249-112b-4893-bd79-a88b618a0ea6',\n",
       "  'Country': 'Papua New Guinea',\n",
       "  'CountryCode': 'PG',\n",
       "  'Slug': 'papua-new-guinea',\n",
       "  'NewConfirmed': 0,\n",
       "  'TotalConfirmed': 46825,\n",
       "  'NewDeaths': 0,\n",
       "  'TotalDeaths': 670,\n",
       "  'NewRecovered': 0,\n",
       "  'TotalRecovered': 0,\n",
       "  'Date': '2023-04-07T21:34:09.948Z',\n",
       "  'Premium': {}},\n",
       " {'ID': '74685fee-4cba-44e5-9f46-a9dcb73db1f8',\n",
       "  'Country': 'Paraguay',\n",
       "  'CountryCode': 'PY',\n",
       "  'Slug': 'paraguay',\n",
       "  'NewConfirmed': 0,\n",
       "  'TotalConfirmed': 808401,\n",
       "  'NewDeaths': 0,\n",
       "  'TotalDeaths': 19878,\n",
       "  'NewRecovered': 0,\n",
       "  'TotalRecovered': 0,\n",
       "  'Date': '2023-04-07T21:34:09.948Z',\n",
       "  'Premium': {}},\n",
       " {'ID': 'c74be76b-6764-48e6-862d-30d33df39f79',\n",
       "  'Country': 'Peru',\n",
       "  'CountryCode': 'PE',\n",
       "  'Slug': 'peru',\n",
       "  'NewConfirmed': 0,\n",
       "  'TotalConfirmed': 4487553,\n",
       "  'NewDeaths': 0,\n",
       "  'TotalDeaths': 219539,\n",
       "  'NewRecovered': 0,\n",
       "  'TotalRecovered': 0,\n",
       "  'Date': '2023-04-07T21:34:09.948Z',\n",
       "  'Premium': {}},\n",
       " {'ID': 'ce56378c-1949-49b0-b318-7cb4d48792fe',\n",
       "  'Country': 'Philippines',\n",
       "  'CountryCode': 'PH',\n",
       "  'Slug': 'philippines',\n",
       "  'NewConfirmed': 150,\n",
       "  'TotalConfirmed': 4077452,\n",
       "  'NewDeaths': 12,\n",
       "  'TotalDeaths': 66188,\n",
       "  'NewRecovered': 0,\n",
       "  'TotalRecovered': 0,\n",
       "  'Date': '2023-04-07T21:34:09.948Z',\n",
       "  'Premium': {}},\n",
       " {'ID': 'efb01863-fba3-484f-bf04-4bb8f10740bc',\n",
       "  'Country': 'Poland',\n",
       "  'CountryCode': 'PL',\n",
       "  'Slug': 'poland',\n",
       "  'NewConfirmed': 3459,\n",
       "  'TotalConfirmed': 6444960,\n",
       "  'NewDeaths': 21,\n",
       "  'TotalDeaths': 119010,\n",
       "  'NewRecovered': 0,\n",
       "  'TotalRecovered': 0,\n",
       "  'Date': '2023-04-07T21:34:09.948Z',\n",
       "  'Premium': {}},\n",
       " {'ID': 'ce858c15-e01c-4644-b15b-013a5eac0689',\n",
       "  'Country': 'Portugal',\n",
       "  'CountryCode': 'PT',\n",
       "  'Slug': 'portugal',\n",
       "  'NewConfirmed': 0,\n",
       "  'TotalConfirmed': 5570473,\n",
       "  'NewDeaths': 0,\n",
       "  'TotalDeaths': 26266,\n",
       "  'NewRecovered': 0,\n",
       "  'TotalRecovered': 0,\n",
       "  'Date': '2023-04-07T21:34:09.948Z',\n",
       "  'Premium': {}},\n",
       " {'ID': '171a84a0-2ccb-49b0-9652-9445cad64ed7',\n",
       "  'Country': 'Qatar',\n",
       "  'CountryCode': 'QA',\n",
       "  'Slug': 'qatar',\n",
       "  'NewConfirmed': 108,\n",
       "  'TotalConfirmed': 495090,\n",
       "  'NewDeaths': 0,\n",
       "  'TotalDeaths': 688,\n",
       "  'NewRecovered': 0,\n",
       "  'TotalRecovered': 0,\n",
       "  'Date': '2023-04-07T21:34:09.948Z',\n",
       "  'Premium': {}},\n",
       " {'ID': '79bad15f-3cda-4043-980a-1b975849dc2d',\n",
       "  'Country': 'Republic of Kosovo',\n",
       "  'CountryCode': 'XK',\n",
       "  'Slug': 'kosovo',\n",
       "  'NewConfirmed': 21,\n",
       "  'TotalConfirmed': 273312,\n",
       "  'NewDeaths': 0,\n",
       "  'TotalDeaths': 3211,\n",
       "  'NewRecovered': 0,\n",
       "  'TotalRecovered': 0,\n",
       "  'Date': '2023-04-07T21:34:09.948Z',\n",
       "  'Premium': {}},\n",
       " {'ID': '9e2b3ff3-e7c5-43dd-be32-70b4e053003b',\n",
       "  'Country': 'Romania',\n",
       "  'CountryCode': 'RO',\n",
       "  'Slug': 'romania',\n",
       "  'NewConfirmed': 0,\n",
       "  'TotalConfirmed': 3346046,\n",
       "  'NewDeaths': 0,\n",
       "  'TotalDeaths': 67736,\n",
       "  'NewRecovered': 0,\n",
       "  'TotalRecovered': 0,\n",
       "  'Date': '2023-04-07T21:34:09.948Z',\n",
       "  'Premium': {}},\n",
       " {'ID': '124b74a4-3b09-4914-a20e-5681975d8d71',\n",
       "  'Country': 'Russian Federation',\n",
       "  'CountryCode': 'RU',\n",
       "  'Slug': 'russia',\n",
       "  'NewConfirmed': 12385,\n",
       "  'TotalConfirmed': 22075858,\n",
       "  'NewDeaths': 38,\n",
       "  'TotalDeaths': 388478,\n",
       "  'NewRecovered': 0,\n",
       "  'TotalRecovered': 0,\n",
       "  'Date': '2023-04-07T21:34:09.948Z',\n",
       "  'Premium': {}},\n",
       " {'ID': '60760203-c35c-4495-9d61-165c001d491e',\n",
       "  'Country': 'Rwanda',\n",
       "  'CountryCode': 'RW',\n",
       "  'Slug': 'rwanda',\n",
       "  'NewConfirmed': 0,\n",
       "  'TotalConfirmed': 133194,\n",
       "  'NewDeaths': 0,\n",
       "  'TotalDeaths': 1468,\n",
       "  'NewRecovered': 0,\n",
       "  'TotalRecovered': 0,\n",
       "  'Date': '2023-04-07T21:34:09.948Z',\n",
       "  'Premium': {}},\n",
       " {'ID': '5c6a0385-947f-436d-a82f-053942294448',\n",
       "  'Country': 'Saint Kitts and Nevis',\n",
       "  'CountryCode': 'KN',\n",
       "  'Slug': 'saint-kitts-and-nevis',\n",
       "  'NewConfirmed': 0,\n",
       "  'TotalConfirmed': 6597,\n",
       "  'NewDeaths': 0,\n",
       "  'TotalDeaths': 47,\n",
       "  'NewRecovered': 0,\n",
       "  'TotalRecovered': 0,\n",
       "  'Date': '2023-04-07T21:34:09.948Z',\n",
       "  'Premium': {}},\n",
       " {'ID': '120a2b69-90aa-48fb-a4f6-19fe4194bdeb',\n",
       "  'Country': 'Saint Lucia',\n",
       "  'CountryCode': 'LC',\n",
       "  'Slug': 'saint-lucia',\n",
       "  'NewConfirmed': 0,\n",
       "  'TotalConfirmed': 30004,\n",
       "  'NewDeaths': 0,\n",
       "  'TotalDeaths': 409,\n",
       "  'NewRecovered': 0,\n",
       "  'TotalRecovered': 0,\n",
       "  'Date': '2023-04-07T21:34:09.948Z',\n",
       "  'Premium': {}},\n",
       " {'ID': 'c15826d7-a497-43aa-b895-8c3271a1c366',\n",
       "  'Country': 'Saint Vincent and Grenadines',\n",
       "  'CountryCode': 'VC',\n",
       "  'Slug': 'saint-vincent-and-the-grenadines',\n",
       "  'NewConfirmed': 0,\n",
       "  'TotalConfirmed': 9589,\n",
       "  'NewDeaths': 0,\n",
       "  'TotalDeaths': 123,\n",
       "  'NewRecovered': 0,\n",
       "  'TotalRecovered': 0,\n",
       "  'Date': '2023-04-07T21:34:09.948Z',\n",
       "  'Premium': {}},\n",
       " {'ID': '2c41ab54-90e0-41ac-a600-1a31f82c5c4d',\n",
       "  'Country': 'Samoa',\n",
       "  'CountryCode': 'WS',\n",
       "  'Slug': 'samoa',\n",
       "  'NewConfirmed': 0,\n",
       "  'TotalConfirmed': 16607,\n",
       "  'NewDeaths': 0,\n",
       "  'TotalDeaths': 29,\n",
       "  'NewRecovered': 0,\n",
       "  'TotalRecovered': 0,\n",
       "  'Date': '2023-04-07T21:34:09.948Z',\n",
       "  'Premium': {}},\n",
       " {'ID': '0dfa0fc2-ad61-47ae-bb8b-19644b71b749',\n",
       "  'Country': 'San Marino',\n",
       "  'CountryCode': 'SM',\n",
       "  'Slug': 'san-marino',\n",
       "  'NewConfirmed': 0,\n",
       "  'TotalConfirmed': 23616,\n",
       "  'NewDeaths': 0,\n",
       "  'TotalDeaths': 122,\n",
       "  'NewRecovered': 0,\n",
       "  'TotalRecovered': 0,\n",
       "  'Date': '2023-04-07T21:34:09.948Z',\n",
       "  'Premium': {}},\n",
       " {'ID': '10665b26-fdfb-43e7-8e16-daa9f6c2d88c',\n",
       "  'Country': 'Sao Tome and Principe',\n",
       "  'CountryCode': 'ST',\n",
       "  'Slug': 'sao-tome-and-principe',\n",
       "  'NewConfirmed': 0,\n",
       "  'TotalConfirmed': 6281,\n",
       "  'NewDeaths': 0,\n",
       "  'TotalDeaths': 77,\n",
       "  'NewRecovered': 0,\n",
       "  'TotalRecovered': 0,\n",
       "  'Date': '2023-04-07T21:34:09.948Z',\n",
       "  'Premium': {}},\n",
       " {'ID': 'af80098d-0442-46d9-ba60-118200befdd5',\n",
       "  'Country': 'Saudi Arabia',\n",
       "  'CountryCode': 'SA',\n",
       "  'Slug': 'saudi-arabia',\n",
       "  'NewConfirmed': 83,\n",
       "  'TotalConfirmed': 830127,\n",
       "  'NewDeaths': 0,\n",
       "  'TotalDeaths': 9618,\n",
       "  'NewRecovered': 0,\n",
       "  'TotalRecovered': 0,\n",
       "  'Date': '2023-04-07T21:34:09.948Z',\n",
       "  'Premium': {}},\n",
       " {'ID': '2c906397-9ff6-4d1b-b7f8-cda877ae6d5a',\n",
       "  'Country': 'Senegal',\n",
       "  'CountryCode': 'SN',\n",
       "  'Slug': 'senegal',\n",
       "  'NewConfirmed': 0,\n",
       "  'TotalConfirmed': 88926,\n",
       "  'NewDeaths': 0,\n",
       "  'TotalDeaths': 1971,\n",
       "  'NewRecovered': 0,\n",
       "  'TotalRecovered': 0,\n",
       "  'Date': '2023-04-07T21:34:09.948Z',\n",
       "  'Premium': {}},\n",
       " {'ID': '7c2aa474-b76a-460d-b349-a71bb5b01fef',\n",
       "  'Country': 'Serbia',\n",
       "  'CountryCode': 'RS',\n",
       "  'Slug': 'serbia',\n",
       "  'NewConfirmed': 873,\n",
       "  'TotalConfirmed': 2500142,\n",
       "  'NewDeaths': 6,\n",
       "  'TotalDeaths': 17881,\n",
       "  'NewRecovered': 0,\n",
       "  'TotalRecovered': 0,\n",
       "  'Date': '2023-04-07T21:34:09.948Z',\n",
       "  'Premium': {}},\n",
       " {'ID': '9a872b23-16ce-4195-87f3-793f677654ea',\n",
       "  'Country': 'Seychelles',\n",
       "  'CountryCode': 'SC',\n",
       "  'Slug': 'seychelles',\n",
       "  'NewConfirmed': 0,\n",
       "  'TotalConfirmed': 50665,\n",
       "  'NewDeaths': 0,\n",
       "  'TotalDeaths': 172,\n",
       "  'NewRecovered': 0,\n",
       "  'TotalRecovered': 0,\n",
       "  'Date': '2023-04-07T21:34:09.948Z',\n",
       "  'Premium': {}},\n",
       " {'ID': '925aef32-819f-4624-8861-4e2c16310dc3',\n",
       "  'Country': 'Sierra Leone',\n",
       "  'CountryCode': 'SL',\n",
       "  'Slug': 'sierra-leone',\n",
       "  'NewConfirmed': 0,\n",
       "  'TotalConfirmed': 7760,\n",
       "  'NewDeaths': 0,\n",
       "  'TotalDeaths': 126,\n",
       "  'NewRecovered': 0,\n",
       "  'TotalRecovered': 0,\n",
       "  'Date': '2023-04-07T21:34:09.948Z',\n",
       "  'Premium': {}},\n",
       " {'ID': '55166d63-e3ca-418b-aed3-7c29c22d365c',\n",
       "  'Country': 'Singapore',\n",
       "  'CountryCode': 'SG',\n",
       "  'Slug': 'singapore',\n",
       "  'NewConfirmed': 0,\n",
       "  'TotalConfirmed': 2235294,\n",
       "  'NewDeaths': 0,\n",
       "  'TotalDeaths': 1722,\n",
       "  'NewRecovered': 0,\n",
       "  'TotalRecovered': 0,\n",
       "  'Date': '2023-04-07T21:34:09.948Z',\n",
       "  'Premium': {}},\n",
       " {'ID': 'd446af40-b4fb-4157-bebc-01ff836a9b7e',\n",
       "  'Country': 'Slovakia',\n",
       "  'CountryCode': 'SK',\n",
       "  'Slug': 'slovakia',\n",
       "  'NewConfirmed': 262,\n",
       "  'TotalConfirmed': 2667551,\n",
       "  'NewDeaths': 2,\n",
       "  'TotalDeaths': 21035,\n",
       "  'NewRecovered': 0,\n",
       "  'TotalRecovered': 0,\n",
       "  'Date': '2023-04-07T21:34:09.948Z',\n",
       "  'Premium': {}},\n",
       " {'ID': '49750682-8f13-47ba-ac96-d9e179e8840b',\n",
       "  'Country': 'Slovenia',\n",
       "  'CountryCode': 'SI',\n",
       "  'Slug': 'slovenia',\n",
       "  'NewConfirmed': 511,\n",
       "  'TotalConfirmed': 1331707,\n",
       "  'NewDeaths': 1,\n",
       "  'TotalDeaths': 7078,\n",
       "  'NewRecovered': 0,\n",
       "  'TotalRecovered': 0,\n",
       "  'Date': '2023-04-07T21:34:09.948Z',\n",
       "  'Premium': {}},\n",
       " {'ID': '19feea92-4c27-4b52-80b9-06c3ee7271d5',\n",
       "  'Country': 'Solomon Islands',\n",
       "  'CountryCode': 'SB',\n",
       "  'Slug': 'solomon-islands',\n",
       "  'NewConfirmed': 0,\n",
       "  'TotalConfirmed': 24575,\n",
       "  'NewDeaths': 0,\n",
       "  'TotalDeaths': 153,\n",
       "  'NewRecovered': 0,\n",
       "  'TotalRecovered': 0,\n",
       "  'Date': '2023-04-07T21:34:09.948Z',\n",
       "  'Premium': {}},\n",
       " {'ID': '1a5bac91-6699-43dc-b840-14bcc3f8ff9c',\n",
       "  'Country': 'Somalia',\n",
       "  'CountryCode': 'SO',\n",
       "  'Slug': 'somalia',\n",
       "  'NewConfirmed': 0,\n",
       "  'TotalConfirmed': 27324,\n",
       "  'NewDeaths': 0,\n",
       "  'TotalDeaths': 1361,\n",
       "  'NewRecovered': 0,\n",
       "  'TotalRecovered': 0,\n",
       "  'Date': '2023-04-07T21:34:09.948Z',\n",
       "  'Premium': {}},\n",
       " {'ID': '0baf99e7-45ca-47a2-bb95-d297aa28ca82',\n",
       "  'Country': 'South Africa',\n",
       "  'CountryCode': 'ZA',\n",
       "  'Slug': 'south-africa',\n",
       "  'NewConfirmed': 426,\n",
       "  'TotalConfirmed': 4067067,\n",
       "  'NewDeaths': 0,\n",
       "  'TotalDeaths': 102595,\n",
       "  'NewRecovered': 0,\n",
       "  'TotalRecovered': 0,\n",
       "  'Date': '2023-04-07T21:34:09.948Z',\n",
       "  'Premium': {}},\n",
       " {'ID': '3eb42efb-c19c-4552-854d-a80a90c3cc6f',\n",
       "  'Country': 'South Sudan',\n",
       "  'CountryCode': 'SS',\n",
       "  'Slug': 'south-sudan',\n",
       "  'NewConfirmed': 0,\n",
       "  'TotalConfirmed': 18368,\n",
       "  'NewDeaths': 0,\n",
       "  'TotalDeaths': 138,\n",
       "  'NewRecovered': 0,\n",
       "  'TotalRecovered': 0,\n",
       "  'Date': '2023-04-07T21:34:09.948Z',\n",
       "  'Premium': {}},\n",
       " {'ID': '13a8f06a-b1da-4db7-bb38-0a27f30a7642',\n",
       "  'Country': 'Spain',\n",
       "  'CountryCode': 'ES',\n",
       "  'Slug': 'spain',\n",
       "  'NewConfirmed': 0,\n",
       "  'TotalConfirmed': 13770429,\n",
       "  'NewDeaths': 0,\n",
       "  'TotalDeaths': 119479,\n",
       "  'NewRecovered': 0,\n",
       "  'TotalRecovered': 0,\n",
       "  'Date': '2023-04-07T21:34:09.948Z',\n",
       "  'Premium': {}},\n",
       " {'ID': '3fd7f01d-9c64-4e28-8dcc-92afd1cdb042',\n",
       "  'Country': 'Sri Lanka',\n",
       "  'CountryCode': 'LK',\n",
       "  'Slug': 'sri-lanka',\n",
       "  'NewConfirmed': 2,\n",
       "  'TotalConfirmed': 672039,\n",
       "  'NewDeaths': 0,\n",
       "  'TotalDeaths': 16830,\n",
       "  'NewRecovered': 0,\n",
       "  'TotalRecovered': 0,\n",
       "  'Date': '2023-04-07T21:34:09.948Z',\n",
       "  'Premium': {}},\n",
       " {'ID': '29771740-8ff3-4544-84e7-86b3655bd777',\n",
       "  'Country': 'Sudan',\n",
       "  'CountryCode': 'SD',\n",
       "  'Slug': 'sudan',\n",
       "  'NewConfirmed': 0,\n",
       "  'TotalConfirmed': 63829,\n",
       "  'NewDeaths': 0,\n",
       "  'TotalDeaths': 5017,\n",
       "  'NewRecovered': 0,\n",
       "  'TotalRecovered': 0,\n",
       "  'Date': '2023-04-07T21:34:09.948Z',\n",
       "  'Premium': {}},\n",
       " {'ID': 'f0e39b08-37d2-48ac-9e86-7fe373a76650',\n",
       "  'Country': 'Suriname',\n",
       "  'CountryCode': 'SR',\n",
       "  'Slug': 'suriname',\n",
       "  'NewConfirmed': 0,\n",
       "  'TotalConfirmed': 82467,\n",
       "  'NewDeaths': 0,\n",
       "  'TotalDeaths': 1404,\n",
       "  'NewRecovered': 0,\n",
       "  'TotalRecovered': 0,\n",
       "  'Date': '2023-04-07T21:34:09.948Z',\n",
       "  'Premium': {}},\n",
       " {'ID': '06343f33-3c9b-4fa5-a3dd-4f0de8d98994',\n",
       "  'Country': 'Swaziland',\n",
       "  'CountryCode': 'SZ',\n",
       "  'Slug': 'swaziland',\n",
       "  'NewConfirmed': 0,\n",
       "  'TotalConfirmed': 74267,\n",
       "  'NewDeaths': 0,\n",
       "  'TotalDeaths': 1425,\n",
       "  'NewRecovered': 0,\n",
       "  'TotalRecovered': 0,\n",
       "  'Date': '2023-04-07T21:34:09.948Z',\n",
       "  'Premium': {}},\n",
       " {'ID': '49f0505f-9185-4e8a-a1b7-4b556e2f5b66',\n",
       "  'Country': 'Sweden',\n",
       "  'CountryCode': 'SE',\n",
       "  'Slug': 'sweden',\n",
       "  'NewConfirmed': 804,\n",
       "  'TotalConfirmed': 2699339,\n",
       "  'NewDeaths': 46,\n",
       "  'TotalDeaths': 23777,\n",
       "  'NewRecovered': 0,\n",
       "  'TotalRecovered': 0,\n",
       "  'Date': '2023-04-07T21:34:09.948Z',\n",
       "  'Premium': {}},\n",
       " {'ID': '5093182a-f5bd-4030-97e1-47914be2f91f',\n",
       "  'Country': 'Switzerland',\n",
       "  'CountryCode': 'CH',\n",
       "  'Slug': 'switzerland',\n",
       "  'NewConfirmed': 0,\n",
       "  'TotalConfirmed': 4413911,\n",
       "  'NewDeaths': 1,\n",
       "  'TotalDeaths': 14210,\n",
       "  'NewRecovered': 0,\n",
       "  'TotalRecovered': 0,\n",
       "  'Date': '2023-04-07T21:34:09.948Z',\n",
       "  'Premium': {}},\n",
       " {'ID': 'ca31ac0f-249c-4d7f-89d7-c86f30925b0d',\n",
       "  'Country': 'Syrian Arab Republic (Syria)',\n",
       "  'CountryCode': 'SY',\n",
       "  'Slug': 'syria',\n",
       "  'NewConfirmed': 0,\n",
       "  'TotalConfirmed': 57467,\n",
       "  'NewDeaths': 0,\n",
       "  'TotalDeaths': 3164,\n",
       "  'NewRecovered': 0,\n",
       "  'TotalRecovered': 0,\n",
       "  'Date': '2023-04-07T21:34:09.948Z',\n",
       "  'Premium': {}},\n",
       " {'ID': '80c6558c-45c2-40bb-ae3e-daf7aaba8d50',\n",
       "  'Country': 'Taiwan, Republic of China',\n",
       "  'CountryCode': 'TW',\n",
       "  'Slug': 'taiwan',\n",
       "  'NewConfirmed': 0,\n",
       "  'TotalConfirmed': 9970937,\n",
       "  'NewDeaths': 0,\n",
       "  'TotalDeaths': 17672,\n",
       "  'NewRecovered': 0,\n",
       "  'TotalRecovered': 0,\n",
       "  'Date': '2023-04-07T21:34:09.948Z',\n",
       "  'Premium': {}},\n",
       " {'ID': '4c5a1f0f-5319-4b08-80d1-665ca4ba71b0',\n",
       "  'Country': 'Tajikistan',\n",
       "  'CountryCode': 'TJ',\n",
       "  'Slug': 'tajikistan',\n",
       "  'NewConfirmed': 0,\n",
       "  'TotalConfirmed': 17786,\n",
       "  'NewDeaths': 0,\n",
       "  'TotalDeaths': 125,\n",
       "  'NewRecovered': 0,\n",
       "  'TotalRecovered': 0,\n",
       "  'Date': '2023-04-07T21:34:09.948Z',\n",
       "  'Premium': {}},\n",
       " {'ID': 'ecf8694e-4f7a-4008-8cc2-f72b64656ce9',\n",
       "  'Country': 'Tanzania, United Republic of',\n",
       "  'CountryCode': 'TZ',\n",
       "  'Slug': 'tanzania',\n",
       "  'NewConfirmed': 0,\n",
       "  'TotalConfirmed': 42906,\n",
       "  'NewDeaths': 0,\n",
       "  'TotalDeaths': 846,\n",
       "  'NewRecovered': 0,\n",
       "  'TotalRecovered': 0,\n",
       "  'Date': '2023-04-07T21:34:09.948Z',\n",
       "  'Premium': {}},\n",
       " {'ID': '57be90ee-3688-4fdd-8937-fd931b78c4c9',\n",
       "  'Country': 'Thailand',\n",
       "  'CountryCode': 'TH',\n",
       "  'Slug': 'thailand',\n",
       "  'NewConfirmed': 0,\n",
       "  'TotalConfirmed': 4728182,\n",
       "  'NewDeaths': 0,\n",
       "  'TotalDeaths': 33918,\n",
       "  'NewRecovered': 0,\n",
       "  'TotalRecovered': 0,\n",
       "  'Date': '2023-04-07T21:34:09.948Z',\n",
       "  'Premium': {}},\n",
       " {'ID': 'a63a295b-4536-4063-9a5c-1880404d1049',\n",
       "  'Country': 'Timor-Leste',\n",
       "  'CountryCode': 'TL',\n",
       "  'Slug': 'timor-leste',\n",
       "  'NewConfirmed': 0,\n",
       "  'TotalConfirmed': 23419,\n",
       "  'NewDeaths': 0,\n",
       "  'TotalDeaths': 138,\n",
       "  'NewRecovered': 0,\n",
       "  'TotalRecovered': 0,\n",
       "  'Date': '2023-04-07T21:34:09.948Z',\n",
       "  'Premium': {}},\n",
       " {'ID': 'f8d89f4d-a803-4c36-a8b1-f1a1eaf124f8',\n",
       "  'Country': 'Togo',\n",
       "  'CountryCode': 'TG',\n",
       "  'Slug': 'togo',\n",
       "  'NewConfirmed': 0,\n",
       "  'TotalConfirmed': 39396,\n",
       "  'NewDeaths': 0,\n",
       "  'TotalDeaths': 290,\n",
       "  'NewRecovered': 0,\n",
       "  'TotalRecovered': 0,\n",
       "  'Date': '2023-04-07T21:34:09.948Z',\n",
       "  'Premium': {}},\n",
       " {'ID': '16024311-5e8f-464b-acc6-2f28f46cc41d',\n",
       "  'Country': 'Tonga',\n",
       "  'CountryCode': 'TO',\n",
       "  'Slug': 'tonga',\n",
       "  'NewConfirmed': 0,\n",
       "  'TotalConfirmed': 16810,\n",
       "  'NewDeaths': 0,\n",
       "  'TotalDeaths': 13,\n",
       "  'NewRecovered': 0,\n",
       "  'TotalRecovered': 0,\n",
       "  'Date': '2023-04-07T21:34:09.948Z',\n",
       "  'Premium': {}},\n",
       " {'ID': '831c7d30-4517-4ddf-890a-f1585e1ada02',\n",
       "  'Country': 'Trinidad and Tobago',\n",
       "  'CountryCode': 'TT',\n",
       "  'Slug': 'trinidad-and-tobago',\n",
       "  'NewConfirmed': 0,\n",
       "  'TotalConfirmed': 189918,\n",
       "  'NewDeaths': 0,\n",
       "  'TotalDeaths': 4355,\n",
       "  'NewRecovered': 0,\n",
       "  'TotalRecovered': 0,\n",
       "  'Date': '2023-04-07T21:34:09.948Z',\n",
       "  'Premium': {}},\n",
       " {'ID': 'e9479914-8980-46ab-ad3a-713723765122',\n",
       "  'Country': 'Tunisia',\n",
       "  'CountryCode': 'TN',\n",
       "  'Slug': 'tunisia',\n",
       "  'NewConfirmed': 0,\n",
       "  'TotalConfirmed': 1151126,\n",
       "  'NewDeaths': 0,\n",
       "  'TotalDeaths': 29341,\n",
       "  'NewRecovered': 0,\n",
       "  'TotalRecovered': 0,\n",
       "  'Date': '2023-04-07T21:34:09.948Z',\n",
       "  'Premium': {}},\n",
       " {'ID': '7b84d471-889e-4685-92a8-44da231b18cd',\n",
       "  'Country': 'Turkey',\n",
       "  'CountryCode': 'TR',\n",
       "  'Slug': 'turkey',\n",
       "  'NewConfirmed': 0,\n",
       "  'TotalConfirmed': 17042722,\n",
       "  'NewDeaths': 0,\n",
       "  'TotalDeaths': 101492,\n",
       "  'NewRecovered': 0,\n",
       "  'TotalRecovered': 0,\n",
       "  'Date': '2023-04-07T21:34:09.948Z',\n",
       "  'Premium': {}},\n",
       " {'ID': '812676b1-9aed-41fe-be6a-e6edf96d348a',\n",
       "  'Country': 'Tuvalu',\n",
       "  'CountryCode': 'TV',\n",
       "  'Slug': 'tuvalu',\n",
       "  'NewConfirmed': 0,\n",
       "  'TotalConfirmed': 2805,\n",
       "  'NewDeaths': 0,\n",
       "  'TotalDeaths': 0,\n",
       "  'NewRecovered': 0,\n",
       "  'TotalRecovered': 0,\n",
       "  'Date': '2023-04-07T21:34:09.948Z',\n",
       "  'Premium': {}},\n",
       " {'ID': '5be3d8d4-832d-42ef-acf5-09b9e18c067a',\n",
       "  'Country': 'Uganda',\n",
       "  'CountryCode': 'UG',\n",
       "  'Slug': 'uganda',\n",
       "  'NewConfirmed': 0,\n",
       "  'TotalConfirmed': 170544,\n",
       "  'NewDeaths': 0,\n",
       "  'TotalDeaths': 3630,\n",
       "  'NewRecovered': 0,\n",
       "  'TotalRecovered': 0,\n",
       "  'Date': '2023-04-07T21:34:09.948Z',\n",
       "  'Premium': {}},\n",
       " {'ID': 'e2a4234f-e185-46e3-8816-2373b1c6b980',\n",
       "  'Country': 'Ukraine',\n",
       "  'CountryCode': 'UA',\n",
       "  'Slug': 'ukraine',\n",
       "  'NewConfirmed': 111,\n",
       "  'TotalConfirmed': 5711929,\n",
       "  'NewDeaths': 2,\n",
       "  'TotalDeaths': 119283,\n",
       "  'NewRecovered': 0,\n",
       "  'TotalRecovered': 0,\n",
       "  'Date': '2023-04-07T21:34:09.948Z',\n",
       "  'Premium': {}},\n",
       " {'ID': '5664cf0e-f916-49d2-919c-4be7219c66d8',\n",
       "  'Country': 'United Arab Emirates',\n",
       "  'CountryCode': 'AE',\n",
       "  'Slug': 'united-arab-emirates',\n",
       "  'NewConfirmed': 145,\n",
       "  'TotalConfirmed': 1053213,\n",
       "  'NewDeaths': 0,\n",
       "  'TotalDeaths': 2349,\n",
       "  'NewRecovered': 0,\n",
       "  'TotalRecovered': 0,\n",
       "  'Date': '2023-04-07T21:34:09.948Z',\n",
       "  'Premium': {}},\n",
       " {'ID': 'b95221a3-4957-447c-9ea0-ac52f86f93bc',\n",
       "  'Country': 'United Kingdom',\n",
       "  'CountryCode': 'GB',\n",
       "  'Slug': 'united-kingdom',\n",
       "  'NewConfirmed': 28783,\n",
       "  'TotalConfirmed': 24658705,\n",
       "  'NewDeaths': 0,\n",
       "  'TotalDeaths': 220721,\n",
       "  'NewRecovered': 0,\n",
       "  'TotalRecovered': 0,\n",
       "  'Date': '2023-04-07T21:34:09.948Z',\n",
       "  'Premium': {}},\n",
       " {'ID': '088b219d-615d-46e7-90f2-811897ac9464',\n",
       "  'Country': 'United States of America',\n",
       "  'CountryCode': 'US',\n",
       "  'Slug': 'united-states',\n",
       "  'NewConfirmed': 46931,\n",
       "  'TotalConfirmed': 103802702,\n",
       "  'NewDeaths': 590,\n",
       "  'TotalDeaths': 1123836,\n",
       "  'NewRecovered': 0,\n",
       "  'TotalRecovered': 0,\n",
       "  'Date': '2023-04-07T21:34:09.948Z',\n",
       "  'Premium': {}},\n",
       " {'ID': '7abcf5c2-7c0c-445d-aa2c-8c237ed80dcf',\n",
       "  'Country': 'Uruguay',\n",
       "  'CountryCode': 'UY',\n",
       "  'Slug': 'uruguay',\n",
       "  'NewConfirmed': 0,\n",
       "  'TotalConfirmed': 1034303,\n",
       "  'NewDeaths': 0,\n",
       "  'TotalDeaths': 7617,\n",
       "  'NewRecovered': 0,\n",
       "  'TotalRecovered': 0,\n",
       "  'Date': '2023-04-07T21:34:09.948Z',\n",
       "  'Premium': {}},\n",
       " {'ID': 'e1a6c8a0-ce8c-4fc1-aa5f-9c277c8dd1b9',\n",
       "  'Country': 'Uzbekistan',\n",
       "  'CountryCode': 'UZ',\n",
       "  'Slug': 'uzbekistan',\n",
       "  'NewConfirmed': 0,\n",
       "  'TotalConfirmed': 251247,\n",
       "  'NewDeaths': 0,\n",
       "  'TotalDeaths': 1637,\n",
       "  'NewRecovered': 0,\n",
       "  'TotalRecovered': 0,\n",
       "  'Date': '2023-04-07T21:34:09.948Z',\n",
       "  'Premium': {}},\n",
       " {'ID': '32957042-2e13-4765-b16e-fe061ca4a119',\n",
       "  'Country': 'Vanuatu',\n",
       "  'CountryCode': 'VU',\n",
       "  'Slug': 'vanuatu',\n",
       "  'NewConfirmed': 0,\n",
       "  'TotalConfirmed': 12014,\n",
       "  'NewDeaths': 0,\n",
       "  'TotalDeaths': 14,\n",
       "  'NewRecovered': 0,\n",
       "  'TotalRecovered': 0,\n",
       "  'Date': '2023-04-07T21:34:09.948Z',\n",
       "  'Premium': {}},\n",
       " {'ID': '7442d89d-2032-4f2b-aeaf-0e2df307a93d',\n",
       "  'Country': 'Venezuela (Bolivarian Republic)',\n",
       "  'CountryCode': 'VE',\n",
       "  'Slug': 'venezuela',\n",
       "  'NewConfirmed': 5,\n",
       "  'TotalConfirmed': 552162,\n",
       "  'NewDeaths': 0,\n",
       "  'TotalDeaths': 5854,\n",
       "  'NewRecovered': 0,\n",
       "  'TotalRecovered': 0,\n",
       "  'Date': '2023-04-07T21:34:09.948Z',\n",
       "  'Premium': {}},\n",
       " {'ID': 'f8e8219c-ba0b-4a15-bf80-0729521b2145',\n",
       "  'Country': 'Viet Nam',\n",
       "  'CountryCode': 'VN',\n",
       "  'Slug': 'vietnam',\n",
       "  'NewConfirmed': 0,\n",
       "  'TotalConfirmed': 11526994,\n",
       "  'NewDeaths': 0,\n",
       "  'TotalDeaths': 43186,\n",
       "  'NewRecovered': 0,\n",
       "  'TotalRecovered': 0,\n",
       "  'Date': '2023-04-07T21:34:09.948Z',\n",
       "  'Premium': {}},\n",
       " {'ID': '109c872e-4299-4291-ad71-29414f62a309',\n",
       "  'Country': 'Yemen',\n",
       "  'CountryCode': 'YE',\n",
       "  'Slug': 'yemen',\n",
       "  'NewConfirmed': 0,\n",
       "  'TotalConfirmed': 11945,\n",
       "  'NewDeaths': 0,\n",
       "  'TotalDeaths': 2159,\n",
       "  'NewRecovered': 0,\n",
       "  'TotalRecovered': 0,\n",
       "  'Date': '2023-04-07T21:34:09.948Z',\n",
       "  'Premium': {}},\n",
       " {'ID': '1d919cbe-b0e2-41e3-be1a-4eab12d3860e',\n",
       "  'Country': 'Zambia',\n",
       "  'CountryCode': 'ZM',\n",
       "  'Slug': 'zambia',\n",
       "  'NewConfirmed': 0,\n",
       "  'TotalConfirmed': 343135,\n",
       "  'NewDeaths': 0,\n",
       "  'TotalDeaths': 4057,\n",
       "  'NewRecovered': 0,\n",
       "  'TotalRecovered': 0,\n",
       "  'Date': '2023-04-07T21:34:09.948Z',\n",
       "  'Premium': {}},\n",
       " {'ID': 'dbfcea65-93ab-41d3-aaf5-1b25b8fc2534',\n",
       "  'Country': 'Zimbabwe',\n",
       "  'CountryCode': 'ZW',\n",
       "  'Slug': 'zimbabwe',\n",
       "  'NewConfirmed': 0,\n",
       "  'TotalConfirmed': 264276,\n",
       "  'NewDeaths': 0,\n",
       "  'TotalDeaths': 5671,\n",
       "  'NewRecovered': 0,\n",
       "  'TotalRecovered': 0,\n",
       "  'Date': '2023-04-07T21:34:09.948Z',\n",
       "  'Premium': {}}]"
      ]
     },
     "execution_count": 176,
     "metadata": {},
     "output_type": "execute_result"
    }
   ],
   "source": [
    "datos['Countries']"
   ]
  },
  {
   "cell_type": "code",
   "execution_count": 177,
   "metadata": {},
   "outputs": [],
   "source": [
    "df = pd.DataFrame(datos['Countries'])"
   ]
  },
  {
   "cell_type": "code",
   "execution_count": 178,
   "metadata": {},
   "outputs": [
    {
     "data": {
      "text/html": [
       "<div>\n",
       "<style scoped>\n",
       "    .dataframe tbody tr th:only-of-type {\n",
       "        vertical-align: middle;\n",
       "    }\n",
       "\n",
       "    .dataframe tbody tr th {\n",
       "        vertical-align: top;\n",
       "    }\n",
       "\n",
       "    .dataframe thead th {\n",
       "        text-align: right;\n",
       "    }\n",
       "</style>\n",
       "<table border=\"1\" class=\"dataframe\">\n",
       "  <thead>\n",
       "    <tr style=\"text-align: right;\">\n",
       "      <th></th>\n",
       "      <th>ID</th>\n",
       "      <th>Country</th>\n",
       "      <th>CountryCode</th>\n",
       "      <th>Slug</th>\n",
       "      <th>NewConfirmed</th>\n",
       "      <th>TotalConfirmed</th>\n",
       "      <th>NewDeaths</th>\n",
       "      <th>TotalDeaths</th>\n",
       "      <th>NewRecovered</th>\n",
       "      <th>TotalRecovered</th>\n",
       "      <th>Date</th>\n",
       "      <th>Premium</th>\n",
       "    </tr>\n",
       "  </thead>\n",
       "  <tbody>\n",
       "    <tr>\n",
       "      <th>0</th>\n",
       "      <td>5692d427-3758-48c8-a0d6-b013ee0e7f18</td>\n",
       "      <td>Afghanistan</td>\n",
       "      <td>AF</td>\n",
       "      <td>afghanistan</td>\n",
       "      <td>0</td>\n",
       "      <td>209451</td>\n",
       "      <td>0</td>\n",
       "      <td>7896</td>\n",
       "      <td>0</td>\n",
       "      <td>0</td>\n",
       "      <td>2023-04-07T21:34:09.948Z</td>\n",
       "      <td>{}</td>\n",
       "    </tr>\n",
       "    <tr>\n",
       "      <th>1</th>\n",
       "      <td>9d57a33a-3bd0-444a-8d69-20b588c735d7</td>\n",
       "      <td>Albania</td>\n",
       "      <td>AL</td>\n",
       "      <td>albania</td>\n",
       "      <td>14</td>\n",
       "      <td>334457</td>\n",
       "      <td>0</td>\n",
       "      <td>3598</td>\n",
       "      <td>0</td>\n",
       "      <td>0</td>\n",
       "      <td>2023-04-07T21:34:09.948Z</td>\n",
       "      <td>{}</td>\n",
       "    </tr>\n",
       "    <tr>\n",
       "      <th>2</th>\n",
       "      <td>451f2eb3-ee11-41bf-ada2-ea6d42546a10</td>\n",
       "      <td>Algeria</td>\n",
       "      <td>DZ</td>\n",
       "      <td>algeria</td>\n",
       "      <td>2</td>\n",
       "      <td>271496</td>\n",
       "      <td>0</td>\n",
       "      <td>6881</td>\n",
       "      <td>0</td>\n",
       "      <td>0</td>\n",
       "      <td>2023-04-07T21:34:09.948Z</td>\n",
       "      <td>{}</td>\n",
       "    </tr>\n",
       "    <tr>\n",
       "      <th>3</th>\n",
       "      <td>5e4757b6-da2c-4622-8479-ca647663a1dd</td>\n",
       "      <td>Andorra</td>\n",
       "      <td>AD</td>\n",
       "      <td>andorra</td>\n",
       "      <td>0</td>\n",
       "      <td>47890</td>\n",
       "      <td>0</td>\n",
       "      <td>165</td>\n",
       "      <td>0</td>\n",
       "      <td>0</td>\n",
       "      <td>2023-04-07T21:34:09.948Z</td>\n",
       "      <td>{}</td>\n",
       "    </tr>\n",
       "    <tr>\n",
       "      <th>4</th>\n",
       "      <td>563b6f84-da00-45bd-a6ac-36f6f6531f02</td>\n",
       "      <td>Angola</td>\n",
       "      <td>AO</td>\n",
       "      <td>angola</td>\n",
       "      <td>0</td>\n",
       "      <td>105288</td>\n",
       "      <td>0</td>\n",
       "      <td>1933</td>\n",
       "      <td>0</td>\n",
       "      <td>0</td>\n",
       "      <td>2023-04-07T21:34:09.948Z</td>\n",
       "      <td>{}</td>\n",
       "    </tr>\n",
       "  </tbody>\n",
       "</table>\n",
       "</div>"
      ],
      "text/plain": [
       "                                     ID      Country CountryCode         Slug  \\\n",
       "0  5692d427-3758-48c8-a0d6-b013ee0e7f18  Afghanistan          AF  afghanistan   \n",
       "1  9d57a33a-3bd0-444a-8d69-20b588c735d7      Albania          AL      albania   \n",
       "2  451f2eb3-ee11-41bf-ada2-ea6d42546a10      Algeria          DZ      algeria   \n",
       "3  5e4757b6-da2c-4622-8479-ca647663a1dd      Andorra          AD      andorra   \n",
       "4  563b6f84-da00-45bd-a6ac-36f6f6531f02       Angola          AO       angola   \n",
       "\n",
       "   NewConfirmed  TotalConfirmed  NewDeaths  TotalDeaths  NewRecovered  \\\n",
       "0             0          209451          0         7896             0   \n",
       "1            14          334457          0         3598             0   \n",
       "2             2          271496          0         6881             0   \n",
       "3             0           47890          0          165             0   \n",
       "4             0          105288          0         1933             0   \n",
       "\n",
       "   TotalRecovered                      Date Premium  \n",
       "0               0  2023-04-07T21:34:09.948Z      {}  \n",
       "1               0  2023-04-07T21:34:09.948Z      {}  \n",
       "2               0  2023-04-07T21:34:09.948Z      {}  \n",
       "3               0  2023-04-07T21:34:09.948Z      {}  \n",
       "4               0  2023-04-07T21:34:09.948Z      {}  "
      ]
     },
     "execution_count": 178,
     "metadata": {},
     "output_type": "execute_result"
    }
   ],
   "source": [
    "df.head()"
   ]
  },
  {
   "cell_type": "code",
   "execution_count": 179,
   "metadata": {},
   "outputs": [
    {
     "data": {
      "text/html": [
       "<div>\n",
       "<style scoped>\n",
       "    .dataframe tbody tr th:only-of-type {\n",
       "        vertical-align: middle;\n",
       "    }\n",
       "\n",
       "    .dataframe tbody tr th {\n",
       "        vertical-align: top;\n",
       "    }\n",
       "\n",
       "    .dataframe thead th {\n",
       "        text-align: right;\n",
       "    }\n",
       "</style>\n",
       "<table border=\"1\" class=\"dataframe\">\n",
       "  <thead>\n",
       "    <tr style=\"text-align: right;\">\n",
       "      <th></th>\n",
       "      <th>count</th>\n",
       "      <th>mean</th>\n",
       "      <th>std</th>\n",
       "      <th>min</th>\n",
       "      <th>25%</th>\n",
       "      <th>50%</th>\n",
       "      <th>75%</th>\n",
       "      <th>max</th>\n",
       "    </tr>\n",
       "  </thead>\n",
       "  <tbody>\n",
       "    <tr>\n",
       "      <th>NewConfirmed</th>\n",
       "      <td>197.0</td>\n",
       "      <td>9.001269e+02</td>\n",
       "      <td>4.372967e+03</td>\n",
       "      <td>0.0</td>\n",
       "      <td>0.0</td>\n",
       "      <td>0.0</td>\n",
       "      <td>5.0</td>\n",
       "      <td>46931.0</td>\n",
       "    </tr>\n",
       "    <tr>\n",
       "      <th>TotalConfirmed</th>\n",
       "      <td>197.0</td>\n",
       "      <td>3.422847e+06</td>\n",
       "      <td>1.021245e+07</td>\n",
       "      <td>1.0</td>\n",
       "      <td>42906.0</td>\n",
       "      <td>334457.0</td>\n",
       "      <td>1746997.0</td>\n",
       "      <td>103802702.0</td>\n",
       "    </tr>\n",
       "    <tr>\n",
       "      <th>NewDeaths</th>\n",
       "      <td>197.0</td>\n",
       "      <td>6.695431e+00</td>\n",
       "      <td>4.464747e+01</td>\n",
       "      <td>0.0</td>\n",
       "      <td>0.0</td>\n",
       "      <td>0.0</td>\n",
       "      <td>0.0</td>\n",
       "      <td>590.0</td>\n",
       "    </tr>\n",
       "    <tr>\n",
       "      <th>TotalDeaths</th>\n",
       "      <td>197.0</td>\n",
       "      <td>3.448337e+04</td>\n",
       "      <td>1.117437e+05</td>\n",
       "      <td>0.0</td>\n",
       "      <td>409.0</td>\n",
       "      <td>3514.0</td>\n",
       "      <td>19071.0</td>\n",
       "      <td>1123836.0</td>\n",
       "    </tr>\n",
       "    <tr>\n",
       "      <th>NewRecovered</th>\n",
       "      <td>197.0</td>\n",
       "      <td>0.000000e+00</td>\n",
       "      <td>0.000000e+00</td>\n",
       "      <td>0.0</td>\n",
       "      <td>0.0</td>\n",
       "      <td>0.0</td>\n",
       "      <td>0.0</td>\n",
       "      <td>0.0</td>\n",
       "    </tr>\n",
       "    <tr>\n",
       "      <th>TotalRecovered</th>\n",
       "      <td>197.0</td>\n",
       "      <td>0.000000e+00</td>\n",
       "      <td>0.000000e+00</td>\n",
       "      <td>0.0</td>\n",
       "      <td>0.0</td>\n",
       "      <td>0.0</td>\n",
       "      <td>0.0</td>\n",
       "      <td>0.0</td>\n",
       "    </tr>\n",
       "  </tbody>\n",
       "</table>\n",
       "</div>"
      ],
      "text/plain": [
       "                count          mean           std  min      25%       50%  \\\n",
       "NewConfirmed    197.0  9.001269e+02  4.372967e+03  0.0      0.0       0.0   \n",
       "TotalConfirmed  197.0  3.422847e+06  1.021245e+07  1.0  42906.0  334457.0   \n",
       "NewDeaths       197.0  6.695431e+00  4.464747e+01  0.0      0.0       0.0   \n",
       "TotalDeaths     197.0  3.448337e+04  1.117437e+05  0.0    409.0    3514.0   \n",
       "NewRecovered    197.0  0.000000e+00  0.000000e+00  0.0      0.0       0.0   \n",
       "TotalRecovered  197.0  0.000000e+00  0.000000e+00  0.0      0.0       0.0   \n",
       "\n",
       "                      75%          max  \n",
       "NewConfirmed          5.0      46931.0  \n",
       "TotalConfirmed  1746997.0  103802702.0  \n",
       "NewDeaths             0.0        590.0  \n",
       "TotalDeaths       19071.0    1123836.0  \n",
       "NewRecovered          0.0          0.0  \n",
       "TotalRecovered        0.0          0.0  "
      ]
     },
     "execution_count": 179,
     "metadata": {},
     "output_type": "execute_result"
    }
   ],
   "source": [
    "df.describe().T"
   ]
  },
  {
   "cell_type": "code",
   "execution_count": 180,
   "metadata": {},
   "outputs": [
    {
     "name": "stdout",
     "output_type": "stream",
     "text": [
      "<class 'pandas.core.frame.DataFrame'>\n",
      "RangeIndex: 197 entries, 0 to 196\n",
      "Data columns (total 12 columns):\n",
      " #   Column          Non-Null Count  Dtype \n",
      "---  ------          --------------  ----- \n",
      " 0   ID              197 non-null    object\n",
      " 1   Country         197 non-null    object\n",
      " 2   CountryCode     197 non-null    object\n",
      " 3   Slug            197 non-null    object\n",
      " 4   NewConfirmed    197 non-null    int64 \n",
      " 5   TotalConfirmed  197 non-null    int64 \n",
      " 6   NewDeaths       197 non-null    int64 \n",
      " 7   TotalDeaths     197 non-null    int64 \n",
      " 8   NewRecovered    197 non-null    int64 \n",
      " 9   TotalRecovered  197 non-null    int64 \n",
      " 10  Date            197 non-null    object\n",
      " 11  Premium         197 non-null    object\n",
      "dtypes: int64(6), object(6)\n",
      "memory usage: 18.6+ KB\n"
     ]
    }
   ],
   "source": [
    "df.info()"
   ]
  },
  {
   "cell_type": "code",
   "execution_count": 181,
   "metadata": {},
   "outputs": [],
   "source": [
    "df['Date']=pd.to_datetime(df['Date'])\n",
    "df = df.sort_values(by=['Date'])"
   ]
  },
  {
   "cell_type": "code",
   "execution_count": 182,
   "metadata": {},
   "outputs": [
    {
     "data": {
      "text/html": [
       "<div>\n",
       "<style scoped>\n",
       "    .dataframe tbody tr th:only-of-type {\n",
       "        vertical-align: middle;\n",
       "    }\n",
       "\n",
       "    .dataframe tbody tr th {\n",
       "        vertical-align: top;\n",
       "    }\n",
       "\n",
       "    .dataframe thead th {\n",
       "        text-align: right;\n",
       "    }\n",
       "</style>\n",
       "<table border=\"1\" class=\"dataframe\">\n",
       "  <thead>\n",
       "    <tr style=\"text-align: right;\">\n",
       "      <th></th>\n",
       "      <th>ID</th>\n",
       "      <th>Country</th>\n",
       "      <th>CountryCode</th>\n",
       "      <th>Slug</th>\n",
       "      <th>NewConfirmed</th>\n",
       "      <th>TotalConfirmed</th>\n",
       "      <th>NewDeaths</th>\n",
       "      <th>TotalDeaths</th>\n",
       "      <th>NewRecovered</th>\n",
       "      <th>TotalRecovered</th>\n",
       "      <th>Date</th>\n",
       "      <th>Premium</th>\n",
       "    </tr>\n",
       "  </thead>\n",
       "  <tbody>\n",
       "    <tr>\n",
       "      <th>0</th>\n",
       "      <td>5692d427-3758-48c8-a0d6-b013ee0e7f18</td>\n",
       "      <td>Afghanistan</td>\n",
       "      <td>AF</td>\n",
       "      <td>afghanistan</td>\n",
       "      <td>0</td>\n",
       "      <td>209451</td>\n",
       "      <td>0</td>\n",
       "      <td>7896</td>\n",
       "      <td>0</td>\n",
       "      <td>0</td>\n",
       "      <td>2023-04-07 21:34:09.948000+00:00</td>\n",
       "      <td>{}</td>\n",
       "    </tr>\n",
       "    <tr>\n",
       "      <th>125</th>\n",
       "      <td>23bef6a7-1055-4bca-837e-c72a95c6168f</td>\n",
       "      <td>Netherlands</td>\n",
       "      <td>NL</td>\n",
       "      <td>netherlands</td>\n",
       "      <td>0</td>\n",
       "      <td>8599981</td>\n",
       "      <td>0</td>\n",
       "      <td>22990</td>\n",
       "      <td>0</td>\n",
       "      <td>0</td>\n",
       "      <td>2023-04-07 21:34:09.948000+00:00</td>\n",
       "      <td>{}</td>\n",
       "    </tr>\n",
       "    <tr>\n",
       "      <th>126</th>\n",
       "      <td>dcbd8c8a-375c-4387-8091-75d386f8adae</td>\n",
       "      <td>New Zealand</td>\n",
       "      <td>NZ</td>\n",
       "      <td>new-zealand</td>\n",
       "      <td>1</td>\n",
       "      <td>2236114</td>\n",
       "      <td>0</td>\n",
       "      <td>2550</td>\n",
       "      <td>0</td>\n",
       "      <td>0</td>\n",
       "      <td>2023-04-07 21:34:09.948000+00:00</td>\n",
       "      <td>{}</td>\n",
       "    </tr>\n",
       "    <tr>\n",
       "      <th>127</th>\n",
       "      <td>9e5c7a61-7d51-43ad-b4e1-a33dd151f7c7</td>\n",
       "      <td>Nicaragua</td>\n",
       "      <td>NI</td>\n",
       "      <td>nicaragua</td>\n",
       "      <td>0</td>\n",
       "      <td>15655</td>\n",
       "      <td>0</td>\n",
       "      <td>245</td>\n",
       "      <td>0</td>\n",
       "      <td>0</td>\n",
       "      <td>2023-04-07 21:34:09.948000+00:00</td>\n",
       "      <td>{}</td>\n",
       "    </tr>\n",
       "    <tr>\n",
       "      <th>128</th>\n",
       "      <td>e4dd95b7-8732-486e-9bc4-d844e821f1fe</td>\n",
       "      <td>Niger</td>\n",
       "      <td>NE</td>\n",
       "      <td>niger</td>\n",
       "      <td>0</td>\n",
       "      <td>9508</td>\n",
       "      <td>0</td>\n",
       "      <td>315</td>\n",
       "      <td>0</td>\n",
       "      <td>0</td>\n",
       "      <td>2023-04-07 21:34:09.948000+00:00</td>\n",
       "      <td>{}</td>\n",
       "    </tr>\n",
       "  </tbody>\n",
       "</table>\n",
       "</div>"
      ],
      "text/plain": [
       "                                       ID      Country CountryCode  \\\n",
       "0    5692d427-3758-48c8-a0d6-b013ee0e7f18  Afghanistan          AF   \n",
       "125  23bef6a7-1055-4bca-837e-c72a95c6168f  Netherlands          NL   \n",
       "126  dcbd8c8a-375c-4387-8091-75d386f8adae  New Zealand          NZ   \n",
       "127  9e5c7a61-7d51-43ad-b4e1-a33dd151f7c7    Nicaragua          NI   \n",
       "128  e4dd95b7-8732-486e-9bc4-d844e821f1fe        Niger          NE   \n",
       "\n",
       "            Slug  NewConfirmed  TotalConfirmed  NewDeaths  TotalDeaths  \\\n",
       "0    afghanistan             0          209451          0         7896   \n",
       "125  netherlands             0         8599981          0        22990   \n",
       "126  new-zealand             1         2236114          0         2550   \n",
       "127    nicaragua             0           15655          0          245   \n",
       "128        niger             0            9508          0          315   \n",
       "\n",
       "     NewRecovered  TotalRecovered                             Date Premium  \n",
       "0               0               0 2023-04-07 21:34:09.948000+00:00      {}  \n",
       "125             0               0 2023-04-07 21:34:09.948000+00:00      {}  \n",
       "126             0               0 2023-04-07 21:34:09.948000+00:00      {}  \n",
       "127             0               0 2023-04-07 21:34:09.948000+00:00      {}  \n",
       "128             0               0 2023-04-07 21:34:09.948000+00:00      {}  "
      ]
     },
     "execution_count": 182,
     "metadata": {},
     "output_type": "execute_result"
    }
   ],
   "source": [
    "df.head()"
   ]
  },
  {
   "cell_type": "code",
   "execution_count": 183,
   "metadata": {},
   "outputs": [
    {
     "data": {
      "text/plain": [
       "array([0], dtype=int64)"
      ]
     },
     "execution_count": 183,
     "metadata": {},
     "output_type": "execute_result"
    }
   ],
   "source": [
    "df.NewRecovered.unique()"
   ]
  },
  {
   "cell_type": "code",
   "execution_count": 184,
   "metadata": {},
   "outputs": [
    {
     "data": {
      "text/plain": [
       "array([0], dtype=int64)"
      ]
     },
     "execution_count": 184,
     "metadata": {},
     "output_type": "execute_result"
    }
   ],
   "source": [
    "df.TotalRecovered.unique()"
   ]
  },
  {
   "attachments": {},
   "cell_type": "markdown",
   "metadata": {},
   "source": [
    "Las dos variables NewRecovered y TotalRecovered pueden ser considerados como dos casos de datos malos ya que todos sus valores equivalen a 0. Como no proporcionan ninguna información útil, los removemos del dataset. "
   ]
  },
  {
   "cell_type": "code",
   "execution_count": 185,
   "metadata": {},
   "outputs": [],
   "source": [
    "df_clean= df.copy().drop(['NewRecovered','TotalRecovered'], axis=1)"
   ]
  },
  {
   "cell_type": "code",
   "execution_count": 186,
   "metadata": {},
   "outputs": [
    {
     "data": {
      "text/plain": [
       "(197, 10)"
      ]
     },
     "execution_count": 186,
     "metadata": {},
     "output_type": "execute_result"
    }
   ],
   "source": [
    "df_clean.shape"
   ]
  },
  {
   "attachments": {},
   "cell_type": "markdown",
   "metadata": {},
   "source": [
    "Otros dos caso de bad data son i) TotalDeaths > TotalConfirmed ii) NewDeaths > NewConfirmed"
   ]
  },
  {
   "cell_type": "code",
   "execution_count": 187,
   "metadata": {},
   "outputs": [],
   "source": [
    "BadData_i = df_clean[(df_clean['TotalDeaths'] > df_clean['TotalConfirmed'])].index\n",
    "df_clean.drop(BadData_i , inplace=True)\n"
   ]
  },
  {
   "cell_type": "code",
   "execution_count": 188,
   "metadata": {},
   "outputs": [],
   "source": [
    "BadData_ii = df_clean[(df_clean['NewDeaths'] > df_clean['NewConfirmed'])].index\n",
    "df_clean.drop(BadData_ii , inplace=True)"
   ]
  },
  {
   "attachments": {},
   "cell_type": "markdown",
   "metadata": {},
   "source": [
    "Creo dos nuevas variables que calcule i) ratio de mortalidad contra casos totales confirmados ii) ratio de mortalidad de fallecimientos nuevos contra casos confirmados nuevos"
   ]
  },
  {
   "cell_type": "code",
   "execution_count": 189,
   "metadata": {},
   "outputs": [],
   "source": [
    "ratio_mortalidad_casostotales= df_clean['TotalDeaths']/df_clean['TotalConfirmed']"
   ]
  },
  {
   "cell_type": "code",
   "execution_count": 190,
   "metadata": {},
   "outputs": [],
   "source": [
    "df_clean['ratio_mortalidad_casostotales'] =ratio_mortalidad_casostotales"
   ]
  },
  {
   "cell_type": "code",
   "execution_count": 191,
   "metadata": {},
   "outputs": [],
   "source": [
    "ratio_nuevo_mortalidad_casostotales= df_clean['NewDeaths']/df_clean['NewConfirmed']"
   ]
  },
  {
   "cell_type": "code",
   "execution_count": 192,
   "metadata": {},
   "outputs": [],
   "source": [
    "df_clean['ratio_nuevo_mortalidad_casostotales'] =ratio_nuevo_mortalidad_casostotales"
   ]
  },
  {
   "cell_type": "code",
   "execution_count": 193,
   "metadata": {},
   "outputs": [
    {
     "name": "stderr",
     "output_type": "stream",
     "text": [
      "C:\\Users\\moniq\\AppData\\Local\\Temp/ipykernel_24008/1556408182.py:1: FutureWarning:\n",
      "\n",
      "The default value of numeric_only in DataFrame.corr is deprecated. In a future version, it will default to False. Select only valid columns or specify the value of numeric_only to silence this warning.\n",
      "\n"
     ]
    },
    {
     "data": {
      "text/plain": [
       "<AxesSubplot:>"
      ]
     },
     "execution_count": 193,
     "metadata": {},
     "output_type": "execute_result"
    },
    {
     "data": {
      "image/png": "[encoded data removed]",
      "text/plain": [
       "<Figure size 864x864 with 2 Axes>"
      ]
     },
     "metadata": {
      "needs_background": "light"
     },
     "output_type": "display_data"
    }
   ],
   "source": [
    "data_corr= df_clean.corr()       \n",
    "plt.figure(figsize=(12,12))\n",
    "sns.heatmap(data_corr, cmap='coolwarm', linewidths=0.1, annot=True, linecolor='white')"
   ]
  },
  {
   "cell_type": "code",
   "execution_count": 194,
   "metadata": {},
   "outputs": [
    {
     "data": {
      "application/vnd.plotly.v1+json": {
       "config": {
        "plotlyServerURL": "https://plot.ly"
       },
       "data": [
        {
         "branchvalues": "total",
         "domain": {
          "x": [
           0,
           1
          ],
          "y": [
           0,
           1
          ]
         },
         "hovertemplate": "labels=%{label}<br>TotalConfirmed=%{value}<br>parent=%{parent}<br>id=%{id}<extra></extra>",
         "ids": [
          "Afghanistan",
          "Albania",
          "Algeria",
          "Andorra",
          "Angola",
          "Antarctica",
          "Antigua and Barbuda",
          "Argentina",
          "Armenia",
          "Australia",
          "Austria",
          "Azerbaijan",
          "Bahamas",
          "Bahrain",
          "Bangladesh",
          "Barbados",
          "Belarus",
          "Belgium",
          "Belize",
          "Benin",
          "Bhutan",
          "Bolivia",
          "Bosnia and Herzegovina",
          "Botswana",
          "Brazil",
          "Brunei Darussalam",
          "Bulgaria",
          "Burkina Faso",
          "Burundi",
          "Cambodia",
          "Cameroon",
          "Canada",
          "Cape Verde",
          "Central African Republic",
          "Chad",
          "Chile",
          "Colombia",
          "Comoros",
          "Congo (Brazzaville)",
          "Congo (Kinshasa)",
          "Costa Rica",
          "Croatia",
          "Cuba",
          "Cyprus",
          "Czech Republic",
          "Côte d'Ivoire",
          "Denmark",
          "Djibouti",
          "Dominica",
          "Dominican Republic",
          "Ecuador",
          "Egypt",
          "El Salvador",
          "Equatorial Guinea",
          "Eritrea",
          "Estonia",
          "Ethiopia",
          "Fiji",
          "Finland",
          "France",
          "Gabon",
          "Gambia",
          "Georgia",
          "Germany",
          "Ghana",
          "Greece",
          "Grenada",
          "Guatemala",
          "Guinea",
          "Guinea-Bissau",
          "Guyana",
          "Haiti",
          "Holy See (Vatican City State)",
          "Honduras",
          "Hungary",
          "Iceland",
          "India",
          "Indonesia",
          "Iran, Islamic Republic of",
          "Iraq",
          "Ireland",
          "Israel",
          "Italy",
          "Jamaica",
          "Japan",
          "Jordan",
          "Kazakhstan",
          "Kenya",
          "Kiribati",
          "Korea (South)",
          "Kuwait",
          "Kyrgyzstan",
          "Lao PDR",
          "Latvia",
          "Lebanon",
          "Lesotho",
          "Liberia",
          "Libya",
          "Liechtenstein",
          "Lithuania",
          "Luxembourg",
          "Macedonia, Republic of",
          "Madagascar",
          "Malawi",
          "Malaysia",
          "Maldives",
          "Mali",
          "Malta",
          "Marshall Islands",
          "Mauritania",
          "Mauritius",
          "Mexico",
          "Micronesia, Federated States of",
          "Moldova",
          "Monaco",
          "Mongolia",
          "Montenegro",
          "Morocco",
          "Mozambique",
          "Myanmar",
          "Namibia",
          "Nauru",
          "Nepal",
          "Netherlands",
          "New Zealand",
          "Nicaragua",
          "Niger",
          "Nigeria",
          "Norway",
          "Oman",
          "Pakistan",
          "Palau",
          "Palestinian Territory",
          "Panama",
          "Papua New Guinea",
          "Paraguay",
          "Peru",
          "Philippines",
          "Poland",
          "Portugal",
          "Qatar",
          "Republic of Kosovo",
          "Romania",
          "Russian Federation",
          "Rwanda",
          "Saint Kitts and Nevis",
          "Saint Lucia",
          "Saint Vincent and Grenadines",
          "Samoa",
          "San Marino",
          "Sao Tome and Principe",
          "Saudi Arabia",
          "Senegal",
          "Serbia",
          "Seychelles",
          "Sierra Leone",
          "Singapore",
          "Slovakia",
          "Slovenia",
          "Solomon Islands",
          "Somalia",
          "South Africa",
          "South Sudan",
          "Spain",
          "Sri Lanka",
          "Sudan",
          "Suriname",
          "Swaziland",
          "Sweden",
          "Syrian Arab Republic (Syria)",
          "Taiwan, Republic of China",
          "Tajikistan",
          "Tanzania, United Republic of",
          "Thailand",
          "Timor-Leste",
          "Togo",
          "Tonga",
          "Trinidad and Tobago",
          "Tunisia",
          "Turkey",
          "Tuvalu",
          "Uganda",
          "Ukraine",
          "United Arab Emirates",
          "United Kingdom",
          "United States of America",
          "Uruguay",
          "Uzbekistan",
          "Vanuatu",
          "Venezuela (Bolivarian Republic)",
          "Viet Nam",
          "Yemen",
          "Zambia",
          "Zimbabwe"
         ],
         "labels": [
          "Afghanistan",
          "Albania",
          "Algeria",
          "Andorra",
          "Angola",
          "Antarctica",
          "Antigua and Barbuda",
          "Argentina",
          "Armenia",
          "Australia",
          "Austria",
          "Azerbaijan",
          "Bahamas",
          "Bahrain",
          "Bangladesh",
          "Barbados",
          "Belarus",
          "Belgium",
          "Belize",
          "Benin",
          "Bhutan",
          "Bolivia",
          "Bosnia and Herzegovina",
          "Botswana",
          "Brazil",
          "Brunei Darussalam",
          "Bulgaria",
          "Burkina Faso",
          "Burundi",
          "Cambodia",
          "Cameroon",
          "Canada",
          "Cape Verde",
          "Central African Republic",
          "Chad",
          "Chile",
          "Colombia",
          "Comoros",
          "Congo (Brazzaville)",
          "Congo (Kinshasa)",
          "Costa Rica",
          "Croatia",
          "Cuba",
          "Cyprus",
          "Czech Republic",
          "Côte d'Ivoire",
          "Denmark",
          "Djibouti",
          "Dominica",
          "Dominican Republic",
          "Ecuador",
          "Egypt",
          "El Salvador",
          "Equatorial Guinea",
          "Eritrea",
          "Estonia",
          "Ethiopia",
          "Fiji",
          "Finland",
          "France",
          "Gabon",
          "Gambia",
          "Georgia",
          "Germany",
          "Ghana",
          "Greece",
          "Grenada",
          "Guatemala",
          "Guinea",
          "Guinea-Bissau",
          "Guyana",
          "Haiti",
          "Holy See (Vatican City State)",
          "Honduras",
          "Hungary",
          "Iceland",
          "India",
          "Indonesia",
          "Iran, Islamic Republic of",
          "Iraq",
          "Ireland",
          "Israel",
          "Italy",
          "Jamaica",
          "Japan",
          "Jordan",
          "Kazakhstan",
          "Kenya",
          "Kiribati",
          "Korea (South)",
          "Kuwait",
          "Kyrgyzstan",
          "Lao PDR",
          "Latvia",
          "Lebanon",
          "Lesotho",
          "Liberia",
          "Libya",
          "Liechtenstein",
          "Lithuania",
          "Luxembourg",
          "Macedonia, Republic of",
          "Madagascar",
          "Malawi",
          "Malaysia",
          "Maldives",
          "Mali",
          "Malta",
          "Marshall Islands",
          "Mauritania",
          "Mauritius",
          "Mexico",
          "Micronesia, Federated States of",
          "Moldova",
          "Monaco",
          "Mongolia",
          "Montenegro",
          "Morocco",
          "Mozambique",
          "Myanmar",
          "Namibia",
          "Nauru",
          "Nepal",
          "Netherlands",
          "New Zealand",
          "Nicaragua",
          "Niger",
          "Nigeria",
          "Norway",
          "Oman",
          "Pakistan",
          "Palau",
          "Palestinian Territory",
          "Panama",
          "Papua New Guinea",
          "Paraguay",
          "Peru",
          "Philippines",
          "Poland",
          "Portugal",
          "Qatar",
          "Republic of Kosovo",
          "Romania",
          "Russian Federation",
          "Rwanda",
          "Saint Kitts and Nevis",
          "Saint Lucia",
          "Saint Vincent and Grenadines",
          "Samoa",
          "San Marino",
          "Sao Tome and Principe",
          "Saudi Arabia",
          "Senegal",
          "Serbia",
          "Seychelles",
          "Sierra Leone",
          "Singapore",
          "Slovakia",
          "Slovenia",
          "Solomon Islands",
          "Somalia",
          "South Africa",
          "South Sudan",
          "Spain",
          "Sri Lanka",
          "Sudan",
          "Suriname",
          "Swaziland",
          "Sweden",
          "Syrian Arab Republic (Syria)",
          "Taiwan, Republic of China",
          "Tajikistan",
          "Tanzania, United Republic of",
          "Thailand",
          "Timor-Leste",
          "Togo",
          "Tonga",
          "Trinidad and Tobago",
          "Tunisia",
          "Turkey",
          "Tuvalu",
          "Uganda",
          "Ukraine",
          "United Arab Emirates",
          "United Kingdom",
          "United States of America",
          "Uruguay",
          "Uzbekistan",
          "Vanuatu",
          "Venezuela (Bolivarian Republic)",
          "Viet Nam",
          "Yemen",
          "Zambia",
          "Zimbabwe"
         ],
         "name": "",
         "parents": [
          "",
          "",
          "",
          "",
          "",
          "",
          "",
          "",
          "",
          "",
          "",
          "",
          "",
          "",
          "",
          "",
          "",
          "",
          "",
          "",
          "",
          "",
          "",
          "",
          "",
          "",
          "",
          "",
          "",
          "",
          "",
          "",
          "",
          "",
          "",
          "",
          "",
          "",
          "",
          "",
          "",
          "",
          "",
          "",
          "",
          "",
          "",
          "",
          "",
          "",
          "",
          "",
          "",
          "",
          "",
          "",
          "",
          "",
          "",
          "",
          "",
          "",
          "",
          "",
          "",
          "",
          "",
          "",
          "",
          "",
          "",
          "",
          "",
          "",
          "",
          "",
          "",
          "",
          "",
          "",
          "",
          "",
          "",
          "",
          "",
          "",
          "",
          "",
          "",
          "",
          "",
          "",
          "",
          "",
          "",
          "",
          "",
          "",
          "",
          "",
          "",
          "",
          "",
          "",
          "",
          "",
          "",
          "",
          "",
          "",
          "",
          "",
          "",
          "",
          "",
          "",
          "",
          "",
          "",
          "",
          "",
          "",
          "",
          "",
          "",
          "",
          "",
          "",
          "",
          "",
          "",
          "",
          "",
          "",
          "",
          "",
          "",
          "",
          "",
          "",
          "",
          "",
          "",
          "",
          "",
          "",
          "",
          "",
          "",
          "",
          "",
          "",
          "",
          "",
          "",
          "",
          "",
          "",
          "",
          "",
          "",
          "",
          "",
          "",
          "",
          "",
          "",
          "",
          "",
          "",
          "",
          "",
          "",
          "",
          "",
          "",
          "",
          "",
          "",
          "",
          "",
          "",
          "",
          "",
          "",
          "",
          "",
          "",
          "",
          "",
          "",
          "",
          "",
          ""
         ],
         "textinfo": "label+text+value",
         "type": "treemap",
         "values": [
          209451,
          334457,
          271496,
          47890,
          105288,
          11,
          9106,
          10044957,
          447308,
          11399460,
          5961143,
          828825,
          37491,
          710693,
          2037871,
          106798,
          994037,
          4739365,
          70757,
          27999,
          62627,
          1194277,
          401729,
          329758,
          37076053,
          279661,
          1297523,
          22056,
          53631,
          138719,
          124392,
          3987800,
          63244,
          15368,
          7679,
          5192286,
          6359093,
          9008,
          25087,
          95749,
          1209725,
          1269326,
          1112643,
          650685,
          4618256,
          88263,
          3451036,
          15690,
          15760,
          660790,
          1057121,
          515759,
          201785,
          17229,
          10189,
          615433,
          500116,
          68898,
          1463644,
          39866718,
          48981,
          12598,
          1827537,
          38249060,
          171229,
          5548487,
          19680,
          1238247,
          38267,
          8960,
          73075,
          34202,
          29,
          472250,
          2196804,
          209137,
          44690738,
          6738225,
          7572311,
          2465545,
          1704502,
          4803824,
          25603510,
          154416,
          33320438,
          1746997,
          1498668,
          342937,
          5014,
          30615522,
          663860,
          206708,
          218023,
          976255,
          1232828,
          34790,
          8090,
          507187,
          21432,
          1307448,
          317367,
          346852,
          67889,
          88707,
          5044718,
          185738,
          33062,
          117610,
          15649,
          63668,
          296042,
          7483444,
          23948,
          611140,
          16121,
          1007900,
          288808,
          1272490,
          233214,
          633950,
          171156,
          5247,
          1001154,
          8599981,
          2236114,
          15655,
          9508,
          266598,
          1479506,
          399449,
          1577411,
          5991,
          703228,
          1031731,
          46825,
          808401,
          4487553,
          4077452,
          6444960,
          5570473,
          495090,
          273312,
          3346046,
          22075858,
          133194,
          6597,
          30004,
          9589,
          16607,
          23616,
          6281,
          830127,
          88926,
          2500142,
          50665,
          7760,
          2235294,
          2667551,
          1331707,
          24575,
          27324,
          4067067,
          18368,
          13770429,
          672039,
          63829,
          82467,
          74267,
          2699339,
          57467,
          9970937,
          17786,
          42906,
          4728182,
          23419,
          39396,
          16810,
          189918,
          1151126,
          17042722,
          2805,
          170544,
          5711929,
          1053213,
          24658705,
          103802702,
          1034303,
          251247,
          12014,
          552162,
          11526994,
          11945,
          343135,
          264276
         ]
        }
       ],
       "layout": {
        "height": 1700,
        "legend": {
         "tracegroupgap": 0
        },
        "template": {
         "data": {
          "bar": [
           {
            "error_x": {
             "color": "#2a3f5f"
            },
            "error_y": {
             "color": "#2a3f5f"
            },
            "marker": {
             "line": {
              "color": "#E5ECF6",
              "width": 0.5
             },
             "pattern": {
              "fillmode": "overlay",
              "size": 10,
              "solidity": 0.2
             }
            },
            "type": "bar"
           }
          ],
          "barpolar": [
           {
            "marker": {
             "line": {
              "color": "#E5ECF6",
              "width": 0.5
             },
             "pattern": {
              "fillmode": "overlay",
              "size": 10,
              "solidity": 0.2
             }
            },
            "type": "barpolar"
           }
          ],
          "carpet": [
           {
            "aaxis": {
             "endlinecolor": "#2a3f5f",
             "gridcolor": "white",
             "linecolor": "white",
             "minorgridcolor": "white",
             "startlinecolor": "#2a3f5f"
            },
            "baxis": {
             "endlinecolor": "#2a3f5f",
             "gridcolor": "white",
             "linecolor": "white",
             "minorgridcolor": "white",
             "startlinecolor": "#2a3f5f"
            },
            "type": "carpet"
           }
          ],
          "choropleth": [
           {
            "colorbar": {
             "outlinewidth": 0,
             "ticks": ""
            },
            "type": "choropleth"
           }
          ],
          "contour": [
           {
            "colorbar": {
             "outlinewidth": 0,
             "ticks": ""
            },
            "colorscale": [
             [
              0,
              "#0d0887"
             ],
             [
              0.1111111111111111,
              "#46039f"
             ],
             [
              0.2222222222222222,
              "#7201a8"
             ],
             [
              0.3333333333333333,
              "#9c179e"
             ],
             [
              0.4444444444444444,
              "#bd3786"
             ],
             [
              0.5555555555555556,
              "#d8576b"
             ],
             [
              0.6666666666666666,
              "#ed7953"
             ],
             [
              0.7777777777777778,
              "#fb9f3a"
             ],
             [
              0.8888888888888888,
              "#fdca26"
             ],
             [
              1,
              "#f0f921"
             ]
            ],
            "type": "contour"
           }
          ],
          "contourcarpet": [
           {
            "colorbar": {
             "outlinewidth": 0,
             "ticks": ""
            },
            "type": "contourcarpet"
           }
          ],
          "heatmap": [
           {
            "colorbar": {
             "outlinewidth": 0,
             "ticks": ""
            },
            "colorscale": [
             [
              0,
              "#0d0887"
             ],
             [
              0.1111111111111111,
              "#46039f"
             ],
             [
              0.2222222222222222,
              "#7201a8"
             ],
             [
              0.3333333333333333,
              "#9c179e"
             ],
             [
              0.4444444444444444,
              "#bd3786"
             ],
             [
              0.5555555555555556,
              "#d8576b"
             ],
             [
              0.6666666666666666,
              "#ed7953"
             ],
             [
              0.7777777777777778,
              "#fb9f3a"
             ],
             [
              0.8888888888888888,
              "#fdca26"
             ],
             [
              1,
              "#f0f921"
             ]
            ],
            "type": "heatmap"
           }
          ],
          "heatmapgl": [
           {
            "colorbar": {
             "outlinewidth": 0,
             "ticks": ""
            },
            "colorscale": [
             [
              0,
              "#0d0887"
             ],
             [
              0.1111111111111111,
              "#46039f"
             ],
             [
              0.2222222222222222,
              "#7201a8"
             ],
             [
              0.3333333333333333,
              "#9c179e"
             ],
             [
              0.4444444444444444,
              "#bd3786"
             ],
             [
              0.5555555555555556,
              "#d8576b"
             ],
             [
              0.6666666666666666,
              "#ed7953"
             ],
             [
              0.7777777777777778,
              "#fb9f3a"
             ],
             [
              0.8888888888888888,
              "#fdca26"
             ],
             [
              1,
              "#f0f921"
             ]
            ],
            "type": "heatmapgl"
           }
          ],
          "histogram": [
           {
            "marker": {
             "pattern": {
              "fillmode": "overlay",
              "size": 10,
              "solidity": 0.2
             }
            },
            "type": "histogram"
           }
          ],
          "histogram2d": [
           {
            "colorbar": {
             "outlinewidth": 0,
             "ticks": ""
            },
            "colorscale": [
             [
              0,
              "#0d0887"
             ],
             [
              0.1111111111111111,
              "#46039f"
             ],
             [
              0.2222222222222222,
              "#7201a8"
             ],
             [
              0.3333333333333333,
              "#9c179e"
             ],
             [
              0.4444444444444444,
              "#bd3786"
             ],
             [
              0.5555555555555556,
              "#d8576b"
             ],
             [
              0.6666666666666666,
              "#ed7953"
             ],
             [
              0.7777777777777778,
              "#fb9f3a"
             ],
             [
              0.8888888888888888,
              "#fdca26"
             ],
             [
              1,
              "#f0f921"
             ]
            ],
            "type": "histogram2d"
           }
          ],
          "histogram2dcontour": [
           {
            "colorbar": {
             "outlinewidth": 0,
             "ticks": ""
            },
            "colorscale": [
             [
              0,
              "#0d0887"
             ],
             [
              0.1111111111111111,
              "#46039f"
             ],
             [
              0.2222222222222222,
              "#7201a8"
             ],
             [
              0.3333333333333333,
              "#9c179e"
             ],
             [
              0.4444444444444444,
              "#bd3786"
             ],
             [
              0.5555555555555556,
              "#d8576b"
             ],
             [
              0.6666666666666666,
              "#ed7953"
             ],
             [
              0.7777777777777778,
              "#fb9f3a"
             ],
             [
              0.8888888888888888,
              "#fdca26"
             ],
             [
              1,
              "#f0f921"
             ]
            ],
            "type": "histogram2dcontour"
           }
          ],
          "mesh3d": [
           {
            "colorbar": {
             "outlinewidth": 0,
             "ticks": ""
            },
            "type": "mesh3d"
           }
          ],
          "parcoords": [
           {
            "line": {
             "colorbar": {
              "outlinewidth": 0,
              "ticks": ""
             }
            },
            "type": "parcoords"
           }
          ],
          "pie": [
           {
            "automargin": true,
            "type": "pie"
           }
          ],
          "scatter": [
           {
            "fillpattern": {
             "fillmode": "overlay",
             "size": 10,
             "solidity": 0.2
            },
            "type": "scatter"
           }
          ],
          "scatter3d": [
           {
            "line": {
             "colorbar": {
              "outlinewidth": 0,
              "ticks": ""
             }
            },
            "marker": {
             "colorbar": {
              "outlinewidth": 0,
              "ticks": ""
             }
            },
            "type": "scatter3d"
           }
          ],
          "scattercarpet": [
           {
            "marker": {
             "colorbar": {
              "outlinewidth": 0,
              "ticks": ""
             }
            },
            "type": "scattercarpet"
           }
          ],
          "scattergeo": [
           {
            "marker": {
             "colorbar": {
              "outlinewidth": 0,
              "ticks": ""
             }
            },
            "type": "scattergeo"
           }
          ],
          "scattergl": [
           {
            "marker": {
             "colorbar": {
              "outlinewidth": 0,
              "ticks": ""
             }
            },
            "type": "scattergl"
           }
          ],
          "scattermapbox": [
           {
            "marker": {
             "colorbar": {
              "outlinewidth": 0,
              "ticks": ""
             }
            },
            "type": "scattermapbox"
           }
          ],
          "scatterpolar": [
           {
            "marker": {
             "colorbar": {
              "outlinewidth": 0,
              "ticks": ""
             }
            },
            "type": "scatterpolar"
           }
          ],
          "scatterpolargl": [
           {
            "marker": {
             "colorbar": {
              "outlinewidth": 0,
              "ticks": ""
             }
            },
            "type": "scatterpolargl"
           }
          ],
          "scatterternary": [
           {
            "marker": {
             "colorbar": {
              "outlinewidth": 0,
              "ticks": ""
             }
            },
            "type": "scatterternary"
           }
          ],
          "surface": [
           {
            "colorbar": {
             "outlinewidth": 0,
             "ticks": ""
            },
            "colorscale": [
             [
              0,
              "#0d0887"
             ],
             [
              0.1111111111111111,
              "#46039f"
             ],
             [
              0.2222222222222222,
              "#7201a8"
             ],
             [
              0.3333333333333333,
              "#9c179e"
             ],
             [
              0.4444444444444444,
              "#bd3786"
             ],
             [
              0.5555555555555556,
              "#d8576b"
             ],
             [
              0.6666666666666666,
              "#ed7953"
             ],
             [
              0.7777777777777778,
              "#fb9f3a"
             ],
             [
              0.8888888888888888,
              "#fdca26"
             ],
             [
              1,
              "#f0f921"
             ]
            ],
            "type": "surface"
           }
          ],
          "table": [
           {
            "cells": {
             "fill": {
              "color": "#EBF0F8"
             },
             "line": {
              "color": "white"
             }
            },
            "header": {
             "fill": {
              "color": "#C8D4E3"
             },
             "line": {
              "color": "white"
             }
            },
            "type": "table"
           }
          ]
         },
         "layout": {
          "annotationdefaults": {
           "arrowcolor": "#2a3f5f",
           "arrowhead": 0,
           "arrowwidth": 1
          },
          "autotypenumbers": "strict",
          "coloraxis": {
           "colorbar": {
            "outlinewidth": 0,
            "ticks": ""
           }
          },
          "colorscale": {
           "diverging": [
            [
             0,
             "#8e0152"
            ],
            [
             0.1,
             "#c51b7d"
            ],
            [
             0.2,
             "#de77ae"
            ],
            [
             0.3,
             "#f1b6da"
            ],
            [
             0.4,
             "#fde0ef"
            ],
            [
             0.5,
             "#f7f7f7"
            ],
            [
             0.6,
             "#e6f5d0"
            ],
            [
             0.7,
             "#b8e186"
            ],
            [
             0.8,
             "#7fbc41"
            ],
            [
             0.9,
             "#4d9221"
            ],
            [
             1,
             "#276419"
            ]
           ],
           "sequential": [
            [
             0,
             "#0d0887"
            ],
            [
             0.1111111111111111,
             "#46039f"
            ],
            [
             0.2222222222222222,
             "#7201a8"
            ],
            [
             0.3333333333333333,
             "#9c179e"
            ],
            [
             0.4444444444444444,
             "#bd3786"
            ],
            [
             0.5555555555555556,
             "#d8576b"
            ],
            [
             0.6666666666666666,
             "#ed7953"
            ],
            [
             0.7777777777777778,
             "#fb9f3a"
            ],
            [
             0.8888888888888888,
             "#fdca26"
            ],
            [
             1,
             "#f0f921"
            ]
           ],
           "sequentialminus": [
            [
             0,
             "#0d0887"
            ],
            [
             0.1111111111111111,
             "#46039f"
            ],
            [
             0.2222222222222222,
             "#7201a8"
            ],
            [
             0.3333333333333333,
             "#9c179e"
            ],
            [
             0.4444444444444444,
             "#bd3786"
            ],
            [
             0.5555555555555556,
             "#d8576b"
            ],
            [
             0.6666666666666666,
             "#ed7953"
            ],
            [
             0.7777777777777778,
             "#fb9f3a"
            ],
            [
             0.8888888888888888,
             "#fdca26"
            ],
            [
             1,
             "#f0f921"
            ]
           ]
          },
          "colorway": [
           "#636efa",
           "#EF553B",
           "#00cc96",
           "#ab63fa",
           "#FFA15A",
           "#19d3f3",
           "#FF6692",
           "#B6E880",
           "#FF97FF",
           "#FECB52"
          ],
          "font": {
           "color": "#2a3f5f"
          },
          "geo": {
           "bgcolor": "white",
           "lakecolor": "white",
           "landcolor": "#E5ECF6",
           "showlakes": true,
           "showland": true,
           "subunitcolor": "white"
          },
          "hoverlabel": {
           "align": "left"
          },
          "hovermode": "closest",
          "mapbox": {
           "style": "light"
          },
          "paper_bgcolor": "white",
          "plot_bgcolor": "#E5ECF6",
          "polar": {
           "angularaxis": {
            "gridcolor": "white",
            "linecolor": "white",
            "ticks": ""
           },
           "bgcolor": "#E5ECF6",
           "radialaxis": {
            "gridcolor": "white",
            "linecolor": "white",
            "ticks": ""
           }
          },
          "scene": {
           "xaxis": {
            "backgroundcolor": "#E5ECF6",
            "gridcolor": "white",
            "gridwidth": 2,
            "linecolor": "white",
            "showbackground": true,
            "ticks": "",
            "zerolinecolor": "white"
           },
           "yaxis": {
            "backgroundcolor": "#E5ECF6",
            "gridcolor": "white",
            "gridwidth": 2,
            "linecolor": "white",
            "showbackground": true,
            "ticks": "",
            "zerolinecolor": "white"
           },
           "zaxis": {
            "backgroundcolor": "#E5ECF6",
            "gridcolor": "white",
            "gridwidth": 2,
            "linecolor": "white",
            "showbackground": true,
            "ticks": "",
            "zerolinecolor": "white"
           }
          },
          "shapedefaults": {
           "line": {
            "color": "#2a3f5f"
           }
          },
          "ternary": {
           "aaxis": {
            "gridcolor": "white",
            "linecolor": "white",
            "ticks": ""
           },
           "baxis": {
            "gridcolor": "white",
            "linecolor": "white",
            "ticks": ""
           },
           "bgcolor": "#E5ECF6",
           "caxis": {
            "gridcolor": "white",
            "linecolor": "white",
            "ticks": ""
           }
          },
          "title": {
           "x": 0.05
          },
          "xaxis": {
           "automargin": true,
           "gridcolor": "white",
           "linecolor": "white",
           "ticks": "",
           "title": {
            "standoff": 15
           },
           "zerolinecolor": "white",
           "zerolinewidth": 2
          },
          "yaxis": {
           "automargin": true,
           "gridcolor": "white",
           "linecolor": "white",
           "ticks": "",
           "title": {
            "standoff": 15
           },
           "zerolinecolor": "white",
           "zerolinewidth": 2
          }
         }
        },
        "title": {
         "text": "Total de casos confirmados"
        }
       }
      }
     },
     "metadata": {},
     "output_type": "display_data"
    }
   ],
   "source": [
    "full_latest = df_clean[df_clean['Date'] == max(df_clean['Date'])]\n",
    "                         \n",
    "fig = px.treemap(full_latest.sort_values(by='TotalConfirmed', ascending=False).reset_index(drop=True), \n",
    "                 path=[\"Country\"], values=\"TotalConfirmed\", height=1700, title='Total de casos confirmados')\n",
    "fig.data[0].textinfo = 'label+text+value'\n",
    "fig.show()"
   ]
  },
  {
   "cell_type": "code",
   "execution_count": 195,
   "metadata": {},
   "outputs": [
    {
     "data": {
      "application/vnd.plotly.v1+json": {
       "config": {
        "plotlyServerURL": "https://plot.ly"
       },
       "data": [
        {
         "hovertemplate": "Country=%{text}<br>TotalConfirmed=%{marker.size}<br>TotalDeaths=%{y}<extra></extra>",
         "legendgroup": "United States of America",
         "marker": {
          "color": "#636efa",
          "size": [
           103802702
          ],
          "sizemode": "area",
          "sizeref": 259506.755,
          "symbol": "circle"
         },
         "mode": "markers+text",
         "name": "United States of America",
         "orientation": "v",
         "showlegend": true,
         "text": [
          "United States of America"
         ],
         "textposition": "top center",
         "type": "scatter",
         "x": [
          103802702
         ],
         "xaxis": "x",
         "y": [
          1123836
         ],
         "yaxis": "y"
        },
        {
         "hovertemplate": "Country=%{text}<br>TotalConfirmed=%{marker.size}<br>TotalDeaths=%{y}<extra></extra>",
         "legendgroup": "Brazil",
         "marker": {
          "color": "#EF553B",
          "size": [
           37076053
          ],
          "sizemode": "area",
          "sizeref": 259506.755,
          "symbol": "circle"
         },
         "mode": "markers+text",
         "name": "Brazil",
         "orientation": "v",
         "showlegend": true,
         "text": [
          "Brazil"
         ],
         "textposition": "top center",
         "type": "scatter",
         "x": [
          37076053
         ],
         "xaxis": "x",
         "y": [
          699276
         ],
         "yaxis": "y"
        },
        {
         "hovertemplate": "Country=%{text}<br>TotalConfirmed=%{marker.size}<br>TotalDeaths=%{y}<extra></extra>",
         "legendgroup": "India",
         "marker": {
          "color": "#00cc96",
          "size": [
           44690738
          ],
          "sizemode": "area",
          "sizeref": 259506.755,
          "symbol": "circle"
         },
         "mode": "markers+text",
         "name": "India",
         "orientation": "v",
         "showlegend": true,
         "text": [
          "India"
         ],
         "textposition": "top center",
         "type": "scatter",
         "x": [
          44690738
         ],
         "xaxis": "x",
         "y": [
          530779
         ],
         "yaxis": "y"
        },
        {
         "hovertemplate": "Country=%{text}<br>TotalConfirmed=%{marker.size}<br>TotalDeaths=%{y}<extra></extra>",
         "legendgroup": "Russian Federation",
         "marker": {
          "color": "#ab63fa",
          "size": [
           22075858
          ],
          "sizemode": "area",
          "sizeref": 259506.755,
          "symbol": "circle"
         },
         "mode": "markers+text",
         "name": "Russian Federation",
         "orientation": "v",
         "showlegend": true,
         "text": [
          "Russian Federation"
         ],
         "textposition": "top center",
         "type": "scatter",
         "x": [
          22075858
         ],
         "xaxis": "x",
         "y": [
          388478
         ],
         "yaxis": "y"
        },
        {
         "hovertemplate": "Country=%{text}<br>TotalConfirmed=%{marker.size}<br>TotalDeaths=%{y}<extra></extra>",
         "legendgroup": "Mexico",
         "marker": {
          "color": "#FFA15A",
          "size": [
           7483444
          ],
          "sizemode": "area",
          "sizeref": 259506.755,
          "symbol": "circle"
         },
         "mode": "markers+text",
         "name": "Mexico",
         "orientation": "v",
         "showlegend": true,
         "text": [
          "Mexico"
         ],
         "textposition": "top center",
         "type": "scatter",
         "x": [
          7483444
         ],
         "xaxis": "x",
         "y": [
          333188
         ],
         "yaxis": "y"
        },
        {
         "hovertemplate": "Country=%{text}<br>TotalConfirmed=%{marker.size}<br>TotalDeaths=%{y}<extra></extra>",
         "legendgroup": "United Kingdom",
         "marker": {
          "color": "#19d3f3",
          "size": [
           24658705
          ],
          "sizemode": "area",
          "sizeref": 259506.755,
          "symbol": "circle"
         },
         "mode": "markers+text",
         "name": "United Kingdom",
         "orientation": "v",
         "showlegend": true,
         "text": [
          "United Kingdom"
         ],
         "textposition": "top center",
         "type": "scatter",
         "x": [
          24658705
         ],
         "xaxis": "x",
         "y": [
          220721
         ],
         "yaxis": "y"
        },
        {
         "hovertemplate": "Country=%{text}<br>TotalConfirmed=%{marker.size}<br>TotalDeaths=%{y}<extra></extra>",
         "legendgroup": "Peru",
         "marker": {
          "color": "#FF6692",
          "size": [
           4487553
          ],
          "sizemode": "area",
          "sizeref": 259506.755,
          "symbol": "circle"
         },
         "mode": "markers+text",
         "name": "Peru",
         "orientation": "v",
         "showlegend": true,
         "text": [
          "Peru"
         ],
         "textposition": "top center",
         "type": "scatter",
         "x": [
          4487553
         ],
         "xaxis": "x",
         "y": [
          219539
         ],
         "yaxis": "y"
        },
        {
         "hovertemplate": "Country=%{text}<br>TotalConfirmed=%{marker.size}<br>TotalDeaths=%{y}<extra></extra>",
         "legendgroup": "Italy",
         "marker": {
          "color": "#B6E880",
          "size": [
           25603510
          ],
          "sizemode": "area",
          "sizeref": 259506.755,
          "symbol": "circle"
         },
         "mode": "markers+text",
         "name": "Italy",
         "orientation": "v",
         "showlegend": true,
         "text": [
          "Italy"
         ],
         "textposition": "top center",
         "type": "scatter",
         "x": [
          25603510
         ],
         "xaxis": "x",
         "y": [
          188322
         ],
         "yaxis": "y"
        },
        {
         "hovertemplate": "Country=%{text}<br>TotalConfirmed=%{marker.size}<br>TotalDeaths=%{y}<extra></extra>",
         "legendgroup": "Germany",
         "marker": {
          "color": "#FF97FF",
          "size": [
           38249060
          ],
          "sizemode": "area",
          "sizeref": 259506.755,
          "symbol": "circle"
         },
         "mode": "markers+text",
         "name": "Germany",
         "orientation": "v",
         "showlegend": true,
         "text": [
          "Germany"
         ],
         "textposition": "top center",
         "type": "scatter",
         "x": [
          38249060
         ],
         "xaxis": "x",
         "y": [
          168935
         ],
         "yaxis": "y"
        },
        {
         "hovertemplate": "Country=%{text}<br>TotalConfirmed=%{marker.size}<br>TotalDeaths=%{y}<extra></extra>",
         "legendgroup": "France",
         "marker": {
          "color": "#FECB52",
          "size": [
           39866718
          ],
          "sizemode": "area",
          "sizeref": 259506.755,
          "symbol": "circle"
         },
         "mode": "markers+text",
         "name": "France",
         "orientation": "v",
         "showlegend": true,
         "text": [
          "France"
         ],
         "textposition": "top center",
         "type": "scatter",
         "x": [
          39866718
         ],
         "xaxis": "x",
         "y": [
          166176
         ],
         "yaxis": "y"
        },
        {
         "hovertemplate": "Country=%{text}<br>TotalConfirmed=%{marker.size}<br>TotalDeaths=%{y}<extra></extra>",
         "legendgroup": "Indonesia",
         "marker": {
          "color": "#636efa",
          "size": [
           6738225
          ],
          "sizemode": "area",
          "sizeref": 259506.755,
          "symbol": "circle"
         },
         "mode": "markers+text",
         "name": "Indonesia",
         "orientation": "v",
         "showlegend": true,
         "text": [
          "Indonesia"
         ],
         "textposition": "top center",
         "type": "scatter",
         "x": [
          6738225
         ],
         "xaxis": "x",
         "y": [
          160941
         ],
         "yaxis": "y"
        },
        {
         "hovertemplate": "Country=%{text}<br>TotalConfirmed=%{marker.size}<br>TotalDeaths=%{y}<extra></extra>",
         "legendgroup": "Iran, Islamic Republic of",
         "marker": {
          "color": "#EF553B",
          "size": [
           7572311
          ],
          "sizemode": "area",
          "sizeref": 259506.755,
          "symbol": "circle"
         },
         "mode": "markers+text",
         "name": "Iran, Islamic Republic of",
         "orientation": "v",
         "showlegend": true,
         "text": [
          "Iran, Islamic Republic of"
         ],
         "textposition": "top center",
         "type": "scatter",
         "x": [
          7572311
         ],
         "xaxis": "x",
         "y": [
          144933
         ],
         "yaxis": "y"
        },
        {
         "hovertemplate": "Country=%{text}<br>TotalConfirmed=%{marker.size}<br>TotalDeaths=%{y}<extra></extra>",
         "legendgroup": "Colombia",
         "marker": {
          "color": "#00cc96",
          "size": [
           6359093
          ],
          "sizemode": "area",
          "sizeref": 259506.755,
          "symbol": "circle"
         },
         "mode": "markers+text",
         "name": "Colombia",
         "orientation": "v",
         "showlegend": true,
         "text": [
          "Colombia"
         ],
         "textposition": "top center",
         "type": "scatter",
         "x": [
          6359093
         ],
         "xaxis": "x",
         "y": [
          142339
         ],
         "yaxis": "y"
        },
        {
         "hovertemplate": "Country=%{text}<br>TotalConfirmed=%{marker.size}<br>TotalDeaths=%{y}<extra></extra>",
         "legendgroup": "Argentina",
         "marker": {
          "color": "#ab63fa",
          "size": [
           10044957
          ],
          "sizemode": "area",
          "sizeref": 259506.755,
          "symbol": "circle"
         },
         "mode": "markers+text",
         "name": "Argentina",
         "orientation": "v",
         "showlegend": true,
         "text": [
          "Argentina"
         ],
         "textposition": "top center",
         "type": "scatter",
         "x": [
          10044957
         ],
         "xaxis": "x",
         "y": [
          130472
         ],
         "yaxis": "y"
        },
        {
         "hovertemplate": "Country=%{text}<br>TotalConfirmed=%{marker.size}<br>TotalDeaths=%{y}<extra></extra>",
         "legendgroup": "Spain",
         "marker": {
          "color": "#FFA15A",
          "size": [
           13770429
          ],
          "sizemode": "area",
          "sizeref": 259506.755,
          "symbol": "circle"
         },
         "mode": "markers+text",
         "name": "Spain",
         "orientation": "v",
         "showlegend": true,
         "text": [
          "Spain"
         ],
         "textposition": "top center",
         "type": "scatter",
         "x": [
          13770429
         ],
         "xaxis": "x",
         "y": [
          119479
         ],
         "yaxis": "y"
        },
        {
         "hovertemplate": "Country=%{text}<br>TotalConfirmed=%{marker.size}<br>TotalDeaths=%{y}<extra></extra>",
         "legendgroup": "Ukraine",
         "marker": {
          "color": "#19d3f3",
          "size": [
           5711929
          ],
          "sizemode": "area",
          "sizeref": 259506.755,
          "symbol": "circle"
         },
         "mode": "markers+text",
         "name": "Ukraine",
         "orientation": "v",
         "showlegend": true,
         "text": [
          "Ukraine"
         ],
         "textposition": "top center",
         "type": "scatter",
         "x": [
          5711929
         ],
         "xaxis": "x",
         "y": [
          119283
         ],
         "yaxis": "y"
        },
        {
         "hovertemplate": "Country=%{text}<br>TotalConfirmed=%{marker.size}<br>TotalDeaths=%{y}<extra></extra>",
         "legendgroup": "Poland",
         "marker": {
          "color": "#FF6692",
          "size": [
           6444960
          ],
          "sizemode": "area",
          "sizeref": 259506.755,
          "symbol": "circle"
         },
         "mode": "markers+text",
         "name": "Poland",
         "orientation": "v",
         "showlegend": true,
         "text": [
          "Poland"
         ],
         "textposition": "top center",
         "type": "scatter",
         "x": [
          6444960
         ],
         "xaxis": "x",
         "y": [
          119010
         ],
         "yaxis": "y"
        },
        {
         "hovertemplate": "Country=%{text}<br>TotalConfirmed=%{marker.size}<br>TotalDeaths=%{y}<extra></extra>",
         "legendgroup": "South Africa",
         "marker": {
          "color": "#B6E880",
          "size": [
           4067067
          ],
          "sizemode": "area",
          "sizeref": 259506.755,
          "symbol": "circle"
         },
         "mode": "markers+text",
         "name": "South Africa",
         "orientation": "v",
         "showlegend": true,
         "text": [
          "South Africa"
         ],
         "textposition": "top center",
         "type": "scatter",
         "x": [
          4067067
         ],
         "xaxis": "x",
         "y": [
          102595
         ],
         "yaxis": "y"
        },
        {
         "hovertemplate": "Country=%{text}<br>TotalConfirmed=%{marker.size}<br>TotalDeaths=%{y}<extra></extra>",
         "legendgroup": "Turkey",
         "marker": {
          "color": "#FF97FF",
          "size": [
           17042722
          ],
          "sizemode": "area",
          "sizeref": 259506.755,
          "symbol": "circle"
         },
         "mode": "markers+text",
         "name": "Turkey",
         "orientation": "v",
         "showlegend": true,
         "text": [
          "Turkey"
         ],
         "textposition": "top center",
         "type": "scatter",
         "x": [
          17042722
         ],
         "xaxis": "x",
         "y": [
          101492
         ],
         "yaxis": "y"
        },
        {
         "hovertemplate": "Country=%{text}<br>TotalConfirmed=%{marker.size}<br>TotalDeaths=%{y}<extra></extra>",
         "legendgroup": "Japan",
         "marker": {
          "color": "#FECB52",
          "size": [
           33320438
          ],
          "sizemode": "area",
          "sizeref": 259506.755,
          "symbol": "circle"
         },
         "mode": "markers+text",
         "name": "Japan",
         "orientation": "v",
         "showlegend": true,
         "text": [
          "Japan"
         ],
         "textposition": "top center",
         "type": "scatter",
         "x": [
          33320438
         ],
         "xaxis": "x",
         "y": [
          72997
         ],
         "yaxis": "y"
        }
       ],
       "layout": {
        "height": 700,
        "legend": {
         "itemsizing": "constant",
         "title": {
          "text": "Country"
         },
         "tracegroupgap": 0
        },
        "showlegend": false,
        "template": {
         "data": {
          "bar": [
           {
            "error_x": {
             "color": "#2a3f5f"
            },
            "error_y": {
             "color": "#2a3f5f"
            },
            "marker": {
             "line": {
              "color": "#E5ECF6",
              "width": 0.5
             },
             "pattern": {
              "fillmode": "overlay",
              "size": 10,
              "solidity": 0.2
             }
            },
            "type": "bar"
           }
          ],
          "barpolar": [
           {
            "marker": {
             "line": {
              "color": "#E5ECF6",
              "width": 0.5
             },
             "pattern": {
              "fillmode": "overlay",
              "size": 10,
              "solidity": 0.2
             }
            },
            "type": "barpolar"
           }
          ],
          "carpet": [
           {
            "aaxis": {
             "endlinecolor": "#2a3f5f",
             "gridcolor": "white",
             "linecolor": "white",
             "minorgridcolor": "white",
             "startlinecolor": "#2a3f5f"
            },
            "baxis": {
             "endlinecolor": "#2a3f5f",
             "gridcolor": "white",
             "linecolor": "white",
             "minorgridcolor": "white",
             "startlinecolor": "#2a3f5f"
            },
            "type": "carpet"
           }
          ],
          "choropleth": [
           {
            "colorbar": {
             "outlinewidth": 0,
             "ticks": ""
            },
            "type": "choropleth"
           }
          ],
          "contour": [
           {
            "colorbar": {
             "outlinewidth": 0,
             "ticks": ""
            },
            "colorscale": [
             [
              0,
              "#0d0887"
             ],
             [
              0.1111111111111111,
              "#46039f"
             ],
             [
              0.2222222222222222,
              "#7201a8"
             ],
             [
              0.3333333333333333,
              "#9c179e"
             ],
             [
              0.4444444444444444,
              "#bd3786"
             ],
             [
              0.5555555555555556,
              "#d8576b"
             ],
             [
              0.6666666666666666,
              "#ed7953"
             ],
             [
              0.7777777777777778,
              "#fb9f3a"
             ],
             [
              0.8888888888888888,
              "#fdca26"
             ],
             [
              1,
              "#f0f921"
             ]
            ],
            "type": "contour"
           }
          ],
          "contourcarpet": [
           {
            "colorbar": {
             "outlinewidth": 0,
             "ticks": ""
            },
            "type": "contourcarpet"
           }
          ],
          "heatmap": [
           {
            "colorbar": {
             "outlinewidth": 0,
             "ticks": ""
            },
            "colorscale": [
             [
              0,
              "#0d0887"
             ],
             [
              0.1111111111111111,
              "#46039f"
             ],
             [
              0.2222222222222222,
              "#7201a8"
             ],
             [
              0.3333333333333333,
              "#9c179e"
             ],
             [
              0.4444444444444444,
              "#bd3786"
             ],
             [
              0.5555555555555556,
              "#d8576b"
             ],
             [
              0.6666666666666666,
              "#ed7953"
             ],
             [
              0.7777777777777778,
              "#fb9f3a"
             ],
             [
              0.8888888888888888,
              "#fdca26"
             ],
             [
              1,
              "#f0f921"
             ]
            ],
            "type": "heatmap"
           }
          ],
          "heatmapgl": [
           {
            "colorbar": {
             "outlinewidth": 0,
             "ticks": ""
            },
            "colorscale": [
             [
              0,
              "#0d0887"
             ],
             [
              0.1111111111111111,
              "#46039f"
             ],
             [
              0.2222222222222222,
              "#7201a8"
             ],
             [
              0.3333333333333333,
              "#9c179e"
             ],
             [
              0.4444444444444444,
              "#bd3786"
             ],
             [
              0.5555555555555556,
              "#d8576b"
             ],
             [
              0.6666666666666666,
              "#ed7953"
             ],
             [
              0.7777777777777778,
              "#fb9f3a"
             ],
             [
              0.8888888888888888,
              "#fdca26"
             ],
             [
              1,
              "#f0f921"
             ]
            ],
            "type": "heatmapgl"
           }
          ],
          "histogram": [
           {
            "marker": {
             "pattern": {
              "fillmode": "overlay",
              "size": 10,
              "solidity": 0.2
             }
            },
            "type": "histogram"
           }
          ],
          "histogram2d": [
           {
            "colorbar": {
             "outlinewidth": 0,
             "ticks": ""
            },
            "colorscale": [
             [
              0,
              "#0d0887"
             ],
             [
              0.1111111111111111,
              "#46039f"
             ],
             [
              0.2222222222222222,
              "#7201a8"
             ],
             [
              0.3333333333333333,
              "#9c179e"
             ],
             [
              0.4444444444444444,
              "#bd3786"
             ],
             [
              0.5555555555555556,
              "#d8576b"
             ],
             [
              0.6666666666666666,
              "#ed7953"
             ],
             [
              0.7777777777777778,
              "#fb9f3a"
             ],
             [
              0.8888888888888888,
              "#fdca26"
             ],
             [
              1,
              "#f0f921"
             ]
            ],
            "type": "histogram2d"
           }
          ],
          "histogram2dcontour": [
           {
            "colorbar": {
             "outlinewidth": 0,
             "ticks": ""
            },
            "colorscale": [
             [
              0,
              "#0d0887"
             ],
             [
              0.1111111111111111,
              "#46039f"
             ],
             [
              0.2222222222222222,
              "#7201a8"
             ],
             [
              0.3333333333333333,
              "#9c179e"
             ],
             [
              0.4444444444444444,
              "#bd3786"
             ],
             [
              0.5555555555555556,
              "#d8576b"
             ],
             [
              0.6666666666666666,
              "#ed7953"
             ],
             [
              0.7777777777777778,
              "#fb9f3a"
             ],
             [
              0.8888888888888888,
              "#fdca26"
             ],
             [
              1,
              "#f0f921"
             ]
            ],
            "type": "histogram2dcontour"
           }
          ],
          "mesh3d": [
           {
            "colorbar": {
             "outlinewidth": 0,
             "ticks": ""
            },
            "type": "mesh3d"
           }
          ],
          "parcoords": [
           {
            "line": {
             "colorbar": {
              "outlinewidth": 0,
              "ticks": ""
             }
            },
            "type": "parcoords"
           }
          ],
          "pie": [
           {
            "automargin": true,
            "type": "pie"
           }
          ],
          "scatter": [
           {
            "fillpattern": {
             "fillmode": "overlay",
             "size": 10,
             "solidity": 0.2
            },
            "type": "scatter"
           }
          ],
          "scatter3d": [
           {
            "line": {
             "colorbar": {
              "outlinewidth": 0,
              "ticks": ""
             }
            },
            "marker": {
             "colorbar": {
              "outlinewidth": 0,
              "ticks": ""
             }
            },
            "type": "scatter3d"
           }
          ],
          "scattercarpet": [
           {
            "marker": {
             "colorbar": {
              "outlinewidth": 0,
              "ticks": ""
             }
            },
            "type": "scattercarpet"
           }
          ],
          "scattergeo": [
           {
            "marker": {
             "colorbar": {
              "outlinewidth": 0,
              "ticks": ""
             }
            },
            "type": "scattergeo"
           }
          ],
          "scattergl": [
           {
            "marker": {
             "colorbar": {
              "outlinewidth": 0,
              "ticks": ""
             }
            },
            "type": "scattergl"
           }
          ],
          "scattermapbox": [
           {
            "marker": {
             "colorbar": {
              "outlinewidth": 0,
              "ticks": ""
             }
            },
            "type": "scattermapbox"
           }
          ],
          "scatterpolar": [
           {
            "marker": {
             "colorbar": {
              "outlinewidth": 0,
              "ticks": ""
             }
            },
            "type": "scatterpolar"
           }
          ],
          "scatterpolargl": [
           {
            "marker": {
             "colorbar": {
              "outlinewidth": 0,
              "ticks": ""
             }
            },
            "type": "scatterpolargl"
           }
          ],
          "scatterternary": [
           {
            "marker": {
             "colorbar": {
              "outlinewidth": 0,
              "ticks": ""
             }
            },
            "type": "scatterternary"
           }
          ],
          "surface": [
           {
            "colorbar": {
             "outlinewidth": 0,
             "ticks": ""
            },
            "colorscale": [
             [
              0,
              "#0d0887"
             ],
             [
              0.1111111111111111,
              "#46039f"
             ],
             [
              0.2222222222222222,
              "#7201a8"
             ],
             [
              0.3333333333333333,
              "#9c179e"
             ],
             [
              0.4444444444444444,
              "#bd3786"
             ],
             [
              0.5555555555555556,
              "#d8576b"
             ],
             [
              0.6666666666666666,
              "#ed7953"
             ],
             [
              0.7777777777777778,
              "#fb9f3a"
             ],
             [
              0.8888888888888888,
              "#fdca26"
             ],
             [
              1,
              "#f0f921"
             ]
            ],
            "type": "surface"
           }
          ],
          "table": [
           {
            "cells": {
             "fill": {
              "color": "#EBF0F8"
             },
             "line": {
              "color": "white"
             }
            },
            "header": {
             "fill": {
              "color": "#C8D4E3"
             },
             "line": {
              "color": "white"
             }
            },
            "type": "table"
           }
          ]
         },
         "layout": {
          "annotationdefaults": {
           "arrowcolor": "#2a3f5f",
           "arrowhead": 0,
           "arrowwidth": 1
          },
          "autotypenumbers": "strict",
          "coloraxis": {
           "colorbar": {
            "outlinewidth": 0,
            "ticks": ""
           }
          },
          "colorscale": {
           "diverging": [
            [
             0,
             "#8e0152"
            ],
            [
             0.1,
             "#c51b7d"
            ],
            [
             0.2,
             "#de77ae"
            ],
            [
             0.3,
             "#f1b6da"
            ],
            [
             0.4,
             "#fde0ef"
            ],
            [
             0.5,
             "#f7f7f7"
            ],
            [
             0.6,
             "#e6f5d0"
            ],
            [
             0.7,
             "#b8e186"
            ],
            [
             0.8,
             "#7fbc41"
            ],
            [
             0.9,
             "#4d9221"
            ],
            [
             1,
             "#276419"
            ]
           ],
           "sequential": [
            [
             0,
             "#0d0887"
            ],
            [
             0.1111111111111111,
             "#46039f"
            ],
            [
             0.2222222222222222,
             "#7201a8"
            ],
            [
             0.3333333333333333,
             "#9c179e"
            ],
            [
             0.4444444444444444,
             "#bd3786"
            ],
            [
             0.5555555555555556,
             "#d8576b"
            ],
            [
             0.6666666666666666,
             "#ed7953"
            ],
            [
             0.7777777777777778,
             "#fb9f3a"
            ],
            [
             0.8888888888888888,
             "#fdca26"
            ],
            [
             1,
             "#f0f921"
            ]
           ],
           "sequentialminus": [
            [
             0,
             "#0d0887"
            ],
            [
             0.1111111111111111,
             "#46039f"
            ],
            [
             0.2222222222222222,
             "#7201a8"
            ],
            [
             0.3333333333333333,
             "#9c179e"
            ],
            [
             0.4444444444444444,
             "#bd3786"
            ],
            [
             0.5555555555555556,
             "#d8576b"
            ],
            [
             0.6666666666666666,
             "#ed7953"
            ],
            [
             0.7777777777777778,
             "#fb9f3a"
            ],
            [
             0.8888888888888888,
             "#fdca26"
            ],
            [
             1,
             "#f0f921"
            ]
           ]
          },
          "colorway": [
           "#636efa",
           "#EF553B",
           "#00cc96",
           "#ab63fa",
           "#FFA15A",
           "#19d3f3",
           "#FF6692",
           "#B6E880",
           "#FF97FF",
           "#FECB52"
          ],
          "font": {
           "color": "#2a3f5f"
          },
          "geo": {
           "bgcolor": "white",
           "lakecolor": "white",
           "landcolor": "#E5ECF6",
           "showlakes": true,
           "showland": true,
           "subunitcolor": "white"
          },
          "hoverlabel": {
           "align": "left"
          },
          "hovermode": "closest",
          "mapbox": {
           "style": "light"
          },
          "paper_bgcolor": "white",
          "plot_bgcolor": "#E5ECF6",
          "polar": {
           "angularaxis": {
            "gridcolor": "white",
            "linecolor": "white",
            "ticks": ""
           },
           "bgcolor": "#E5ECF6",
           "radialaxis": {
            "gridcolor": "white",
            "linecolor": "white",
            "ticks": ""
           }
          },
          "scene": {
           "xaxis": {
            "backgroundcolor": "#E5ECF6",
            "gridcolor": "white",
            "gridwidth": 2,
            "linecolor": "white",
            "showbackground": true,
            "ticks": "",
            "zerolinecolor": "white"
           },
           "yaxis": {
            "backgroundcolor": "#E5ECF6",
            "gridcolor": "white",
            "gridwidth": 2,
            "linecolor": "white",
            "showbackground": true,
            "ticks": "",
            "zerolinecolor": "white"
           },
           "zaxis": {
            "backgroundcolor": "#E5ECF6",
            "gridcolor": "white",
            "gridwidth": 2,
            "linecolor": "white",
            "showbackground": true,
            "ticks": "",
            "zerolinecolor": "white"
           }
          },
          "shapedefaults": {
           "line": {
            "color": "#2a3f5f"
           }
          },
          "ternary": {
           "aaxis": {
            "gridcolor": "white",
            "linecolor": "white",
            "ticks": ""
           },
           "baxis": {
            "gridcolor": "white",
            "linecolor": "white",
            "ticks": ""
           },
           "bgcolor": "#E5ECF6",
           "caxis": {
            "gridcolor": "white",
            "linecolor": "white",
            "ticks": ""
           }
          },
          "title": {
           "x": 0.05
          },
          "xaxis": {
           "automargin": true,
           "gridcolor": "white",
           "linecolor": "white",
           "ticks": "",
           "title": {
            "standoff": 15
           },
           "zerolinecolor": "white",
           "zerolinewidth": 2
          },
          "yaxis": {
           "automargin": true,
           "gridcolor": "white",
           "linecolor": "white",
           "ticks": "",
           "title": {
            "standoff": 15
           },
           "zerolinecolor": "white",
           "zerolinewidth": 2
          }
         }
        },
        "title": {
         "text": "Relación entre casos totales confirmados y muertes totales confirmadas (escala en log10)"
        },
        "xaxis": {
         "anchor": "y",
         "domain": [
          0,
          1
         ],
         "rangeslider": {
          "visible": true
         },
         "title": {
          "text": "TotalConfirmed"
         },
         "type": "log"
        },
        "yaxis": {
         "anchor": "x",
         "domain": [
          0,
          1
         ],
         "title": {
          "text": "TotalDeaths"
         },
         "type": "log"
        }
       }
      }
     },
     "metadata": {},
     "output_type": "display_data"
    }
   ],
   "source": [
    "fig = px.scatter(df_clean.sort_values('TotalDeaths', ascending=False).iloc[:20, :], \n",
    "                 x='TotalConfirmed', y='TotalDeaths', color='Country', size='TotalConfirmed', height=700,\n",
    "                 text='Country', log_x=True, log_y=True, title='Relación entre casos totales confirmados y muertes totales confirmadas (escala en log10)')\n",
    "fig.update_traces(textposition='top center')\n",
    "fig.update_layout(showlegend=False)\n",
    "fig.update_layout(xaxis_rangeslider_visible=True)\n",
    "fig.show()"
   ]
  },
  {
   "cell_type": "code",
   "execution_count": 196,
   "metadata": {},
   "outputs": [
    {
     "data": {
      "text/plain": [
       "<AxesSubplot:xlabel='ratio_mortalidad_casostotales', ylabel='Count'>"
      ]
     },
     "execution_count": 196,
     "metadata": {},
     "output_type": "execute_result"
    },
    {
     "data": {
      "image/png": "[encoded data removed]",
      "text/plain": [
       "<Figure size 432x288 with 1 Axes>"
      ]
     },
     "metadata": {
      "needs_background": "light"
     },
     "output_type": "display_data"
    }
   ],
   "source": [
    "ratio_mortalidad_casostotales_top10 = df_clean.groupby('Country').max().sort_values('ratio_mortalidad_casostotales', ascending=False)[:10]\n",
    "\n",
    "sns.histplot(data=ratio_mortalidad_casostotales_top10 , x=\"ratio_mortalidad_casostotales\", hue=\"Country\", multiple=\"stack\")"
   ]
  },
  {
   "cell_type": "code",
   "execution_count": 204,
   "metadata": {},
   "outputs": [
    {
     "data": {
      "text/plain": [
       "<AxesSubplot:xlabel='ratio_nuevo_mortalidad_casostotales', ylabel='Count'>"
      ]
     },
     "execution_count": 204,
     "metadata": {},
     "output_type": "execute_result"
    },
    {
     "data": {
      "image/png": "[encoded data removed]",
      "text/plain": [
       "<Figure size 432x288 with 1 Axes>"
      ]
     },
     "metadata": {
      "needs_background": "light"
     },
     "output_type": "display_data"
    }
   ],
   "source": [
    "nuevo_ratio_mortalidad_casostotales_top10 = df_clean.groupby('Country').max().sort_values('ratio_nuevo_mortalidad_casostotales', ascending=False)[:10]\n",
    "\n",
    "sns.histplot(data=nuevo_ratio_mortalidad_casostotales_top10 , x=\"ratio_nuevo_mortalidad_casostotales\", hue=\"Country\", multiple=\"stack\")"
   ]
  },
  {
   "cell_type": "code",
   "execution_count": 197,
   "metadata": {},
   "outputs": [
    {
     "data": {
      "application/vnd.plotly.v1+json": {
       "config": {
        "plotlyServerURL": "https://plot.ly"
       },
       "data": [
        {
         "alignmentgroup": "True",
         "hovertemplate": "Casos confirmados=%{x}<br>País=%{y}<extra></extra>",
         "legendgroup": "",
         "marker": {
          "color": "green",
          "pattern": {
           "shape": ""
          }
         },
         "name": "",
         "offsetgroup": "",
         "orientation": "h",
         "showlegend": false,
         "textposition": "auto",
         "type": "bar",
         "x": [
          103802702,
          44690738,
          39866718,
          38249060,
          37076053,
          33320438,
          30615522,
          25603510,
          24658705,
          22075858
         ],
         "xaxis": "x",
         "y": [
          "United States of America",
          "India",
          "France",
          "Germany",
          "Brazil",
          "Japan",
          "Korea (South)",
          "Italy",
          "United Kingdom",
          "Russian Federation"
         ],
         "yaxis": "y"
        }
       ],
       "layout": {
        "barmode": "relative",
        "legend": {
         "tracegroupgap": 0
        },
        "template": {
         "data": {
          "bar": [
           {
            "error_x": {
             "color": "#2a3f5f"
            },
            "error_y": {
             "color": "#2a3f5f"
            },
            "marker": {
             "line": {
              "color": "#E5ECF6",
              "width": 0.5
             },
             "pattern": {
              "fillmode": "overlay",
              "size": 10,
              "solidity": 0.2
             }
            },
            "type": "bar"
           }
          ],
          "barpolar": [
           {
            "marker": {
             "line": {
              "color": "#E5ECF6",
              "width": 0.5
             },
             "pattern": {
              "fillmode": "overlay",
              "size": 10,
              "solidity": 0.2
             }
            },
            "type": "barpolar"
           }
          ],
          "carpet": [
           {
            "aaxis": {
             "endlinecolor": "#2a3f5f",
             "gridcolor": "white",
             "linecolor": "white",
             "minorgridcolor": "white",
             "startlinecolor": "#2a3f5f"
            },
            "baxis": {
             "endlinecolor": "#2a3f5f",
             "gridcolor": "white",
             "linecolor": "white",
             "minorgridcolor": "white",
             "startlinecolor": "#2a3f5f"
            },
            "type": "carpet"
           }
          ],
          "choropleth": [
           {
            "colorbar": {
             "outlinewidth": 0,
             "ticks": ""
            },
            "type": "choropleth"
           }
          ],
          "contour": [
           {
            "colorbar": {
             "outlinewidth": 0,
             "ticks": ""
            },
            "colorscale": [
             [
              0,
              "#0d0887"
             ],
             [
              0.1111111111111111,
              "#46039f"
             ],
             [
              0.2222222222222222,
              "#7201a8"
             ],
             [
              0.3333333333333333,
              "#9c179e"
             ],
             [
              0.4444444444444444,
              "#bd3786"
             ],
             [
              0.5555555555555556,
              "#d8576b"
             ],
             [
              0.6666666666666666,
              "#ed7953"
             ],
             [
              0.7777777777777778,
              "#fb9f3a"
             ],
             [
              0.8888888888888888,
              "#fdca26"
             ],
             [
              1,
              "#f0f921"
             ]
            ],
            "type": "contour"
           }
          ],
          "contourcarpet": [
           {
            "colorbar": {
             "outlinewidth": 0,
             "ticks": ""
            },
            "type": "contourcarpet"
           }
          ],
          "heatmap": [
           {
            "colorbar": {
             "outlinewidth": 0,
             "ticks": ""
            },
            "colorscale": [
             [
              0,
              "#0d0887"
             ],
             [
              0.1111111111111111,
              "#46039f"
             ],
             [
              0.2222222222222222,
              "#7201a8"
             ],
             [
              0.3333333333333333,
              "#9c179e"
             ],
             [
              0.4444444444444444,
              "#bd3786"
             ],
             [
              0.5555555555555556,
              "#d8576b"
             ],
             [
              0.6666666666666666,
              "#ed7953"
             ],
             [
              0.7777777777777778,
              "#fb9f3a"
             ],
             [
              0.8888888888888888,
              "#fdca26"
             ],
             [
              1,
              "#f0f921"
             ]
            ],
            "type": "heatmap"
           }
          ],
          "heatmapgl": [
           {
            "colorbar": {
             "outlinewidth": 0,
             "ticks": ""
            },
            "colorscale": [
             [
              0,
              "#0d0887"
             ],
             [
              0.1111111111111111,
              "#46039f"
             ],
             [
              0.2222222222222222,
              "#7201a8"
             ],
             [
              0.3333333333333333,
              "#9c179e"
             ],
             [
              0.4444444444444444,
              "#bd3786"
             ],
             [
              0.5555555555555556,
              "#d8576b"
             ],
             [
              0.6666666666666666,
              "#ed7953"
             ],
             [
              0.7777777777777778,
              "#fb9f3a"
             ],
             [
              0.8888888888888888,
              "#fdca26"
             ],
             [
              1,
              "#f0f921"
             ]
            ],
            "type": "heatmapgl"
           }
          ],
          "histogram": [
           {
            "marker": {
             "pattern": {
              "fillmode": "overlay",
              "size": 10,
              "solidity": 0.2
             }
            },
            "type": "histogram"
           }
          ],
          "histogram2d": [
           {
            "colorbar": {
             "outlinewidth": 0,
             "ticks": ""
            },
            "colorscale": [
             [
              0,
              "#0d0887"
             ],
             [
              0.1111111111111111,
              "#46039f"
             ],
             [
              0.2222222222222222,
              "#7201a8"
             ],
             [
              0.3333333333333333,
              "#9c179e"
             ],
             [
              0.4444444444444444,
              "#bd3786"
             ],
             [
              0.5555555555555556,
              "#d8576b"
             ],
             [
              0.6666666666666666,
              "#ed7953"
             ],
             [
              0.7777777777777778,
              "#fb9f3a"
             ],
             [
              0.8888888888888888,
              "#fdca26"
             ],
             [
              1,
              "#f0f921"
             ]
            ],
            "type": "histogram2d"
           }
          ],
          "histogram2dcontour": [
           {
            "colorbar": {
             "outlinewidth": 0,
             "ticks": ""
            },
            "colorscale": [
             [
              0,
              "#0d0887"
             ],
             [
              0.1111111111111111,
              "#46039f"
             ],
             [
              0.2222222222222222,
              "#7201a8"
             ],
             [
              0.3333333333333333,
              "#9c179e"
             ],
             [
              0.4444444444444444,
              "#bd3786"
             ],
             [
              0.5555555555555556,
              "#d8576b"
             ],
             [
              0.6666666666666666,
              "#ed7953"
             ],
             [
              0.7777777777777778,
              "#fb9f3a"
             ],
             [
              0.8888888888888888,
              "#fdca26"
             ],
             [
              1,
              "#f0f921"
             ]
            ],
            "type": "histogram2dcontour"
           }
          ],
          "mesh3d": [
           {
            "colorbar": {
             "outlinewidth": 0,
             "ticks": ""
            },
            "type": "mesh3d"
           }
          ],
          "parcoords": [
           {
            "line": {
             "colorbar": {
              "outlinewidth": 0,
              "ticks": ""
             }
            },
            "type": "parcoords"
           }
          ],
          "pie": [
           {
            "automargin": true,
            "type": "pie"
           }
          ],
          "scatter": [
           {
            "fillpattern": {
             "fillmode": "overlay",
             "size": 10,
             "solidity": 0.2
            },
            "type": "scatter"
           }
          ],
          "scatter3d": [
           {
            "line": {
             "colorbar": {
              "outlinewidth": 0,
              "ticks": ""
             }
            },
            "marker": {
             "colorbar": {
              "outlinewidth": 0,
              "ticks": ""
             }
            },
            "type": "scatter3d"
           }
          ],
          "scattercarpet": [
           {
            "marker": {
             "colorbar": {
              "outlinewidth": 0,
              "ticks": ""
             }
            },
            "type": "scattercarpet"
           }
          ],
          "scattergeo": [
           {
            "marker": {
             "colorbar": {
              "outlinewidth": 0,
              "ticks": ""
             }
            },
            "type": "scattergeo"
           }
          ],
          "scattergl": [
           {
            "marker": {
             "colorbar": {
              "outlinewidth": 0,
              "ticks": ""
             }
            },
            "type": "scattergl"
           }
          ],
          "scattermapbox": [
           {
            "marker": {
             "colorbar": {
              "outlinewidth": 0,
              "ticks": ""
             }
            },
            "type": "scattermapbox"
           }
          ],
          "scatterpolar": [
           {
            "marker": {
             "colorbar": {
              "outlinewidth": 0,
              "ticks": ""
             }
            },
            "type": "scatterpolar"
           }
          ],
          "scatterpolargl": [
           {
            "marker": {
             "colorbar": {
              "outlinewidth": 0,
              "ticks": ""
             }
            },
            "type": "scatterpolargl"
           }
          ],
          "scatterternary": [
           {
            "marker": {
             "colorbar": {
              "outlinewidth": 0,
              "ticks": ""
             }
            },
            "type": "scatterternary"
           }
          ],
          "surface": [
           {
            "colorbar": {
             "outlinewidth": 0,
             "ticks": ""
            },
            "colorscale": [
             [
              0,
              "#0d0887"
             ],
             [
              0.1111111111111111,
              "#46039f"
             ],
             [
              0.2222222222222222,
              "#7201a8"
             ],
             [
              0.3333333333333333,
              "#9c179e"
             ],
             [
              0.4444444444444444,
              "#bd3786"
             ],
             [
              0.5555555555555556,
              "#d8576b"
             ],
             [
              0.6666666666666666,
              "#ed7953"
             ],
             [
              0.7777777777777778,
              "#fb9f3a"
             ],
             [
              0.8888888888888888,
              "#fdca26"
             ],
             [
              1,
              "#f0f921"
             ]
            ],
            "type": "surface"
           }
          ],
          "table": [
           {
            "cells": {
             "fill": {
              "color": "#EBF0F8"
             },
             "line": {
              "color": "white"
             }
            },
            "header": {
             "fill": {
              "color": "#C8D4E3"
             },
             "line": {
              "color": "white"
             }
            },
            "type": "table"
           }
          ]
         },
         "layout": {
          "annotationdefaults": {
           "arrowcolor": "#2a3f5f",
           "arrowhead": 0,
           "arrowwidth": 1
          },
          "autotypenumbers": "strict",
          "coloraxis": {
           "colorbar": {
            "outlinewidth": 0,
            "ticks": ""
           }
          },
          "colorscale": {
           "diverging": [
            [
             0,
             "#8e0152"
            ],
            [
             0.1,
             "#c51b7d"
            ],
            [
             0.2,
             "#de77ae"
            ],
            [
             0.3,
             "#f1b6da"
            ],
            [
             0.4,
             "#fde0ef"
            ],
            [
             0.5,
             "#f7f7f7"
            ],
            [
             0.6,
             "#e6f5d0"
            ],
            [
             0.7,
             "#b8e186"
            ],
            [
             0.8,
             "#7fbc41"
            ],
            [
             0.9,
             "#4d9221"
            ],
            [
             1,
             "#276419"
            ]
           ],
           "sequential": [
            [
             0,
             "#0d0887"
            ],
            [
             0.1111111111111111,
             "#46039f"
            ],
            [
             0.2222222222222222,
             "#7201a8"
            ],
            [
             0.3333333333333333,
             "#9c179e"
            ],
            [
             0.4444444444444444,
             "#bd3786"
            ],
            [
             0.5555555555555556,
             "#d8576b"
            ],
            [
             0.6666666666666666,
             "#ed7953"
            ],
            [
             0.7777777777777778,
             "#fb9f3a"
            ],
            [
             0.8888888888888888,
             "#fdca26"
            ],
            [
             1,
             "#f0f921"
            ]
           ],
           "sequentialminus": [
            [
             0,
             "#0d0887"
            ],
            [
             0.1111111111111111,
             "#46039f"
            ],
            [
             0.2222222222222222,
             "#7201a8"
            ],
            [
             0.3333333333333333,
             "#9c179e"
            ],
            [
             0.4444444444444444,
             "#bd3786"
            ],
            [
             0.5555555555555556,
             "#d8576b"
            ],
            [
             0.6666666666666666,
             "#ed7953"
            ],
            [
             0.7777777777777778,
             "#fb9f3a"
            ],
            [
             0.8888888888888888,
             "#fdca26"
            ],
            [
             1,
             "#f0f921"
            ]
           ]
          },
          "colorway": [
           "#636efa",
           "#EF553B",
           "#00cc96",
           "#ab63fa",
           "#FFA15A",
           "#19d3f3",
           "#FF6692",
           "#B6E880",
           "#FF97FF",
           "#FECB52"
          ],
          "font": {
           "color": "#2a3f5f"
          },
          "geo": {
           "bgcolor": "white",
           "lakecolor": "white",
           "landcolor": "#E5ECF6",
           "showlakes": true,
           "showland": true,
           "subunitcolor": "white"
          },
          "hoverlabel": {
           "align": "left"
          },
          "hovermode": "closest",
          "mapbox": {
           "style": "light"
          },
          "paper_bgcolor": "white",
          "plot_bgcolor": "#E5ECF6",
          "polar": {
           "angularaxis": {
            "gridcolor": "white",
            "linecolor": "white",
            "ticks": ""
           },
           "bgcolor": "#E5ECF6",
           "radialaxis": {
            "gridcolor": "white",
            "linecolor": "white",
            "ticks": ""
           }
          },
          "scene": {
           "xaxis": {
            "backgroundcolor": "#E5ECF6",
            "gridcolor": "white",
            "gridwidth": 2,
            "linecolor": "white",
            "showbackground": true,
            "ticks": "",
            "zerolinecolor": "white"
           },
           "yaxis": {
            "backgroundcolor": "#E5ECF6",
            "gridcolor": "white",
            "gridwidth": 2,
            "linecolor": "white",
            "showbackground": true,
            "ticks": "",
            "zerolinecolor": "white"
           },
           "zaxis": {
            "backgroundcolor": "#E5ECF6",
            "gridcolor": "white",
            "gridwidth": 2,
            "linecolor": "white",
            "showbackground": true,
            "ticks": "",
            "zerolinecolor": "white"
           }
          },
          "shapedefaults": {
           "line": {
            "color": "#2a3f5f"
           }
          },
          "ternary": {
           "aaxis": {
            "gridcolor": "white",
            "linecolor": "white",
            "ticks": ""
           },
           "baxis": {
            "gridcolor": "white",
            "linecolor": "white",
            "ticks": ""
           },
           "bgcolor": "#E5ECF6",
           "caxis": {
            "gridcolor": "white",
            "linecolor": "white",
            "ticks": ""
           }
          },
          "title": {
           "x": 0.05
          },
          "xaxis": {
           "automargin": true,
           "gridcolor": "white",
           "linecolor": "white",
           "ticks": "",
           "title": {
            "standoff": 15
           },
           "zerolinecolor": "white",
           "zerolinewidth": 2
          },
          "yaxis": {
           "automargin": true,
           "gridcolor": "white",
           "linecolor": "white",
           "ticks": "",
           "title": {
            "standoff": 15
           },
           "zerolinecolor": "white",
           "zerolinewidth": 2
          }
         }
        },
        "title": {
         "text": "Top 10 paises con casos confirmados"
        },
        "xaxis": {
         "anchor": "y",
         "domain": [
          0,
          1
         ],
         "title": {
          "text": "Casos confirmados"
         }
        },
        "yaxis": {
         "anchor": "x",
         "categoryorder": "total ascending",
         "domain": [
          0,
          1
         ],
         "title": {
          "text": "País"
         }
        }
       }
      }
     },
     "metadata": {},
     "output_type": "display_data"
    }
   ],
   "source": [
    "def horizontal_bar_chart(df, x, y, title, x_label, y_label, color):\n",
    "    fig = px.bar(df, x=x, y=y, orientation='h', title=title, \n",
    "                 labels={x.name: x_label,\n",
    "                         y.name: y_label}, color_discrete_sequence=[color])\n",
    "    fig.update_layout(yaxis={'categoryorder': 'total ascending'})\n",
    "    fig.show()\n",
    "    \n",
    "TotalConfirmed_top10 = df_clean.groupby('Country').max().sort_values('TotalConfirmed', ascending=False)[:10]\n",
    "horizontal_bar_chart(TotalConfirmed_top10,TotalConfirmed_top10.TotalConfirmed, TotalConfirmed_top10.index,\n",
    "                     'Top 10 paises con casos confirmados', 'Casos confirmados','País','green')"
   ]
  },
  {
   "cell_type": "code",
   "execution_count": 198,
   "metadata": {},
   "outputs": [
    {
     "data": {
      "application/vnd.plotly.v1+json": {
       "config": {
        "plotlyServerURL": "https://plot.ly"
       },
       "data": [
        {
         "alignmentgroup": "True",
         "hovertemplate": "Muertes confirmadas=%{x}<br>País=%{y}<extra></extra>",
         "legendgroup": "",
         "marker": {
          "color": "black",
          "pattern": {
           "shape": ""
          }
         },
         "name": "",
         "offsetgroup": "",
         "orientation": "h",
         "showlegend": false,
         "textposition": "auto",
         "type": "bar",
         "x": [
          1123836,
          699276,
          530779,
          388478,
          333188,
          220721,
          219539,
          188322,
          168935,
          166176
         ],
         "xaxis": "x",
         "y": [
          "United States of America",
          "Brazil",
          "India",
          "Russian Federation",
          "Mexico",
          "United Kingdom",
          "Peru",
          "Italy",
          "Germany",
          "France"
         ],
         "yaxis": "y"
        }
       ],
       "layout": {
        "barmode": "relative",
        "legend": {
         "tracegroupgap": 0
        },
        "template": {
         "data": {
          "bar": [
           {
            "error_x": {
             "color": "#2a3f5f"
            },
            "error_y": {
             "color": "#2a3f5f"
            },
            "marker": {
             "line": {
              "color": "#E5ECF6",
              "width": 0.5
             },
             "pattern": {
              "fillmode": "overlay",
              "size": 10,
              "solidity": 0.2
             }
            },
            "type": "bar"
           }
          ],
          "barpolar": [
           {
            "marker": {
             "line": {
              "color": "#E5ECF6",
              "width": 0.5
             },
             "pattern": {
              "fillmode": "overlay",
              "size": 10,
              "solidity": 0.2
             }
            },
            "type": "barpolar"
           }
          ],
          "carpet": [
           {
            "aaxis": {
             "endlinecolor": "#2a3f5f",
             "gridcolor": "white",
             "linecolor": "white",
             "minorgridcolor": "white",
             "startlinecolor": "#2a3f5f"
            },
            "baxis": {
             "endlinecolor": "#2a3f5f",
             "gridcolor": "white",
             "linecolor": "white",
             "minorgridcolor": "white",
             "startlinecolor": "#2a3f5f"
            },
            "type": "carpet"
           }
          ],
          "choropleth": [
           {
            "colorbar": {
             "outlinewidth": 0,
             "ticks": ""
            },
            "type": "choropleth"
           }
          ],
          "contour": [
           {
            "colorbar": {
             "outlinewidth": 0,
             "ticks": ""
            },
            "colorscale": [
             [
              0,
              "#0d0887"
             ],
             [
              0.1111111111111111,
              "#46039f"
             ],
             [
              0.2222222222222222,
              "#7201a8"
             ],
             [
              0.3333333333333333,
              "#9c179e"
             ],
             [
              0.4444444444444444,
              "#bd3786"
             ],
             [
              0.5555555555555556,
              "#d8576b"
             ],
             [
              0.6666666666666666,
              "#ed7953"
             ],
             [
              0.7777777777777778,
              "#fb9f3a"
             ],
             [
              0.8888888888888888,
              "#fdca26"
             ],
             [
              1,
              "#f0f921"
             ]
            ],
            "type": "contour"
           }
          ],
          "contourcarpet": [
           {
            "colorbar": {
             "outlinewidth": 0,
             "ticks": ""
            },
            "type": "contourcarpet"
           }
          ],
          "heatmap": [
           {
            "colorbar": {
             "outlinewidth": 0,
             "ticks": ""
            },
            "colorscale": [
             [
              0,
              "#0d0887"
             ],
             [
              0.1111111111111111,
              "#46039f"
             ],
             [
              0.2222222222222222,
              "#7201a8"
             ],
             [
              0.3333333333333333,
              "#9c179e"
             ],
             [
              0.4444444444444444,
              "#bd3786"
             ],
             [
              0.5555555555555556,
              "#d8576b"
             ],
             [
              0.6666666666666666,
              "#ed7953"
             ],
             [
              0.7777777777777778,
              "#fb9f3a"
             ],
             [
              0.8888888888888888,
              "#fdca26"
             ],
             [
              1,
              "#f0f921"
             ]
            ],
            "type": "heatmap"
           }
          ],
          "heatmapgl": [
           {
            "colorbar": {
             "outlinewidth": 0,
             "ticks": ""
            },
            "colorscale": [
             [
              0,
              "#0d0887"
             ],
             [
              0.1111111111111111,
              "#46039f"
             ],
             [
              0.2222222222222222,
              "#7201a8"
             ],
             [
              0.3333333333333333,
              "#9c179e"
             ],
             [
              0.4444444444444444,
              "#bd3786"
             ],
             [
              0.5555555555555556,
              "#d8576b"
             ],
             [
              0.6666666666666666,
              "#ed7953"
             ],
             [
              0.7777777777777778,
              "#fb9f3a"
             ],
             [
              0.8888888888888888,
              "#fdca26"
             ],
             [
              1,
              "#f0f921"
             ]
            ],
            "type": "heatmapgl"
           }
          ],
          "histogram": [
           {
            "marker": {
             "pattern": {
              "fillmode": "overlay",
              "size": 10,
              "solidity": 0.2
             }
            },
            "type": "histogram"
           }
          ],
          "histogram2d": [
           {
            "colorbar": {
             "outlinewidth": 0,
             "ticks": ""
            },
            "colorscale": [
             [
              0,
              "#0d0887"
             ],
             [
              0.1111111111111111,
              "#46039f"
             ],
             [
              0.2222222222222222,
              "#7201a8"
             ],
             [
              0.3333333333333333,
              "#9c179e"
             ],
             [
              0.4444444444444444,
              "#bd3786"
             ],
             [
              0.5555555555555556,
              "#d8576b"
             ],
             [
              0.6666666666666666,
              "#ed7953"
             ],
             [
              0.7777777777777778,
              "#fb9f3a"
             ],
             [
              0.8888888888888888,
              "#fdca26"
             ],
             [
              1,
              "#f0f921"
             ]
            ],
            "type": "histogram2d"
           }
          ],
          "histogram2dcontour": [
           {
            "colorbar": {
             "outlinewidth": 0,
             "ticks": ""
            },
            "colorscale": [
             [
              0,
              "#0d0887"
             ],
             [
              0.1111111111111111,
              "#46039f"
             ],
             [
              0.2222222222222222,
              "#7201a8"
             ],
             [
              0.3333333333333333,
              "#9c179e"
             ],
             [
              0.4444444444444444,
              "#bd3786"
             ],
             [
              0.5555555555555556,
              "#d8576b"
             ],
             [
              0.6666666666666666,
              "#ed7953"
             ],
             [
              0.7777777777777778,
              "#fb9f3a"
             ],
             [
              0.8888888888888888,
              "#fdca26"
             ],
             [
              1,
              "#f0f921"
             ]
            ],
            "type": "histogram2dcontour"
           }
          ],
          "mesh3d": [
           {
            "colorbar": {
             "outlinewidth": 0,
             "ticks": ""
            },
            "type": "mesh3d"
           }
          ],
          "parcoords": [
           {
            "line": {
             "colorbar": {
              "outlinewidth": 0,
              "ticks": ""
             }
            },
            "type": "parcoords"
           }
          ],
          "pie": [
           {
            "automargin": true,
            "type": "pie"
           }
          ],
          "scatter": [
           {
            "fillpattern": {
             "fillmode": "overlay",
             "size": 10,
             "solidity": 0.2
            },
            "type": "scatter"
           }
          ],
          "scatter3d": [
           {
            "line": {
             "colorbar": {
              "outlinewidth": 0,
              "ticks": ""
             }
            },
            "marker": {
             "colorbar": {
              "outlinewidth": 0,
              "ticks": ""
             }
            },
            "type": "scatter3d"
           }
          ],
          "scattercarpet": [
           {
            "marker": {
             "colorbar": {
              "outlinewidth": 0,
              "ticks": ""
             }
            },
            "type": "scattercarpet"
           }
          ],
          "scattergeo": [
           {
            "marker": {
             "colorbar": {
              "outlinewidth": 0,
              "ticks": ""
             }
            },
            "type": "scattergeo"
           }
          ],
          "scattergl": [
           {
            "marker": {
             "colorbar": {
              "outlinewidth": 0,
              "ticks": ""
             }
            },
            "type": "scattergl"
           }
          ],
          "scattermapbox": [
           {
            "marker": {
             "colorbar": {
              "outlinewidth": 0,
              "ticks": ""
             }
            },
            "type": "scattermapbox"
           }
          ],
          "scatterpolar": [
           {
            "marker": {
             "colorbar": {
              "outlinewidth": 0,
              "ticks": ""
             }
            },
            "type": "scatterpolar"
           }
          ],
          "scatterpolargl": [
           {
            "marker": {
             "colorbar": {
              "outlinewidth": 0,
              "ticks": ""
             }
            },
            "type": "scatterpolargl"
           }
          ],
          "scatterternary": [
           {
            "marker": {
             "colorbar": {
              "outlinewidth": 0,
              "ticks": ""
             }
            },
            "type": "scatterternary"
           }
          ],
          "surface": [
           {
            "colorbar": {
             "outlinewidth": 0,
             "ticks": ""
            },
            "colorscale": [
             [
              0,
              "#0d0887"
             ],
             [
              0.1111111111111111,
              "#46039f"
             ],
             [
              0.2222222222222222,
              "#7201a8"
             ],
             [
              0.3333333333333333,
              "#9c179e"
             ],
             [
              0.4444444444444444,
              "#bd3786"
             ],
             [
              0.5555555555555556,
              "#d8576b"
             ],
             [
              0.6666666666666666,
              "#ed7953"
             ],
             [
              0.7777777777777778,
              "#fb9f3a"
             ],
             [
              0.8888888888888888,
              "#fdca26"
             ],
             [
              1,
              "#f0f921"
             ]
            ],
            "type": "surface"
           }
          ],
          "table": [
           {
            "cells": {
             "fill": {
              "color": "#EBF0F8"
             },
             "line": {
              "color": "white"
             }
            },
            "header": {
             "fill": {
              "color": "#C8D4E3"
             },
             "line": {
              "color": "white"
             }
            },
            "type": "table"
           }
          ]
         },
         "layout": {
          "annotationdefaults": {
           "arrowcolor": "#2a3f5f",
           "arrowhead": 0,
           "arrowwidth": 1
          },
          "autotypenumbers": "strict",
          "coloraxis": {
           "colorbar": {
            "outlinewidth": 0,
            "ticks": ""
           }
          },
          "colorscale": {
           "diverging": [
            [
             0,
             "#8e0152"
            ],
            [
             0.1,
             "#c51b7d"
            ],
            [
             0.2,
             "#de77ae"
            ],
            [
             0.3,
             "#f1b6da"
            ],
            [
             0.4,
             "#fde0ef"
            ],
            [
             0.5,
             "#f7f7f7"
            ],
            [
             0.6,
             "#e6f5d0"
            ],
            [
             0.7,
             "#b8e186"
            ],
            [
             0.8,
             "#7fbc41"
            ],
            [
             0.9,
             "#4d9221"
            ],
            [
             1,
             "#276419"
            ]
           ],
           "sequential": [
            [
             0,
             "#0d0887"
            ],
            [
             0.1111111111111111,
             "#46039f"
            ],
            [
             0.2222222222222222,
             "#7201a8"
            ],
            [
             0.3333333333333333,
             "#9c179e"
            ],
            [
             0.4444444444444444,
             "#bd3786"
            ],
            [
             0.5555555555555556,
             "#d8576b"
            ],
            [
             0.6666666666666666,
             "#ed7953"
            ],
            [
             0.7777777777777778,
             "#fb9f3a"
            ],
            [
             0.8888888888888888,
             "#fdca26"
            ],
            [
             1,
             "#f0f921"
            ]
           ],
           "sequentialminus": [
            [
             0,
             "#0d0887"
            ],
            [
             0.1111111111111111,
             "#46039f"
            ],
            [
             0.2222222222222222,
             "#7201a8"
            ],
            [
             0.3333333333333333,
             "#9c179e"
            ],
            [
             0.4444444444444444,
             "#bd3786"
            ],
            [
             0.5555555555555556,
             "#d8576b"
            ],
            [
             0.6666666666666666,
             "#ed7953"
            ],
            [
             0.7777777777777778,
             "#fb9f3a"
            ],
            [
             0.8888888888888888,
             "#fdca26"
            ],
            [
             1,
             "#f0f921"
            ]
           ]
          },
          "colorway": [
           "#636efa",
           "#EF553B",
           "#00cc96",
           "#ab63fa",
           "#FFA15A",
           "#19d3f3",
           "#FF6692",
           "#B6E880",
           "#FF97FF",
           "#FECB52"
          ],
          "font": {
           "color": "#2a3f5f"
          },
          "geo": {
           "bgcolor": "white",
           "lakecolor": "white",
           "landcolor": "#E5ECF6",
           "showlakes": true,
           "showland": true,
           "subunitcolor": "white"
          },
          "hoverlabel": {
           "align": "left"
          },
          "hovermode": "closest",
          "mapbox": {
           "style": "light"
          },
          "paper_bgcolor": "white",
          "plot_bgcolor": "#E5ECF6",
          "polar": {
           "angularaxis": {
            "gridcolor": "white",
            "linecolor": "white",
            "ticks": ""
           },
           "bgcolor": "#E5ECF6",
           "radialaxis": {
            "gridcolor": "white",
            "linecolor": "white",
            "ticks": ""
           }
          },
          "scene": {
           "xaxis": {
            "backgroundcolor": "#E5ECF6",
            "gridcolor": "white",
            "gridwidth": 2,
            "linecolor": "white",
            "showbackground": true,
            "ticks": "",
            "zerolinecolor": "white"
           },
           "yaxis": {
            "backgroundcolor": "#E5ECF6",
            "gridcolor": "white",
            "gridwidth": 2,
            "linecolor": "white",
            "showbackground": true,
            "ticks": "",
            "zerolinecolor": "white"
           },
           "zaxis": {
            "backgroundcolor": "#E5ECF6",
            "gridcolor": "white",
            "gridwidth": 2,
            "linecolor": "white",
            "showbackground": true,
            "ticks": "",
            "zerolinecolor": "white"
           }
          },
          "shapedefaults": {
           "line": {
            "color": "#2a3f5f"
           }
          },
          "ternary": {
           "aaxis": {
            "gridcolor": "white",
            "linecolor": "white",
            "ticks": ""
           },
           "baxis": {
            "gridcolor": "white",
            "linecolor": "white",
            "ticks": ""
           },
           "bgcolor": "#E5ECF6",
           "caxis": {
            "gridcolor": "white",
            "linecolor": "white",
            "ticks": ""
           }
          },
          "title": {
           "x": 0.05
          },
          "xaxis": {
           "automargin": true,
           "gridcolor": "white",
           "linecolor": "white",
           "ticks": "",
           "title": {
            "standoff": 15
           },
           "zerolinecolor": "white",
           "zerolinewidth": 2
          },
          "yaxis": {
           "automargin": true,
           "gridcolor": "white",
           "linecolor": "white",
           "ticks": "",
           "title": {
            "standoff": 15
           },
           "zerolinecolor": "white",
           "zerolinewidth": 2
          }
         }
        },
        "title": {
         "text": "Top 10 paises con casos de muertes confirmados"
        },
        "xaxis": {
         "anchor": "y",
         "domain": [
          0,
          1
         ],
         "title": {
          "text": "Muertes confirmadas"
         }
        },
        "yaxis": {
         "anchor": "x",
         "categoryorder": "total ascending",
         "domain": [
          0,
          1
         ],
         "title": {
          "text": "País"
         }
        }
       }
      }
     },
     "metadata": {},
     "output_type": "display_data"
    }
   ],
   "source": [
    "TotalDeaths_top10 = df_clean.groupby('Country').max().sort_values('TotalDeaths', ascending=False)[:10]\n",
    "horizontal_bar_chart(TotalDeaths_top10,TotalDeaths_top10.TotalDeaths, TotalDeaths_top10.index,\n",
    "                     'Top 10 paises con casos de muertes confirmados', 'Muertes confirmadas','País','black')"
   ]
  },
  {
   "cell_type": "code",
   "execution_count": 199,
   "metadata": {},
   "outputs": [
    {
     "data": {
      "application/vnd.plotly.v1+json": {
       "config": {
        "plotlyServerURL": "https://plot.ly"
       },
       "data": [
        {
         "alignmentgroup": "True",
         "hovertemplate": "Nuevos fallecimientos=%{x}<br>País=%{y}<extra></extra>",
         "legendgroup": "",
         "marker": {
          "color": "red",
          "pattern": {
           "shape": ""
          }
         },
         "name": "",
         "offsetgroup": "",
         "orientation": "h",
         "showlegend": false,
         "textposition": "auto",
         "type": "bar",
         "x": [
          590,
          127,
          115,
          86,
          80,
          46,
          39,
          38,
          31,
          21
         ],
         "xaxis": "x",
         "y": [
          "United States of America",
          "Germany",
          "Australia",
          "Canada",
          "Japan",
          "Sweden",
          "Belgium",
          "Russian Federation",
          "Finland",
          "Poland"
         ],
         "yaxis": "y"
        }
       ],
       "layout": {
        "barmode": "relative",
        "legend": {
         "tracegroupgap": 0
        },
        "template": {
         "data": {
          "bar": [
           {
            "error_x": {
             "color": "#2a3f5f"
            },
            "error_y": {
             "color": "#2a3f5f"
            },
            "marker": {
             "line": {
              "color": "#E5ECF6",
              "width": 0.5
             },
             "pattern": {
              "fillmode": "overlay",
              "size": 10,
              "solidity": 0.2
             }
            },
            "type": "bar"
           }
          ],
          "barpolar": [
           {
            "marker": {
             "line": {
              "color": "#E5ECF6",
              "width": 0.5
             },
             "pattern": {
              "fillmode": "overlay",
              "size": 10,
              "solidity": 0.2
             }
            },
            "type": "barpolar"
           }
          ],
          "carpet": [
           {
            "aaxis": {
             "endlinecolor": "#2a3f5f",
             "gridcolor": "white",
             "linecolor": "white",
             "minorgridcolor": "white",
             "startlinecolor": "#2a3f5f"
            },
            "baxis": {
             "endlinecolor": "#2a3f5f",
             "gridcolor": "white",
             "linecolor": "white",
             "minorgridcolor": "white",
             "startlinecolor": "#2a3f5f"
            },
            "type": "carpet"
           }
          ],
          "choropleth": [
           {
            "colorbar": {
             "outlinewidth": 0,
             "ticks": ""
            },
            "type": "choropleth"
           }
          ],
          "contour": [
           {
            "colorbar": {
             "outlinewidth": 0,
             "ticks": ""
            },
            "colorscale": [
             [
              0,
              "#0d0887"
             ],
             [
              0.1111111111111111,
              "#46039f"
             ],
             [
              0.2222222222222222,
              "#7201a8"
             ],
             [
              0.3333333333333333,
              "#9c179e"
             ],
             [
              0.4444444444444444,
              "#bd3786"
             ],
             [
              0.5555555555555556,
              "#d8576b"
             ],
             [
              0.6666666666666666,
              "#ed7953"
             ],
             [
              0.7777777777777778,
              "#fb9f3a"
             ],
             [
              0.8888888888888888,
              "#fdca26"
             ],
             [
              1,
              "#f0f921"
             ]
            ],
            "type": "contour"
           }
          ],
          "contourcarpet": [
           {
            "colorbar": {
             "outlinewidth": 0,
             "ticks": ""
            },
            "type": "contourcarpet"
           }
          ],
          "heatmap": [
           {
            "colorbar": {
             "outlinewidth": 0,
             "ticks": ""
            },
            "colorscale": [
             [
              0,
              "#0d0887"
             ],
             [
              0.1111111111111111,
              "#46039f"
             ],
             [
              0.2222222222222222,
              "#7201a8"
             ],
             [
              0.3333333333333333,
              "#9c179e"
             ],
             [
              0.4444444444444444,
              "#bd3786"
             ],
             [
              0.5555555555555556,
              "#d8576b"
             ],
             [
              0.6666666666666666,
              "#ed7953"
             ],
             [
              0.7777777777777778,
              "#fb9f3a"
             ],
             [
              0.8888888888888888,
              "#fdca26"
             ],
             [
              1,
              "#f0f921"
             ]
            ],
            "type": "heatmap"
           }
          ],
          "heatmapgl": [
           {
            "colorbar": {
             "outlinewidth": 0,
             "ticks": ""
            },
            "colorscale": [
             [
              0,
              "#0d0887"
             ],
             [
              0.1111111111111111,
              "#46039f"
             ],
             [
              0.2222222222222222,
              "#7201a8"
             ],
             [
              0.3333333333333333,
              "#9c179e"
             ],
             [
              0.4444444444444444,
              "#bd3786"
             ],
             [
              0.5555555555555556,
              "#d8576b"
             ],
             [
              0.6666666666666666,
              "#ed7953"
             ],
             [
              0.7777777777777778,
              "#fb9f3a"
             ],
             [
              0.8888888888888888,
              "#fdca26"
             ],
             [
              1,
              "#f0f921"
             ]
            ],
            "type": "heatmapgl"
           }
          ],
          "histogram": [
           {
            "marker": {
             "pattern": {
              "fillmode": "overlay",
              "size": 10,
              "solidity": 0.2
             }
            },
            "type": "histogram"
           }
          ],
          "histogram2d": [
           {
            "colorbar": {
             "outlinewidth": 0,
             "ticks": ""
            },
            "colorscale": [
             [
              0,
              "#0d0887"
             ],
             [
              0.1111111111111111,
              "#46039f"
             ],
             [
              0.2222222222222222,
              "#7201a8"
             ],
             [
              0.3333333333333333,
              "#9c179e"
             ],
             [
              0.4444444444444444,
              "#bd3786"
             ],
             [
              0.5555555555555556,
              "#d8576b"
             ],
             [
              0.6666666666666666,
              "#ed7953"
             ],
             [
              0.7777777777777778,
              "#fb9f3a"
             ],
             [
              0.8888888888888888,
              "#fdca26"
             ],
             [
              1,
              "#f0f921"
             ]
            ],
            "type": "histogram2d"
           }
          ],
          "histogram2dcontour": [
           {
            "colorbar": {
             "outlinewidth": 0,
             "ticks": ""
            },
            "colorscale": [
             [
              0,
              "#0d0887"
             ],
             [
              0.1111111111111111,
              "#46039f"
             ],
             [
              0.2222222222222222,
              "#7201a8"
             ],
             [
              0.3333333333333333,
              "#9c179e"
             ],
             [
              0.4444444444444444,
              "#bd3786"
             ],
             [
              0.5555555555555556,
              "#d8576b"
             ],
             [
              0.6666666666666666,
              "#ed7953"
             ],
             [
              0.7777777777777778,
              "#fb9f3a"
             ],
             [
              0.8888888888888888,
              "#fdca26"
             ],
             [
              1,
              "#f0f921"
             ]
            ],
            "type": "histogram2dcontour"
           }
          ],
          "mesh3d": [
           {
            "colorbar": {
             "outlinewidth": 0,
             "ticks": ""
            },
            "type": "mesh3d"
           }
          ],
          "parcoords": [
           {
            "line": {
             "colorbar": {
              "outlinewidth": 0,
              "ticks": ""
             }
            },
            "type": "parcoords"
           }
          ],
          "pie": [
           {
            "automargin": true,
            "type": "pie"
           }
          ],
          "scatter": [
           {
            "fillpattern": {
             "fillmode": "overlay",
             "size": 10,
             "solidity": 0.2
            },
            "type": "scatter"
           }
          ],
          "scatter3d": [
           {
            "line": {
             "colorbar": {
              "outlinewidth": 0,
              "ticks": ""
             }
            },
            "marker": {
             "colorbar": {
              "outlinewidth": 0,
              "ticks": ""
             }
            },
            "type": "scatter3d"
           }
          ],
          "scattercarpet": [
           {
            "marker": {
             "colorbar": {
              "outlinewidth": 0,
              "ticks": ""
             }
            },
            "type": "scattercarpet"
           }
          ],
          "scattergeo": [
           {
            "marker": {
             "colorbar": {
              "outlinewidth": 0,
              "ticks": ""
             }
            },
            "type": "scattergeo"
           }
          ],
          "scattergl": [
           {
            "marker": {
             "colorbar": {
              "outlinewidth": 0,
              "ticks": ""
             }
            },
            "type": "scattergl"
           }
          ],
          "scattermapbox": [
           {
            "marker": {
             "colorbar": {
              "outlinewidth": 0,
              "ticks": ""
             }
            },
            "type": "scattermapbox"
           }
          ],
          "scatterpolar": [
           {
            "marker": {
             "colorbar": {
              "outlinewidth": 0,
              "ticks": ""
             }
            },
            "type": "scatterpolar"
           }
          ],
          "scatterpolargl": [
           {
            "marker": {
             "colorbar": {
              "outlinewidth": 0,
              "ticks": ""
             }
            },
            "type": "scatterpolargl"
           }
          ],
          "scatterternary": [
           {
            "marker": {
             "colorbar": {
              "outlinewidth": 0,
              "ticks": ""
             }
            },
            "type": "scatterternary"
           }
          ],
          "surface": [
           {
            "colorbar": {
             "outlinewidth": 0,
             "ticks": ""
            },
            "colorscale": [
             [
              0,
              "#0d0887"
             ],
             [
              0.1111111111111111,
              "#46039f"
             ],
             [
              0.2222222222222222,
              "#7201a8"
             ],
             [
              0.3333333333333333,
              "#9c179e"
             ],
             [
              0.4444444444444444,
              "#bd3786"
             ],
             [
              0.5555555555555556,
              "#d8576b"
             ],
             [
              0.6666666666666666,
              "#ed7953"
             ],
             [
              0.7777777777777778,
              "#fb9f3a"
             ],
             [
              0.8888888888888888,
              "#fdca26"
             ],
             [
              1,
              "#f0f921"
             ]
            ],
            "type": "surface"
           }
          ],
          "table": [
           {
            "cells": {
             "fill": {
              "color": "#EBF0F8"
             },
             "line": {
              "color": "white"
             }
            },
            "header": {
             "fill": {
              "color": "#C8D4E3"
             },
             "line": {
              "color": "white"
             }
            },
            "type": "table"
           }
          ]
         },
         "layout": {
          "annotationdefaults": {
           "arrowcolor": "#2a3f5f",
           "arrowhead": 0,
           "arrowwidth": 1
          },
          "autotypenumbers": "strict",
          "coloraxis": {
           "colorbar": {
            "outlinewidth": 0,
            "ticks": ""
           }
          },
          "colorscale": {
           "diverging": [
            [
             0,
             "#8e0152"
            ],
            [
             0.1,
             "#c51b7d"
            ],
            [
             0.2,
             "#de77ae"
            ],
            [
             0.3,
             "#f1b6da"
            ],
            [
             0.4,
             "#fde0ef"
            ],
            [
             0.5,
             "#f7f7f7"
            ],
            [
             0.6,
             "#e6f5d0"
            ],
            [
             0.7,
             "#b8e186"
            ],
            [
             0.8,
             "#7fbc41"
            ],
            [
             0.9,
             "#4d9221"
            ],
            [
             1,
             "#276419"
            ]
           ],
           "sequential": [
            [
             0,
             "#0d0887"
            ],
            [
             0.1111111111111111,
             "#46039f"
            ],
            [
             0.2222222222222222,
             "#7201a8"
            ],
            [
             0.3333333333333333,
             "#9c179e"
            ],
            [
             0.4444444444444444,
             "#bd3786"
            ],
            [
             0.5555555555555556,
             "#d8576b"
            ],
            [
             0.6666666666666666,
             "#ed7953"
            ],
            [
             0.7777777777777778,
             "#fb9f3a"
            ],
            [
             0.8888888888888888,
             "#fdca26"
            ],
            [
             1,
             "#f0f921"
            ]
           ],
           "sequentialminus": [
            [
             0,
             "#0d0887"
            ],
            [
             0.1111111111111111,
             "#46039f"
            ],
            [
             0.2222222222222222,
             "#7201a8"
            ],
            [
             0.3333333333333333,
             "#9c179e"
            ],
            [
             0.4444444444444444,
             "#bd3786"
            ],
            [
             0.5555555555555556,
             "#d8576b"
            ],
            [
             0.6666666666666666,
             "#ed7953"
            ],
            [
             0.7777777777777778,
             "#fb9f3a"
            ],
            [
             0.8888888888888888,
             "#fdca26"
            ],
            [
             1,
             "#f0f921"
            ]
           ]
          },
          "colorway": [
           "#636efa",
           "#EF553B",
           "#00cc96",
           "#ab63fa",
           "#FFA15A",
           "#19d3f3",
           "#FF6692",
           "#B6E880",
           "#FF97FF",
           "#FECB52"
          ],
          "font": {
           "color": "#2a3f5f"
          },
          "geo": {
           "bgcolor": "white",
           "lakecolor": "white",
           "landcolor": "#E5ECF6",
           "showlakes": true,
           "showland": true,
           "subunitcolor": "white"
          },
          "hoverlabel": {
           "align": "left"
          },
          "hovermode": "closest",
          "mapbox": {
           "style": "light"
          },
          "paper_bgcolor": "white",
          "plot_bgcolor": "#E5ECF6",
          "polar": {
           "angularaxis": {
            "gridcolor": "white",
            "linecolor": "white",
            "ticks": ""
           },
           "bgcolor": "#E5ECF6",
           "radialaxis": {
            "gridcolor": "white",
            "linecolor": "white",
            "ticks": ""
           }
          },
          "scene": {
           "xaxis": {
            "backgroundcolor": "#E5ECF6",
            "gridcolor": "white",
            "gridwidth": 2,
            "linecolor": "white",
            "showbackground": true,
            "ticks": "",
            "zerolinecolor": "white"
           },
           "yaxis": {
            "backgroundcolor": "#E5ECF6",
            "gridcolor": "white",
            "gridwidth": 2,
            "linecolor": "white",
            "showbackground": true,
            "ticks": "",
            "zerolinecolor": "white"
           },
           "zaxis": {
            "backgroundcolor": "#E5ECF6",
            "gridcolor": "white",
            "gridwidth": 2,
            "linecolor": "white",
            "showbackground": true,
            "ticks": "",
            "zerolinecolor": "white"
           }
          },
          "shapedefaults": {
           "line": {
            "color": "#2a3f5f"
           }
          },
          "ternary": {
           "aaxis": {
            "gridcolor": "white",
            "linecolor": "white",
            "ticks": ""
           },
           "baxis": {
            "gridcolor": "white",
            "linecolor": "white",
            "ticks": ""
           },
           "bgcolor": "#E5ECF6",
           "caxis": {
            "gridcolor": "white",
            "linecolor": "white",
            "ticks": ""
           }
          },
          "title": {
           "x": 0.05
          },
          "xaxis": {
           "automargin": true,
           "gridcolor": "white",
           "linecolor": "white",
           "ticks": "",
           "title": {
            "standoff": 15
           },
           "zerolinecolor": "white",
           "zerolinewidth": 2
          },
          "yaxis": {
           "automargin": true,
           "gridcolor": "white",
           "linecolor": "white",
           "ticks": "",
           "title": {
            "standoff": 15
           },
           "zerolinecolor": "white",
           "zerolinewidth": 2
          }
         }
        },
        "title": {
         "text": "Top 10 paises con nuevos casos de fallecimientos"
        },
        "xaxis": {
         "anchor": "y",
         "domain": [
          0,
          1
         ],
         "title": {
          "text": "Nuevos fallecimientos"
         }
        },
        "yaxis": {
         "anchor": "x",
         "categoryorder": "total ascending",
         "domain": [
          0,
          1
         ],
         "title": {
          "text": "País"
         }
        }
       }
      }
     },
     "metadata": {},
     "output_type": "display_data"
    }
   ],
   "source": [
    "NewDeaths_top10 = df_clean.groupby('Country').max().sort_values('NewDeaths', ascending=False)[:10]\n",
    "horizontal_bar_chart(NewDeaths_top10,NewDeaths_top10.NewDeaths, NewDeaths_top10.index,\n",
    "                     'Top 10 paises con nuevos casos de fallecimientos', 'Nuevos fallecimientos','País','red')"
   ]
  },
  {
   "cell_type": "code",
   "execution_count": 200,
   "metadata": {},
   "outputs": [
    {
     "data": {
      "application/vnd.plotly.v1+json": {
       "config": {
        "plotlyServerURL": "https://plot.ly"
       },
       "data": [
        {
         "alignmentgroup": "True",
         "hovertemplate": "Nuevos casos confirmados=%{x}<br>País=%{y}<extra></extra>",
         "legendgroup": "",
         "marker": {
          "color": "Blue",
          "pattern": {
           "shape": ""
          }
         },
         "name": "",
         "offsetgroup": "",
         "orientation": "h",
         "showlegend": false,
         "textposition": "auto",
         "type": "bar",
         "x": [
          46931,
          28783,
          13926,
          12385,
          11570,
          10335,
          9834,
          7829,
          6308,
          5283
         ],
         "xaxis": "x",
         "y": [
          "United States of America",
          "United Kingdom",
          "Australia",
          "Russian Federation",
          "Belgium",
          "Korea (South)",
          "Japan",
          "Germany",
          "France",
          "Austria"
         ],
         "yaxis": "y"
        }
       ],
       "layout": {
        "barmode": "relative",
        "legend": {
         "tracegroupgap": 0
        },
        "template": {
         "data": {
          "bar": [
           {
            "error_x": {
             "color": "#2a3f5f"
            },
            "error_y": {
             "color": "#2a3f5f"
            },
            "marker": {
             "line": {
              "color": "#E5ECF6",
              "width": 0.5
             },
             "pattern": {
              "fillmode": "overlay",
              "size": 10,
              "solidity": 0.2
             }
            },
            "type": "bar"
           }
          ],
          "barpolar": [
           {
            "marker": {
             "line": {
              "color": "#E5ECF6",
              "width": 0.5
             },
             "pattern": {
              "fillmode": "overlay",
              "size": 10,
              "solidity": 0.2
             }
            },
            "type": "barpolar"
           }
          ],
          "carpet": [
           {
            "aaxis": {
             "endlinecolor": "#2a3f5f",
             "gridcolor": "white",
             "linecolor": "white",
             "minorgridcolor": "white",
             "startlinecolor": "#2a3f5f"
            },
            "baxis": {
             "endlinecolor": "#2a3f5f",
             "gridcolor": "white",
             "linecolor": "white",
             "minorgridcolor": "white",
             "startlinecolor": "#2a3f5f"
            },
            "type": "carpet"
           }
          ],
          "choropleth": [
           {
            "colorbar": {
             "outlinewidth": 0,
             "ticks": ""
            },
            "type": "choropleth"
           }
          ],
          "contour": [
           {
            "colorbar": {
             "outlinewidth": 0,
             "ticks": ""
            },
            "colorscale": [
             [
              0,
              "#0d0887"
             ],
             [
              0.1111111111111111,
              "#46039f"
             ],
             [
              0.2222222222222222,
              "#7201a8"
             ],
             [
              0.3333333333333333,
              "#9c179e"
             ],
             [
              0.4444444444444444,
              "#bd3786"
             ],
             [
              0.5555555555555556,
              "#d8576b"
             ],
             [
              0.6666666666666666,
              "#ed7953"
             ],
             [
              0.7777777777777778,
              "#fb9f3a"
             ],
             [
              0.8888888888888888,
              "#fdca26"
             ],
             [
              1,
              "#f0f921"
             ]
            ],
            "type": "contour"
           }
          ],
          "contourcarpet": [
           {
            "colorbar": {
             "outlinewidth": 0,
             "ticks": ""
            },
            "type": "contourcarpet"
           }
          ],
          "heatmap": [
           {
            "colorbar": {
             "outlinewidth": 0,
             "ticks": ""
            },
            "colorscale": [
             [
              0,
              "#0d0887"
             ],
             [
              0.1111111111111111,
              "#46039f"
             ],
             [
              0.2222222222222222,
              "#7201a8"
             ],
             [
              0.3333333333333333,
              "#9c179e"
             ],
             [
              0.4444444444444444,
              "#bd3786"
             ],
             [
              0.5555555555555556,
              "#d8576b"
             ],
             [
              0.6666666666666666,
              "#ed7953"
             ],
             [
              0.7777777777777778,
              "#fb9f3a"
             ],
             [
              0.8888888888888888,
              "#fdca26"
             ],
             [
              1,
              "#f0f921"
             ]
            ],
            "type": "heatmap"
           }
          ],
          "heatmapgl": [
           {
            "colorbar": {
             "outlinewidth": 0,
             "ticks": ""
            },
            "colorscale": [
             [
              0,
              "#0d0887"
             ],
             [
              0.1111111111111111,
              "#46039f"
             ],
             [
              0.2222222222222222,
              "#7201a8"
             ],
             [
              0.3333333333333333,
              "#9c179e"
             ],
             [
              0.4444444444444444,
              "#bd3786"
             ],
             [
              0.5555555555555556,
              "#d8576b"
             ],
             [
              0.6666666666666666,
              "#ed7953"
             ],
             [
              0.7777777777777778,
              "#fb9f3a"
             ],
             [
              0.8888888888888888,
              "#fdca26"
             ],
             [
              1,
              "#f0f921"
             ]
            ],
            "type": "heatmapgl"
           }
          ],
          "histogram": [
           {
            "marker": {
             "pattern": {
              "fillmode": "overlay",
              "size": 10,
              "solidity": 0.2
             }
            },
            "type": "histogram"
           }
          ],
          "histogram2d": [
           {
            "colorbar": {
             "outlinewidth": 0,
             "ticks": ""
            },
            "colorscale": [
             [
              0,
              "#0d0887"
             ],
             [
              0.1111111111111111,
              "#46039f"
             ],
             [
              0.2222222222222222,
              "#7201a8"
             ],
             [
              0.3333333333333333,
              "#9c179e"
             ],
             [
              0.4444444444444444,
              "#bd3786"
             ],
             [
              0.5555555555555556,
              "#d8576b"
             ],
             [
              0.6666666666666666,
              "#ed7953"
             ],
             [
              0.7777777777777778,
              "#fb9f3a"
             ],
             [
              0.8888888888888888,
              "#fdca26"
             ],
             [
              1,
              "#f0f921"
             ]
            ],
            "type": "histogram2d"
           }
          ],
          "histogram2dcontour": [
           {
            "colorbar": {
             "outlinewidth": 0,
             "ticks": ""
            },
            "colorscale": [
             [
              0,
              "#0d0887"
             ],
             [
              0.1111111111111111,
              "#46039f"
             ],
             [
              0.2222222222222222,
              "#7201a8"
             ],
             [
              0.3333333333333333,
              "#9c179e"
             ],
             [
              0.4444444444444444,
              "#bd3786"
             ],
             [
              0.5555555555555556,
              "#d8576b"
             ],
             [
              0.6666666666666666,
              "#ed7953"
             ],
             [
              0.7777777777777778,
              "#fb9f3a"
             ],
             [
              0.8888888888888888,
              "#fdca26"
             ],
             [
              1,
              "#f0f921"
             ]
            ],
            "type": "histogram2dcontour"
           }
          ],
          "mesh3d": [
           {
            "colorbar": {
             "outlinewidth": 0,
             "ticks": ""
            },
            "type": "mesh3d"
           }
          ],
          "parcoords": [
           {
            "line": {
             "colorbar": {
              "outlinewidth": 0,
              "ticks": ""
             }
            },
            "type": "parcoords"
           }
          ],
          "pie": [
           {
            "automargin": true,
            "type": "pie"
           }
          ],
          "scatter": [
           {
            "fillpattern": {
             "fillmode": "overlay",
             "size": 10,
             "solidity": 0.2
            },
            "type": "scatter"
           }
          ],
          "scatter3d": [
           {
            "line": {
             "colorbar": {
              "outlinewidth": 0,
              "ticks": ""
             }
            },
            "marker": {
             "colorbar": {
              "outlinewidth": 0,
              "ticks": ""
             }
            },
            "type": "scatter3d"
           }
          ],
          "scattercarpet": [
           {
            "marker": {
             "colorbar": {
              "outlinewidth": 0,
              "ticks": ""
             }
            },
            "type": "scattercarpet"
           }
          ],
          "scattergeo": [
           {
            "marker": {
             "colorbar": {
              "outlinewidth": 0,
              "ticks": ""
             }
            },
            "type": "scattergeo"
           }
          ],
          "scattergl": [
           {
            "marker": {
             "colorbar": {
              "outlinewidth": 0,
              "ticks": ""
             }
            },
            "type": "scattergl"
           }
          ],
          "scattermapbox": [
           {
            "marker": {
             "colorbar": {
              "outlinewidth": 0,
              "ticks": ""
             }
            },
            "type": "scattermapbox"
           }
          ],
          "scatterpolar": [
           {
            "marker": {
             "colorbar": {
              "outlinewidth": 0,
              "ticks": ""
             }
            },
            "type": "scatterpolar"
           }
          ],
          "scatterpolargl": [
           {
            "marker": {
             "colorbar": {
              "outlinewidth": 0,
              "ticks": ""
             }
            },
            "type": "scatterpolargl"
           }
          ],
          "scatterternary": [
           {
            "marker": {
             "colorbar": {
              "outlinewidth": 0,
              "ticks": ""
             }
            },
            "type": "scatterternary"
           }
          ],
          "surface": [
           {
            "colorbar": {
             "outlinewidth": 0,
             "ticks": ""
            },
            "colorscale": [
             [
              0,
              "#0d0887"
             ],
             [
              0.1111111111111111,
              "#46039f"
             ],
             [
              0.2222222222222222,
              "#7201a8"
             ],
             [
              0.3333333333333333,
              "#9c179e"
             ],
             [
              0.4444444444444444,
              "#bd3786"
             ],
             [
              0.5555555555555556,
              "#d8576b"
             ],
             [
              0.6666666666666666,
              "#ed7953"
             ],
             [
              0.7777777777777778,
              "#fb9f3a"
             ],
             [
              0.8888888888888888,
              "#fdca26"
             ],
             [
              1,
              "#f0f921"
             ]
            ],
            "type": "surface"
           }
          ],
          "table": [
           {
            "cells": {
             "fill": {
              "color": "#EBF0F8"
             },
             "line": {
              "color": "white"
             }
            },
            "header": {
             "fill": {
              "color": "#C8D4E3"
             },
             "line": {
              "color": "white"
             }
            },
            "type": "table"
           }
          ]
         },
         "layout": {
          "annotationdefaults": {
           "arrowcolor": "#2a3f5f",
           "arrowhead": 0,
           "arrowwidth": 1
          },
          "autotypenumbers": "strict",
          "coloraxis": {
           "colorbar": {
            "outlinewidth": 0,
            "ticks": ""
           }
          },
          "colorscale": {
           "diverging": [
            [
             0,
             "#8e0152"
            ],
            [
             0.1,
             "#c51b7d"
            ],
            [
             0.2,
             "#de77ae"
            ],
            [
             0.3,
             "#f1b6da"
            ],
            [
             0.4,
             "#fde0ef"
            ],
            [
             0.5,
             "#f7f7f7"
            ],
            [
             0.6,
             "#e6f5d0"
            ],
            [
             0.7,
             "#b8e186"
            ],
            [
             0.8,
             "#7fbc41"
            ],
            [
             0.9,
             "#4d9221"
            ],
            [
             1,
             "#276419"
            ]
           ],
           "sequential": [
            [
             0,
             "#0d0887"
            ],
            [
             0.1111111111111111,
             "#46039f"
            ],
            [
             0.2222222222222222,
             "#7201a8"
            ],
            [
             0.3333333333333333,
             "#9c179e"
            ],
            [
             0.4444444444444444,
             "#bd3786"
            ],
            [
             0.5555555555555556,
             "#d8576b"
            ],
            [
             0.6666666666666666,
             "#ed7953"
            ],
            [
             0.7777777777777778,
             "#fb9f3a"
            ],
            [
             0.8888888888888888,
             "#fdca26"
            ],
            [
             1,
             "#f0f921"
            ]
           ],
           "sequentialminus": [
            [
             0,
             "#0d0887"
            ],
            [
             0.1111111111111111,
             "#46039f"
            ],
            [
             0.2222222222222222,
             "#7201a8"
            ],
            [
             0.3333333333333333,
             "#9c179e"
            ],
            [
             0.4444444444444444,
             "#bd3786"
            ],
            [
             0.5555555555555556,
             "#d8576b"
            ],
            [
             0.6666666666666666,
             "#ed7953"
            ],
            [
             0.7777777777777778,
             "#fb9f3a"
            ],
            [
             0.8888888888888888,
             "#fdca26"
            ],
            [
             1,
             "#f0f921"
            ]
           ]
          },
          "colorway": [
           "#636efa",
           "#EF553B",
           "#00cc96",
           "#ab63fa",
           "#FFA15A",
           "#19d3f3",
           "#FF6692",
           "#B6E880",
           "#FF97FF",
           "#FECB52"
          ],
          "font": {
           "color": "#2a3f5f"
          },
          "geo": {
           "bgcolor": "white",
           "lakecolor": "white",
           "landcolor": "#E5ECF6",
           "showlakes": true,
           "showland": true,
           "subunitcolor": "white"
          },
          "hoverlabel": {
           "align": "left"
          },
          "hovermode": "closest",
          "mapbox": {
           "style": "light"
          },
          "paper_bgcolor": "white",
          "plot_bgcolor": "#E5ECF6",
          "polar": {
           "angularaxis": {
            "gridcolor": "white",
            "linecolor": "white",
            "ticks": ""
           },
           "bgcolor": "#E5ECF6",
           "radialaxis": {
            "gridcolor": "white",
            "linecolor": "white",
            "ticks": ""
           }
          },
          "scene": {
           "xaxis": {
            "backgroundcolor": "#E5ECF6",
            "gridcolor": "white",
            "gridwidth": 2,
            "linecolor": "white",
            "showbackground": true,
            "ticks": "",
            "zerolinecolor": "white"
           },
           "yaxis": {
            "backgroundcolor": "#E5ECF6",
            "gridcolor": "white",
            "gridwidth": 2,
            "linecolor": "white",
            "showbackground": true,
            "ticks": "",
            "zerolinecolor": "white"
           },
           "zaxis": {
            "backgroundcolor": "#E5ECF6",
            "gridcolor": "white",
            "gridwidth": 2,
            "linecolor": "white",
            "showbackground": true,
            "ticks": "",
            "zerolinecolor": "white"
           }
          },
          "shapedefaults": {
           "line": {
            "color": "#2a3f5f"
           }
          },
          "ternary": {
           "aaxis": {
            "gridcolor": "white",
            "linecolor": "white",
            "ticks": ""
           },
           "baxis": {
            "gridcolor": "white",
            "linecolor": "white",
            "ticks": ""
           },
           "bgcolor": "#E5ECF6",
           "caxis": {
            "gridcolor": "white",
            "linecolor": "white",
            "ticks": ""
           }
          },
          "title": {
           "x": 0.05
          },
          "xaxis": {
           "automargin": true,
           "gridcolor": "white",
           "linecolor": "white",
           "ticks": "",
           "title": {
            "standoff": 15
           },
           "zerolinecolor": "white",
           "zerolinewidth": 2
          },
          "yaxis": {
           "automargin": true,
           "gridcolor": "white",
           "linecolor": "white",
           "ticks": "",
           "title": {
            "standoff": 15
           },
           "zerolinecolor": "white",
           "zerolinewidth": 2
          }
         }
        },
        "title": {
         "text": "Top 10 paises con nuevos casos confirmados"
        },
        "xaxis": {
         "anchor": "y",
         "domain": [
          0,
          1
         ],
         "title": {
          "text": "Nuevos casos confirmados"
         }
        },
        "yaxis": {
         "anchor": "x",
         "categoryorder": "total ascending",
         "domain": [
          0,
          1
         ],
         "title": {
          "text": "País"
         }
        }
       }
      }
     },
     "metadata": {},
     "output_type": "display_data"
    }
   ],
   "source": [
    "NewConfirmed_top10 = df_clean.groupby('Country').max().sort_values('NewConfirmed', ascending=False)[:10]\n",
    "horizontal_bar_chart(NewConfirmed_top10,NewConfirmed_top10.NewConfirmed, NewConfirmed_top10.index,\n",
    "                     'Top 10 paises con nuevos casos confirmados', 'Nuevos casos confirmados','País','Blue')"
   ]
  },
  {
   "cell_type": "code",
   "execution_count": 201,
   "metadata": {},
   "outputs": [
    {
     "name": "stderr",
     "output_type": "stream",
     "text": [
      "C:\\Users\\moniq\\AppData\\Local\\Temp/ipykernel_24008/1987015396.py:1: FutureWarning:\n",
      "\n",
      "Indexing with multiple keys (implicitly converted to a tuple of keys) will be deprecated, use a list instead.\n",
      "\n"
     ]
    },
    {
     "data": {
      "image/png": "[encoded data removed]",
      "text/plain": [
       "<Figure size 1800x1080 with 1 Axes>"
      ]
     },
     "metadata": {
      "needs_background": "light"
     },
     "output_type": "display_data"
    }
   ],
   "source": [
    "grafico_conjunto = df_clean.groupby([\"Country\"])[\"TotalDeaths\", \"TotalConfirmed\", \"NewConfirmed\", \"NewDeaths\"].sum().reset_index()\n",
    "grafico_conjunto = grafico_conjunto.sort_values(by='TotalDeaths', ascending=False)[:10]\n",
    "plt.figure(figsize=(25, 15))\n",
    "plt.plot(grafico_conjunto['Country'], grafico_conjunto['TotalDeaths'],color='black')\n",
    "plt.plot(grafico_conjunto['Country'], grafico_conjunto['TotalConfirmed'],color='green')\n",
    "plt.plot(grafico_conjunto['Country'], grafico_conjunto['NewConfirmed'], color='blue')\n",
    "plt.plot(grafico_conjunto['Country'], grafico_conjunto['NewDeaths'], color='red')\n",
    "\n",
    "plt.title('Top 10 paises por total de fallecimientos, total de casos confirmados, nuevos casos confirmados y nuevos fallecimientos')\n",
    "plt.show()"
   ]
  },
  {
   "cell_type": "code",
   "execution_count": 202,
   "metadata": {},
   "outputs": [
    {
     "name": "stderr",
     "output_type": "stream",
     "text": [
      "C:\\Users\\moniq\\AppData\\Local\\Temp/ipykernel_24008/37545946.py:1: FutureWarning:\n",
      "\n",
      "Indexing with multiple keys (implicitly converted to a tuple of keys) will be deprecated, use a list instead.\n",
      "\n",
      "No handles with labels found to put in legend.\n"
     ]
    },
    {
     "data": {
      "text/plain": [
       "<matplotlib.legend.Legend at 0x2b417eb2580>"
      ]
     },
     "execution_count": 202,
     "metadata": {},
     "output_type": "execute_result"
    },
    {
     "data": {
      "image/png": "[encoded data removed]",
      "text/plain": [
       "<Figure size 432x288 with 1 Axes>"
      ]
     },
     "metadata": {
      "needs_background": "light"
     },
     "output_type": "display_data"
    }
   ],
   "source": [
    "newconfirmed_newdeath = df_clean.groupby([\"Country\"])[\"NewConfirmed\", \"NewDeaths\"].sum().reset_index()\n",
    "newconfirmed_newdeath = newconfirmed_newdeath.sort_values(by='NewDeaths', ascending=False)[:10]\n",
    "\n",
    "\n",
    "sns.scatterplot(data=newconfirmed_newdeath, x=\"NewConfirmed\", y=\"NewDeaths\",hue=\"Country\")\n",
    "ax.set_title('Correlación entre casos nuevos confirmados y nuevos fallecimientos')\n",
    "ax.set_xlabel('Nuevos casos confirmados')\n",
    "ax.set_ylabel('Nuevos fallecimientos')\n",
    "ax.legend(title=\"Leyenda\", loc=\"upper right\", bbox_to_anchor=(1.2, 1))\n",
    "\n"
   ]
  },
  {
   "attachments": {},
   "cell_type": "markdown",
   "metadata": {},
   "source": [
    "Este análisis exploratorio de datos muestra:\n",
    "i) top 5 paises con casos confirmados totales: Estados Unidos, India, Francia, Alemania, Brasil\n",
    "ii) top 5 paises con muertes confirmadas: Estados Unidos, Brasil , India, Rusia, Mexico\n",
    "iii)top 5 paises con nuevos casos de fallecimientos: Estados Unidos, Alemania, Australia, Canada, Japón\n",
    "iv) top 5 paises con nuevos casos confirmados:Estados Unidos, UK, Australia, Rusia, Belgica\n",
    "\n",
    "Mientras Estados Unidos esta en el ranking #1 para los 4 índices, se puede notar un incremento de casos en paises antes no mencionados como Australia y Canadá. \n",
    "\n",
    "Sin embargo, la tasa de mortalidad (Ratio de mortalidad entre casos de muerte confirmados/casos confirmados totales) muestra que los top 5 son 5 paises no mencionados en los top 5 de # de casos confirmados y # de fallecimientos confirmados: Yemen, Sudan, Siria, Somalia,Peru\n",
    "\n",
    "Y es el mismo caso para la tasa de mortalidad (Ratio nuevos fallecimientos/nuevos casos):Filipinas, Suecia, Finlandia, Bulgaria, Iran"
   ]
  }
 ],
 "metadata": {
  "kernelspec": {
   "display_name": "Python 3",
   "language": "python",
   "name": "python3"
  },
  "language_info": {
   "codemirror_mode": {
    "name": "ipython",
    "version": 3
   },
   "file_extension": ".py",
   "mimetype": "text/x-python",
   "name": "python",
   "nbconvert_exporter": "python",
   "pygments_lexer": "ipython3",
   "version": "3.9.6"
  },
  "orig_nbformat": 4,
  "vscode": {
   "interpreter": {
    "hash": "7d3a818424ef27bbfdd1181823b56067b57b40e7b25999b964ed81b4ca8a07ad"
   }
  }
 },
 "nbformat": 4,
 "nbformat_minor": 2
}
